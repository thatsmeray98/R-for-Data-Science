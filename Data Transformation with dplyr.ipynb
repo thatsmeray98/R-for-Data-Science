{
 "cells": [
  {
   "cell_type": "code",
   "execution_count": 1,
   "id": "ecbd70df",
   "metadata": {},
   "outputs": [
    {
     "name": "stderr",
     "output_type": "stream",
     "text": [
      "Registered S3 methods overwritten by 'ggplot2':\n",
      "  method         from \n",
      "  [.quosures     rlang\n",
      "  c.quosures     rlang\n",
      "  print.quosures rlang\n",
      "Registered S3 method overwritten by 'rvest':\n",
      "  method            from\n",
      "  read_xml.response xml2\n",
      "-- Attaching packages --------------------------------------- tidyverse 1.2.1 --\n",
      "v ggplot2 3.1.1       v purrr   0.3.2  \n",
      "v tibble  2.1.1       v dplyr   0.8.0.1\n",
      "v tidyr   0.8.3       v stringr 1.4.0  \n",
      "v readr   1.3.1       v forcats 0.4.0  \n",
      "-- Conflicts ------------------------------------------ tidyverse_conflicts() --\n",
      "x dplyr::filter() masks stats::filter()\n",
      "x dplyr::lag()    masks stats::lag()\n"
     ]
    }
   ],
   "source": [
    "library(tidyverse)"
   ]
  },
  {
   "cell_type": "code",
   "execution_count": 2,
   "id": "3410d76c",
   "metadata": {},
   "outputs": [
    {
     "name": "stderr",
     "output_type": "stream",
     "text": [
      "Warning message:\n",
      "\"package 'nycflights13' was built under R version 3.6.3\""
     ]
    }
   ],
   "source": [
    "library(nycflights13)"
   ]
  },
  {
   "cell_type": "code",
   "execution_count": 3,
   "id": "6d9ba097",
   "metadata": {},
   "outputs": [
    {
     "data": {
      "text/html": [
       "<table>\n",
       "<thead><tr><th scope=col>year</th><th scope=col>month</th><th scope=col>day</th><th scope=col>dep_time</th><th scope=col>sched_dep_time</th><th scope=col>dep_delay</th><th scope=col>arr_time</th><th scope=col>sched_arr_time</th><th scope=col>arr_delay</th><th scope=col>carrier</th><th scope=col>flight</th><th scope=col>tailnum</th><th scope=col>origin</th><th scope=col>dest</th><th scope=col>air_time</th><th scope=col>distance</th><th scope=col>hour</th><th scope=col>minute</th><th scope=col>time_hour</th></tr></thead>\n",
       "<tbody>\n",
       "\t<tr><td>2013               </td><td>9                  </td><td>30                 </td><td>NA                 </td><td>1842               </td><td>NA                 </td><td>NA                 </td><td>2019               </td><td>NA                 </td><td>EV                 </td><td>5274               </td><td>N740EV             </td><td>LGA                </td><td>BNA                </td><td>NA                 </td><td>764                </td><td>18                 </td><td>42                 </td><td>2013-09-30 18:00:00</td></tr>\n",
       "\t<tr><td>2013               </td><td>9                  </td><td>30                 </td><td>NA                 </td><td>1455               </td><td>NA                 </td><td>NA                 </td><td>1634               </td><td>NA                 </td><td>9E                 </td><td>3393               </td><td>NA                 </td><td>JFK                </td><td>DCA                </td><td>NA                 </td><td>213                </td><td>14                 </td><td>55                 </td><td>2013-09-30 14:00:00</td></tr>\n",
       "\t<tr><td>2013               </td><td>9                  </td><td>30                 </td><td>NA                 </td><td>2200               </td><td>NA                 </td><td>NA                 </td><td>2312               </td><td>NA                 </td><td>9E                 </td><td>3525               </td><td>NA                 </td><td>LGA                </td><td>SYR                </td><td>NA                 </td><td>198                </td><td>22                 </td><td> 0                 </td><td>2013-09-30 22:00:00</td></tr>\n",
       "\t<tr><td>2013               </td><td>9                  </td><td>30                 </td><td>NA                 </td><td>1210               </td><td>NA                 </td><td>NA                 </td><td>1330               </td><td>NA                 </td><td>MQ                 </td><td>3461               </td><td>N535MQ             </td><td>LGA                </td><td>BNA                </td><td>NA                 </td><td>764                </td><td>12                 </td><td>10                 </td><td>2013-09-30 12:00:00</td></tr>\n",
       "\t<tr><td>2013               </td><td>9                  </td><td>30                 </td><td>NA                 </td><td>1159               </td><td>NA                 </td><td>NA                 </td><td>1344               </td><td>NA                 </td><td>MQ                 </td><td>3572               </td><td>N511MQ             </td><td>LGA                </td><td>CLE                </td><td>NA                 </td><td>419                </td><td>11                 </td><td>59                 </td><td>2013-09-30 11:00:00</td></tr>\n",
       "\t<tr><td>2013               </td><td>9                  </td><td>30                 </td><td>NA                 </td><td> 840               </td><td>NA                 </td><td>NA                 </td><td>1020               </td><td>NA                 </td><td>MQ                 </td><td>3531               </td><td>N839MQ             </td><td>LGA                </td><td>RDU                </td><td>NA                 </td><td>431                </td><td> 8                 </td><td>40                 </td><td>2013-09-30 08:00:00</td></tr>\n",
       "</tbody>\n",
       "</table>\n"
      ],
      "text/latex": [
       "\\begin{tabular}{r|lllllllllllllllllll}\n",
       " year & month & day & dep\\_time & sched\\_dep\\_time & dep\\_delay & arr\\_time & sched\\_arr\\_time & arr\\_delay & carrier & flight & tailnum & origin & dest & air\\_time & distance & hour & minute & time\\_hour\\\\\n",
       "\\hline\n",
       "\t 2013                & 9                   & 30                  & NA                  & 1842                & NA                  & NA                  & 2019                & NA                  & EV                  & 5274                & N740EV              & LGA                 & BNA                 & NA                  & 764                 & 18                  & 42                  & 2013-09-30 18:00:00\\\\\n",
       "\t 2013                & 9                   & 30                  & NA                  & 1455                & NA                  & NA                  & 1634                & NA                  & 9E                  & 3393                & NA                  & JFK                 & DCA                 & NA                  & 213                 & 14                  & 55                  & 2013-09-30 14:00:00\\\\\n",
       "\t 2013                & 9                   & 30                  & NA                  & 2200                & NA                  & NA                  & 2312                & NA                  & 9E                  & 3525                & NA                  & LGA                 & SYR                 & NA                  & 198                 & 22                  &  0                  & 2013-09-30 22:00:00\\\\\n",
       "\t 2013                & 9                   & 30                  & NA                  & 1210                & NA                  & NA                  & 1330                & NA                  & MQ                  & 3461                & N535MQ              & LGA                 & BNA                 & NA                  & 764                 & 12                  & 10                  & 2013-09-30 12:00:00\\\\\n",
       "\t 2013                & 9                   & 30                  & NA                  & 1159                & NA                  & NA                  & 1344                & NA                  & MQ                  & 3572                & N511MQ              & LGA                 & CLE                 & NA                  & 419                 & 11                  & 59                  & 2013-09-30 11:00:00\\\\\n",
       "\t 2013                & 9                   & 30                  & NA                  &  840                & NA                  & NA                  & 1020                & NA                  & MQ                  & 3531                & N839MQ              & LGA                 & RDU                 & NA                  & 431                 &  8                  & 40                  & 2013-09-30 08:00:00\\\\\n",
       "\\end{tabular}\n"
      ],
      "text/markdown": [
       "\n",
       "| year | month | day | dep_time | sched_dep_time | dep_delay | arr_time | sched_arr_time | arr_delay | carrier | flight | tailnum | origin | dest | air_time | distance | hour | minute | time_hour |\n",
       "|---|---|---|---|---|---|---|---|---|---|---|---|---|---|---|---|---|---|---|\n",
       "| 2013                | 9                   | 30                  | NA                  | 1842                | NA                  | NA                  | 2019                | NA                  | EV                  | 5274                | N740EV              | LGA                 | BNA                 | NA                  | 764                 | 18                  | 42                  | 2013-09-30 18:00:00 |\n",
       "| 2013                | 9                   | 30                  | NA                  | 1455                | NA                  | NA                  | 1634                | NA                  | 9E                  | 3393                | NA                  | JFK                 | DCA                 | NA                  | 213                 | 14                  | 55                  | 2013-09-30 14:00:00 |\n",
       "| 2013                | 9                   | 30                  | NA                  | 2200                | NA                  | NA                  | 2312                | NA                  | 9E                  | 3525                | NA                  | LGA                 | SYR                 | NA                  | 198                 | 22                  |  0                  | 2013-09-30 22:00:00 |\n",
       "| 2013                | 9                   | 30                  | NA                  | 1210                | NA                  | NA                  | 1330                | NA                  | MQ                  | 3461                | N535MQ              | LGA                 | BNA                 | NA                  | 764                 | 12                  | 10                  | 2013-09-30 12:00:00 |\n",
       "| 2013                | 9                   | 30                  | NA                  | 1159                | NA                  | NA                  | 1344                | NA                  | MQ                  | 3572                | N511MQ              | LGA                 | CLE                 | NA                  | 419                 | 11                  | 59                  | 2013-09-30 11:00:00 |\n",
       "| 2013                | 9                   | 30                  | NA                  |  840                | NA                  | NA                  | 1020                | NA                  | MQ                  | 3531                | N839MQ              | LGA                 | RDU                 | NA                  | 431                 |  8                  | 40                  | 2013-09-30 08:00:00 |\n",
       "\n"
      ],
      "text/plain": [
       "  year month day dep_time sched_dep_time dep_delay arr_time sched_arr_time\n",
       "1 2013 9     30  NA       1842           NA        NA       2019          \n",
       "2 2013 9     30  NA       1455           NA        NA       1634          \n",
       "3 2013 9     30  NA       2200           NA        NA       2312          \n",
       "4 2013 9     30  NA       1210           NA        NA       1330          \n",
       "5 2013 9     30  NA       1159           NA        NA       1344          \n",
       "6 2013 9     30  NA        840           NA        NA       1020          \n",
       "  arr_delay carrier flight tailnum origin dest air_time distance hour minute\n",
       "1 NA        EV      5274   N740EV  LGA    BNA  NA       764      18   42    \n",
       "2 NA        9E      3393   NA      JFK    DCA  NA       213      14   55    \n",
       "3 NA        9E      3525   NA      LGA    SYR  NA       198      22    0    \n",
       "4 NA        MQ      3461   N535MQ  LGA    BNA  NA       764      12   10    \n",
       "5 NA        MQ      3572   N511MQ  LGA    CLE  NA       419      11   59    \n",
       "6 NA        MQ      3531   N839MQ  LGA    RDU  NA       431       8   40    \n",
       "  time_hour          \n",
       "1 2013-09-30 18:00:00\n",
       "2 2013-09-30 14:00:00\n",
       "3 2013-09-30 22:00:00\n",
       "4 2013-09-30 12:00:00\n",
       "5 2013-09-30 11:00:00\n",
       "6 2013-09-30 08:00:00"
      ]
     },
     "metadata": {},
     "output_type": "display_data"
    }
   ],
   "source": [
    "tail(flights)"
   ]
  },
  {
   "cell_type": "markdown",
   "id": "649a217d",
   "metadata": {},
   "source": [
    "Data frame with columns :-\n",
    "* year, month, day <- Date of departure.\n",
    "* dep_time, arr_time <- Actual departure and arrival times (format HHMM or HMM), local tz.\n",
    "* sched_dep_time, sched_arr_time <- Scheduled departure and arrival times (format HHMM or HMM), local tz.\n",
    "* dep_delay, arr_delay <- Departure and arrival delays, in minutes. Negative times represent early departures/arrivals.\n",
    "* carrier <- Two letter carrier abbreviation. See airlines to get name.\n",
    "* flight <- Flight number.\n",
    "* tailnum <- Plane tail number. See planes for additional metadata.\n",
    "* origin, dest <- Origin and destination. See airports for additional metadata.\n",
    "* air_time <- Amount of time spent in the air, in minutes.\n",
    "* distance <- Distance between airports, in miles.\n",
    "* hour, minute <- Time of scheduled departure broken into hour and minutes.\n",
    "* time_hour <- Scheduled date and hour of the flight as a POSIXct date. Along with origin, can be used to join flights data to weather data."
   ]
  },
  {
   "cell_type": "code",
   "execution_count": 4,
   "id": "a68031d9",
   "metadata": {},
   "outputs": [
    {
     "name": "stdout",
     "output_type": "stream",
     "text": [
      "Observations: 336,776\n",
      "Variables: 19\n",
      "$ year           <int> 2013, 2013, 2013, 2013, 2013, 2013, 2013, 2013, 2013...\n",
      "$ month          <int> 1, 1, 1, 1, 1, 1, 1, 1, 1, 1, 1, 1, 1, 1, 1, 1, 1, 1...\n",
      "$ day            <int> 1, 1, 1, 1, 1, 1, 1, 1, 1, 1, 1, 1, 1, 1, 1, 1, 1, 1...\n",
      "$ dep_time       <int> 517, 533, 542, 544, 554, 554, 555, 557, 557, 558, 55...\n",
      "$ sched_dep_time <int> 515, 529, 540, 545, 600, 558, 600, 600, 600, 600, 60...\n",
      "$ dep_delay      <dbl> 2, 4, 2, -1, -6, -4, -5, -3, -3, -2, -2, -2, -2, -2,...\n",
      "$ arr_time       <int> 830, 850, 923, 1004, 812, 740, 913, 709, 838, 753, 8...\n",
      "$ sched_arr_time <int> 819, 830, 850, 1022, 837, 728, 854, 723, 846, 745, 8...\n",
      "$ arr_delay      <dbl> 11, 20, 33, -18, -25, 12, 19, -14, -8, 8, -2, -3, 7,...\n",
      "$ carrier        <chr> \"UA\", \"UA\", \"AA\", \"B6\", \"DL\", \"UA\", \"B6\", \"EV\", \"B6\"...\n",
      "$ flight         <int> 1545, 1714, 1141, 725, 461, 1696, 507, 5708, 79, 301...\n",
      "$ tailnum        <chr> \"N14228\", \"N24211\", \"N619AA\", \"N804JB\", \"N668DN\", \"N...\n",
      "$ origin         <chr> \"EWR\", \"LGA\", \"JFK\", \"JFK\", \"LGA\", \"EWR\", \"EWR\", \"LG...\n",
      "$ dest           <chr> \"IAH\", \"IAH\", \"MIA\", \"BQN\", \"ATL\", \"ORD\", \"FLL\", \"IA...\n",
      "$ air_time       <dbl> 227, 227, 160, 183, 116, 150, 158, 53, 140, 138, 149...\n",
      "$ distance       <dbl> 1400, 1416, 1089, 1576, 762, 719, 1065, 229, 944, 73...\n",
      "$ hour           <dbl> 5, 5, 5, 5, 6, 5, 6, 6, 6, 6, 6, 6, 6, 6, 6, 5, 6, 6...\n",
      "$ minute         <dbl> 15, 29, 40, 45, 0, 58, 0, 0, 0, 0, 0, 0, 0, 0, 0, 59...\n",
      "$ time_hour      <dttm> 2013-01-01 05:00:00, 2013-01-01 05:00:00, 2013-01-0...\n"
     ]
    }
   ],
   "source": [
    "glimpse(flights)"
   ]
  },
  {
   "cell_type": "code",
   "execution_count": 5,
   "id": "6432f291",
   "metadata": {},
   "outputs": [
    {
     "data": {
      "text/plain": [
       "      year          month             day           dep_time    sched_dep_time\n",
       " Min.   :2013   Min.   : 1.000   Min.   : 1.00   Min.   :   1   Min.   : 106  \n",
       " 1st Qu.:2013   1st Qu.: 4.000   1st Qu.: 8.00   1st Qu.: 907   1st Qu.: 906  \n",
       " Median :2013   Median : 7.000   Median :16.00   Median :1401   Median :1359  \n",
       " Mean   :2013   Mean   : 6.549   Mean   :15.71   Mean   :1349   Mean   :1344  \n",
       " 3rd Qu.:2013   3rd Qu.:10.000   3rd Qu.:23.00   3rd Qu.:1744   3rd Qu.:1729  \n",
       " Max.   :2013   Max.   :12.000   Max.   :31.00   Max.   :2400   Max.   :2359  \n",
       "                                                 NA's   :8255                 \n",
       "   dep_delay          arr_time    sched_arr_time   arr_delay       \n",
       " Min.   : -43.00   Min.   :   1   Min.   :   1   Min.   : -86.000  \n",
       " 1st Qu.:  -5.00   1st Qu.:1104   1st Qu.:1124   1st Qu.: -17.000  \n",
       " Median :  -2.00   Median :1535   Median :1556   Median :  -5.000  \n",
       " Mean   :  12.64   Mean   :1502   Mean   :1536   Mean   :   6.895  \n",
       " 3rd Qu.:  11.00   3rd Qu.:1940   3rd Qu.:1945   3rd Qu.:  14.000  \n",
       " Max.   :1301.00   Max.   :2400   Max.   :2359   Max.   :1272.000  \n",
       " NA's   :8255      NA's   :8713                  NA's   :9430      \n",
       "   carrier              flight       tailnum             origin         \n",
       " Length:336776      Min.   :   1   Length:336776      Length:336776     \n",
       " Class :character   1st Qu.: 553   Class :character   Class :character  \n",
       " Mode  :character   Median :1496   Mode  :character   Mode  :character  \n",
       "                    Mean   :1972                                        \n",
       "                    3rd Qu.:3465                                        \n",
       "                    Max.   :8500                                        \n",
       "                                                                        \n",
       "     dest              air_time        distance         hour      \n",
       " Length:336776      Min.   : 20.0   Min.   :  17   Min.   : 1.00  \n",
       " Class :character   1st Qu.: 82.0   1st Qu.: 502   1st Qu.: 9.00  \n",
       " Mode  :character   Median :129.0   Median : 872   Median :13.00  \n",
       "                    Mean   :150.7   Mean   :1040   Mean   :13.18  \n",
       "                    3rd Qu.:192.0   3rd Qu.:1389   3rd Qu.:17.00  \n",
       "                    Max.   :695.0   Max.   :4983   Max.   :23.00  \n",
       "                    NA's   :9430                                  \n",
       "     minute        time_hour                  \n",
       " Min.   : 0.00   Min.   :2013-01-01 05:00:00  \n",
       " 1st Qu.: 8.00   1st Qu.:2013-04-04 13:00:00  \n",
       " Median :29.00   Median :2013-07-03 10:00:00  \n",
       " Mean   :26.23   Mean   :2013-07-03 05:22:54  \n",
       " 3rd Qu.:44.00   3rd Qu.:2013-10-01 07:00:00  \n",
       " Max.   :59.00   Max.   :2013-12-31 23:00:00  \n",
       "                                              "
      ]
     },
     "metadata": {},
     "output_type": "display_data"
    }
   ],
   "source": [
    "summary(flights)"
   ]
  },
  {
   "cell_type": "markdown",
   "id": "2a757923",
   "metadata": {},
   "source": [
    "# dplyr Basics"
   ]
  },
  {
   "cell_type": "markdown",
   "id": "1097bec5",
   "metadata": {},
   "source": [
    "Key dplyr functions :\n",
    "* filter() <- Picks observations by values.\n",
    "* arrange() <- Reorder the rows.\n",
    "* mutate() <- Create new variables with functions of existing variables.\n",
    "* summarize() <- Collapse many values down to a single summary.\n",
    "* group_by() <- Used in conjunction with all above given functions. It changes the scope of each function from operating on the entire dataset to operating on it group-by-group."
   ]
  },
  {
   "cell_type": "markdown",
   "id": "aafa0d03",
   "metadata": {},
   "source": [
    "# Fliter Rows with filter() :-\n",
    "* 1st argument <- name of dataframe.\n",
    "* 2nd & subsequent argument <- Expressions that filter the dataframe."
   ]
  },
  {
   "cell_type": "code",
   "execution_count": 6,
   "id": "3aeec303",
   "metadata": {},
   "outputs": [
    {
     "data": {
      "text/html": [
       "<table>\n",
       "<thead><tr><th scope=col>year</th><th scope=col>month</th><th scope=col>day</th><th scope=col>dep_time</th><th scope=col>sched_dep_time</th><th scope=col>dep_delay</th><th scope=col>arr_time</th><th scope=col>sched_arr_time</th><th scope=col>arr_delay</th><th scope=col>carrier</th><th scope=col>flight</th><th scope=col>tailnum</th><th scope=col>origin</th><th scope=col>dest</th><th scope=col>air_time</th><th scope=col>distance</th><th scope=col>hour</th><th scope=col>minute</th><th scope=col>time_hour</th></tr></thead>\n",
       "<tbody>\n",
       "\t<tr><td>2013               </td><td>1                  </td><td>1                  </td><td>517                </td><td>515                </td><td> 2                 </td><td> 830               </td><td> 819               </td><td> 11                </td><td>UA                 </td><td>1545               </td><td>N14228             </td><td>EWR                </td><td>IAH                </td><td>227                </td><td>1400               </td><td>5                  </td><td>15                 </td><td>2013-01-01 05:00:00</td></tr>\n",
       "\t<tr><td>2013               </td><td>1                  </td><td>1                  </td><td>533                </td><td>529                </td><td> 4                 </td><td> 850               </td><td> 830               </td><td> 20                </td><td>UA                 </td><td>1714               </td><td>N24211             </td><td>LGA                </td><td>IAH                </td><td>227                </td><td>1416               </td><td>5                  </td><td>29                 </td><td>2013-01-01 05:00:00</td></tr>\n",
       "\t<tr><td>2013               </td><td>1                  </td><td>1                  </td><td>542                </td><td>540                </td><td> 2                 </td><td> 923               </td><td> 850               </td><td> 33                </td><td>AA                 </td><td>1141               </td><td>N619AA             </td><td>JFK                </td><td>MIA                </td><td>160                </td><td>1089               </td><td>5                  </td><td>40                 </td><td>2013-01-01 05:00:00</td></tr>\n",
       "\t<tr><td>2013               </td><td>1                  </td><td>1                  </td><td>544                </td><td>545                </td><td>-1                 </td><td>1004               </td><td>1022               </td><td>-18                </td><td>B6                 </td><td> 725               </td><td>N804JB             </td><td>JFK                </td><td>BQN                </td><td>183                </td><td>1576               </td><td>5                  </td><td>45                 </td><td>2013-01-01 05:00:00</td></tr>\n",
       "\t<tr><td>2013               </td><td>1                  </td><td>1                  </td><td>554                </td><td>600                </td><td>-6                 </td><td> 812               </td><td> 837               </td><td>-25                </td><td>DL                 </td><td> 461               </td><td>N668DN             </td><td>LGA                </td><td>ATL                </td><td>116                </td><td> 762               </td><td>6                  </td><td> 0                 </td><td>2013-01-01 06:00:00</td></tr>\n",
       "\t<tr><td>2013               </td><td>1                  </td><td>1                  </td><td>554                </td><td>558                </td><td>-4                 </td><td> 740               </td><td> 728               </td><td> 12                </td><td>UA                 </td><td>1696               </td><td>N39463             </td><td>EWR                </td><td>ORD                </td><td>150                </td><td> 719               </td><td>5                  </td><td>58                 </td><td>2013-01-01 05:00:00</td></tr>\n",
       "</tbody>\n",
       "</table>\n"
      ],
      "text/latex": [
       "\\begin{tabular}{r|lllllllllllllllllll}\n",
       " year & month & day & dep\\_time & sched\\_dep\\_time & dep\\_delay & arr\\_time & sched\\_arr\\_time & arr\\_delay & carrier & flight & tailnum & origin & dest & air\\_time & distance & hour & minute & time\\_hour\\\\\n",
       "\\hline\n",
       "\t 2013                & 1                   & 1                   & 517                 & 515                 &  2                  &  830                &  819                &  11                 & UA                  & 1545                & N14228              & EWR                 & IAH                 & 227                 & 1400                & 5                   & 15                  & 2013-01-01 05:00:00\\\\\n",
       "\t 2013                & 1                   & 1                   & 533                 & 529                 &  4                  &  850                &  830                &  20                 & UA                  & 1714                & N24211              & LGA                 & IAH                 & 227                 & 1416                & 5                   & 29                  & 2013-01-01 05:00:00\\\\\n",
       "\t 2013                & 1                   & 1                   & 542                 & 540                 &  2                  &  923                &  850                &  33                 & AA                  & 1141                & N619AA              & JFK                 & MIA                 & 160                 & 1089                & 5                   & 40                  & 2013-01-01 05:00:00\\\\\n",
       "\t 2013                & 1                   & 1                   & 544                 & 545                 & -1                  & 1004                & 1022                & -18                 & B6                  &  725                & N804JB              & JFK                 & BQN                 & 183                 & 1576                & 5                   & 45                  & 2013-01-01 05:00:00\\\\\n",
       "\t 2013                & 1                   & 1                   & 554                 & 600                 & -6                  &  812                &  837                & -25                 & DL                  &  461                & N668DN              & LGA                 & ATL                 & 116                 &  762                & 6                   &  0                  & 2013-01-01 06:00:00\\\\\n",
       "\t 2013                & 1                   & 1                   & 554                 & 558                 & -4                  &  740                &  728                &  12                 & UA                  & 1696                & N39463              & EWR                 & ORD                 & 150                 &  719                & 5                   & 58                  & 2013-01-01 05:00:00\\\\\n",
       "\\end{tabular}\n"
      ],
      "text/markdown": [
       "\n",
       "| year | month | day | dep_time | sched_dep_time | dep_delay | arr_time | sched_arr_time | arr_delay | carrier | flight | tailnum | origin | dest | air_time | distance | hour | minute | time_hour |\n",
       "|---|---|---|---|---|---|---|---|---|---|---|---|---|---|---|---|---|---|---|\n",
       "| 2013                | 1                   | 1                   | 517                 | 515                 |  2                  |  830                |  819                |  11                 | UA                  | 1545                | N14228              | EWR                 | IAH                 | 227                 | 1400                | 5                   | 15                  | 2013-01-01 05:00:00 |\n",
       "| 2013                | 1                   | 1                   | 533                 | 529                 |  4                  |  850                |  830                |  20                 | UA                  | 1714                | N24211              | LGA                 | IAH                 | 227                 | 1416                | 5                   | 29                  | 2013-01-01 05:00:00 |\n",
       "| 2013                | 1                   | 1                   | 542                 | 540                 |  2                  |  923                |  850                |  33                 | AA                  | 1141                | N619AA              | JFK                 | MIA                 | 160                 | 1089                | 5                   | 40                  | 2013-01-01 05:00:00 |\n",
       "| 2013                | 1                   | 1                   | 544                 | 545                 | -1                  | 1004                | 1022                | -18                 | B6                  |  725                | N804JB              | JFK                 | BQN                 | 183                 | 1576                | 5                   | 45                  | 2013-01-01 05:00:00 |\n",
       "| 2013                | 1                   | 1                   | 554                 | 600                 | -6                  |  812                |  837                | -25                 | DL                  |  461                | N668DN              | LGA                 | ATL                 | 116                 |  762                | 6                   |  0                  | 2013-01-01 06:00:00 |\n",
       "| 2013                | 1                   | 1                   | 554                 | 558                 | -4                  |  740                |  728                |  12                 | UA                  | 1696                | N39463              | EWR                 | ORD                 | 150                 |  719                | 5                   | 58                  | 2013-01-01 05:00:00 |\n",
       "\n"
      ],
      "text/plain": [
       "  year month day dep_time sched_dep_time dep_delay arr_time sched_arr_time\n",
       "1 2013 1     1   517      515             2         830      819          \n",
       "2 2013 1     1   533      529             4         850      830          \n",
       "3 2013 1     1   542      540             2         923      850          \n",
       "4 2013 1     1   544      545            -1        1004     1022          \n",
       "5 2013 1     1   554      600            -6         812      837          \n",
       "6 2013 1     1   554      558            -4         740      728          \n",
       "  arr_delay carrier flight tailnum origin dest air_time distance hour minute\n",
       "1  11       UA      1545   N14228  EWR    IAH  227      1400     5    15    \n",
       "2  20       UA      1714   N24211  LGA    IAH  227      1416     5    29    \n",
       "3  33       AA      1141   N619AA  JFK    MIA  160      1089     5    40    \n",
       "4 -18       B6       725   N804JB  JFK    BQN  183      1576     5    45    \n",
       "5 -25       DL       461   N668DN  LGA    ATL  116       762     6     0    \n",
       "6  12       UA      1696   N39463  EWR    ORD  150       719     5    58    \n",
       "  time_hour          \n",
       "1 2013-01-01 05:00:00\n",
       "2 2013-01-01 05:00:00\n",
       "3 2013-01-01 05:00:00\n",
       "4 2013-01-01 05:00:00\n",
       "5 2013-01-01 06:00:00\n",
       "6 2013-01-01 05:00:00"
      ]
     },
     "metadata": {},
     "output_type": "display_data"
    }
   ],
   "source": [
    "head(filter(flights, month == 1, day == 1))"
   ]
  },
  {
   "cell_type": "markdown",
   "id": "e6d256d6",
   "metadata": {},
   "source": [
    "To save the result use <- operator. Also, to save data in variable and print out the result simultaneously, wrap the assignment with parentheses."
   ]
  },
  {
   "cell_type": "code",
   "execution_count": 7,
   "id": "a4419665",
   "metadata": {},
   "outputs": [
    {
     "data": {
      "text/html": [
       "<table>\n",
       "<thead><tr><th scope=col>year</th><th scope=col>month</th><th scope=col>day</th><th scope=col>dep_time</th><th scope=col>sched_dep_time</th><th scope=col>dep_delay</th><th scope=col>arr_time</th><th scope=col>sched_arr_time</th><th scope=col>arr_delay</th><th scope=col>carrier</th><th scope=col>flight</th><th scope=col>tailnum</th><th scope=col>origin</th><th scope=col>dest</th><th scope=col>air_time</th><th scope=col>distance</th><th scope=col>hour</th><th scope=col>minute</th><th scope=col>time_hour</th></tr></thead>\n",
       "<tbody>\n",
       "\t<tr><td>2013               </td><td>1                  </td><td>1                  </td><td>517                </td><td>515                </td><td> 2                 </td><td> 830               </td><td> 819               </td><td> 11                </td><td>UA                 </td><td>1545               </td><td>N14228             </td><td>EWR                </td><td>IAH                </td><td>227                </td><td>1400               </td><td>5                  </td><td>15                 </td><td>2013-01-01 05:00:00</td></tr>\n",
       "\t<tr><td>2013               </td><td>1                  </td><td>1                  </td><td>533                </td><td>529                </td><td> 4                 </td><td> 850               </td><td> 830               </td><td> 20                </td><td>UA                 </td><td>1714               </td><td>N24211             </td><td>LGA                </td><td>IAH                </td><td>227                </td><td>1416               </td><td>5                  </td><td>29                 </td><td>2013-01-01 05:00:00</td></tr>\n",
       "\t<tr><td>2013               </td><td>1                  </td><td>1                  </td><td>542                </td><td>540                </td><td> 2                 </td><td> 923               </td><td> 850               </td><td> 33                </td><td>AA                 </td><td>1141               </td><td>N619AA             </td><td>JFK                </td><td>MIA                </td><td>160                </td><td>1089               </td><td>5                  </td><td>40                 </td><td>2013-01-01 05:00:00</td></tr>\n",
       "\t<tr><td>2013               </td><td>1                  </td><td>1                  </td><td>544                </td><td>545                </td><td>-1                 </td><td>1004               </td><td>1022               </td><td>-18                </td><td>B6                 </td><td> 725               </td><td>N804JB             </td><td>JFK                </td><td>BQN                </td><td>183                </td><td>1576               </td><td>5                  </td><td>45                 </td><td>2013-01-01 05:00:00</td></tr>\n",
       "\t<tr><td>2013               </td><td>1                  </td><td>1                  </td><td>554                </td><td>600                </td><td>-6                 </td><td> 812               </td><td> 837               </td><td>-25                </td><td>DL                 </td><td> 461               </td><td>N668DN             </td><td>LGA                </td><td>ATL                </td><td>116                </td><td> 762               </td><td>6                  </td><td> 0                 </td><td>2013-01-01 06:00:00</td></tr>\n",
       "\t<tr><td>2013               </td><td>1                  </td><td>1                  </td><td>554                </td><td>558                </td><td>-4                 </td><td> 740               </td><td> 728               </td><td> 12                </td><td>UA                 </td><td>1696               </td><td>N39463             </td><td>EWR                </td><td>ORD                </td><td>150                </td><td> 719               </td><td>5                  </td><td>58                 </td><td>2013-01-01 05:00:00</td></tr>\n",
       "</tbody>\n",
       "</table>\n"
      ],
      "text/latex": [
       "\\begin{tabular}{r|lllllllllllllllllll}\n",
       " year & month & day & dep\\_time & sched\\_dep\\_time & dep\\_delay & arr\\_time & sched\\_arr\\_time & arr\\_delay & carrier & flight & tailnum & origin & dest & air\\_time & distance & hour & minute & time\\_hour\\\\\n",
       "\\hline\n",
       "\t 2013                & 1                   & 1                   & 517                 & 515                 &  2                  &  830                &  819                &  11                 & UA                  & 1545                & N14228              & EWR                 & IAH                 & 227                 & 1400                & 5                   & 15                  & 2013-01-01 05:00:00\\\\\n",
       "\t 2013                & 1                   & 1                   & 533                 & 529                 &  4                  &  850                &  830                &  20                 & UA                  & 1714                & N24211              & LGA                 & IAH                 & 227                 & 1416                & 5                   & 29                  & 2013-01-01 05:00:00\\\\\n",
       "\t 2013                & 1                   & 1                   & 542                 & 540                 &  2                  &  923                &  850                &  33                 & AA                  & 1141                & N619AA              & JFK                 & MIA                 & 160                 & 1089                & 5                   & 40                  & 2013-01-01 05:00:00\\\\\n",
       "\t 2013                & 1                   & 1                   & 544                 & 545                 & -1                  & 1004                & 1022                & -18                 & B6                  &  725                & N804JB              & JFK                 & BQN                 & 183                 & 1576                & 5                   & 45                  & 2013-01-01 05:00:00\\\\\n",
       "\t 2013                & 1                   & 1                   & 554                 & 600                 & -6                  &  812                &  837                & -25                 & DL                  &  461                & N668DN              & LGA                 & ATL                 & 116                 &  762                & 6                   &  0                  & 2013-01-01 06:00:00\\\\\n",
       "\t 2013                & 1                   & 1                   & 554                 & 558                 & -4                  &  740                &  728                &  12                 & UA                  & 1696                & N39463              & EWR                 & ORD                 & 150                 &  719                & 5                   & 58                  & 2013-01-01 05:00:00\\\\\n",
       "\\end{tabular}\n"
      ],
      "text/markdown": [
       "\n",
       "| year | month | day | dep_time | sched_dep_time | dep_delay | arr_time | sched_arr_time | arr_delay | carrier | flight | tailnum | origin | dest | air_time | distance | hour | minute | time_hour |\n",
       "|---|---|---|---|---|---|---|---|---|---|---|---|---|---|---|---|---|---|---|\n",
       "| 2013                | 1                   | 1                   | 517                 | 515                 |  2                  |  830                |  819                |  11                 | UA                  | 1545                | N14228              | EWR                 | IAH                 | 227                 | 1400                | 5                   | 15                  | 2013-01-01 05:00:00 |\n",
       "| 2013                | 1                   | 1                   | 533                 | 529                 |  4                  |  850                |  830                |  20                 | UA                  | 1714                | N24211              | LGA                 | IAH                 | 227                 | 1416                | 5                   | 29                  | 2013-01-01 05:00:00 |\n",
       "| 2013                | 1                   | 1                   | 542                 | 540                 |  2                  |  923                |  850                |  33                 | AA                  | 1141                | N619AA              | JFK                 | MIA                 | 160                 | 1089                | 5                   | 40                  | 2013-01-01 05:00:00 |\n",
       "| 2013                | 1                   | 1                   | 544                 | 545                 | -1                  | 1004                | 1022                | -18                 | B6                  |  725                | N804JB              | JFK                 | BQN                 | 183                 | 1576                | 5                   | 45                  | 2013-01-01 05:00:00 |\n",
       "| 2013                | 1                   | 1                   | 554                 | 600                 | -6                  |  812                |  837                | -25                 | DL                  |  461                | N668DN              | LGA                 | ATL                 | 116                 |  762                | 6                   |  0                  | 2013-01-01 06:00:00 |\n",
       "| 2013                | 1                   | 1                   | 554                 | 558                 | -4                  |  740                |  728                |  12                 | UA                  | 1696                | N39463              | EWR                 | ORD                 | 150                 |  719                | 5                   | 58                  | 2013-01-01 05:00:00 |\n",
       "\n"
      ],
      "text/plain": [
       "  year month day dep_time sched_dep_time dep_delay arr_time sched_arr_time\n",
       "1 2013 1     1   517      515             2         830      819          \n",
       "2 2013 1     1   533      529             4         850      830          \n",
       "3 2013 1     1   542      540             2         923      850          \n",
       "4 2013 1     1   544      545            -1        1004     1022          \n",
       "5 2013 1     1   554      600            -6         812      837          \n",
       "6 2013 1     1   554      558            -4         740      728          \n",
       "  arr_delay carrier flight tailnum origin dest air_time distance hour minute\n",
       "1  11       UA      1545   N14228  EWR    IAH  227      1400     5    15    \n",
       "2  20       UA      1714   N24211  LGA    IAH  227      1416     5    29    \n",
       "3  33       AA      1141   N619AA  JFK    MIA  160      1089     5    40    \n",
       "4 -18       B6       725   N804JB  JFK    BQN  183      1576     5    45    \n",
       "5 -25       DL       461   N668DN  LGA    ATL  116       762     6     0    \n",
       "6  12       UA      1696   N39463  EWR    ORD  150       719     5    58    \n",
       "  time_hour          \n",
       "1 2013-01-01 05:00:00\n",
       "2 2013-01-01 05:00:00\n",
       "3 2013-01-01 05:00:00\n",
       "4 2013-01-01 05:00:00\n",
       "5 2013-01-01 06:00:00\n",
       "6 2013-01-01 05:00:00"
      ]
     },
     "metadata": {},
     "output_type": "display_data"
    }
   ],
   "source": [
    "head(jan1 <- filter(flights, month == 1, day == 1))"
   ]
  },
  {
   "cell_type": "markdown",
   "id": "3ac692ba",
   "metadata": {},
   "source": [
    "Common Problem when using == : floating point numbers. To resolve this issue use near()."
   ]
  },
  {
   "cell_type": "code",
   "execution_count": 8,
   "id": "77039d8e",
   "metadata": {},
   "outputs": [
    {
     "data": {
      "text/html": [
       "FALSE"
      ],
      "text/latex": [
       "FALSE"
      ],
      "text/markdown": [
       "FALSE"
      ],
      "text/plain": [
       "[1] FALSE"
      ]
     },
     "metadata": {},
     "output_type": "display_data"
    },
    {
     "data": {
      "text/html": [
       "TRUE"
      ],
      "text/latex": [
       "TRUE"
      ],
      "text/markdown": [
       "TRUE"
      ],
      "text/plain": [
       "[1] TRUE"
      ]
     },
     "metadata": {},
     "output_type": "display_data"
    }
   ],
   "source": [
    "sqrt(5) ^ 2 == 5       #floating point number\n",
    "near(sqrt(5) ^ 2, 5)   # using near() inplace of =="
   ]
  },
  {
   "cell_type": "markdown",
   "id": "a8b56e48",
   "metadata": {},
   "source": [
    "Multiple arguments ot filter() are combined with 'and'. \n",
    "Boolean operators :\n",
    "* & is and\n",
    "* | is or\n",
    "* ! is not"
   ]
  },
  {
   "cell_type": "code",
   "execution_count": 9,
   "id": "09d6ad4b",
   "metadata": {},
   "outputs": [
    {
     "data": {
      "text/html": [
       "<table>\n",
       "<thead><tr><th scope=col>year</th><th scope=col>month</th><th scope=col>day</th><th scope=col>dep_time</th><th scope=col>sched_dep_time</th><th scope=col>dep_delay</th><th scope=col>arr_time</th><th scope=col>sched_arr_time</th><th scope=col>arr_delay</th><th scope=col>carrier</th><th scope=col>flight</th><th scope=col>tailnum</th><th scope=col>origin</th><th scope=col>dest</th><th scope=col>air_time</th><th scope=col>distance</th><th scope=col>hour</th><th scope=col>minute</th><th scope=col>time_hour</th></tr></thead>\n",
       "<tbody>\n",
       "\t<tr><td>2013               </td><td>11                 </td><td>1                  </td><td>  5                </td><td>2359               </td><td>  6                </td><td>352                </td><td> 345               </td><td>  7                </td><td>B6                 </td><td> 745               </td><td>N568JB             </td><td>JFK                </td><td>PSE                </td><td>205                </td><td>1617               </td><td>23                 </td><td>59                 </td><td>2013-11-01 23:00:00</td></tr>\n",
       "\t<tr><td>2013               </td><td>11                 </td><td>1                  </td><td> 35                </td><td>2250               </td><td>105                </td><td>123                </td><td>2356               </td><td> 87                </td><td>B6                 </td><td>1816               </td><td>N353JB             </td><td>JFK                </td><td>SYR                </td><td> 36                </td><td> 209               </td><td>22                 </td><td>50                 </td><td>2013-11-01 22:00:00</td></tr>\n",
       "\t<tr><td>2013               </td><td>11                 </td><td>1                  </td><td>455                </td><td> 500               </td><td> -5                </td><td>641                </td><td> 651               </td><td>-10                </td><td>US                 </td><td>1895               </td><td>N192UW             </td><td>EWR                </td><td>CLT                </td><td> 88                </td><td> 529               </td><td> 5                 </td><td> 0                 </td><td>2013-11-01 05:00:00</td></tr>\n",
       "\t<tr><td>2013               </td><td>11                 </td><td>1                  </td><td>539                </td><td> 545               </td><td> -6                </td><td>856                </td><td> 827               </td><td> 29                </td><td>UA                 </td><td>1714               </td><td>N38727             </td><td>LGA                </td><td>IAH                </td><td>229                </td><td>1416               </td><td> 5                 </td><td>45                 </td><td>2013-11-01 05:00:00</td></tr>\n",
       "\t<tr><td>2013               </td><td>11                 </td><td>1                  </td><td>542                </td><td> 545               </td><td> -3                </td><td>831                </td><td> 855               </td><td>-24                </td><td>AA                 </td><td>2243               </td><td>N5CLAA             </td><td>JFK                </td><td>MIA                </td><td>147                </td><td>1089               </td><td> 5                 </td><td>45                 </td><td>2013-11-01 05:00:00</td></tr>\n",
       "\t<tr><td>2013               </td><td>11                 </td><td>1                  </td><td>549                </td><td> 600               </td><td>-11                </td><td>912                </td><td> 923               </td><td>-11                </td><td>UA                 </td><td> 303               </td><td>N595UA             </td><td>JFK                </td><td>SFO                </td><td>359                </td><td>2586               </td><td> 6                 </td><td> 0                 </td><td>2013-11-01 06:00:00</td></tr>\n",
       "</tbody>\n",
       "</table>\n"
      ],
      "text/latex": [
       "\\begin{tabular}{r|lllllllllllllllllll}\n",
       " year & month & day & dep\\_time & sched\\_dep\\_time & dep\\_delay & arr\\_time & sched\\_arr\\_time & arr\\_delay & carrier & flight & tailnum & origin & dest & air\\_time & distance & hour & minute & time\\_hour\\\\\n",
       "\\hline\n",
       "\t 2013                & 11                  & 1                   &   5                 & 2359                &   6                 & 352                 &  345                &   7                 & B6                  &  745                & N568JB              & JFK                 & PSE                 & 205                 & 1617                & 23                  & 59                  & 2013-11-01 23:00:00\\\\\n",
       "\t 2013                & 11                  & 1                   &  35                 & 2250                & 105                 & 123                 & 2356                &  87                 & B6                  & 1816                & N353JB              & JFK                 & SYR                 &  36                 &  209                & 22                  & 50                  & 2013-11-01 22:00:00\\\\\n",
       "\t 2013                & 11                  & 1                   & 455                 &  500                &  -5                 & 641                 &  651                & -10                 & US                  & 1895                & N192UW              & EWR                 & CLT                 &  88                 &  529                &  5                  &  0                  & 2013-11-01 05:00:00\\\\\n",
       "\t 2013                & 11                  & 1                   & 539                 &  545                &  -6                 & 856                 &  827                &  29                 & UA                  & 1714                & N38727              & LGA                 & IAH                 & 229                 & 1416                &  5                  & 45                  & 2013-11-01 05:00:00\\\\\n",
       "\t 2013                & 11                  & 1                   & 542                 &  545                &  -3                 & 831                 &  855                & -24                 & AA                  & 2243                & N5CLAA              & JFK                 & MIA                 & 147                 & 1089                &  5                  & 45                  & 2013-11-01 05:00:00\\\\\n",
       "\t 2013                & 11                  & 1                   & 549                 &  600                & -11                 & 912                 &  923                & -11                 & UA                  &  303                & N595UA              & JFK                 & SFO                 & 359                 & 2586                &  6                  &  0                  & 2013-11-01 06:00:00\\\\\n",
       "\\end{tabular}\n"
      ],
      "text/markdown": [
       "\n",
       "| year | month | day | dep_time | sched_dep_time | dep_delay | arr_time | sched_arr_time | arr_delay | carrier | flight | tailnum | origin | dest | air_time | distance | hour | minute | time_hour |\n",
       "|---|---|---|---|---|---|---|---|---|---|---|---|---|---|---|---|---|---|---|\n",
       "| 2013                | 11                  | 1                   |   5                 | 2359                |   6                 | 352                 |  345                |   7                 | B6                  |  745                | N568JB              | JFK                 | PSE                 | 205                 | 1617                | 23                  | 59                  | 2013-11-01 23:00:00 |\n",
       "| 2013                | 11                  | 1                   |  35                 | 2250                | 105                 | 123                 | 2356                |  87                 | B6                  | 1816                | N353JB              | JFK                 | SYR                 |  36                 |  209                | 22                  | 50                  | 2013-11-01 22:00:00 |\n",
       "| 2013                | 11                  | 1                   | 455                 |  500                |  -5                 | 641                 |  651                | -10                 | US                  | 1895                | N192UW              | EWR                 | CLT                 |  88                 |  529                |  5                  |  0                  | 2013-11-01 05:00:00 |\n",
       "| 2013                | 11                  | 1                   | 539                 |  545                |  -6                 | 856                 |  827                |  29                 | UA                  | 1714                | N38727              | LGA                 | IAH                 | 229                 | 1416                |  5                  | 45                  | 2013-11-01 05:00:00 |\n",
       "| 2013                | 11                  | 1                   | 542                 |  545                |  -3                 | 831                 |  855                | -24                 | AA                  | 2243                | N5CLAA              | JFK                 | MIA                 | 147                 | 1089                |  5                  | 45                  | 2013-11-01 05:00:00 |\n",
       "| 2013                | 11                  | 1                   | 549                 |  600                | -11                 | 912                 |  923                | -11                 | UA                  |  303                | N595UA              | JFK                 | SFO                 | 359                 | 2586                |  6                  |  0                  | 2013-11-01 06:00:00 |\n",
       "\n"
      ],
      "text/plain": [
       "  year month day dep_time sched_dep_time dep_delay arr_time sched_arr_time\n",
       "1 2013 11    1     5      2359             6       352       345          \n",
       "2 2013 11    1    35      2250           105       123      2356          \n",
       "3 2013 11    1   455       500            -5       641       651          \n",
       "4 2013 11    1   539       545            -6       856       827          \n",
       "5 2013 11    1   542       545            -3       831       855          \n",
       "6 2013 11    1   549       600           -11       912       923          \n",
       "  arr_delay carrier flight tailnum origin dest air_time distance hour minute\n",
       "1   7       B6       745   N568JB  JFK    PSE  205      1617     23   59    \n",
       "2  87       B6      1816   N353JB  JFK    SYR   36       209     22   50    \n",
       "3 -10       US      1895   N192UW  EWR    CLT   88       529      5    0    \n",
       "4  29       UA      1714   N38727  LGA    IAH  229      1416      5   45    \n",
       "5 -24       AA      2243   N5CLAA  JFK    MIA  147      1089      5   45    \n",
       "6 -11       UA       303   N595UA  JFK    SFO  359      2586      6    0    \n",
       "  time_hour          \n",
       "1 2013-11-01 23:00:00\n",
       "2 2013-11-01 22:00:00\n",
       "3 2013-11-01 05:00:00\n",
       "4 2013-11-01 05:00:00\n",
       "5 2013-11-01 05:00:00\n",
       "6 2013-11-01 06:00:00"
      ]
     },
     "metadata": {},
     "output_type": "display_data"
    }
   ],
   "source": [
    "head(nov_or_dec <- filter(flights, month == 11 | month == 12))"
   ]
  },
  {
   "cell_type": "markdown",
   "id": "d7e7bb67",
   "metadata": {},
   "source": [
    "x %in% y <- Useful shorthand for selecting every row where x is one of the values in y."
   ]
  },
  {
   "cell_type": "code",
   "execution_count": 10,
   "id": "c63d0637",
   "metadata": {},
   "outputs": [
    {
     "data": {
      "text/html": [
       "<table>\n",
       "<thead><tr><th scope=col>year</th><th scope=col>month</th><th scope=col>day</th><th scope=col>dep_time</th><th scope=col>sched_dep_time</th><th scope=col>dep_delay</th><th scope=col>arr_time</th><th scope=col>sched_arr_time</th><th scope=col>arr_delay</th><th scope=col>carrier</th><th scope=col>flight</th><th scope=col>tailnum</th><th scope=col>origin</th><th scope=col>dest</th><th scope=col>air_time</th><th scope=col>distance</th><th scope=col>hour</th><th scope=col>minute</th><th scope=col>time_hour</th></tr></thead>\n",
       "<tbody>\n",
       "\t<tr><td>2013               </td><td>11                 </td><td>1                  </td><td>  5                </td><td>2359               </td><td>  6                </td><td>352                </td><td> 345               </td><td>  7                </td><td>B6                 </td><td> 745               </td><td>N568JB             </td><td>JFK                </td><td>PSE                </td><td>205                </td><td>1617               </td><td>23                 </td><td>59                 </td><td>2013-11-01 23:00:00</td></tr>\n",
       "\t<tr><td>2013               </td><td>11                 </td><td>1                  </td><td> 35                </td><td>2250               </td><td>105                </td><td>123                </td><td>2356               </td><td> 87                </td><td>B6                 </td><td>1816               </td><td>N353JB             </td><td>JFK                </td><td>SYR                </td><td> 36                </td><td> 209               </td><td>22                 </td><td>50                 </td><td>2013-11-01 22:00:00</td></tr>\n",
       "\t<tr><td>2013               </td><td>11                 </td><td>1                  </td><td>455                </td><td> 500               </td><td> -5                </td><td>641                </td><td> 651               </td><td>-10                </td><td>US                 </td><td>1895               </td><td>N192UW             </td><td>EWR                </td><td>CLT                </td><td> 88                </td><td> 529               </td><td> 5                 </td><td> 0                 </td><td>2013-11-01 05:00:00</td></tr>\n",
       "\t<tr><td>2013               </td><td>11                 </td><td>1                  </td><td>539                </td><td> 545               </td><td> -6                </td><td>856                </td><td> 827               </td><td> 29                </td><td>UA                 </td><td>1714               </td><td>N38727             </td><td>LGA                </td><td>IAH                </td><td>229                </td><td>1416               </td><td> 5                 </td><td>45                 </td><td>2013-11-01 05:00:00</td></tr>\n",
       "\t<tr><td>2013               </td><td>11                 </td><td>1                  </td><td>542                </td><td> 545               </td><td> -3                </td><td>831                </td><td> 855               </td><td>-24                </td><td>AA                 </td><td>2243               </td><td>N5CLAA             </td><td>JFK                </td><td>MIA                </td><td>147                </td><td>1089               </td><td> 5                 </td><td>45                 </td><td>2013-11-01 05:00:00</td></tr>\n",
       "\t<tr><td>2013               </td><td>11                 </td><td>1                  </td><td>549                </td><td> 600               </td><td>-11                </td><td>912                </td><td> 923               </td><td>-11                </td><td>UA                 </td><td> 303               </td><td>N595UA             </td><td>JFK                </td><td>SFO                </td><td>359                </td><td>2586               </td><td> 6                 </td><td> 0                 </td><td>2013-11-01 06:00:00</td></tr>\n",
       "</tbody>\n",
       "</table>\n"
      ],
      "text/latex": [
       "\\begin{tabular}{r|lllllllllllllllllll}\n",
       " year & month & day & dep\\_time & sched\\_dep\\_time & dep\\_delay & arr\\_time & sched\\_arr\\_time & arr\\_delay & carrier & flight & tailnum & origin & dest & air\\_time & distance & hour & minute & time\\_hour\\\\\n",
       "\\hline\n",
       "\t 2013                & 11                  & 1                   &   5                 & 2359                &   6                 & 352                 &  345                &   7                 & B6                  &  745                & N568JB              & JFK                 & PSE                 & 205                 & 1617                & 23                  & 59                  & 2013-11-01 23:00:00\\\\\n",
       "\t 2013                & 11                  & 1                   &  35                 & 2250                & 105                 & 123                 & 2356                &  87                 & B6                  & 1816                & N353JB              & JFK                 & SYR                 &  36                 &  209                & 22                  & 50                  & 2013-11-01 22:00:00\\\\\n",
       "\t 2013                & 11                  & 1                   & 455                 &  500                &  -5                 & 641                 &  651                & -10                 & US                  & 1895                & N192UW              & EWR                 & CLT                 &  88                 &  529                &  5                  &  0                  & 2013-11-01 05:00:00\\\\\n",
       "\t 2013                & 11                  & 1                   & 539                 &  545                &  -6                 & 856                 &  827                &  29                 & UA                  & 1714                & N38727              & LGA                 & IAH                 & 229                 & 1416                &  5                  & 45                  & 2013-11-01 05:00:00\\\\\n",
       "\t 2013                & 11                  & 1                   & 542                 &  545                &  -3                 & 831                 &  855                & -24                 & AA                  & 2243                & N5CLAA              & JFK                 & MIA                 & 147                 & 1089                &  5                  & 45                  & 2013-11-01 05:00:00\\\\\n",
       "\t 2013                & 11                  & 1                   & 549                 &  600                & -11                 & 912                 &  923                & -11                 & UA                  &  303                & N595UA              & JFK                 & SFO                 & 359                 & 2586                &  6                  &  0                  & 2013-11-01 06:00:00\\\\\n",
       "\\end{tabular}\n"
      ],
      "text/markdown": [
       "\n",
       "| year | month | day | dep_time | sched_dep_time | dep_delay | arr_time | sched_arr_time | arr_delay | carrier | flight | tailnum | origin | dest | air_time | distance | hour | minute | time_hour |\n",
       "|---|---|---|---|---|---|---|---|---|---|---|---|---|---|---|---|---|---|---|\n",
       "| 2013                | 11                  | 1                   |   5                 | 2359                |   6                 | 352                 |  345                |   7                 | B6                  |  745                | N568JB              | JFK                 | PSE                 | 205                 | 1617                | 23                  | 59                  | 2013-11-01 23:00:00 |\n",
       "| 2013                | 11                  | 1                   |  35                 | 2250                | 105                 | 123                 | 2356                |  87                 | B6                  | 1816                | N353JB              | JFK                 | SYR                 |  36                 |  209                | 22                  | 50                  | 2013-11-01 22:00:00 |\n",
       "| 2013                | 11                  | 1                   | 455                 |  500                |  -5                 | 641                 |  651                | -10                 | US                  | 1895                | N192UW              | EWR                 | CLT                 |  88                 |  529                |  5                  |  0                  | 2013-11-01 05:00:00 |\n",
       "| 2013                | 11                  | 1                   | 539                 |  545                |  -6                 | 856                 |  827                |  29                 | UA                  | 1714                | N38727              | LGA                 | IAH                 | 229                 | 1416                |  5                  | 45                  | 2013-11-01 05:00:00 |\n",
       "| 2013                | 11                  | 1                   | 542                 |  545                |  -3                 | 831                 |  855                | -24                 | AA                  | 2243                | N5CLAA              | JFK                 | MIA                 | 147                 | 1089                |  5                  | 45                  | 2013-11-01 05:00:00 |\n",
       "| 2013                | 11                  | 1                   | 549                 |  600                | -11                 | 912                 |  923                | -11                 | UA                  |  303                | N595UA              | JFK                 | SFO                 | 359                 | 2586                |  6                  |  0                  | 2013-11-01 06:00:00 |\n",
       "\n"
      ],
      "text/plain": [
       "  year month day dep_time sched_dep_time dep_delay arr_time sched_arr_time\n",
       "1 2013 11    1     5      2359             6       352       345          \n",
       "2 2013 11    1    35      2250           105       123      2356          \n",
       "3 2013 11    1   455       500            -5       641       651          \n",
       "4 2013 11    1   539       545            -6       856       827          \n",
       "5 2013 11    1   542       545            -3       831       855          \n",
       "6 2013 11    1   549       600           -11       912       923          \n",
       "  arr_delay carrier flight tailnum origin dest air_time distance hour minute\n",
       "1   7       B6       745   N568JB  JFK    PSE  205      1617     23   59    \n",
       "2  87       B6      1816   N353JB  JFK    SYR   36       209     22   50    \n",
       "3 -10       US      1895   N192UW  EWR    CLT   88       529      5    0    \n",
       "4  29       UA      1714   N38727  LGA    IAH  229      1416      5   45    \n",
       "5 -24       AA      2243   N5CLAA  JFK    MIA  147      1089      5   45    \n",
       "6 -11       UA       303   N595UA  JFK    SFO  359      2586      6    0    \n",
       "  time_hour          \n",
       "1 2013-11-01 23:00:00\n",
       "2 2013-11-01 22:00:00\n",
       "3 2013-11-01 05:00:00\n",
       "4 2013-11-01 05:00:00\n",
       "5 2013-11-01 05:00:00\n",
       "6 2013-11-01 06:00:00"
      ]
     },
     "metadata": {},
     "output_type": "display_data"
    }
   ],
   "source": [
    "head(dec_or_nov <- filter(flights, month %in% c(11,12)))"
   ]
  },
  {
   "cell_type": "markdown",
   "id": "4f06fea3",
   "metadata": {},
   "source": [
    "Simplify complicated subsetting by De-Morgan's Law <- !(x & y) is same as !x | !y and !(x | y) is same as !x & !y."
   ]
  },
  {
   "cell_type": "code",
   "execution_count": 11,
   "id": "f49e1d84",
   "metadata": {},
   "outputs": [
    {
     "data": {
      "text/html": [
       "<table>\n",
       "<thead><tr><th scope=col>year</th><th scope=col>month</th><th scope=col>day</th><th scope=col>dep_time</th><th scope=col>sched_dep_time</th><th scope=col>dep_delay</th><th scope=col>arr_time</th><th scope=col>sched_arr_time</th><th scope=col>arr_delay</th><th scope=col>carrier</th><th scope=col>flight</th><th scope=col>tailnum</th><th scope=col>origin</th><th scope=col>dest</th><th scope=col>air_time</th><th scope=col>distance</th><th scope=col>hour</th><th scope=col>minute</th><th scope=col>time_hour</th></tr></thead>\n",
       "<tbody>\n",
       "\t<tr><td>2013               </td><td> 1                 </td><td>13                 </td><td> 1                 </td><td>2249               </td><td> 72                </td><td>108                </td><td>2357               </td><td> 71                </td><td>B6                 </td><td>  22               </td><td>N206JB             </td><td>JFK                </td><td>SYR                </td><td> 41                </td><td>209                </td><td>22                 </td><td>49                 </td><td>2013-01-13 22:00:00</td></tr>\n",
       "\t<tr><td>2013               </td><td> 1                 </td><td>16                 </td><td> 2                 </td><td>2125               </td><td>157                </td><td>119                </td><td>2250               </td><td>149                </td><td>MQ                 </td><td>4660               </td><td>N504MQ             </td><td>LGA                </td><td>BNA                </td><td>121                </td><td>764                </td><td>21                 </td><td>25                 </td><td>2013-01-16 21:00:00</td></tr>\n",
       "\t<tr><td>2013               </td><td> 1                 </td><td>25                 </td><td>17                 </td><td>2249               </td><td> 88                </td><td>119                </td><td>2357               </td><td> 82                </td><td>B6                 </td><td>  22               </td><td>N228JB             </td><td>JFK                </td><td>SYR                </td><td> 45                </td><td>209                </td><td>22                 </td><td>49                 </td><td>2013-01-25 22:00:00</td></tr>\n",
       "\t<tr><td>2013               </td><td> 1                 </td><td>30                 </td><td> 3                 </td><td>2159               </td><td>124                </td><td>100                </td><td>2306               </td><td>114                </td><td>EV                 </td><td>4322               </td><td>N18556             </td><td>EWR                </td><td>PWM                </td><td> 42                </td><td>284                </td><td>21                 </td><td>59                 </td><td>2013-01-30 21:00:00</td></tr>\n",
       "\t<tr><td>2013               </td><td>10                 </td><td> 7                 </td><td> 6                 </td><td>2159               </td><td>127                </td><td> 57                </td><td>2306               </td><td>111                </td><td>EV                 </td><td>3842               </td><td>N19554             </td><td>EWR                </td><td>MHT                </td><td> 32                </td><td>209                </td><td>21                 </td><td>59                 </td><td>2013-10-07 21:00:00</td></tr>\n",
       "\t<tr><td>2013               </td><td>10                 </td><td> 7                 </td><td> 9                 </td><td>2030               </td><td>219                </td><td>109                </td><td>2205               </td><td>184                </td><td>WN                 </td><td> 382               </td><td>N415WN             </td><td>LGA                </td><td>MDW                </td><td>105                </td><td>725                </td><td>20                 </td><td>30                 </td><td>2013-10-07 20:00:00</td></tr>\n",
       "</tbody>\n",
       "</table>\n"
      ],
      "text/latex": [
       "\\begin{tabular}{r|lllllllllllllllllll}\n",
       " year & month & day & dep\\_time & sched\\_dep\\_time & dep\\_delay & arr\\_time & sched\\_arr\\_time & arr\\_delay & carrier & flight & tailnum & origin & dest & air\\_time & distance & hour & minute & time\\_hour\\\\\n",
       "\\hline\n",
       "\t 2013                &  1                  & 13                  &  1                  & 2249                &  72                 & 108                 & 2357                &  71                 & B6                  &   22                & N206JB              & JFK                 & SYR                 &  41                 & 209                 & 22                  & 49                  & 2013-01-13 22:00:00\\\\\n",
       "\t 2013                &  1                  & 16                  &  2                  & 2125                & 157                 & 119                 & 2250                & 149                 & MQ                  & 4660                & N504MQ              & LGA                 & BNA                 & 121                 & 764                 & 21                  & 25                  & 2013-01-16 21:00:00\\\\\n",
       "\t 2013                &  1                  & 25                  & 17                  & 2249                &  88                 & 119                 & 2357                &  82                 & B6                  &   22                & N228JB              & JFK                 & SYR                 &  45                 & 209                 & 22                  & 49                  & 2013-01-25 22:00:00\\\\\n",
       "\t 2013                &  1                  & 30                  &  3                  & 2159                & 124                 & 100                 & 2306                & 114                 & EV                  & 4322                & N18556              & EWR                 & PWM                 &  42                 & 284                 & 21                  & 59                  & 2013-01-30 21:00:00\\\\\n",
       "\t 2013                & 10                  &  7                  &  6                  & 2159                & 127                 &  57                 & 2306                & 111                 & EV                  & 3842                & N19554              & EWR                 & MHT                 &  32                 & 209                 & 21                  & 59                  & 2013-10-07 21:00:00\\\\\n",
       "\t 2013                & 10                  &  7                  &  9                  & 2030                & 219                 & 109                 & 2205                & 184                 & WN                  &  382                & N415WN              & LGA                 & MDW                 & 105                 & 725                 & 20                  & 30                  & 2013-10-07 20:00:00\\\\\n",
       "\\end{tabular}\n"
      ],
      "text/markdown": [
       "\n",
       "| year | month | day | dep_time | sched_dep_time | dep_delay | arr_time | sched_arr_time | arr_delay | carrier | flight | tailnum | origin | dest | air_time | distance | hour | minute | time_hour |\n",
       "|---|---|---|---|---|---|---|---|---|---|---|---|---|---|---|---|---|---|---|\n",
       "| 2013                |  1                  | 13                  |  1                  | 2249                |  72                 | 108                 | 2357                |  71                 | B6                  |   22                | N206JB              | JFK                 | SYR                 |  41                 | 209                 | 22                  | 49                  | 2013-01-13 22:00:00 |\n",
       "| 2013                |  1                  | 16                  |  2                  | 2125                | 157                 | 119                 | 2250                | 149                 | MQ                  | 4660                | N504MQ              | LGA                 | BNA                 | 121                 | 764                 | 21                  | 25                  | 2013-01-16 21:00:00 |\n",
       "| 2013                |  1                  | 25                  | 17                  | 2249                |  88                 | 119                 | 2357                |  82                 | B6                  |   22                | N228JB              | JFK                 | SYR                 |  45                 | 209                 | 22                  | 49                  | 2013-01-25 22:00:00 |\n",
       "| 2013                |  1                  | 30                  |  3                  | 2159                | 124                 | 100                 | 2306                | 114                 | EV                  | 4322                | N18556              | EWR                 | PWM                 |  42                 | 284                 | 21                  | 59                  | 2013-01-30 21:00:00 |\n",
       "| 2013                | 10                  |  7                  |  6                  | 2159                | 127                 |  57                 | 2306                | 111                 | EV                  | 3842                | N19554              | EWR                 | MHT                 |  32                 | 209                 | 21                  | 59                  | 2013-10-07 21:00:00 |\n",
       "| 2013                | 10                  |  7                  |  9                  | 2030                | 219                 | 109                 | 2205                | 184                 | WN                  |  382                | N415WN              | LGA                 | MDW                 | 105                 | 725                 | 20                  | 30                  | 2013-10-07 20:00:00 |\n",
       "\n"
      ],
      "text/plain": [
       "  year month day dep_time sched_dep_time dep_delay arr_time sched_arr_time\n",
       "1 2013  1    13   1       2249            72       108      2357          \n",
       "2 2013  1    16   2       2125           157       119      2250          \n",
       "3 2013  1    25  17       2249            88       119      2357          \n",
       "4 2013  1    30   3       2159           124       100      2306          \n",
       "5 2013 10     7   6       2159           127        57      2306          \n",
       "6 2013 10     7   9       2030           219       109      2205          \n",
       "  arr_delay carrier flight tailnum origin dest air_time distance hour minute\n",
       "1  71       B6        22   N206JB  JFK    SYR   41      209      22   49    \n",
       "2 149       MQ      4660   N504MQ  LGA    BNA  121      764      21   25    \n",
       "3  82       B6        22   N228JB  JFK    SYR   45      209      22   49    \n",
       "4 114       EV      4322   N18556  EWR    PWM   42      284      21   59    \n",
       "5 111       EV      3842   N19554  EWR    MHT   32      209      21   59    \n",
       "6 184       WN       382   N415WN  LGA    MDW  105      725      20   30    \n",
       "  time_hour          \n",
       "1 2013-01-13 22:00:00\n",
       "2 2013-01-16 21:00:00\n",
       "3 2013-01-25 22:00:00\n",
       "4 2013-01-30 21:00:00\n",
       "5 2013-10-07 21:00:00\n",
       "6 2013-10-07 20:00:00"
      ]
     },
     "metadata": {},
     "output_type": "display_data"
    },
    {
     "data": {
      "text/html": [
       "<table>\n",
       "<thead><tr><th scope=col>year</th><th scope=col>month</th><th scope=col>day</th><th scope=col>dep_time</th><th scope=col>sched_dep_time</th><th scope=col>dep_delay</th><th scope=col>arr_time</th><th scope=col>sched_arr_time</th><th scope=col>arr_delay</th><th scope=col>carrier</th><th scope=col>flight</th><th scope=col>tailnum</th><th scope=col>origin</th><th scope=col>dest</th><th scope=col>air_time</th><th scope=col>distance</th><th scope=col>hour</th><th scope=col>minute</th><th scope=col>time_hour</th></tr></thead>\n",
       "<tbody>\n",
       "\t<tr><td>2013               </td><td> 1                 </td><td>13                 </td><td> 1                 </td><td>2249               </td><td> 72                </td><td>108                </td><td>2357               </td><td> 71                </td><td>B6                 </td><td>  22               </td><td>N206JB             </td><td>JFK                </td><td>SYR                </td><td> 41                </td><td>209                </td><td>22                 </td><td>49                 </td><td>2013-01-13 22:00:00</td></tr>\n",
       "\t<tr><td>2013               </td><td> 1                 </td><td>16                 </td><td> 2                 </td><td>2125               </td><td>157                </td><td>119                </td><td>2250               </td><td>149                </td><td>MQ                 </td><td>4660               </td><td>N504MQ             </td><td>LGA                </td><td>BNA                </td><td>121                </td><td>764                </td><td>21                 </td><td>25                 </td><td>2013-01-16 21:00:00</td></tr>\n",
       "\t<tr><td>2013               </td><td> 1                 </td><td>25                 </td><td>17                 </td><td>2249               </td><td> 88                </td><td>119                </td><td>2357               </td><td> 82                </td><td>B6                 </td><td>  22               </td><td>N228JB             </td><td>JFK                </td><td>SYR                </td><td> 45                </td><td>209                </td><td>22                 </td><td>49                 </td><td>2013-01-25 22:00:00</td></tr>\n",
       "\t<tr><td>2013               </td><td> 1                 </td><td>30                 </td><td> 3                 </td><td>2159               </td><td>124                </td><td>100                </td><td>2306               </td><td>114                </td><td>EV                 </td><td>4322               </td><td>N18556             </td><td>EWR                </td><td>PWM                </td><td> 42                </td><td>284                </td><td>21                 </td><td>59                 </td><td>2013-01-30 21:00:00</td></tr>\n",
       "\t<tr><td>2013               </td><td>10                 </td><td> 7                 </td><td> 6                 </td><td>2159               </td><td>127                </td><td> 57                </td><td>2306               </td><td>111                </td><td>EV                 </td><td>3842               </td><td>N19554             </td><td>EWR                </td><td>MHT                </td><td> 32                </td><td>209                </td><td>21                 </td><td>59                 </td><td>2013-10-07 21:00:00</td></tr>\n",
       "\t<tr><td>2013               </td><td>10                 </td><td> 7                 </td><td> 9                 </td><td>2030               </td><td>219                </td><td>109                </td><td>2205               </td><td>184                </td><td>WN                 </td><td> 382               </td><td>N415WN             </td><td>LGA                </td><td>MDW                </td><td>105                </td><td>725                </td><td>20                 </td><td>30                 </td><td>2013-10-07 20:00:00</td></tr>\n",
       "</tbody>\n",
       "</table>\n"
      ],
      "text/latex": [
       "\\begin{tabular}{r|lllllllllllllllllll}\n",
       " year & month & day & dep\\_time & sched\\_dep\\_time & dep\\_delay & arr\\_time & sched\\_arr\\_time & arr\\_delay & carrier & flight & tailnum & origin & dest & air\\_time & distance & hour & minute & time\\_hour\\\\\n",
       "\\hline\n",
       "\t 2013                &  1                  & 13                  &  1                  & 2249                &  72                 & 108                 & 2357                &  71                 & B6                  &   22                & N206JB              & JFK                 & SYR                 &  41                 & 209                 & 22                  & 49                  & 2013-01-13 22:00:00\\\\\n",
       "\t 2013                &  1                  & 16                  &  2                  & 2125                & 157                 & 119                 & 2250                & 149                 & MQ                  & 4660                & N504MQ              & LGA                 & BNA                 & 121                 & 764                 & 21                  & 25                  & 2013-01-16 21:00:00\\\\\n",
       "\t 2013                &  1                  & 25                  & 17                  & 2249                &  88                 & 119                 & 2357                &  82                 & B6                  &   22                & N228JB              & JFK                 & SYR                 &  45                 & 209                 & 22                  & 49                  & 2013-01-25 22:00:00\\\\\n",
       "\t 2013                &  1                  & 30                  &  3                  & 2159                & 124                 & 100                 & 2306                & 114                 & EV                  & 4322                & N18556              & EWR                 & PWM                 &  42                 & 284                 & 21                  & 59                  & 2013-01-30 21:00:00\\\\\n",
       "\t 2013                & 10                  &  7                  &  6                  & 2159                & 127                 &  57                 & 2306                & 111                 & EV                  & 3842                & N19554              & EWR                 & MHT                 &  32                 & 209                 & 21                  & 59                  & 2013-10-07 21:00:00\\\\\n",
       "\t 2013                & 10                  &  7                  &  9                  & 2030                & 219                 & 109                 & 2205                & 184                 & WN                  &  382                & N415WN              & LGA                 & MDW                 & 105                 & 725                 & 20                  & 30                  & 2013-10-07 20:00:00\\\\\n",
       "\\end{tabular}\n"
      ],
      "text/markdown": [
       "\n",
       "| year | month | day | dep_time | sched_dep_time | dep_delay | arr_time | sched_arr_time | arr_delay | carrier | flight | tailnum | origin | dest | air_time | distance | hour | minute | time_hour |\n",
       "|---|---|---|---|---|---|---|---|---|---|---|---|---|---|---|---|---|---|---|\n",
       "| 2013                |  1                  | 13                  |  1                  | 2249                |  72                 | 108                 | 2357                |  71                 | B6                  |   22                | N206JB              | JFK                 | SYR                 |  41                 | 209                 | 22                  | 49                  | 2013-01-13 22:00:00 |\n",
       "| 2013                |  1                  | 16                  |  2                  | 2125                | 157                 | 119                 | 2250                | 149                 | MQ                  | 4660                | N504MQ              | LGA                 | BNA                 | 121                 | 764                 | 21                  | 25                  | 2013-01-16 21:00:00 |\n",
       "| 2013                |  1                  | 25                  | 17                  | 2249                |  88                 | 119                 | 2357                |  82                 | B6                  |   22                | N228JB              | JFK                 | SYR                 |  45                 | 209                 | 22                  | 49                  | 2013-01-25 22:00:00 |\n",
       "| 2013                |  1                  | 30                  |  3                  | 2159                | 124                 | 100                 | 2306                | 114                 | EV                  | 4322                | N18556              | EWR                 | PWM                 |  42                 | 284                 | 21                  | 59                  | 2013-01-30 21:00:00 |\n",
       "| 2013                | 10                  |  7                  |  6                  | 2159                | 127                 |  57                 | 2306                | 111                 | EV                  | 3842                | N19554              | EWR                 | MHT                 |  32                 | 209                 | 21                  | 59                  | 2013-10-07 21:00:00 |\n",
       "| 2013                | 10                  |  7                  |  9                  | 2030                | 219                 | 109                 | 2205                | 184                 | WN                  |  382                | N415WN              | LGA                 | MDW                 | 105                 | 725                 | 20                  | 30                  | 2013-10-07 20:00:00 |\n",
       "\n"
      ],
      "text/plain": [
       "  year month day dep_time sched_dep_time dep_delay arr_time sched_arr_time\n",
       "1 2013  1    13   1       2249            72       108      2357          \n",
       "2 2013  1    16   2       2125           157       119      2250          \n",
       "3 2013  1    25  17       2249            88       119      2357          \n",
       "4 2013  1    30   3       2159           124       100      2306          \n",
       "5 2013 10     7   6       2159           127        57      2306          \n",
       "6 2013 10     7   9       2030           219       109      2205          \n",
       "  arr_delay carrier flight tailnum origin dest air_time distance hour minute\n",
       "1  71       B6        22   N206JB  JFK    SYR   41      209      22   49    \n",
       "2 149       MQ      4660   N504MQ  LGA    BNA  121      764      21   25    \n",
       "3  82       B6        22   N228JB  JFK    SYR   45      209      22   49    \n",
       "4 114       EV      4322   N18556  EWR    PWM   42      284      21   59    \n",
       "5 111       EV      3842   N19554  EWR    MHT   32      209      21   59    \n",
       "6 184       WN       382   N415WN  LGA    MDW  105      725      20   30    \n",
       "  time_hour          \n",
       "1 2013-01-13 22:00:00\n",
       "2 2013-01-16 21:00:00\n",
       "3 2013-01-25 22:00:00\n",
       "4 2013-01-30 21:00:00\n",
       "5 2013-10-07 21:00:00\n",
       "6 2013-10-07 20:00:00"
      ]
     },
     "metadata": {},
     "output_type": "display_data"
    }
   ],
   "source": [
    "head(filter(flights, !(arr_time > 120 | dep_time > 120)))   # without using De-Morgan's Law\n",
    "head(filter(flights, arr_time < 120 & dep_time < 120))      # with using De-Morgan's Law"
   ]
  },
  {
   "cell_type": "markdown",
   "id": "8a70a315",
   "metadata": {},
   "source": [
    "Almost every expression involving a missing value (\"NA\") will also be unknown (\"NA\"). To determine if a value is missing use, is.na() function. "
   ]
  },
  {
   "cell_type": "code",
   "execution_count": 12,
   "id": "d59743c7",
   "metadata": {},
   "outputs": [
    {
     "data": {
      "text/html": [
       "&lt;NA&gt;"
      ],
      "text/latex": [
       "<NA>"
      ],
      "text/markdown": [
       "&lt;NA&gt;"
      ],
      "text/plain": [
       "[1] NA"
      ]
     },
     "metadata": {},
     "output_type": "display_data"
    },
    {
     "data": {
      "text/html": [
       "&lt;NA&gt;"
      ],
      "text/latex": [
       "<NA>"
      ],
      "text/markdown": [
       "&lt;NA&gt;"
      ],
      "text/plain": [
       "[1] NA"
      ]
     },
     "metadata": {},
     "output_type": "display_data"
    },
    {
     "data": {
      "text/html": [
       "TRUE"
      ],
      "text/latex": [
       "TRUE"
      ],
      "text/markdown": [
       "TRUE"
      ],
      "text/plain": [
       "[1] TRUE"
      ]
     },
     "metadata": {},
     "output_type": "display_data"
    }
   ],
   "source": [
    "NA < 02\n",
    "NA == NA\n",
    "x <- NA\n",
    "is.na(x)"
   ]
  },
  {
   "cell_type": "markdown",
   "id": "f574056c",
   "metadata": {},
   "source": [
    "filter() only includes rows where the condition is TRUE; it excludes both FALSE and NA values. (To include \"NA\" values in filter, specify explicitly using is.na().)"
   ]
  },
  {
   "cell_type": "code",
   "execution_count": 13,
   "id": "77f338e3",
   "metadata": {},
   "outputs": [
    {
     "data": {
      "text/html": [
       "<table>\n",
       "<thead><tr><th scope=col>x</th></tr></thead>\n",
       "<tbody>\n",
       "\t<tr><td>3</td></tr>\n",
       "</tbody>\n",
       "</table>\n"
      ],
      "text/latex": [
       "\\begin{tabular}{r|l}\n",
       " x\\\\\n",
       "\\hline\n",
       "\t 3\\\\\n",
       "\\end{tabular}\n"
      ],
      "text/markdown": [
       "\n",
       "| x |\n",
       "|---|\n",
       "| 3 |\n",
       "\n"
      ],
      "text/plain": [
       "  x\n",
       "1 3"
      ]
     },
     "metadata": {},
     "output_type": "display_data"
    },
    {
     "data": {
      "text/html": [
       "<table>\n",
       "<thead><tr><th scope=col>x</th></tr></thead>\n",
       "<tbody>\n",
       "\t<tr><td>NA</td></tr>\n",
       "\t<tr><td> 3</td></tr>\n",
       "</tbody>\n",
       "</table>\n"
      ],
      "text/latex": [
       "\\begin{tabular}{r|l}\n",
       " x\\\\\n",
       "\\hline\n",
       "\t NA\\\\\n",
       "\t  3\\\\\n",
       "\\end{tabular}\n"
      ],
      "text/markdown": [
       "\n",
       "| x |\n",
       "|---|\n",
       "| NA |\n",
       "|  3 |\n",
       "\n"
      ],
      "text/plain": [
       "  x \n",
       "1 NA\n",
       "2  3"
      ]
     },
     "metadata": {},
     "output_type": "display_data"
    }
   ],
   "source": [
    "df <- tibble(x = c(1, NA, 3))\n",
    "filter(df, x > 1)                   # filter() without \"NA\" values.\n",
    "filter(df, is.na(x) | x > 1)      # filter() with \"NA\" values included."
   ]
  },
  {
   "cell_type": "markdown",
   "id": "e806a8c2",
   "metadata": {},
   "source": [
    "# Arrange rows with arrange()"
   ]
  },
  {
   "cell_type": "markdown",
   "id": "2fddad66",
   "metadata": {},
   "source": [
    "arrange() <- Takes a dataframe and a column name (or more complicated expressions) to order by. If more than one column names are provided, then each additional column will be used to break ties in the values of preceding columns."
   ]
  },
  {
   "cell_type": "code",
   "execution_count": 14,
   "id": "dba89b1b",
   "metadata": {},
   "outputs": [
    {
     "data": {
      "text/html": [
       "<table>\n",
       "<thead><tr><th scope=col>year</th><th scope=col>month</th><th scope=col>day</th><th scope=col>dep_time</th><th scope=col>sched_dep_time</th><th scope=col>dep_delay</th><th scope=col>arr_time</th><th scope=col>sched_arr_time</th><th scope=col>arr_delay</th><th scope=col>carrier</th><th scope=col>flight</th><th scope=col>tailnum</th><th scope=col>origin</th><th scope=col>dest</th><th scope=col>air_time</th><th scope=col>distance</th><th scope=col>hour</th><th scope=col>minute</th><th scope=col>time_hour</th></tr></thead>\n",
       "<tbody>\n",
       "\t<tr><td>2013               </td><td>1                  </td><td>1                  </td><td>517                </td><td>515                </td><td> 2                 </td><td> 830               </td><td> 819               </td><td> 11                </td><td>UA                 </td><td>1545               </td><td>N14228             </td><td>EWR                </td><td>IAH                </td><td>227                </td><td>1400               </td><td>5                  </td><td>15                 </td><td>2013-01-01 05:00:00</td></tr>\n",
       "\t<tr><td>2013               </td><td>1                  </td><td>1                  </td><td>533                </td><td>529                </td><td> 4                 </td><td> 850               </td><td> 830               </td><td> 20                </td><td>UA                 </td><td>1714               </td><td>N24211             </td><td>LGA                </td><td>IAH                </td><td>227                </td><td>1416               </td><td>5                  </td><td>29                 </td><td>2013-01-01 05:00:00</td></tr>\n",
       "\t<tr><td>2013               </td><td>1                  </td><td>1                  </td><td>542                </td><td>540                </td><td> 2                 </td><td> 923               </td><td> 850               </td><td> 33                </td><td>AA                 </td><td>1141               </td><td>N619AA             </td><td>JFK                </td><td>MIA                </td><td>160                </td><td>1089               </td><td>5                  </td><td>40                 </td><td>2013-01-01 05:00:00</td></tr>\n",
       "\t<tr><td>2013               </td><td>1                  </td><td>1                  </td><td>544                </td><td>545                </td><td>-1                 </td><td>1004               </td><td>1022               </td><td>-18                </td><td>B6                 </td><td> 725               </td><td>N804JB             </td><td>JFK                </td><td>BQN                </td><td>183                </td><td>1576               </td><td>5                  </td><td>45                 </td><td>2013-01-01 05:00:00</td></tr>\n",
       "\t<tr><td>2013               </td><td>1                  </td><td>1                  </td><td>554                </td><td>600                </td><td>-6                 </td><td> 812               </td><td> 837               </td><td>-25                </td><td>DL                 </td><td> 461               </td><td>N668DN             </td><td>LGA                </td><td>ATL                </td><td>116                </td><td> 762               </td><td>6                  </td><td> 0                 </td><td>2013-01-01 06:00:00</td></tr>\n",
       "\t<tr><td>2013               </td><td>1                  </td><td>1                  </td><td>554                </td><td>558                </td><td>-4                 </td><td> 740               </td><td> 728               </td><td> 12                </td><td>UA                 </td><td>1696               </td><td>N39463             </td><td>EWR                </td><td>ORD                </td><td>150                </td><td> 719               </td><td>5                  </td><td>58                 </td><td>2013-01-01 05:00:00</td></tr>\n",
       "</tbody>\n",
       "</table>\n"
      ],
      "text/latex": [
       "\\begin{tabular}{r|lllllllllllllllllll}\n",
       " year & month & day & dep\\_time & sched\\_dep\\_time & dep\\_delay & arr\\_time & sched\\_arr\\_time & arr\\_delay & carrier & flight & tailnum & origin & dest & air\\_time & distance & hour & minute & time\\_hour\\\\\n",
       "\\hline\n",
       "\t 2013                & 1                   & 1                   & 517                 & 515                 &  2                  &  830                &  819                &  11                 & UA                  & 1545                & N14228              & EWR                 & IAH                 & 227                 & 1400                & 5                   & 15                  & 2013-01-01 05:00:00\\\\\n",
       "\t 2013                & 1                   & 1                   & 533                 & 529                 &  4                  &  850                &  830                &  20                 & UA                  & 1714                & N24211              & LGA                 & IAH                 & 227                 & 1416                & 5                   & 29                  & 2013-01-01 05:00:00\\\\\n",
       "\t 2013                & 1                   & 1                   & 542                 & 540                 &  2                  &  923                &  850                &  33                 & AA                  & 1141                & N619AA              & JFK                 & MIA                 & 160                 & 1089                & 5                   & 40                  & 2013-01-01 05:00:00\\\\\n",
       "\t 2013                & 1                   & 1                   & 544                 & 545                 & -1                  & 1004                & 1022                & -18                 & B6                  &  725                & N804JB              & JFK                 & BQN                 & 183                 & 1576                & 5                   & 45                  & 2013-01-01 05:00:00\\\\\n",
       "\t 2013                & 1                   & 1                   & 554                 & 600                 & -6                  &  812                &  837                & -25                 & DL                  &  461                & N668DN              & LGA                 & ATL                 & 116                 &  762                & 6                   &  0                  & 2013-01-01 06:00:00\\\\\n",
       "\t 2013                & 1                   & 1                   & 554                 & 558                 & -4                  &  740                &  728                &  12                 & UA                  & 1696                & N39463              & EWR                 & ORD                 & 150                 &  719                & 5                   & 58                  & 2013-01-01 05:00:00\\\\\n",
       "\\end{tabular}\n"
      ],
      "text/markdown": [
       "\n",
       "| year | month | day | dep_time | sched_dep_time | dep_delay | arr_time | sched_arr_time | arr_delay | carrier | flight | tailnum | origin | dest | air_time | distance | hour | minute | time_hour |\n",
       "|---|---|---|---|---|---|---|---|---|---|---|---|---|---|---|---|---|---|---|\n",
       "| 2013                | 1                   | 1                   | 517                 | 515                 |  2                  |  830                |  819                |  11                 | UA                  | 1545                | N14228              | EWR                 | IAH                 | 227                 | 1400                | 5                   | 15                  | 2013-01-01 05:00:00 |\n",
       "| 2013                | 1                   | 1                   | 533                 | 529                 |  4                  |  850                |  830                |  20                 | UA                  | 1714                | N24211              | LGA                 | IAH                 | 227                 | 1416                | 5                   | 29                  | 2013-01-01 05:00:00 |\n",
       "| 2013                | 1                   | 1                   | 542                 | 540                 |  2                  |  923                |  850                |  33                 | AA                  | 1141                | N619AA              | JFK                 | MIA                 | 160                 | 1089                | 5                   | 40                  | 2013-01-01 05:00:00 |\n",
       "| 2013                | 1                   | 1                   | 544                 | 545                 | -1                  | 1004                | 1022                | -18                 | B6                  |  725                | N804JB              | JFK                 | BQN                 | 183                 | 1576                | 5                   | 45                  | 2013-01-01 05:00:00 |\n",
       "| 2013                | 1                   | 1                   | 554                 | 600                 | -6                  |  812                |  837                | -25                 | DL                  |  461                | N668DN              | LGA                 | ATL                 | 116                 |  762                | 6                   |  0                  | 2013-01-01 06:00:00 |\n",
       "| 2013                | 1                   | 1                   | 554                 | 558                 | -4                  |  740                |  728                |  12                 | UA                  | 1696                | N39463              | EWR                 | ORD                 | 150                 |  719                | 5                   | 58                  | 2013-01-01 05:00:00 |\n",
       "\n"
      ],
      "text/plain": [
       "  year month day dep_time sched_dep_time dep_delay arr_time sched_arr_time\n",
       "1 2013 1     1   517      515             2         830      819          \n",
       "2 2013 1     1   533      529             4         850      830          \n",
       "3 2013 1     1   542      540             2         923      850          \n",
       "4 2013 1     1   544      545            -1        1004     1022          \n",
       "5 2013 1     1   554      600            -6         812      837          \n",
       "6 2013 1     1   554      558            -4         740      728          \n",
       "  arr_delay carrier flight tailnum origin dest air_time distance hour minute\n",
       "1  11       UA      1545   N14228  EWR    IAH  227      1400     5    15    \n",
       "2  20       UA      1714   N24211  LGA    IAH  227      1416     5    29    \n",
       "3  33       AA      1141   N619AA  JFK    MIA  160      1089     5    40    \n",
       "4 -18       B6       725   N804JB  JFK    BQN  183      1576     5    45    \n",
       "5 -25       DL       461   N668DN  LGA    ATL  116       762     6     0    \n",
       "6  12       UA      1696   N39463  EWR    ORD  150       719     5    58    \n",
       "  time_hour          \n",
       "1 2013-01-01 05:00:00\n",
       "2 2013-01-01 05:00:00\n",
       "3 2013-01-01 05:00:00\n",
       "4 2013-01-01 05:00:00\n",
       "5 2013-01-01 06:00:00\n",
       "6 2013-01-01 05:00:00"
      ]
     },
     "metadata": {},
     "output_type": "display_data"
    }
   ],
   "source": [
    "head(arrange(flights, year, month, day))"
   ]
  },
  {
   "cell_type": "markdown",
   "id": "49a812e9",
   "metadata": {},
   "source": [
    "Use the desc() to sort a column in decreasing order."
   ]
  },
  {
   "cell_type": "code",
   "execution_count": 15,
   "id": "60237a9b",
   "metadata": {},
   "outputs": [
    {
     "data": {
      "text/html": [
       "<table>\n",
       "<thead><tr><th scope=col>year</th><th scope=col>month</th><th scope=col>day</th><th scope=col>dep_time</th><th scope=col>sched_dep_time</th><th scope=col>dep_delay</th><th scope=col>arr_time</th><th scope=col>sched_arr_time</th><th scope=col>arr_delay</th><th scope=col>carrier</th><th scope=col>flight</th><th scope=col>tailnum</th><th scope=col>origin</th><th scope=col>dest</th><th scope=col>air_time</th><th scope=col>distance</th><th scope=col>hour</th><th scope=col>minute</th><th scope=col>time_hour</th></tr></thead>\n",
       "<tbody>\n",
       "\t<tr><td>2013               </td><td>1                  </td><td> 9                 </td><td> 641               </td><td> 900               </td><td>1301               </td><td>1242               </td><td>1530               </td><td>1272               </td><td>HA                 </td><td>  51               </td><td>N384HA             </td><td>JFK                </td><td>HNL                </td><td>640                </td><td>4983               </td><td> 9                 </td><td> 0                 </td><td>2013-01-09 09:00:00</td></tr>\n",
       "\t<tr><td>2013               </td><td>6                  </td><td>15                 </td><td>1432               </td><td>1935               </td><td>1137               </td><td>1607               </td><td>2120               </td><td>1127               </td><td>MQ                 </td><td>3535               </td><td>N504MQ             </td><td>JFK                </td><td>CMH                </td><td> 74                </td><td> 483               </td><td>19                 </td><td>35                 </td><td>2013-06-15 19:00:00</td></tr>\n",
       "\t<tr><td>2013               </td><td>1                  </td><td>10                 </td><td>1121               </td><td>1635               </td><td>1126               </td><td>1239               </td><td>1810               </td><td>1109               </td><td>MQ                 </td><td>3695               </td><td>N517MQ             </td><td>EWR                </td><td>ORD                </td><td>111                </td><td> 719               </td><td>16                 </td><td>35                 </td><td>2013-01-10 16:00:00</td></tr>\n",
       "\t<tr><td>2013               </td><td>9                  </td><td>20                 </td><td>1139               </td><td>1845               </td><td>1014               </td><td>1457               </td><td>2210               </td><td>1007               </td><td>AA                 </td><td> 177               </td><td>N338AA             </td><td>JFK                </td><td>SFO                </td><td>354                </td><td>2586               </td><td>18                 </td><td>45                 </td><td>2013-09-20 18:00:00</td></tr>\n",
       "\t<tr><td>2013               </td><td>7                  </td><td>22                 </td><td> 845               </td><td>1600               </td><td>1005               </td><td>1044               </td><td>1815               </td><td> 989               </td><td>MQ                 </td><td>3075               </td><td>N665MQ             </td><td>JFK                </td><td>CVG                </td><td> 96                </td><td> 589               </td><td>16                 </td><td> 0                 </td><td>2013-07-22 16:00:00</td></tr>\n",
       "\t<tr><td>2013               </td><td>4                  </td><td>10                 </td><td>1100               </td><td>1900               </td><td> 960               </td><td>1342               </td><td>2211               </td><td> 931               </td><td>DL                 </td><td>2391               </td><td>N959DL             </td><td>JFK                </td><td>TPA                </td><td>139                </td><td>1005               </td><td>19                 </td><td> 0                 </td><td>2013-04-10 19:00:00</td></tr>\n",
       "</tbody>\n",
       "</table>\n"
      ],
      "text/latex": [
       "\\begin{tabular}{r|lllllllllllllllllll}\n",
       " year & month & day & dep\\_time & sched\\_dep\\_time & dep\\_delay & arr\\_time & sched\\_arr\\_time & arr\\_delay & carrier & flight & tailnum & origin & dest & air\\_time & distance & hour & minute & time\\_hour\\\\\n",
       "\\hline\n",
       "\t 2013                & 1                   &  9                  &  641                &  900                & 1301                & 1242                & 1530                & 1272                & HA                  &   51                & N384HA              & JFK                 & HNL                 & 640                 & 4983                &  9                  &  0                  & 2013-01-09 09:00:00\\\\\n",
       "\t 2013                & 6                   & 15                  & 1432                & 1935                & 1137                & 1607                & 2120                & 1127                & MQ                  & 3535                & N504MQ              & JFK                 & CMH                 &  74                 &  483                & 19                  & 35                  & 2013-06-15 19:00:00\\\\\n",
       "\t 2013                & 1                   & 10                  & 1121                & 1635                & 1126                & 1239                & 1810                & 1109                & MQ                  & 3695                & N517MQ              & EWR                 & ORD                 & 111                 &  719                & 16                  & 35                  & 2013-01-10 16:00:00\\\\\n",
       "\t 2013                & 9                   & 20                  & 1139                & 1845                & 1014                & 1457                & 2210                & 1007                & AA                  &  177                & N338AA              & JFK                 & SFO                 & 354                 & 2586                & 18                  & 45                  & 2013-09-20 18:00:00\\\\\n",
       "\t 2013                & 7                   & 22                  &  845                & 1600                & 1005                & 1044                & 1815                &  989                & MQ                  & 3075                & N665MQ              & JFK                 & CVG                 &  96                 &  589                & 16                  &  0                  & 2013-07-22 16:00:00\\\\\n",
       "\t 2013                & 4                   & 10                  & 1100                & 1900                &  960                & 1342                & 2211                &  931                & DL                  & 2391                & N959DL              & JFK                 & TPA                 & 139                 & 1005                & 19                  &  0                  & 2013-04-10 19:00:00\\\\\n",
       "\\end{tabular}\n"
      ],
      "text/markdown": [
       "\n",
       "| year | month | day | dep_time | sched_dep_time | dep_delay | arr_time | sched_arr_time | arr_delay | carrier | flight | tailnum | origin | dest | air_time | distance | hour | minute | time_hour |\n",
       "|---|---|---|---|---|---|---|---|---|---|---|---|---|---|---|---|---|---|---|\n",
       "| 2013                | 1                   |  9                  |  641                |  900                | 1301                | 1242                | 1530                | 1272                | HA                  |   51                | N384HA              | JFK                 | HNL                 | 640                 | 4983                |  9                  |  0                  | 2013-01-09 09:00:00 |\n",
       "| 2013                | 6                   | 15                  | 1432                | 1935                | 1137                | 1607                | 2120                | 1127                | MQ                  | 3535                | N504MQ              | JFK                 | CMH                 |  74                 |  483                | 19                  | 35                  | 2013-06-15 19:00:00 |\n",
       "| 2013                | 1                   | 10                  | 1121                | 1635                | 1126                | 1239                | 1810                | 1109                | MQ                  | 3695                | N517MQ              | EWR                 | ORD                 | 111                 |  719                | 16                  | 35                  | 2013-01-10 16:00:00 |\n",
       "| 2013                | 9                   | 20                  | 1139                | 1845                | 1014                | 1457                | 2210                | 1007                | AA                  |  177                | N338AA              | JFK                 | SFO                 | 354                 | 2586                | 18                  | 45                  | 2013-09-20 18:00:00 |\n",
       "| 2013                | 7                   | 22                  |  845                | 1600                | 1005                | 1044                | 1815                |  989                | MQ                  | 3075                | N665MQ              | JFK                 | CVG                 |  96                 |  589                | 16                  |  0                  | 2013-07-22 16:00:00 |\n",
       "| 2013                | 4                   | 10                  | 1100                | 1900                |  960                | 1342                | 2211                |  931                | DL                  | 2391                | N959DL              | JFK                 | TPA                 | 139                 | 1005                | 19                  |  0                  | 2013-04-10 19:00:00 |\n",
       "\n"
      ],
      "text/plain": [
       "  year month day dep_time sched_dep_time dep_delay arr_time sched_arr_time\n",
       "1 2013 1      9   641      900           1301      1242     1530          \n",
       "2 2013 6     15  1432     1935           1137      1607     2120          \n",
       "3 2013 1     10  1121     1635           1126      1239     1810          \n",
       "4 2013 9     20  1139     1845           1014      1457     2210          \n",
       "5 2013 7     22   845     1600           1005      1044     1815          \n",
       "6 2013 4     10  1100     1900            960      1342     2211          \n",
       "  arr_delay carrier flight tailnum origin dest air_time distance hour minute\n",
       "1 1272      HA        51   N384HA  JFK    HNL  640      4983      9    0    \n",
       "2 1127      MQ      3535   N504MQ  JFK    CMH   74       483     19   35    \n",
       "3 1109      MQ      3695   N517MQ  EWR    ORD  111       719     16   35    \n",
       "4 1007      AA       177   N338AA  JFK    SFO  354      2586     18   45    \n",
       "5  989      MQ      3075   N665MQ  JFK    CVG   96       589     16    0    \n",
       "6  931      DL      2391   N959DL  JFK    TPA  139      1005     19    0    \n",
       "  time_hour          \n",
       "1 2013-01-09 09:00:00\n",
       "2 2013-06-15 19:00:00\n",
       "3 2013-01-10 16:00:00\n",
       "4 2013-09-20 18:00:00\n",
       "5 2013-07-22 16:00:00\n",
       "6 2013-04-10 19:00:00"
      ]
     },
     "metadata": {},
     "output_type": "display_data"
    }
   ],
   "source": [
    "head(arrange(flights, desc(arr_delay)))"
   ]
  },
  {
   "cell_type": "markdown",
   "id": "71e783ca",
   "metadata": {},
   "source": [
    "Note <- Missing values (\"NA\") are always sorted at the end, irrespective of the order (i.e. either ascending or descending)."
   ]
  },
  {
   "cell_type": "code",
   "execution_count": 16,
   "id": "e1614d59",
   "metadata": {},
   "outputs": [
    {
     "data": {
      "text/html": [
       "<table>\n",
       "<thead><tr><th scope=col>year</th><th scope=col>month</th><th scope=col>day</th><th scope=col>dep_time</th><th scope=col>sched_dep_time</th><th scope=col>dep_delay</th><th scope=col>arr_time</th><th scope=col>sched_arr_time</th><th scope=col>arr_delay</th><th scope=col>carrier</th><th scope=col>flight</th><th scope=col>tailnum</th><th scope=col>origin</th><th scope=col>dest</th><th scope=col>air_time</th><th scope=col>distance</th><th scope=col>hour</th><th scope=col>minute</th><th scope=col>time_hour</th></tr></thead>\n",
       "<tbody>\n",
       "\t<tr><td>2013               </td><td>1                  </td><td>1                  </td><td>NA                 </td><td>1630               </td><td>NA                 </td><td>NA                 </td><td>1815               </td><td>NA                 </td><td>EV                 </td><td>4308               </td><td>N18120             </td><td>EWR                </td><td>RDU                </td><td>NA                 </td><td> 416               </td><td>16                 </td><td>30                 </td><td>2013-01-01 16:00:00</td></tr>\n",
       "\t<tr><td>2013               </td><td>1                  </td><td>1                  </td><td>NA                 </td><td>1935               </td><td>NA                 </td><td>NA                 </td><td>2240               </td><td>NA                 </td><td>AA                 </td><td> 791               </td><td>N3EHAA             </td><td>LGA                </td><td>DFW                </td><td>NA                 </td><td>1389               </td><td>19                 </td><td>35                 </td><td>2013-01-01 19:00:00</td></tr>\n",
       "\t<tr><td>2013               </td><td>1                  </td><td>1                  </td><td>NA                 </td><td>1500               </td><td>NA                 </td><td>NA                 </td><td>1825               </td><td>NA                 </td><td>AA                 </td><td>1925               </td><td>N3EVAA             </td><td>LGA                </td><td>MIA                </td><td>NA                 </td><td>1096               </td><td>15                 </td><td> 0                 </td><td>2013-01-01 15:00:00</td></tr>\n",
       "\t<tr><td>2013               </td><td>1                  </td><td>1                  </td><td>NA                 </td><td> 600               </td><td>NA                 </td><td>NA                 </td><td> 901               </td><td>NA                 </td><td>B6                 </td><td> 125               </td><td>N618JB             </td><td>JFK                </td><td>FLL                </td><td>NA                 </td><td>1069               </td><td> 6                 </td><td> 0                 </td><td>2013-01-01 06:00:00</td></tr>\n",
       "\t<tr><td>2013               </td><td>1                  </td><td>2                  </td><td>NA                 </td><td>1540               </td><td>NA                 </td><td>NA                 </td><td>1747               </td><td>NA                 </td><td>EV                 </td><td>4352               </td><td>N10575             </td><td>EWR                </td><td>CVG                </td><td>NA                 </td><td> 569               </td><td>15                 </td><td>40                 </td><td>2013-01-02 15:00:00</td></tr>\n",
       "\t<tr><td>2013               </td><td>1                  </td><td>2                  </td><td>NA                 </td><td>1620               </td><td>NA                 </td><td>NA                 </td><td>1746               </td><td>NA                 </td><td>EV                 </td><td>4406               </td><td>N13949             </td><td>EWR                </td><td>PIT                </td><td>NA                 </td><td> 319               </td><td>16                 </td><td>20                 </td><td>2013-01-02 16:00:00</td></tr>\n",
       "</tbody>\n",
       "</table>\n"
      ],
      "text/latex": [
       "\\begin{tabular}{r|lllllllllllllllllll}\n",
       " year & month & day & dep\\_time & sched\\_dep\\_time & dep\\_delay & arr\\_time & sched\\_arr\\_time & arr\\_delay & carrier & flight & tailnum & origin & dest & air\\_time & distance & hour & minute & time\\_hour\\\\\n",
       "\\hline\n",
       "\t 2013                & 1                   & 1                   & NA                  & 1630                & NA                  & NA                  & 1815                & NA                  & EV                  & 4308                & N18120              & EWR                 & RDU                 & NA                  &  416                & 16                  & 30                  & 2013-01-01 16:00:00\\\\\n",
       "\t 2013                & 1                   & 1                   & NA                  & 1935                & NA                  & NA                  & 2240                & NA                  & AA                  &  791                & N3EHAA              & LGA                 & DFW                 & NA                  & 1389                & 19                  & 35                  & 2013-01-01 19:00:00\\\\\n",
       "\t 2013                & 1                   & 1                   & NA                  & 1500                & NA                  & NA                  & 1825                & NA                  & AA                  & 1925                & N3EVAA              & LGA                 & MIA                 & NA                  & 1096                & 15                  &  0                  & 2013-01-01 15:00:00\\\\\n",
       "\t 2013                & 1                   & 1                   & NA                  &  600                & NA                  & NA                  &  901                & NA                  & B6                  &  125                & N618JB              & JFK                 & FLL                 & NA                  & 1069                &  6                  &  0                  & 2013-01-01 06:00:00\\\\\n",
       "\t 2013                & 1                   & 2                   & NA                  & 1540                & NA                  & NA                  & 1747                & NA                  & EV                  & 4352                & N10575              & EWR                 & CVG                 & NA                  &  569                & 15                  & 40                  & 2013-01-02 15:00:00\\\\\n",
       "\t 2013                & 1                   & 2                   & NA                  & 1620                & NA                  & NA                  & 1746                & NA                  & EV                  & 4406                & N13949              & EWR                 & PIT                 & NA                  &  319                & 16                  & 20                  & 2013-01-02 16:00:00\\\\\n",
       "\\end{tabular}\n"
      ],
      "text/markdown": [
       "\n",
       "| year | month | day | dep_time | sched_dep_time | dep_delay | arr_time | sched_arr_time | arr_delay | carrier | flight | tailnum | origin | dest | air_time | distance | hour | minute | time_hour |\n",
       "|---|---|---|---|---|---|---|---|---|---|---|---|---|---|---|---|---|---|---|\n",
       "| 2013                | 1                   | 1                   | NA                  | 1630                | NA                  | NA                  | 1815                | NA                  | EV                  | 4308                | N18120              | EWR                 | RDU                 | NA                  |  416                | 16                  | 30                  | 2013-01-01 16:00:00 |\n",
       "| 2013                | 1                   | 1                   | NA                  | 1935                | NA                  | NA                  | 2240                | NA                  | AA                  |  791                | N3EHAA              | LGA                 | DFW                 | NA                  | 1389                | 19                  | 35                  | 2013-01-01 19:00:00 |\n",
       "| 2013                | 1                   | 1                   | NA                  | 1500                | NA                  | NA                  | 1825                | NA                  | AA                  | 1925                | N3EVAA              | LGA                 | MIA                 | NA                  | 1096                | 15                  |  0                  | 2013-01-01 15:00:00 |\n",
       "| 2013                | 1                   | 1                   | NA                  |  600                | NA                  | NA                  |  901                | NA                  | B6                  |  125                | N618JB              | JFK                 | FLL                 | NA                  | 1069                |  6                  |  0                  | 2013-01-01 06:00:00 |\n",
       "| 2013                | 1                   | 2                   | NA                  | 1540                | NA                  | NA                  | 1747                | NA                  | EV                  | 4352                | N10575              | EWR                 | CVG                 | NA                  |  569                | 15                  | 40                  | 2013-01-02 15:00:00 |\n",
       "| 2013                | 1                   | 2                   | NA                  | 1620                | NA                  | NA                  | 1746                | NA                  | EV                  | 4406                | N13949              | EWR                 | PIT                 | NA                  |  319                | 16                  | 20                  | 2013-01-02 16:00:00 |\n",
       "\n"
      ],
      "text/plain": [
       "  year month day dep_time sched_dep_time dep_delay arr_time sched_arr_time\n",
       "1 2013 1     1   NA       1630           NA        NA       1815          \n",
       "2 2013 1     1   NA       1935           NA        NA       2240          \n",
       "3 2013 1     1   NA       1500           NA        NA       1825          \n",
       "4 2013 1     1   NA        600           NA        NA        901          \n",
       "5 2013 1     2   NA       1540           NA        NA       1747          \n",
       "6 2013 1     2   NA       1620           NA        NA       1746          \n",
       "  arr_delay carrier flight tailnum origin dest air_time distance hour minute\n",
       "1 NA        EV      4308   N18120  EWR    RDU  NA        416     16   30    \n",
       "2 NA        AA       791   N3EHAA  LGA    DFW  NA       1389     19   35    \n",
       "3 NA        AA      1925   N3EVAA  LGA    MIA  NA       1096     15    0    \n",
       "4 NA        B6       125   N618JB  JFK    FLL  NA       1069      6    0    \n",
       "5 NA        EV      4352   N10575  EWR    CVG  NA        569     15   40    \n",
       "6 NA        EV      4406   N13949  EWR    PIT  NA        319     16   20    \n",
       "  time_hour          \n",
       "1 2013-01-01 16:00:00\n",
       "2 2013-01-01 19:00:00\n",
       "3 2013-01-01 15:00:00\n",
       "4 2013-01-01 06:00:00\n",
       "5 2013-01-02 15:00:00\n",
       "6 2013-01-02 16:00:00"
      ]
     },
     "metadata": {},
     "output_type": "display_data"
    }
   ],
   "source": [
    "head(arrange(flights, desc(is.na(dep_time))))"
   ]
  },
  {
   "cell_type": "markdown",
   "id": "c375b239",
   "metadata": {},
   "source": [
    "Since, is.na(dep_time) can take only two values either, i.e. TRUE or FALSE (where, FALSE < TRUE). Now, desc() function on the top of is.na() will sort the rows so that, rows with dep_time == \"NA\" come up first."
   ]
  },
  {
   "cell_type": "code",
   "execution_count": 17,
   "id": "73293dfa",
   "metadata": {},
   "outputs": [
    {
     "data": {
      "text/html": [
       "<table>\n",
       "<thead><tr><th scope=col>year</th><th scope=col>month</th><th scope=col>day</th><th scope=col>dep_time</th><th scope=col>sched_dep_time</th><th scope=col>dep_delay</th><th scope=col>arr_time</th><th scope=col>sched_arr_time</th><th scope=col>arr_delay</th><th scope=col>carrier</th><th scope=col>flight</th><th scope=col>tailnum</th><th scope=col>origin</th><th scope=col>dest</th><th scope=col>air_time</th><th scope=col>distance</th><th scope=col>hour</th><th scope=col>minute</th><th scope=col>time_hour</th></tr></thead>\n",
       "<tbody>\n",
       "\t<tr><td>2013               </td><td>1                  </td><td> 9                 </td><td> 641               </td><td> 900               </td><td>1301               </td><td>1242               </td><td>1530               </td><td>1272               </td><td>HA                 </td><td>  51               </td><td>N384HA             </td><td>JFK                </td><td>HNL                </td><td>640                </td><td>4983               </td><td> 9                 </td><td> 0                 </td><td>2013-01-09 09:00:00</td></tr>\n",
       "\t<tr><td>2013               </td><td>6                  </td><td>15                 </td><td>1432               </td><td>1935               </td><td>1137               </td><td>1607               </td><td>2120               </td><td>1127               </td><td>MQ                 </td><td>3535               </td><td>N504MQ             </td><td>JFK                </td><td>CMH                </td><td> 74                </td><td> 483               </td><td>19                 </td><td>35                 </td><td>2013-06-15 19:00:00</td></tr>\n",
       "\t<tr><td>2013               </td><td>1                  </td><td>10                 </td><td>1121               </td><td>1635               </td><td>1126               </td><td>1239               </td><td>1810               </td><td>1109               </td><td>MQ                 </td><td>3695               </td><td>N517MQ             </td><td>EWR                </td><td>ORD                </td><td>111                </td><td> 719               </td><td>16                 </td><td>35                 </td><td>2013-01-10 16:00:00</td></tr>\n",
       "\t<tr><td>2013               </td><td>9                  </td><td>20                 </td><td>1139               </td><td>1845               </td><td>1014               </td><td>1457               </td><td>2210               </td><td>1007               </td><td>AA                 </td><td> 177               </td><td>N338AA             </td><td>JFK                </td><td>SFO                </td><td>354                </td><td>2586               </td><td>18                 </td><td>45                 </td><td>2013-09-20 18:00:00</td></tr>\n",
       "\t<tr><td>2013               </td><td>7                  </td><td>22                 </td><td> 845               </td><td>1600               </td><td>1005               </td><td>1044               </td><td>1815               </td><td> 989               </td><td>MQ                 </td><td>3075               </td><td>N665MQ             </td><td>JFK                </td><td>CVG                </td><td> 96                </td><td> 589               </td><td>16                 </td><td> 0                 </td><td>2013-07-22 16:00:00</td></tr>\n",
       "\t<tr><td>2013               </td><td>4                  </td><td>10                 </td><td>1100               </td><td>1900               </td><td> 960               </td><td>1342               </td><td>2211               </td><td> 931               </td><td>DL                 </td><td>2391               </td><td>N959DL             </td><td>JFK                </td><td>TPA                </td><td>139                </td><td>1005               </td><td>19                 </td><td> 0                 </td><td>2013-04-10 19:00:00</td></tr>\n",
       "</tbody>\n",
       "</table>\n"
      ],
      "text/latex": [
       "\\begin{tabular}{r|lllllllllllllllllll}\n",
       " year & month & day & dep\\_time & sched\\_dep\\_time & dep\\_delay & arr\\_time & sched\\_arr\\_time & arr\\_delay & carrier & flight & tailnum & origin & dest & air\\_time & distance & hour & minute & time\\_hour\\\\\n",
       "\\hline\n",
       "\t 2013                & 1                   &  9                  &  641                &  900                & 1301                & 1242                & 1530                & 1272                & HA                  &   51                & N384HA              & JFK                 & HNL                 & 640                 & 4983                &  9                  &  0                  & 2013-01-09 09:00:00\\\\\n",
       "\t 2013                & 6                   & 15                  & 1432                & 1935                & 1137                & 1607                & 2120                & 1127                & MQ                  & 3535                & N504MQ              & JFK                 & CMH                 &  74                 &  483                & 19                  & 35                  & 2013-06-15 19:00:00\\\\\n",
       "\t 2013                & 1                   & 10                  & 1121                & 1635                & 1126                & 1239                & 1810                & 1109                & MQ                  & 3695                & N517MQ              & EWR                 & ORD                 & 111                 &  719                & 16                  & 35                  & 2013-01-10 16:00:00\\\\\n",
       "\t 2013                & 9                   & 20                  & 1139                & 1845                & 1014                & 1457                & 2210                & 1007                & AA                  &  177                & N338AA              & JFK                 & SFO                 & 354                 & 2586                & 18                  & 45                  & 2013-09-20 18:00:00\\\\\n",
       "\t 2013                & 7                   & 22                  &  845                & 1600                & 1005                & 1044                & 1815                &  989                & MQ                  & 3075                & N665MQ              & JFK                 & CVG                 &  96                 &  589                & 16                  &  0                  & 2013-07-22 16:00:00\\\\\n",
       "\t 2013                & 4                   & 10                  & 1100                & 1900                &  960                & 1342                & 2211                &  931                & DL                  & 2391                & N959DL              & JFK                 & TPA                 & 139                 & 1005                & 19                  &  0                  & 2013-04-10 19:00:00\\\\\n",
       "\\end{tabular}\n"
      ],
      "text/markdown": [
       "\n",
       "| year | month | day | dep_time | sched_dep_time | dep_delay | arr_time | sched_arr_time | arr_delay | carrier | flight | tailnum | origin | dest | air_time | distance | hour | minute | time_hour |\n",
       "|---|---|---|---|---|---|---|---|---|---|---|---|---|---|---|---|---|---|---|\n",
       "| 2013                | 1                   |  9                  |  641                |  900                | 1301                | 1242                | 1530                | 1272                | HA                  |   51                | N384HA              | JFK                 | HNL                 | 640                 | 4983                |  9                  |  0                  | 2013-01-09 09:00:00 |\n",
       "| 2013                | 6                   | 15                  | 1432                | 1935                | 1137                | 1607                | 2120                | 1127                | MQ                  | 3535                | N504MQ              | JFK                 | CMH                 |  74                 |  483                | 19                  | 35                  | 2013-06-15 19:00:00 |\n",
       "| 2013                | 1                   | 10                  | 1121                | 1635                | 1126                | 1239                | 1810                | 1109                | MQ                  | 3695                | N517MQ              | EWR                 | ORD                 | 111                 |  719                | 16                  | 35                  | 2013-01-10 16:00:00 |\n",
       "| 2013                | 9                   | 20                  | 1139                | 1845                | 1014                | 1457                | 2210                | 1007                | AA                  |  177                | N338AA              | JFK                 | SFO                 | 354                 | 2586                | 18                  | 45                  | 2013-09-20 18:00:00 |\n",
       "| 2013                | 7                   | 22                  |  845                | 1600                | 1005                | 1044                | 1815                |  989                | MQ                  | 3075                | N665MQ              | JFK                 | CVG                 |  96                 |  589                | 16                  |  0                  | 2013-07-22 16:00:00 |\n",
       "| 2013                | 4                   | 10                  | 1100                | 1900                |  960                | 1342                | 2211                |  931                | DL                  | 2391                | N959DL              | JFK                 | TPA                 | 139                 | 1005                | 19                  |  0                  | 2013-04-10 19:00:00 |\n",
       "\n"
      ],
      "text/plain": [
       "  year month day dep_time sched_dep_time dep_delay arr_time sched_arr_time\n",
       "1 2013 1      9   641      900           1301      1242     1530          \n",
       "2 2013 6     15  1432     1935           1137      1607     2120          \n",
       "3 2013 1     10  1121     1635           1126      1239     1810          \n",
       "4 2013 9     20  1139     1845           1014      1457     2210          \n",
       "5 2013 7     22   845     1600           1005      1044     1815          \n",
       "6 2013 4     10  1100     1900            960      1342     2211          \n",
       "  arr_delay carrier flight tailnum origin dest air_time distance hour minute\n",
       "1 1272      HA        51   N384HA  JFK    HNL  640      4983      9    0    \n",
       "2 1127      MQ      3535   N504MQ  JFK    CMH   74       483     19   35    \n",
       "3 1109      MQ      3695   N517MQ  EWR    ORD  111       719     16   35    \n",
       "4 1007      AA       177   N338AA  JFK    SFO  354      2586     18   45    \n",
       "5  989      MQ      3075   N665MQ  JFK    CVG   96       589     16    0    \n",
       "6  931      DL      2391   N959DL  JFK    TPA  139      1005     19    0    \n",
       "  time_hour          \n",
       "1 2013-01-09 09:00:00\n",
       "2 2013-06-15 19:00:00\n",
       "3 2013-01-10 16:00:00\n",
       "4 2013-09-20 18:00:00\n",
       "5 2013-07-22 16:00:00\n",
       "6 2013-04-10 19:00:00"
      ]
     },
     "metadata": {},
     "output_type": "display_data"
    }
   ],
   "source": [
    "head(arrange(flights, desc(dep_delay), arr_delay))"
   ]
  },
  {
   "cell_type": "markdown",
   "id": "8c445539",
   "metadata": {},
   "source": [
    "Sorting flights on the basis of departure delay (most first) and using arrival delay (least first) as the tie-breaker."
   ]
  },
  {
   "cell_type": "code",
   "execution_count": 18,
   "id": "b1ff7ae9",
   "metadata": {},
   "outputs": [
    {
     "data": {
      "text/html": [
       "<table>\n",
       "<thead><tr><th scope=col>year</th><th scope=col>month</th><th scope=col>day</th><th scope=col>dep_time</th><th scope=col>sched_dep_time</th><th scope=col>dep_delay</th><th scope=col>arr_time</th><th scope=col>sched_arr_time</th><th scope=col>arr_delay</th><th scope=col>carrier</th><th scope=col>flight</th><th scope=col>tailnum</th><th scope=col>origin</th><th scope=col>dest</th><th scope=col>air_time</th><th scope=col>distance</th><th scope=col>hour</th><th scope=col>minute</th><th scope=col>time_hour</th></tr></thead>\n",
       "<tbody>\n",
       "\t<tr><td>2013               </td><td> 5                 </td><td>25                 </td><td>1709               </td><td>1700               </td><td> 9                 </td><td>1923               </td><td>1937               </td><td>-14                </td><td>DL                 </td><td>1499               </td><td>N666DN             </td><td>LGA                </td><td>ATL                </td><td> 65                </td><td> 762               </td><td>17                 </td><td> 0                 </td><td>2013-05-25 17:00:00</td></tr>\n",
       "\t<tr><td>2013               </td><td> 7                 </td><td> 2                 </td><td>1558               </td><td>1513               </td><td>45                 </td><td>1745               </td><td>1719               </td><td> 26                </td><td>EV                 </td><td>4667               </td><td>N17196             </td><td>EWR                </td><td>MSP                </td><td> 93                </td><td>1008               </td><td>15                 </td><td>13                 </td><td>2013-07-02 15:00:00</td></tr>\n",
       "\t<tr><td>2013               </td><td> 5                 </td><td>13                 </td><td>2040               </td><td>2025               </td><td>15                 </td><td>2225               </td><td>2226               </td><td> -1                </td><td>EV                 </td><td>4292               </td><td>N14568             </td><td>EWR                </td><td>GSP                </td><td> 55                </td><td> 594               </td><td>20                 </td><td>25                 </td><td>2013-05-13 20:00:00</td></tr>\n",
       "\t<tr><td>2013               </td><td> 3                 </td><td>23                 </td><td>1914               </td><td>1910               </td><td> 4                 </td><td>2045               </td><td>2043               </td><td>  2                </td><td>EV                 </td><td>3805               </td><td>N12567             </td><td>EWR                </td><td>BNA                </td><td> 70                </td><td> 748               </td><td>19                 </td><td>10                 </td><td>2013-03-23 19:00:00</td></tr>\n",
       "\t<tr><td>2013               </td><td> 1                 </td><td>12                 </td><td>1559               </td><td>1600               </td><td>-1                 </td><td>1849               </td><td>1917               </td><td>-28                </td><td>DL                 </td><td>1902               </td><td>N956DL             </td><td>LGA                </td><td>PBI                </td><td>105                </td><td>1035               </td><td>16                 </td><td> 0                 </td><td>2013-01-12 16:00:00</td></tr>\n",
       "\t<tr><td>2013               </td><td>11                 </td><td>17                 </td><td> 650               </td><td> 655               </td><td>-5                 </td><td>1059               </td><td>1150               </td><td>-51                </td><td>DL                 </td><td> 315               </td><td>N3768              </td><td>JFK                </td><td>SJU                </td><td>170                </td><td>1598               </td><td> 6                 </td><td>55                 </td><td>2013-11-17 06:00:00</td></tr>\n",
       "</tbody>\n",
       "</table>\n"
      ],
      "text/latex": [
       "\\begin{tabular}{r|lllllllllllllllllll}\n",
       " year & month & day & dep\\_time & sched\\_dep\\_time & dep\\_delay & arr\\_time & sched\\_arr\\_time & arr\\_delay & carrier & flight & tailnum & origin & dest & air\\_time & distance & hour & minute & time\\_hour\\\\\n",
       "\\hline\n",
       "\t 2013                &  5                  & 25                  & 1709                & 1700                &  9                  & 1923                & 1937                & -14                 & DL                  & 1499                & N666DN              & LGA                 & ATL                 &  65                 &  762                & 17                  &  0                  & 2013-05-25 17:00:00\\\\\n",
       "\t 2013                &  7                  &  2                  & 1558                & 1513                & 45                  & 1745                & 1719                &  26                 & EV                  & 4667                & N17196              & EWR                 & MSP                 &  93                 & 1008                & 15                  & 13                  & 2013-07-02 15:00:00\\\\\n",
       "\t 2013                &  5                  & 13                  & 2040                & 2025                & 15                  & 2225                & 2226                &  -1                 & EV                  & 4292                & N14568              & EWR                 & GSP                 &  55                 &  594                & 20                  & 25                  & 2013-05-13 20:00:00\\\\\n",
       "\t 2013                &  3                  & 23                  & 1914                & 1910                &  4                  & 2045                & 2043                &   2                 & EV                  & 3805                & N12567              & EWR                 & BNA                 &  70                 &  748                & 19                  & 10                  & 2013-03-23 19:00:00\\\\\n",
       "\t 2013                &  1                  & 12                  & 1559                & 1600                & -1                  & 1849                & 1917                & -28                 & DL                  & 1902                & N956DL              & LGA                 & PBI                 & 105                 & 1035                & 16                  &  0                  & 2013-01-12 16:00:00\\\\\n",
       "\t 2013                & 11                  & 17                  &  650                &  655                & -5                  & 1059                & 1150                & -51                 & DL                  &  315                & N3768               & JFK                 & SJU                 & 170                 & 1598                &  6                  & 55                  & 2013-11-17 06:00:00\\\\\n",
       "\\end{tabular}\n"
      ],
      "text/markdown": [
       "\n",
       "| year | month | day | dep_time | sched_dep_time | dep_delay | arr_time | sched_arr_time | arr_delay | carrier | flight | tailnum | origin | dest | air_time | distance | hour | minute | time_hour |\n",
       "|---|---|---|---|---|---|---|---|---|---|---|---|---|---|---|---|---|---|---|\n",
       "| 2013                |  5                  | 25                  | 1709                | 1700                |  9                  | 1923                | 1937                | -14                 | DL                  | 1499                | N666DN              | LGA                 | ATL                 |  65                 |  762                | 17                  |  0                  | 2013-05-25 17:00:00 |\n",
       "| 2013                |  7                  |  2                  | 1558                | 1513                | 45                  | 1745                | 1719                |  26                 | EV                  | 4667                | N17196              | EWR                 | MSP                 |  93                 | 1008                | 15                  | 13                  | 2013-07-02 15:00:00 |\n",
       "| 2013                |  5                  | 13                  | 2040                | 2025                | 15                  | 2225                | 2226                |  -1                 | EV                  | 4292                | N14568              | EWR                 | GSP                 |  55                 |  594                | 20                  | 25                  | 2013-05-13 20:00:00 |\n",
       "| 2013                |  3                  | 23                  | 1914                | 1910                |  4                  | 2045                | 2043                |   2                 | EV                  | 3805                | N12567              | EWR                 | BNA                 |  70                 |  748                | 19                  | 10                  | 2013-03-23 19:00:00 |\n",
       "| 2013                |  1                  | 12                  | 1559                | 1600                | -1                  | 1849                | 1917                | -28                 | DL                  | 1902                | N956DL              | LGA                 | PBI                 | 105                 | 1035                | 16                  |  0                  | 2013-01-12 16:00:00 |\n",
       "| 2013                | 11                  | 17                  |  650                |  655                | -5                  | 1059                | 1150                | -51                 | DL                  |  315                | N3768               | JFK                 | SJU                 | 170                 | 1598                |  6                  | 55                  | 2013-11-17 06:00:00 |\n",
       "\n"
      ],
      "text/plain": [
       "  year month day dep_time sched_dep_time dep_delay arr_time sched_arr_time\n",
       "1 2013  5    25  1709     1700            9        1923     1937          \n",
       "2 2013  7     2  1558     1513           45        1745     1719          \n",
       "3 2013  5    13  2040     2025           15        2225     2226          \n",
       "4 2013  3    23  1914     1910            4        2045     2043          \n",
       "5 2013  1    12  1559     1600           -1        1849     1917          \n",
       "6 2013 11    17   650      655           -5        1059     1150          \n",
       "  arr_delay carrier flight tailnum origin dest air_time distance hour minute\n",
       "1 -14       DL      1499   N666DN  LGA    ATL   65       762     17    0    \n",
       "2  26       EV      4667   N17196  EWR    MSP   93      1008     15   13    \n",
       "3  -1       EV      4292   N14568  EWR    GSP   55       594     20   25    \n",
       "4   2       EV      3805   N12567  EWR    BNA   70       748     19   10    \n",
       "5 -28       DL      1902   N956DL  LGA    PBI  105      1035     16    0    \n",
       "6 -51       DL       315   N3768   JFK    SJU  170      1598      6   55    \n",
       "  time_hour          \n",
       "1 2013-05-25 17:00:00\n",
       "2 2013-07-02 15:00:00\n",
       "3 2013-05-13 20:00:00\n",
       "4 2013-03-23 19:00:00\n",
       "5 2013-01-12 16:00:00\n",
       "6 2013-11-17 06:00:00"
      ]
     },
     "metadata": {},
     "output_type": "display_data"
    }
   ],
   "source": [
    "head(arrange(flights, desc(distance/air_time))) # flights travelling at the fastest speed"
   ]
  },
  {
   "cell_type": "code",
   "execution_count": 19,
   "id": "0beff880",
   "metadata": {},
   "outputs": [
    {
     "data": {
      "text/html": [
       "<table>\n",
       "<thead><tr><th scope=col>year</th><th scope=col>month</th><th scope=col>day</th><th scope=col>dep_time</th><th scope=col>sched_dep_time</th><th scope=col>dep_delay</th><th scope=col>arr_time</th><th scope=col>sched_arr_time</th><th scope=col>arr_delay</th><th scope=col>carrier</th><th scope=col>flight</th><th scope=col>tailnum</th><th scope=col>origin</th><th scope=col>dest</th><th scope=col>air_time</th><th scope=col>distance</th><th scope=col>hour</th><th scope=col>minute</th><th scope=col>time_hour</th></tr></thead>\n",
       "<tbody>\n",
       "\t<tr><td>2013               </td><td>1                  </td><td>1                  </td><td> 857               </td><td>900                </td><td>-3                 </td><td>1516               </td><td>1530               </td><td>-14                </td><td>HA                 </td><td>51                 </td><td>N380HA             </td><td>JFK                </td><td>HNL                </td><td>659                </td><td>4983               </td><td>9                  </td><td>0                  </td><td>2013-01-01 09:00:00</td></tr>\n",
       "\t<tr><td>2013               </td><td>1                  </td><td>2                  </td><td> 909               </td><td>900                </td><td> 9                 </td><td>1525               </td><td>1530               </td><td> -5                </td><td>HA                 </td><td>51                 </td><td>N380HA             </td><td>JFK                </td><td>HNL                </td><td>638                </td><td>4983               </td><td>9                  </td><td>0                  </td><td>2013-01-02 09:00:00</td></tr>\n",
       "\t<tr><td>2013               </td><td>1                  </td><td>3                  </td><td> 914               </td><td>900                </td><td>14                 </td><td>1504               </td><td>1530               </td><td>-26                </td><td>HA                 </td><td>51                 </td><td>N380HA             </td><td>JFK                </td><td>HNL                </td><td>616                </td><td>4983               </td><td>9                  </td><td>0                  </td><td>2013-01-03 09:00:00</td></tr>\n",
       "\t<tr><td>2013               </td><td>1                  </td><td>4                  </td><td> 900               </td><td>900                </td><td> 0                 </td><td>1516               </td><td>1530               </td><td>-14                </td><td>HA                 </td><td>51                 </td><td>N384HA             </td><td>JFK                </td><td>HNL                </td><td>639                </td><td>4983               </td><td>9                  </td><td>0                  </td><td>2013-01-04 09:00:00</td></tr>\n",
       "\t<tr><td>2013               </td><td>1                  </td><td>5                  </td><td> 858               </td><td>900                </td><td>-2                 </td><td>1519               </td><td>1530               </td><td>-11                </td><td>HA                 </td><td>51                 </td><td>N381HA             </td><td>JFK                </td><td>HNL                </td><td>635                </td><td>4983               </td><td>9                  </td><td>0                  </td><td>2013-01-05 09:00:00</td></tr>\n",
       "\t<tr><td>2013               </td><td>1                  </td><td>6                  </td><td>1019               </td><td>900                </td><td>79                 </td><td>1558               </td><td>1530               </td><td> 28                </td><td>HA                 </td><td>51                 </td><td>N385HA             </td><td>JFK                </td><td>HNL                </td><td>611                </td><td>4983               </td><td>9                  </td><td>0                  </td><td>2013-01-06 09:00:00</td></tr>\n",
       "</tbody>\n",
       "</table>\n"
      ],
      "text/latex": [
       "\\begin{tabular}{r|lllllllllllllllllll}\n",
       " year & month & day & dep\\_time & sched\\_dep\\_time & dep\\_delay & arr\\_time & sched\\_arr\\_time & arr\\_delay & carrier & flight & tailnum & origin & dest & air\\_time & distance & hour & minute & time\\_hour\\\\\n",
       "\\hline\n",
       "\t 2013                & 1                   & 1                   &  857                & 900                 & -3                  & 1516                & 1530                & -14                 & HA                  & 51                  & N380HA              & JFK                 & HNL                 & 659                 & 4983                & 9                   & 0                   & 2013-01-01 09:00:00\\\\\n",
       "\t 2013                & 1                   & 2                   &  909                & 900                 &  9                  & 1525                & 1530                &  -5                 & HA                  & 51                  & N380HA              & JFK                 & HNL                 & 638                 & 4983                & 9                   & 0                   & 2013-01-02 09:00:00\\\\\n",
       "\t 2013                & 1                   & 3                   &  914                & 900                 & 14                  & 1504                & 1530                & -26                 & HA                  & 51                  & N380HA              & JFK                 & HNL                 & 616                 & 4983                & 9                   & 0                   & 2013-01-03 09:00:00\\\\\n",
       "\t 2013                & 1                   & 4                   &  900                & 900                 &  0                  & 1516                & 1530                & -14                 & HA                  & 51                  & N384HA              & JFK                 & HNL                 & 639                 & 4983                & 9                   & 0                   & 2013-01-04 09:00:00\\\\\n",
       "\t 2013                & 1                   & 5                   &  858                & 900                 & -2                  & 1519                & 1530                & -11                 & HA                  & 51                  & N381HA              & JFK                 & HNL                 & 635                 & 4983                & 9                   & 0                   & 2013-01-05 09:00:00\\\\\n",
       "\t 2013                & 1                   & 6                   & 1019                & 900                 & 79                  & 1558                & 1530                &  28                 & HA                  & 51                  & N385HA              & JFK                 & HNL                 & 611                 & 4983                & 9                   & 0                   & 2013-01-06 09:00:00\\\\\n",
       "\\end{tabular}\n"
      ],
      "text/markdown": [
       "\n",
       "| year | month | day | dep_time | sched_dep_time | dep_delay | arr_time | sched_arr_time | arr_delay | carrier | flight | tailnum | origin | dest | air_time | distance | hour | minute | time_hour |\n",
       "|---|---|---|---|---|---|---|---|---|---|---|---|---|---|---|---|---|---|---|\n",
       "| 2013                | 1                   | 1                   |  857                | 900                 | -3                  | 1516                | 1530                | -14                 | HA                  | 51                  | N380HA              | JFK                 | HNL                 | 659                 | 4983                | 9                   | 0                   | 2013-01-01 09:00:00 |\n",
       "| 2013                | 1                   | 2                   |  909                | 900                 |  9                  | 1525                | 1530                |  -5                 | HA                  | 51                  | N380HA              | JFK                 | HNL                 | 638                 | 4983                | 9                   | 0                   | 2013-01-02 09:00:00 |\n",
       "| 2013                | 1                   | 3                   |  914                | 900                 | 14                  | 1504                | 1530                | -26                 | HA                  | 51                  | N380HA              | JFK                 | HNL                 | 616                 | 4983                | 9                   | 0                   | 2013-01-03 09:00:00 |\n",
       "| 2013                | 1                   | 4                   |  900                | 900                 |  0                  | 1516                | 1530                | -14                 | HA                  | 51                  | N384HA              | JFK                 | HNL                 | 639                 | 4983                | 9                   | 0                   | 2013-01-04 09:00:00 |\n",
       "| 2013                | 1                   | 5                   |  858                | 900                 | -2                  | 1519                | 1530                | -11                 | HA                  | 51                  | N381HA              | JFK                 | HNL                 | 635                 | 4983                | 9                   | 0                   | 2013-01-05 09:00:00 |\n",
       "| 2013                | 1                   | 6                   | 1019                | 900                 | 79                  | 1558                | 1530                |  28                 | HA                  | 51                  | N385HA              | JFK                 | HNL                 | 611                 | 4983                | 9                   | 0                   | 2013-01-06 09:00:00 |\n",
       "\n"
      ],
      "text/plain": [
       "  year month day dep_time sched_dep_time dep_delay arr_time sched_arr_time\n",
       "1 2013 1     1    857     900            -3        1516     1530          \n",
       "2 2013 1     2    909     900             9        1525     1530          \n",
       "3 2013 1     3    914     900            14        1504     1530          \n",
       "4 2013 1     4    900     900             0        1516     1530          \n",
       "5 2013 1     5    858     900            -2        1519     1530          \n",
       "6 2013 1     6   1019     900            79        1558     1530          \n",
       "  arr_delay carrier flight tailnum origin dest air_time distance hour minute\n",
       "1 -14       HA      51     N380HA  JFK    HNL  659      4983     9    0     \n",
       "2  -5       HA      51     N380HA  JFK    HNL  638      4983     9    0     \n",
       "3 -26       HA      51     N380HA  JFK    HNL  616      4983     9    0     \n",
       "4 -14       HA      51     N384HA  JFK    HNL  639      4983     9    0     \n",
       "5 -11       HA      51     N381HA  JFK    HNL  635      4983     9    0     \n",
       "6  28       HA      51     N385HA  JFK    HNL  611      4983     9    0     \n",
       "  time_hour          \n",
       "1 2013-01-01 09:00:00\n",
       "2 2013-01-02 09:00:00\n",
       "3 2013-01-03 09:00:00\n",
       "4 2013-01-04 09:00:00\n",
       "5 2013-01-05 09:00:00\n",
       "6 2013-01-06 09:00:00"
      ]
     },
     "metadata": {},
     "output_type": "display_data"
    }
   ],
   "source": [
    "head(arrange(flights, desc(distance))) # longest distance flights"
   ]
  },
  {
   "cell_type": "code",
   "execution_count": 20,
   "id": "43eea4a1",
   "metadata": {},
   "outputs": [
    {
     "data": {
      "text/html": [
       "<table>\n",
       "<thead><tr><th scope=col>year</th><th scope=col>month</th><th scope=col>day</th><th scope=col>dep_time</th><th scope=col>sched_dep_time</th><th scope=col>dep_delay</th><th scope=col>arr_time</th><th scope=col>sched_arr_time</th><th scope=col>arr_delay</th><th scope=col>carrier</th><th scope=col>flight</th><th scope=col>tailnum</th><th scope=col>origin</th><th scope=col>dest</th><th scope=col>air_time</th><th scope=col>distance</th><th scope=col>hour</th><th scope=col>minute</th><th scope=col>time_hour</th></tr></thead>\n",
       "<tbody>\n",
       "\t<tr><td>2013               </td><td>3                  </td><td>17                 </td><td>1337               </td><td>1335               </td><td> 2                 </td><td>1937               </td><td>1836               </td><td>61                 </td><td>UA                 </td><td>15                 </td><td>N77066             </td><td>EWR                </td><td>HNL                </td><td>695                </td><td>4963               </td><td>13                 </td><td>35                 </td><td>2013-03-17 13:00:00</td></tr>\n",
       "\t<tr><td>2013               </td><td>2                  </td><td> 6                 </td><td> 853               </td><td> 900               </td><td>-7                 </td><td>1542               </td><td>1540               </td><td> 2                 </td><td>HA                 </td><td>51                 </td><td>N389HA             </td><td>JFK                </td><td>HNL                </td><td>691                </td><td>4983               </td><td> 9                 </td><td> 0                 </td><td>2013-02-06 09:00:00</td></tr>\n",
       "\t<tr><td>2013               </td><td>3                  </td><td>15                 </td><td>1001               </td><td>1000               </td><td> 1                 </td><td>1551               </td><td>1530               </td><td>21                 </td><td>HA                 </td><td>51                 </td><td>N388HA             </td><td>JFK                </td><td>HNL                </td><td>686                </td><td>4983               </td><td>10                 </td><td> 0                 </td><td>2013-03-15 10:00:00</td></tr>\n",
       "\t<tr><td>2013               </td><td>3                  </td><td>17                 </td><td>1006               </td><td>1000               </td><td> 6                 </td><td>1607               </td><td>1530               </td><td>37                 </td><td>HA                 </td><td>51                 </td><td>N380HA             </td><td>JFK                </td><td>HNL                </td><td>686                </td><td>4983               </td><td>10                 </td><td> 0                 </td><td>2013-03-17 10:00:00</td></tr>\n",
       "\t<tr><td>2013               </td><td>3                  </td><td>16                 </td><td>1001               </td><td>1000               </td><td> 1                 </td><td>1544               </td><td>1530               </td><td>14                 </td><td>HA                 </td><td>51                 </td><td>N384HA             </td><td>JFK                </td><td>HNL                </td><td>683                </td><td>4983               </td><td>10                 </td><td> 0                 </td><td>2013-03-16 10:00:00</td></tr>\n",
       "\t<tr><td>2013               </td><td>2                  </td><td> 5                 </td><td> 900               </td><td> 900               </td><td> 0                 </td><td>1555               </td><td>1540               </td><td>15                 </td><td>HA                 </td><td>51                 </td><td>N386HA             </td><td>JFK                </td><td>HNL                </td><td>679                </td><td>4983               </td><td> 9                 </td><td> 0                 </td><td>2013-02-05 09:00:00</td></tr>\n",
       "</tbody>\n",
       "</table>\n"
      ],
      "text/latex": [
       "\\begin{tabular}{r|lllllllllllllllllll}\n",
       " year & month & day & dep\\_time & sched\\_dep\\_time & dep\\_delay & arr\\_time & sched\\_arr\\_time & arr\\_delay & carrier & flight & tailnum & origin & dest & air\\_time & distance & hour & minute & time\\_hour\\\\\n",
       "\\hline\n",
       "\t 2013                & 3                   & 17                  & 1337                & 1335                &  2                  & 1937                & 1836                & 61                  & UA                  & 15                  & N77066              & EWR                 & HNL                 & 695                 & 4963                & 13                  & 35                  & 2013-03-17 13:00:00\\\\\n",
       "\t 2013                & 2                   &  6                  &  853                &  900                & -7                  & 1542                & 1540                &  2                  & HA                  & 51                  & N389HA              & JFK                 & HNL                 & 691                 & 4983                &  9                  &  0                  & 2013-02-06 09:00:00\\\\\n",
       "\t 2013                & 3                   & 15                  & 1001                & 1000                &  1                  & 1551                & 1530                & 21                  & HA                  & 51                  & N388HA              & JFK                 & HNL                 & 686                 & 4983                & 10                  &  0                  & 2013-03-15 10:00:00\\\\\n",
       "\t 2013                & 3                   & 17                  & 1006                & 1000                &  6                  & 1607                & 1530                & 37                  & HA                  & 51                  & N380HA              & JFK                 & HNL                 & 686                 & 4983                & 10                  &  0                  & 2013-03-17 10:00:00\\\\\n",
       "\t 2013                & 3                   & 16                  & 1001                & 1000                &  1                  & 1544                & 1530                & 14                  & HA                  & 51                  & N384HA              & JFK                 & HNL                 & 683                 & 4983                & 10                  &  0                  & 2013-03-16 10:00:00\\\\\n",
       "\t 2013                & 2                   &  5                  &  900                &  900                &  0                  & 1555                & 1540                & 15                  & HA                  & 51                  & N386HA              & JFK                 & HNL                 & 679                 & 4983                &  9                  &  0                  & 2013-02-05 09:00:00\\\\\n",
       "\\end{tabular}\n"
      ],
      "text/markdown": [
       "\n",
       "| year | month | day | dep_time | sched_dep_time | dep_delay | arr_time | sched_arr_time | arr_delay | carrier | flight | tailnum | origin | dest | air_time | distance | hour | minute | time_hour |\n",
       "|---|---|---|---|---|---|---|---|---|---|---|---|---|---|---|---|---|---|---|\n",
       "| 2013                | 3                   | 17                  | 1337                | 1335                |  2                  | 1937                | 1836                | 61                  | UA                  | 15                  | N77066              | EWR                 | HNL                 | 695                 | 4963                | 13                  | 35                  | 2013-03-17 13:00:00 |\n",
       "| 2013                | 2                   |  6                  |  853                |  900                | -7                  | 1542                | 1540                |  2                  | HA                  | 51                  | N389HA              | JFK                 | HNL                 | 691                 | 4983                |  9                  |  0                  | 2013-02-06 09:00:00 |\n",
       "| 2013                | 3                   | 15                  | 1001                | 1000                |  1                  | 1551                | 1530                | 21                  | HA                  | 51                  | N388HA              | JFK                 | HNL                 | 686                 | 4983                | 10                  |  0                  | 2013-03-15 10:00:00 |\n",
       "| 2013                | 3                   | 17                  | 1006                | 1000                |  6                  | 1607                | 1530                | 37                  | HA                  | 51                  | N380HA              | JFK                 | HNL                 | 686                 | 4983                | 10                  |  0                  | 2013-03-17 10:00:00 |\n",
       "| 2013                | 3                   | 16                  | 1001                | 1000                |  1                  | 1544                | 1530                | 14                  | HA                  | 51                  | N384HA              | JFK                 | HNL                 | 683                 | 4983                | 10                  |  0                  | 2013-03-16 10:00:00 |\n",
       "| 2013                | 2                   |  5                  |  900                |  900                |  0                  | 1555                | 1540                | 15                  | HA                  | 51                  | N386HA              | JFK                 | HNL                 | 679                 | 4983                |  9                  |  0                  | 2013-02-05 09:00:00 |\n",
       "\n"
      ],
      "text/plain": [
       "  year month day dep_time sched_dep_time dep_delay arr_time sched_arr_time\n",
       "1 2013 3     17  1337     1335            2        1937     1836          \n",
       "2 2013 2      6   853      900           -7        1542     1540          \n",
       "3 2013 3     15  1001     1000            1        1551     1530          \n",
       "4 2013 3     17  1006     1000            6        1607     1530          \n",
       "5 2013 3     16  1001     1000            1        1544     1530          \n",
       "6 2013 2      5   900      900            0        1555     1540          \n",
       "  arr_delay carrier flight tailnum origin dest air_time distance hour minute\n",
       "1 61        UA      15     N77066  EWR    HNL  695      4963     13   35    \n",
       "2  2        HA      51     N389HA  JFK    HNL  691      4983      9    0    \n",
       "3 21        HA      51     N388HA  JFK    HNL  686      4983     10    0    \n",
       "4 37        HA      51     N380HA  JFK    HNL  686      4983     10    0    \n",
       "5 14        HA      51     N384HA  JFK    HNL  683      4983     10    0    \n",
       "6 15        HA      51     N386HA  JFK    HNL  679      4983      9    0    \n",
       "  time_hour          \n",
       "1 2013-03-17 13:00:00\n",
       "2 2013-02-06 09:00:00\n",
       "3 2013-03-15 10:00:00\n",
       "4 2013-03-17 10:00:00\n",
       "5 2013-03-16 10:00:00\n",
       "6 2013-02-05 09:00:00"
      ]
     },
     "metadata": {},
     "output_type": "display_data"
    }
   ],
   "source": [
    "head(arrange(flights, desc(air_time))) # flights with the least air-time"
   ]
  },
  {
   "cell_type": "markdown",
   "id": "c15b4e31",
   "metadata": {},
   "source": [
    "# Select Columns with select()"
   ]
  },
  {
   "cell_type": "markdown",
   "id": "1b76516a",
   "metadata": {},
   "source": [
    "select() <- It allows to zoom in on a useful subset of the dataframe using operations based on the names of variables."
   ]
  },
  {
   "cell_type": "code",
   "execution_count": 21,
   "id": "f209a47c",
   "metadata": {},
   "outputs": [
    {
     "data": {
      "text/html": [
       "<table>\n",
       "<thead><tr><th scope=col>year</th><th scope=col>month</th><th scope=col>day</th></tr></thead>\n",
       "<tbody>\n",
       "\t<tr><td>2013</td><td>1   </td><td>1   </td></tr>\n",
       "\t<tr><td>2013</td><td>1   </td><td>1   </td></tr>\n",
       "\t<tr><td>2013</td><td>1   </td><td>1   </td></tr>\n",
       "\t<tr><td>2013</td><td>1   </td><td>1   </td></tr>\n",
       "</tbody>\n",
       "</table>\n"
      ],
      "text/latex": [
       "\\begin{tabular}{r|lll}\n",
       " year & month & day\\\\\n",
       "\\hline\n",
       "\t 2013 & 1    & 1   \\\\\n",
       "\t 2013 & 1    & 1   \\\\\n",
       "\t 2013 & 1    & 1   \\\\\n",
       "\t 2013 & 1    & 1   \\\\\n",
       "\\end{tabular}\n"
      ],
      "text/markdown": [
       "\n",
       "| year | month | day |\n",
       "|---|---|---|\n",
       "| 2013 | 1    | 1    |\n",
       "| 2013 | 1    | 1    |\n",
       "| 2013 | 1    | 1    |\n",
       "| 2013 | 1    | 1    |\n",
       "\n"
      ],
      "text/plain": [
       "  year month day\n",
       "1 2013 1     1  \n",
       "2 2013 1     1  \n",
       "3 2013 1     1  \n",
       "4 2013 1     1  "
      ]
     },
     "metadata": {},
     "output_type": "display_data"
    },
    {
     "data": {
      "text/html": [
       "<table>\n",
       "<thead><tr><th scope=col>year</th><th scope=col>month</th><th scope=col>day</th></tr></thead>\n",
       "<tbody>\n",
       "\t<tr><td>2013</td><td>1   </td><td>1   </td></tr>\n",
       "\t<tr><td>2013</td><td>1   </td><td>1   </td></tr>\n",
       "\t<tr><td>2013</td><td>1   </td><td>1   </td></tr>\n",
       "\t<tr><td>2013</td><td>1   </td><td>1   </td></tr>\n",
       "</tbody>\n",
       "</table>\n"
      ],
      "text/latex": [
       "\\begin{tabular}{r|lll}\n",
       " year & month & day\\\\\n",
       "\\hline\n",
       "\t 2013 & 1    & 1   \\\\\n",
       "\t 2013 & 1    & 1   \\\\\n",
       "\t 2013 & 1    & 1   \\\\\n",
       "\t 2013 & 1    & 1   \\\\\n",
       "\\end{tabular}\n"
      ],
      "text/markdown": [
       "\n",
       "| year | month | day |\n",
       "|---|---|---|\n",
       "| 2013 | 1    | 1    |\n",
       "| 2013 | 1    | 1    |\n",
       "| 2013 | 1    | 1    |\n",
       "| 2013 | 1    | 1    |\n",
       "\n"
      ],
      "text/plain": [
       "  year month day\n",
       "1 2013 1     1  \n",
       "2 2013 1     1  \n",
       "3 2013 1     1  \n",
       "4 2013 1     1  "
      ]
     },
     "metadata": {},
     "output_type": "display_data"
    }
   ],
   "source": [
    "head(select(flights, year, month, day), 4)   # selecting multiple columns in the dataframe\n",
    "head(select(flights, year:day), 4)           # shorthand for selcting all columns between year and day (inclusive) "
   ]
  },
  {
   "cell_type": "code",
   "execution_count": 22,
   "id": "63dc6b6d",
   "metadata": {},
   "outputs": [
    {
     "data": {
      "text/html": [
       "<table>\n",
       "<thead><tr><th scope=col>dep_time</th><th scope=col>sched_dep_time</th><th scope=col>dep_delay</th><th scope=col>arr_time</th><th scope=col>sched_arr_time</th><th scope=col>arr_delay</th><th scope=col>carrier</th><th scope=col>flight</th><th scope=col>tailnum</th><th scope=col>origin</th><th scope=col>dest</th><th scope=col>air_time</th><th scope=col>distance</th><th scope=col>hour</th><th scope=col>minute</th><th scope=col>time_hour</th></tr></thead>\n",
       "<tbody>\n",
       "\t<tr><td>517                </td><td>515                </td><td> 2                 </td><td> 830               </td><td> 819               </td><td> 11                </td><td>UA                 </td><td>1545               </td><td>N14228             </td><td>EWR                </td><td>IAH                </td><td>227                </td><td>1400               </td><td>5                  </td><td>15                 </td><td>2013-01-01 05:00:00</td></tr>\n",
       "\t<tr><td>533                </td><td>529                </td><td> 4                 </td><td> 850               </td><td> 830               </td><td> 20                </td><td>UA                 </td><td>1714               </td><td>N24211             </td><td>LGA                </td><td>IAH                </td><td>227                </td><td>1416               </td><td>5                  </td><td>29                 </td><td>2013-01-01 05:00:00</td></tr>\n",
       "\t<tr><td>542                </td><td>540                </td><td> 2                 </td><td> 923               </td><td> 850               </td><td> 33                </td><td>AA                 </td><td>1141               </td><td>N619AA             </td><td>JFK                </td><td>MIA                </td><td>160                </td><td>1089               </td><td>5                  </td><td>40                 </td><td>2013-01-01 05:00:00</td></tr>\n",
       "\t<tr><td>544                </td><td>545                </td><td>-1                 </td><td>1004               </td><td>1022               </td><td>-18                </td><td>B6                 </td><td> 725               </td><td>N804JB             </td><td>JFK                </td><td>BQN                </td><td>183                </td><td>1576               </td><td>5                  </td><td>45                 </td><td>2013-01-01 05:00:00</td></tr>\n",
       "\t<tr><td>554                </td><td>600                </td><td>-6                 </td><td> 812               </td><td> 837               </td><td>-25                </td><td>DL                 </td><td> 461               </td><td>N668DN             </td><td>LGA                </td><td>ATL                </td><td>116                </td><td> 762               </td><td>6                  </td><td> 0                 </td><td>2013-01-01 06:00:00</td></tr>\n",
       "\t<tr><td>554                </td><td>558                </td><td>-4                 </td><td> 740               </td><td> 728               </td><td> 12                </td><td>UA                 </td><td>1696               </td><td>N39463             </td><td>EWR                </td><td>ORD                </td><td>150                </td><td> 719               </td><td>5                  </td><td>58                 </td><td>2013-01-01 05:00:00</td></tr>\n",
       "</tbody>\n",
       "</table>\n"
      ],
      "text/latex": [
       "\\begin{tabular}{r|llllllllllllllll}\n",
       " dep\\_time & sched\\_dep\\_time & dep\\_delay & arr\\_time & sched\\_arr\\_time & arr\\_delay & carrier & flight & tailnum & origin & dest & air\\_time & distance & hour & minute & time\\_hour\\\\\n",
       "\\hline\n",
       "\t 517                 & 515                 &  2                  &  830                &  819                &  11                 & UA                  & 1545                & N14228              & EWR                 & IAH                 & 227                 & 1400                & 5                   & 15                  & 2013-01-01 05:00:00\\\\\n",
       "\t 533                 & 529                 &  4                  &  850                &  830                &  20                 & UA                  & 1714                & N24211              & LGA                 & IAH                 & 227                 & 1416                & 5                   & 29                  & 2013-01-01 05:00:00\\\\\n",
       "\t 542                 & 540                 &  2                  &  923                &  850                &  33                 & AA                  & 1141                & N619AA              & JFK                 & MIA                 & 160                 & 1089                & 5                   & 40                  & 2013-01-01 05:00:00\\\\\n",
       "\t 544                 & 545                 & -1                  & 1004                & 1022                & -18                 & B6                  &  725                & N804JB              & JFK                 & BQN                 & 183                 & 1576                & 5                   & 45                  & 2013-01-01 05:00:00\\\\\n",
       "\t 554                 & 600                 & -6                  &  812                &  837                & -25                 & DL                  &  461                & N668DN              & LGA                 & ATL                 & 116                 &  762                & 6                   &  0                  & 2013-01-01 06:00:00\\\\\n",
       "\t 554                 & 558                 & -4                  &  740                &  728                &  12                 & UA                  & 1696                & N39463              & EWR                 & ORD                 & 150                 &  719                & 5                   & 58                  & 2013-01-01 05:00:00\\\\\n",
       "\\end{tabular}\n"
      ],
      "text/markdown": [
       "\n",
       "| dep_time | sched_dep_time | dep_delay | arr_time | sched_arr_time | arr_delay | carrier | flight | tailnum | origin | dest | air_time | distance | hour | minute | time_hour |\n",
       "|---|---|---|---|---|---|---|---|---|---|---|---|---|---|---|---|\n",
       "| 517                 | 515                 |  2                  |  830                |  819                |  11                 | UA                  | 1545                | N14228              | EWR                 | IAH                 | 227                 | 1400                | 5                   | 15                  | 2013-01-01 05:00:00 |\n",
       "| 533                 | 529                 |  4                  |  850                |  830                |  20                 | UA                  | 1714                | N24211              | LGA                 | IAH                 | 227                 | 1416                | 5                   | 29                  | 2013-01-01 05:00:00 |\n",
       "| 542                 | 540                 |  2                  |  923                |  850                |  33                 | AA                  | 1141                | N619AA              | JFK                 | MIA                 | 160                 | 1089                | 5                   | 40                  | 2013-01-01 05:00:00 |\n",
       "| 544                 | 545                 | -1                  | 1004                | 1022                | -18                 | B6                  |  725                | N804JB              | JFK                 | BQN                 | 183                 | 1576                | 5                   | 45                  | 2013-01-01 05:00:00 |\n",
       "| 554                 | 600                 | -6                  |  812                |  837                | -25                 | DL                  |  461                | N668DN              | LGA                 | ATL                 | 116                 |  762                | 6                   |  0                  | 2013-01-01 06:00:00 |\n",
       "| 554                 | 558                 | -4                  |  740                |  728                |  12                 | UA                  | 1696                | N39463              | EWR                 | ORD                 | 150                 |  719                | 5                   | 58                  | 2013-01-01 05:00:00 |\n",
       "\n"
      ],
      "text/plain": [
       "  dep_time sched_dep_time dep_delay arr_time sched_arr_time arr_delay carrier\n",
       "1 517      515             2         830      819            11       UA     \n",
       "2 533      529             4         850      830            20       UA     \n",
       "3 542      540             2         923      850            33       AA     \n",
       "4 544      545            -1        1004     1022           -18       B6     \n",
       "5 554      600            -6         812      837           -25       DL     \n",
       "6 554      558            -4         740      728            12       UA     \n",
       "  flight tailnum origin dest air_time distance hour minute time_hour          \n",
       "1 1545   N14228  EWR    IAH  227      1400     5    15     2013-01-01 05:00:00\n",
       "2 1714   N24211  LGA    IAH  227      1416     5    29     2013-01-01 05:00:00\n",
       "3 1141   N619AA  JFK    MIA  160      1089     5    40     2013-01-01 05:00:00\n",
       "4  725   N804JB  JFK    BQN  183      1576     5    45     2013-01-01 05:00:00\n",
       "5  461   N668DN  LGA    ATL  116       762     6     0     2013-01-01 06:00:00\n",
       "6 1696   N39463  EWR    ORD  150       719     5    58     2013-01-01 05:00:00"
      ]
     },
     "metadata": {},
     "output_type": "display_data"
    }
   ],
   "source": [
    "head(select(flights, -(year:day)))           # shorthand for selecting all columns except those from year to day (inclusive)"
   ]
  },
  {
   "cell_type": "markdown",
   "id": "2a9c5a02",
   "metadata": {},
   "source": [
    "Helper functions within select :\n",
    "* starts_with(\"abc\") <- matches names that begin with \"abc\"\n",
    "* ends_with(\"abc\") <- matches names that end with \"abc\"\n",
    "* contains(\"abc\") <-  matches names that contain \"abc\"\n",
    "* matches(\"(,)//@!\") <- selects variables that matches a regular expression \"(.)//@!\"\n",
    "* num_range(\"a\",1:4) <- matches a1, a2, a3, a4"
   ]
  },
  {
   "cell_type": "markdown",
   "id": "8b3e2c9a",
   "metadata": {},
   "source": [
    "rename() <- It's used to rename variables, and it keeps all the variables that aren't explicitly mentioned"
   ]
  },
  {
   "cell_type": "code",
   "execution_count": 23,
   "id": "48ae197c",
   "metadata": {},
   "outputs": [
    {
     "data": {
      "text/html": [
       "<table>\n",
       "<thead><tr><th scope=col>year</th><th scope=col>month</th><th scope=col>day</th><th scope=col>dep_time</th><th scope=col>sched_dep_time</th><th scope=col>dep_delay</th><th scope=col>arr_time</th><th scope=col>sched_arr_time</th><th scope=col>arr_delay</th><th scope=col>carrier</th><th scope=col>flight</th><th scope=col>tail_num</th><th scope=col>origin</th><th scope=col>dest</th><th scope=col>air_time</th><th scope=col>distance</th><th scope=col>hour</th><th scope=col>minute</th><th scope=col>time_hour</th></tr></thead>\n",
       "<tbody>\n",
       "\t<tr><td>2013               </td><td>1                  </td><td>1                  </td><td>517                </td><td>515                </td><td> 2                 </td><td> 830               </td><td> 819               </td><td> 11                </td><td>UA                 </td><td>1545               </td><td>N14228             </td><td>EWR                </td><td>IAH                </td><td>227                </td><td>1400               </td><td>5                  </td><td>15                 </td><td>2013-01-01 05:00:00</td></tr>\n",
       "\t<tr><td>2013               </td><td>1                  </td><td>1                  </td><td>533                </td><td>529                </td><td> 4                 </td><td> 850               </td><td> 830               </td><td> 20                </td><td>UA                 </td><td>1714               </td><td>N24211             </td><td>LGA                </td><td>IAH                </td><td>227                </td><td>1416               </td><td>5                  </td><td>29                 </td><td>2013-01-01 05:00:00</td></tr>\n",
       "\t<tr><td>2013               </td><td>1                  </td><td>1                  </td><td>542                </td><td>540                </td><td> 2                 </td><td> 923               </td><td> 850               </td><td> 33                </td><td>AA                 </td><td>1141               </td><td>N619AA             </td><td>JFK                </td><td>MIA                </td><td>160                </td><td>1089               </td><td>5                  </td><td>40                 </td><td>2013-01-01 05:00:00</td></tr>\n",
       "\t<tr><td>2013               </td><td>1                  </td><td>1                  </td><td>544                </td><td>545                </td><td>-1                 </td><td>1004               </td><td>1022               </td><td>-18                </td><td>B6                 </td><td> 725               </td><td>N804JB             </td><td>JFK                </td><td>BQN                </td><td>183                </td><td>1576               </td><td>5                  </td><td>45                 </td><td>2013-01-01 05:00:00</td></tr>\n",
       "\t<tr><td>2013               </td><td>1                  </td><td>1                  </td><td>554                </td><td>600                </td><td>-6                 </td><td> 812               </td><td> 837               </td><td>-25                </td><td>DL                 </td><td> 461               </td><td>N668DN             </td><td>LGA                </td><td>ATL                </td><td>116                </td><td> 762               </td><td>6                  </td><td> 0                 </td><td>2013-01-01 06:00:00</td></tr>\n",
       "\t<tr><td>2013               </td><td>1                  </td><td>1                  </td><td>554                </td><td>558                </td><td>-4                 </td><td> 740               </td><td> 728               </td><td> 12                </td><td>UA                 </td><td>1696               </td><td>N39463             </td><td>EWR                </td><td>ORD                </td><td>150                </td><td> 719               </td><td>5                  </td><td>58                 </td><td>2013-01-01 05:00:00</td></tr>\n",
       "</tbody>\n",
       "</table>\n"
      ],
      "text/latex": [
       "\\begin{tabular}{r|lllllllllllllllllll}\n",
       " year & month & day & dep\\_time & sched\\_dep\\_time & dep\\_delay & arr\\_time & sched\\_arr\\_time & arr\\_delay & carrier & flight & tail\\_num & origin & dest & air\\_time & distance & hour & minute & time\\_hour\\\\\n",
       "\\hline\n",
       "\t 2013                & 1                   & 1                   & 517                 & 515                 &  2                  &  830                &  819                &  11                 & UA                  & 1545                & N14228              & EWR                 & IAH                 & 227                 & 1400                & 5                   & 15                  & 2013-01-01 05:00:00\\\\\n",
       "\t 2013                & 1                   & 1                   & 533                 & 529                 &  4                  &  850                &  830                &  20                 & UA                  & 1714                & N24211              & LGA                 & IAH                 & 227                 & 1416                & 5                   & 29                  & 2013-01-01 05:00:00\\\\\n",
       "\t 2013                & 1                   & 1                   & 542                 & 540                 &  2                  &  923                &  850                &  33                 & AA                  & 1141                & N619AA              & JFK                 & MIA                 & 160                 & 1089                & 5                   & 40                  & 2013-01-01 05:00:00\\\\\n",
       "\t 2013                & 1                   & 1                   & 544                 & 545                 & -1                  & 1004                & 1022                & -18                 & B6                  &  725                & N804JB              & JFK                 & BQN                 & 183                 & 1576                & 5                   & 45                  & 2013-01-01 05:00:00\\\\\n",
       "\t 2013                & 1                   & 1                   & 554                 & 600                 & -6                  &  812                &  837                & -25                 & DL                  &  461                & N668DN              & LGA                 & ATL                 & 116                 &  762                & 6                   &  0                  & 2013-01-01 06:00:00\\\\\n",
       "\t 2013                & 1                   & 1                   & 554                 & 558                 & -4                  &  740                &  728                &  12                 & UA                  & 1696                & N39463              & EWR                 & ORD                 & 150                 &  719                & 5                   & 58                  & 2013-01-01 05:00:00\\\\\n",
       "\\end{tabular}\n"
      ],
      "text/markdown": [
       "\n",
       "| year | month | day | dep_time | sched_dep_time | dep_delay | arr_time | sched_arr_time | arr_delay | carrier | flight | tail_num | origin | dest | air_time | distance | hour | minute | time_hour |\n",
       "|---|---|---|---|---|---|---|---|---|---|---|---|---|---|---|---|---|---|---|\n",
       "| 2013                | 1                   | 1                   | 517                 | 515                 |  2                  |  830                |  819                |  11                 | UA                  | 1545                | N14228              | EWR                 | IAH                 | 227                 | 1400                | 5                   | 15                  | 2013-01-01 05:00:00 |\n",
       "| 2013                | 1                   | 1                   | 533                 | 529                 |  4                  |  850                |  830                |  20                 | UA                  | 1714                | N24211              | LGA                 | IAH                 | 227                 | 1416                | 5                   | 29                  | 2013-01-01 05:00:00 |\n",
       "| 2013                | 1                   | 1                   | 542                 | 540                 |  2                  |  923                |  850                |  33                 | AA                  | 1141                | N619AA              | JFK                 | MIA                 | 160                 | 1089                | 5                   | 40                  | 2013-01-01 05:00:00 |\n",
       "| 2013                | 1                   | 1                   | 544                 | 545                 | -1                  | 1004                | 1022                | -18                 | B6                  |  725                | N804JB              | JFK                 | BQN                 | 183                 | 1576                | 5                   | 45                  | 2013-01-01 05:00:00 |\n",
       "| 2013                | 1                   | 1                   | 554                 | 600                 | -6                  |  812                |  837                | -25                 | DL                  |  461                | N668DN              | LGA                 | ATL                 | 116                 |  762                | 6                   |  0                  | 2013-01-01 06:00:00 |\n",
       "| 2013                | 1                   | 1                   | 554                 | 558                 | -4                  |  740                |  728                |  12                 | UA                  | 1696                | N39463              | EWR                 | ORD                 | 150                 |  719                | 5                   | 58                  | 2013-01-01 05:00:00 |\n",
       "\n"
      ],
      "text/plain": [
       "  year month day dep_time sched_dep_time dep_delay arr_time sched_arr_time\n",
       "1 2013 1     1   517      515             2         830      819          \n",
       "2 2013 1     1   533      529             4         850      830          \n",
       "3 2013 1     1   542      540             2         923      850          \n",
       "4 2013 1     1   544      545            -1        1004     1022          \n",
       "5 2013 1     1   554      600            -6         812      837          \n",
       "6 2013 1     1   554      558            -4         740      728          \n",
       "  arr_delay carrier flight tail_num origin dest air_time distance hour minute\n",
       "1  11       UA      1545   N14228   EWR    IAH  227      1400     5    15    \n",
       "2  20       UA      1714   N24211   LGA    IAH  227      1416     5    29    \n",
       "3  33       AA      1141   N619AA   JFK    MIA  160      1089     5    40    \n",
       "4 -18       B6       725   N804JB   JFK    BQN  183      1576     5    45    \n",
       "5 -25       DL       461   N668DN   LGA    ATL  116       762     6     0    \n",
       "6  12       UA      1696   N39463   EWR    ORD  150       719     5    58    \n",
       "  time_hour          \n",
       "1 2013-01-01 05:00:00\n",
       "2 2013-01-01 05:00:00\n",
       "3 2013-01-01 05:00:00\n",
       "4 2013-01-01 05:00:00\n",
       "5 2013-01-01 06:00:00\n",
       "6 2013-01-01 05:00:00"
      ]
     },
     "metadata": {},
     "output_type": "display_data"
    }
   ],
   "source": [
    "head(rename(flights, tail_num = tailnum))"
   ]
  },
  {
   "cell_type": "code",
   "execution_count": 24,
   "id": "607dc3c4",
   "metadata": {},
   "outputs": [
    {
     "data": {
      "text/html": [
       "<table>\n",
       "<thead><tr><th scope=col>distance</th><th scope=col>air_time</th><th scope=col>tailnum</th><th scope=col>year</th><th scope=col>month</th><th scope=col>day</th><th scope=col>dep_time</th><th scope=col>sched_dep_time</th><th scope=col>dep_delay</th><th scope=col>arr_time</th><th scope=col>sched_arr_time</th><th scope=col>arr_delay</th><th scope=col>carrier</th><th scope=col>flight</th><th scope=col>origin</th><th scope=col>dest</th><th scope=col>hour</th><th scope=col>minute</th><th scope=col>time_hour</th></tr></thead>\n",
       "<tbody>\n",
       "\t<tr><td>1400               </td><td>227                </td><td>N14228             </td><td>2013               </td><td>1                  </td><td>1                  </td><td>517                </td><td>515                </td><td> 2                 </td><td> 830               </td><td> 819               </td><td> 11                </td><td>UA                 </td><td>1545               </td><td>EWR                </td><td>IAH                </td><td>5                  </td><td>15                 </td><td>2013-01-01 05:00:00</td></tr>\n",
       "\t<tr><td>1416               </td><td>227                </td><td>N24211             </td><td>2013               </td><td>1                  </td><td>1                  </td><td>533                </td><td>529                </td><td> 4                 </td><td> 850               </td><td> 830               </td><td> 20                </td><td>UA                 </td><td>1714               </td><td>LGA                </td><td>IAH                </td><td>5                  </td><td>29                 </td><td>2013-01-01 05:00:00</td></tr>\n",
       "\t<tr><td>1089               </td><td>160                </td><td>N619AA             </td><td>2013               </td><td>1                  </td><td>1                  </td><td>542                </td><td>540                </td><td> 2                 </td><td> 923               </td><td> 850               </td><td> 33                </td><td>AA                 </td><td>1141               </td><td>JFK                </td><td>MIA                </td><td>5                  </td><td>40                 </td><td>2013-01-01 05:00:00</td></tr>\n",
       "\t<tr><td>1576               </td><td>183                </td><td>N804JB             </td><td>2013               </td><td>1                  </td><td>1                  </td><td>544                </td><td>545                </td><td>-1                 </td><td>1004               </td><td>1022               </td><td>-18                </td><td>B6                 </td><td> 725               </td><td>JFK                </td><td>BQN                </td><td>5                  </td><td>45                 </td><td>2013-01-01 05:00:00</td></tr>\n",
       "\t<tr><td> 762               </td><td>116                </td><td>N668DN             </td><td>2013               </td><td>1                  </td><td>1                  </td><td>554                </td><td>600                </td><td>-6                 </td><td> 812               </td><td> 837               </td><td>-25                </td><td>DL                 </td><td> 461               </td><td>LGA                </td><td>ATL                </td><td>6                  </td><td> 0                 </td><td>2013-01-01 06:00:00</td></tr>\n",
       "\t<tr><td> 719               </td><td>150                </td><td>N39463             </td><td>2013               </td><td>1                  </td><td>1                  </td><td>554                </td><td>558                </td><td>-4                 </td><td> 740               </td><td> 728               </td><td> 12                </td><td>UA                 </td><td>1696               </td><td>EWR                </td><td>ORD                </td><td>5                  </td><td>58                 </td><td>2013-01-01 05:00:00</td></tr>\n",
       "</tbody>\n",
       "</table>\n"
      ],
      "text/latex": [
       "\\begin{tabular}{r|lllllllllllllllllll}\n",
       " distance & air\\_time & tailnum & year & month & day & dep\\_time & sched\\_dep\\_time & dep\\_delay & arr\\_time & sched\\_arr\\_time & arr\\_delay & carrier & flight & origin & dest & hour & minute & time\\_hour\\\\\n",
       "\\hline\n",
       "\t 1400                & 227                 & N14228              & 2013                & 1                   & 1                   & 517                 & 515                 &  2                  &  830                &  819                &  11                 & UA                  & 1545                & EWR                 & IAH                 & 5                   & 15                  & 2013-01-01 05:00:00\\\\\n",
       "\t 1416                & 227                 & N24211              & 2013                & 1                   & 1                   & 533                 & 529                 &  4                  &  850                &  830                &  20                 & UA                  & 1714                & LGA                 & IAH                 & 5                   & 29                  & 2013-01-01 05:00:00\\\\\n",
       "\t 1089                & 160                 & N619AA              & 2013                & 1                   & 1                   & 542                 & 540                 &  2                  &  923                &  850                &  33                 & AA                  & 1141                & JFK                 & MIA                 & 5                   & 40                  & 2013-01-01 05:00:00\\\\\n",
       "\t 1576                & 183                 & N804JB              & 2013                & 1                   & 1                   & 544                 & 545                 & -1                  & 1004                & 1022                & -18                 & B6                  &  725                & JFK                 & BQN                 & 5                   & 45                  & 2013-01-01 05:00:00\\\\\n",
       "\t  762                & 116                 & N668DN              & 2013                & 1                   & 1                   & 554                 & 600                 & -6                  &  812                &  837                & -25                 & DL                  &  461                & LGA                 & ATL                 & 6                   &  0                  & 2013-01-01 06:00:00\\\\\n",
       "\t  719                & 150                 & N39463              & 2013                & 1                   & 1                   & 554                 & 558                 & -4                  &  740                &  728                &  12                 & UA                  & 1696                & EWR                 & ORD                 & 5                   & 58                  & 2013-01-01 05:00:00\\\\\n",
       "\\end{tabular}\n"
      ],
      "text/markdown": [
       "\n",
       "| distance | air_time | tailnum | year | month | day | dep_time | sched_dep_time | dep_delay | arr_time | sched_arr_time | arr_delay | carrier | flight | origin | dest | hour | minute | time_hour |\n",
       "|---|---|---|---|---|---|---|---|---|---|---|---|---|---|---|---|---|---|---|\n",
       "| 1400                | 227                 | N14228              | 2013                | 1                   | 1                   | 517                 | 515                 |  2                  |  830                |  819                |  11                 | UA                  | 1545                | EWR                 | IAH                 | 5                   | 15                  | 2013-01-01 05:00:00 |\n",
       "| 1416                | 227                 | N24211              | 2013                | 1                   | 1                   | 533                 | 529                 |  4                  |  850                |  830                |  20                 | UA                  | 1714                | LGA                 | IAH                 | 5                   | 29                  | 2013-01-01 05:00:00 |\n",
       "| 1089                | 160                 | N619AA              | 2013                | 1                   | 1                   | 542                 | 540                 |  2                  |  923                |  850                |  33                 | AA                  | 1141                | JFK                 | MIA                 | 5                   | 40                  | 2013-01-01 05:00:00 |\n",
       "| 1576                | 183                 | N804JB              | 2013                | 1                   | 1                   | 544                 | 545                 | -1                  | 1004                | 1022                | -18                 | B6                  |  725                | JFK                 | BQN                 | 5                   | 45                  | 2013-01-01 05:00:00 |\n",
       "|  762                | 116                 | N668DN              | 2013                | 1                   | 1                   | 554                 | 600                 | -6                  |  812                |  837                | -25                 | DL                  |  461                | LGA                 | ATL                 | 6                   |  0                  | 2013-01-01 06:00:00 |\n",
       "|  719                | 150                 | N39463              | 2013                | 1                   | 1                   | 554                 | 558                 | -4                  |  740                |  728                |  12                 | UA                  | 1696                | EWR                 | ORD                 | 5                   | 58                  | 2013-01-01 05:00:00 |\n",
       "\n"
      ],
      "text/plain": [
       "  distance air_time tailnum year month day dep_time sched_dep_time dep_delay\n",
       "1 1400     227      N14228  2013 1     1   517      515             2       \n",
       "2 1416     227      N24211  2013 1     1   533      529             4       \n",
       "3 1089     160      N619AA  2013 1     1   542      540             2       \n",
       "4 1576     183      N804JB  2013 1     1   544      545            -1       \n",
       "5  762     116      N668DN  2013 1     1   554      600            -6       \n",
       "6  719     150      N39463  2013 1     1   554      558            -4       \n",
       "  arr_time sched_arr_time arr_delay carrier flight origin dest hour minute\n",
       "1  830      819            11       UA      1545   EWR    IAH  5    15    \n",
       "2  850      830            20       UA      1714   LGA    IAH  5    29    \n",
       "3  923      850            33       AA      1141   JFK    MIA  5    40    \n",
       "4 1004     1022           -18       B6       725   JFK    BQN  5    45    \n",
       "5  812      837           -25       DL       461   LGA    ATL  6     0    \n",
       "6  740      728            12       UA      1696   EWR    ORD  5    58    \n",
       "  time_hour          \n",
       "1 2013-01-01 05:00:00\n",
       "2 2013-01-01 05:00:00\n",
       "3 2013-01-01 05:00:00\n",
       "4 2013-01-01 05:00:00\n",
       "5 2013-01-01 06:00:00\n",
       "6 2013-01-01 05:00:00"
      ]
     },
     "metadata": {},
     "output_type": "display_data"
    }
   ],
   "source": [
    "head(select(flights, distance, air_time, tailnum, everything()))"
   ]
  },
  {
   "cell_type": "markdown",
   "id": "0f62b269",
   "metadata": {},
   "source": [
    "The above technique is used when there are handful of variables and, we need to move a certain variable in the beginning of dataframe."
   ]
  },
  {
   "cell_type": "code",
   "execution_count": 25,
   "id": "542683fe",
   "metadata": {},
   "outputs": [
    {
     "data": {
      "text/html": [
       "<table>\n",
       "<thead><tr><th scope=col>dep_time</th><th scope=col>dep_delay</th><th scope=col>arr_time</th><th scope=col>arr_delay</th></tr></thead>\n",
       "<tbody>\n",
       "\t<tr><td>517 </td><td> 2  </td><td> 830</td><td> 11 </td></tr>\n",
       "\t<tr><td>533 </td><td> 4  </td><td> 850</td><td> 20 </td></tr>\n",
       "\t<tr><td>542 </td><td> 2  </td><td> 923</td><td> 33 </td></tr>\n",
       "\t<tr><td>544 </td><td>-1  </td><td>1004</td><td>-18 </td></tr>\n",
       "\t<tr><td>554 </td><td>-6  </td><td> 812</td><td>-25 </td></tr>\n",
       "\t<tr><td>554 </td><td>-4  </td><td> 740</td><td> 12 </td></tr>\n",
       "</tbody>\n",
       "</table>\n"
      ],
      "text/latex": [
       "\\begin{tabular}{r|llll}\n",
       " dep\\_time & dep\\_delay & arr\\_time & arr\\_delay\\\\\n",
       "\\hline\n",
       "\t 517  &  2   &  830 &  11 \\\\\n",
       "\t 533  &  4   &  850 &  20 \\\\\n",
       "\t 542  &  2   &  923 &  33 \\\\\n",
       "\t 544  & -1   & 1004 & -18 \\\\\n",
       "\t 554  & -6   &  812 & -25 \\\\\n",
       "\t 554  & -4   &  740 &  12 \\\\\n",
       "\\end{tabular}\n"
      ],
      "text/markdown": [
       "\n",
       "| dep_time | dep_delay | arr_time | arr_delay |\n",
       "|---|---|---|---|\n",
       "| 517  |  2   |  830 |  11  |\n",
       "| 533  |  4   |  850 |  20  |\n",
       "| 542  |  2   |  923 |  33  |\n",
       "| 544  | -1   | 1004 | -18  |\n",
       "| 554  | -6   |  812 | -25  |\n",
       "| 554  | -4   |  740 |  12  |\n",
       "\n"
      ],
      "text/plain": [
       "  dep_time dep_delay arr_time arr_delay\n",
       "1 517       2         830      11      \n",
       "2 533       4         850      20      \n",
       "3 542       2         923      33      \n",
       "4 544      -1        1004     -18      \n",
       "5 554      -6         812     -25      \n",
       "6 554      -4         740      12      "
      ]
     },
     "metadata": {},
     "output_type": "display_data"
    }
   ],
   "source": [
    "head(select(flights, starts_with(\"dep\") , starts_with(\"arr\")))"
   ]
  },
  {
   "cell_type": "code",
   "execution_count": 26,
   "id": "5031b009",
   "metadata": {},
   "outputs": [
    {
     "data": {
      "text/html": [
       "<table>\n",
       "<thead><tr><th scope=col>distance</th></tr></thead>\n",
       "<tbody>\n",
       "\t<tr><td>1400</td></tr>\n",
       "\t<tr><td>1416</td></tr>\n",
       "\t<tr><td>1089</td></tr>\n",
       "\t<tr><td>1576</td></tr>\n",
       "\t<tr><td> 762</td></tr>\n",
       "\t<tr><td> 719</td></tr>\n",
       "</tbody>\n",
       "</table>\n"
      ],
      "text/latex": [
       "\\begin{tabular}{r|l}\n",
       " distance\\\\\n",
       "\\hline\n",
       "\t 1400\\\\\n",
       "\t 1416\\\\\n",
       "\t 1089\\\\\n",
       "\t 1576\\\\\n",
       "\t  762\\\\\n",
       "\t  719\\\\\n",
       "\\end{tabular}\n"
      ],
      "text/markdown": [
       "\n",
       "| distance |\n",
       "|---|\n",
       "| 1400 |\n",
       "| 1416 |\n",
       "| 1089 |\n",
       "| 1576 |\n",
       "|  762 |\n",
       "|  719 |\n",
       "\n"
      ],
      "text/plain": [
       "  distance\n",
       "1 1400    \n",
       "2 1416    \n",
       "3 1089    \n",
       "4 1576    \n",
       "5  762    \n",
       "6  719    "
      ]
     },
     "metadata": {},
     "output_type": "display_data"
    }
   ],
   "source": [
    "head(select(flights, distance, distance))      # select() ignores same variable name included multiple times"
   ]
  },
  {
   "cell_type": "code",
   "execution_count": 27,
   "id": "1f981693",
   "metadata": {},
   "outputs": [
    {
     "data": {
      "text/html": [
       "<table>\n",
       "<thead><tr><th scope=col>year</th><th scope=col>month</th><th scope=col>day</th><th scope=col>dep_delay</th><th scope=col>arr_delay</th></tr></thead>\n",
       "<tbody>\n",
       "\t<tr><td>2013</td><td>1   </td><td>1   </td><td> 2  </td><td> 11 </td></tr>\n",
       "\t<tr><td>2013</td><td>1   </td><td>1   </td><td> 4  </td><td> 20 </td></tr>\n",
       "\t<tr><td>2013</td><td>1   </td><td>1   </td><td> 2  </td><td> 33 </td></tr>\n",
       "\t<tr><td>2013</td><td>1   </td><td>1   </td><td>-1  </td><td>-18 </td></tr>\n",
       "\t<tr><td>2013</td><td>1   </td><td>1   </td><td>-6  </td><td>-25 </td></tr>\n",
       "\t<tr><td>2013</td><td>1   </td><td>1   </td><td>-4  </td><td> 12 </td></tr>\n",
       "</tbody>\n",
       "</table>\n"
      ],
      "text/latex": [
       "\\begin{tabular}{r|lllll}\n",
       " year & month & day & dep\\_delay & arr\\_delay\\\\\n",
       "\\hline\n",
       "\t 2013 & 1    & 1    &  2   &  11 \\\\\n",
       "\t 2013 & 1    & 1    &  4   &  20 \\\\\n",
       "\t 2013 & 1    & 1    &  2   &  33 \\\\\n",
       "\t 2013 & 1    & 1    & -1   & -18 \\\\\n",
       "\t 2013 & 1    & 1    & -6   & -25 \\\\\n",
       "\t 2013 & 1    & 1    & -4   &  12 \\\\\n",
       "\\end{tabular}\n"
      ],
      "text/markdown": [
       "\n",
       "| year | month | day | dep_delay | arr_delay |\n",
       "|---|---|---|---|---|\n",
       "| 2013 | 1    | 1    |  2   |  11  |\n",
       "| 2013 | 1    | 1    |  4   |  20  |\n",
       "| 2013 | 1    | 1    |  2   |  33  |\n",
       "| 2013 | 1    | 1    | -1   | -18  |\n",
       "| 2013 | 1    | 1    | -6   | -25  |\n",
       "| 2013 | 1    | 1    | -4   |  12  |\n",
       "\n"
      ],
      "text/plain": [
       "  year month day dep_delay arr_delay\n",
       "1 2013 1     1    2         11      \n",
       "2 2013 1     1    4         20      \n",
       "3 2013 1     1    2         33      \n",
       "4 2013 1     1   -1        -18      \n",
       "5 2013 1     1   -6        -25      \n",
       "6 2013 1     1   -4         12      "
      ]
     },
     "metadata": {},
     "output_type": "display_data"
    }
   ],
   "source": [
    "vars <- c(\"year\", \"month\", \"day\", \"dep_delay\", \"arr_delay\")\n",
    "head(select(flights, one_of(vars)))"
   ]
  },
  {
   "cell_type": "markdown",
   "id": "d48c36d7",
   "metadata": {},
   "source": [
    "# Add New Variables with mutate()"
   ]
  },
  {
   "cell_type": "markdown",
   "id": "9d8b47b4",
   "metadata": {},
   "source": [
    "mutate() <- It's used to add new columns that are functions of the existing columns. It always adds new columns at the end of dataset."
   ]
  },
  {
   "cell_type": "code",
   "execution_count": 28,
   "id": "4381d379",
   "metadata": {},
   "outputs": [
    {
     "data": {
      "text/html": [
       "<table>\n",
       "<thead><tr><th scope=col>year</th><th scope=col>month</th><th scope=col>day</th><th scope=col>dep_delay</th><th scope=col>arr_delay</th><th scope=col>distance</th><th scope=col>air_time</th><th scope=col>gain</th><th scope=col>speed</th></tr></thead>\n",
       "<tbody>\n",
       "\t<tr><td>2013    </td><td>1       </td><td>1       </td><td> 2      </td><td> 11     </td><td>1400    </td><td>227     </td><td>  9     </td><td>370.0441</td></tr>\n",
       "\t<tr><td>2013    </td><td>1       </td><td>1       </td><td> 4      </td><td> 20     </td><td>1416    </td><td>227     </td><td> 16     </td><td>374.2731</td></tr>\n",
       "\t<tr><td>2013    </td><td>1       </td><td>1       </td><td> 2      </td><td> 33     </td><td>1089    </td><td>160     </td><td> 31     </td><td>408.3750</td></tr>\n",
       "\t<tr><td>2013    </td><td>1       </td><td>1       </td><td>-1      </td><td>-18     </td><td>1576    </td><td>183     </td><td>-17     </td><td>516.7213</td></tr>\n",
       "\t<tr><td>2013    </td><td>1       </td><td>1       </td><td>-6      </td><td>-25     </td><td> 762    </td><td>116     </td><td>-19     </td><td>394.1379</td></tr>\n",
       "\t<tr><td>2013    </td><td>1       </td><td>1       </td><td>-4      </td><td> 12     </td><td> 719    </td><td>150     </td><td> 16     </td><td>287.6000</td></tr>\n",
       "</tbody>\n",
       "</table>\n"
      ],
      "text/latex": [
       "\\begin{tabular}{r|lllllllll}\n",
       " year & month & day & dep\\_delay & arr\\_delay & distance & air\\_time & gain & speed\\\\\n",
       "\\hline\n",
       "\t 2013     & 1        & 1        &  2       &  11      & 1400     & 227      &   9      & 370.0441\\\\\n",
       "\t 2013     & 1        & 1        &  4       &  20      & 1416     & 227      &  16      & 374.2731\\\\\n",
       "\t 2013     & 1        & 1        &  2       &  33      & 1089     & 160      &  31      & 408.3750\\\\\n",
       "\t 2013     & 1        & 1        & -1       & -18      & 1576     & 183      & -17      & 516.7213\\\\\n",
       "\t 2013     & 1        & 1        & -6       & -25      &  762     & 116      & -19      & 394.1379\\\\\n",
       "\t 2013     & 1        & 1        & -4       &  12      &  719     & 150      &  16      & 287.6000\\\\\n",
       "\\end{tabular}\n"
      ],
      "text/markdown": [
       "\n",
       "| year | month | day | dep_delay | arr_delay | distance | air_time | gain | speed |\n",
       "|---|---|---|---|---|---|---|---|---|\n",
       "| 2013     | 1        | 1        |  2       |  11      | 1400     | 227      |   9      | 370.0441 |\n",
       "| 2013     | 1        | 1        |  4       |  20      | 1416     | 227      |  16      | 374.2731 |\n",
       "| 2013     | 1        | 1        |  2       |  33      | 1089     | 160      |  31      | 408.3750 |\n",
       "| 2013     | 1        | 1        | -1       | -18      | 1576     | 183      | -17      | 516.7213 |\n",
       "| 2013     | 1        | 1        | -6       | -25      |  762     | 116      | -19      | 394.1379 |\n",
       "| 2013     | 1        | 1        | -4       |  12      |  719     | 150      |  16      | 287.6000 |\n",
       "\n"
      ],
      "text/plain": [
       "  year month day dep_delay arr_delay distance air_time gain speed   \n",
       "1 2013 1     1    2         11       1400     227        9  370.0441\n",
       "2 2013 1     1    4         20       1416     227       16  374.2731\n",
       "3 2013 1     1    2         33       1089     160       31  408.3750\n",
       "4 2013 1     1   -1        -18       1576     183      -17  516.7213\n",
       "5 2013 1     1   -6        -25        762     116      -19  394.1379\n",
       "6 2013 1     1   -4         12        719     150       16  287.6000"
      ]
     },
     "metadata": {},
     "output_type": "display_data"
    }
   ],
   "source": [
    "flights_sml <- select(flights, \n",
    "                     year:day, \n",
    "                     ends_with('delay'),\n",
    "                     distance,\n",
    "                     air_time)\n",
    "head(mutate(\n",
    "    flights_sml, \n",
    "    gain = arr_delay - dep_delay,\n",
    "    speed = distance / air_time * 60\n",
    "))"
   ]
  },
  {
   "cell_type": "markdown",
   "id": "b215f888",
   "metadata": {},
   "source": [
    "Note <- mutate() can refer to the newly created columns."
   ]
  },
  {
   "cell_type": "code",
   "execution_count": 29,
   "id": "9ed17df7",
   "metadata": {},
   "outputs": [
    {
     "data": {
      "text/html": [
       "<table>\n",
       "<thead><tr><th scope=col>year</th><th scope=col>month</th><th scope=col>day</th><th scope=col>dep_delay</th><th scope=col>arr_delay</th><th scope=col>distance</th><th scope=col>air_time</th><th scope=col>gain</th><th scope=col>hours</th><th scope=col>gain_per_hour</th></tr></thead>\n",
       "<tbody>\n",
       "\t<tr><td>2013     </td><td>1        </td><td>1        </td><td> 2       </td><td> 11      </td><td>1400     </td><td>227      </td><td>  9      </td><td>3.783333 </td><td> 2.378855</td></tr>\n",
       "\t<tr><td>2013     </td><td>1        </td><td>1        </td><td> 4       </td><td> 20      </td><td>1416     </td><td>227      </td><td> 16      </td><td>3.783333 </td><td> 4.229075</td></tr>\n",
       "\t<tr><td>2013     </td><td>1        </td><td>1        </td><td> 2       </td><td> 33      </td><td>1089     </td><td>160      </td><td> 31      </td><td>2.666667 </td><td>11.625000</td></tr>\n",
       "\t<tr><td>2013     </td><td>1        </td><td>1        </td><td>-1       </td><td>-18      </td><td>1576     </td><td>183      </td><td>-17      </td><td>3.050000 </td><td>-5.573770</td></tr>\n",
       "\t<tr><td>2013     </td><td>1        </td><td>1        </td><td>-6       </td><td>-25      </td><td> 762     </td><td>116      </td><td>-19      </td><td>1.933333 </td><td>-9.827586</td></tr>\n",
       "\t<tr><td>2013     </td><td>1        </td><td>1        </td><td>-4       </td><td> 12      </td><td> 719     </td><td>150      </td><td> 16      </td><td>2.500000 </td><td> 6.400000</td></tr>\n",
       "</tbody>\n",
       "</table>\n"
      ],
      "text/latex": [
       "\\begin{tabular}{r|llllllllll}\n",
       " year & month & day & dep\\_delay & arr\\_delay & distance & air\\_time & gain & hours & gain\\_per\\_hour\\\\\n",
       "\\hline\n",
       "\t 2013      & 1         & 1         &  2        &  11       & 1400      & 227       &   9       & 3.783333  &  2.378855\\\\\n",
       "\t 2013      & 1         & 1         &  4        &  20       & 1416      & 227       &  16       & 3.783333  &  4.229075\\\\\n",
       "\t 2013      & 1         & 1         &  2        &  33       & 1089      & 160       &  31       & 2.666667  & 11.625000\\\\\n",
       "\t 2013      & 1         & 1         & -1        & -18       & 1576      & 183       & -17       & 3.050000  & -5.573770\\\\\n",
       "\t 2013      & 1         & 1         & -6        & -25       &  762      & 116       & -19       & 1.933333  & -9.827586\\\\\n",
       "\t 2013      & 1         & 1         & -4        &  12       &  719      & 150       &  16       & 2.500000  &  6.400000\\\\\n",
       "\\end{tabular}\n"
      ],
      "text/markdown": [
       "\n",
       "| year | month | day | dep_delay | arr_delay | distance | air_time | gain | hours | gain_per_hour |\n",
       "|---|---|---|---|---|---|---|---|---|---|\n",
       "| 2013      | 1         | 1         |  2        |  11       | 1400      | 227       |   9       | 3.783333  |  2.378855 |\n",
       "| 2013      | 1         | 1         |  4        |  20       | 1416      | 227       |  16       | 3.783333  |  4.229075 |\n",
       "| 2013      | 1         | 1         |  2        |  33       | 1089      | 160       |  31       | 2.666667  | 11.625000 |\n",
       "| 2013      | 1         | 1         | -1        | -18       | 1576      | 183       | -17       | 3.050000  | -5.573770 |\n",
       "| 2013      | 1         | 1         | -6        | -25       |  762      | 116       | -19       | 1.933333  | -9.827586 |\n",
       "| 2013      | 1         | 1         | -4        |  12       |  719      | 150       |  16       | 2.500000  |  6.400000 |\n",
       "\n"
      ],
      "text/plain": [
       "  year month day dep_delay arr_delay distance air_time gain hours   \n",
       "1 2013 1     1    2         11       1400     227        9  3.783333\n",
       "2 2013 1     1    4         20       1416     227       16  3.783333\n",
       "3 2013 1     1    2         33       1089     160       31  2.666667\n",
       "4 2013 1     1   -1        -18       1576     183      -17  3.050000\n",
       "5 2013 1     1   -6        -25        762     116      -19  1.933333\n",
       "6 2013 1     1   -4         12        719     150       16  2.500000\n",
       "  gain_per_hour\n",
       "1  2.378855    \n",
       "2  4.229075    \n",
       "3 11.625000    \n",
       "4 -5.573770    \n",
       "5 -9.827586    \n",
       "6  6.400000    "
      ]
     },
     "metadata": {},
     "output_type": "display_data"
    }
   ],
   "source": [
    "head(mutate(flights_sml, \n",
    "      gain = arr_delay - dep_delay,\n",
    "      hours = air_time / 60,\n",
    "      gain_per_hour = gain / hours))"
   ]
  },
  {
   "cell_type": "markdown",
   "id": "479b5c60",
   "metadata": {},
   "source": [
    "Use transmute() to only keep the new columns in the dataframe."
   ]
  },
  {
   "cell_type": "code",
   "execution_count": 30,
   "id": "bdfb52da",
   "metadata": {},
   "outputs": [
    {
     "data": {
      "text/html": [
       "<table>\n",
       "<thead><tr><th scope=col>gain</th><th scope=col>hours</th><th scope=col>gain_per_hour</th></tr></thead>\n",
       "<tbody>\n",
       "\t<tr><td>  9      </td><td>3.783333 </td><td> 2.378855</td></tr>\n",
       "\t<tr><td> 16      </td><td>3.783333 </td><td> 4.229075</td></tr>\n",
       "\t<tr><td> 31      </td><td>2.666667 </td><td>11.625000</td></tr>\n",
       "\t<tr><td>-17      </td><td>3.050000 </td><td>-5.573770</td></tr>\n",
       "\t<tr><td>-19      </td><td>1.933333 </td><td>-9.827586</td></tr>\n",
       "\t<tr><td> 16      </td><td>2.500000 </td><td> 6.400000</td></tr>\n",
       "</tbody>\n",
       "</table>\n"
      ],
      "text/latex": [
       "\\begin{tabular}{r|lll}\n",
       " gain & hours & gain\\_per\\_hour\\\\\n",
       "\\hline\n",
       "\t   9       & 3.783333  &  2.378855\\\\\n",
       "\t  16       & 3.783333  &  4.229075\\\\\n",
       "\t  31       & 2.666667  & 11.625000\\\\\n",
       "\t -17       & 3.050000  & -5.573770\\\\\n",
       "\t -19       & 1.933333  & -9.827586\\\\\n",
       "\t  16       & 2.500000  &  6.400000\\\\\n",
       "\\end{tabular}\n"
      ],
      "text/markdown": [
       "\n",
       "| gain | hours | gain_per_hour |\n",
       "|---|---|---|\n",
       "|   9       | 3.783333  |  2.378855 |\n",
       "|  16       | 3.783333  |  4.229075 |\n",
       "|  31       | 2.666667  | 11.625000 |\n",
       "| -17       | 3.050000  | -5.573770 |\n",
       "| -19       | 1.933333  | -9.827586 |\n",
       "|  16       | 2.500000  |  6.400000 |\n",
       "\n"
      ],
      "text/plain": [
       "  gain hours    gain_per_hour\n",
       "1   9  3.783333  2.378855    \n",
       "2  16  3.783333  4.229075    \n",
       "3  31  2.666667 11.625000    \n",
       "4 -17  3.050000 -5.573770    \n",
       "5 -19  1.933333 -9.827586    \n",
       "6  16  2.500000  6.400000    "
      ]
     },
     "metadata": {},
     "output_type": "display_data"
    }
   ],
   "source": [
    "head(transmute(flights_sml,\n",
    "          gain = arr_delay - dep_delay,\n",
    "          hours = air_time / 60,\n",
    "          gain_per_hour = gain / hours))"
   ]
  },
  {
   "cell_type": "markdown",
   "id": "aa80350d",
   "metadata": {},
   "source": [
    "Generally used functions with mutate() <- The key property is that the function must be vectorized.\n",
    "\n",
    "* Arithmetic Operators (+, -, *, /, ^) <- if one parameter is shorter than the other, it will be automatically be extended to be the same length. This is most useful when one argument is a single number. Also useful in conjunction with the aggregate functions.\n",
    "* Modular arthmetic (%/% and %%) <- %/% (integer division) and %% (remainder), where x == y* (x %/% y) + (x %% y).Helpful to calculate hours and minutes from the time provided. \n",
    "* Logarithms (log(), log2(), log10()) <- Useful transformation for dealing with data that ranges across multiple orders of magnitude. It also converts multiplicative relationships to additive. (Recommended to use log2() because it's easy to interpret :  a difference of 1 on the log scale corresponds to doubling on the original scale and a difference of -1 corresponds to halving.)\n",
    "* Offsets <- lead() and lag() allows to refer to leading and lagging values. It also allows to compute running differences (eg: x - lag(x)) or find value change (eg: x!= lag(x)). Most useful in conjunction with group_by().\n",
    "* Culumative and Rolling Aggregates <- R Functions for running sums, products, mins, maxes: cumsum(), cumprod(), cummin(), cummax(), respectively. dplyr function for cumulative mean : cummean(). (If rolling aggregates are needed, try RcppRoll package.)\n",
    "* Logical Operators (<, <=, >, >=, !=)\n",
    "* Ranking <- Use min_rank() to sort ranks in ascending order(default gives the smallest value the smallest rank). Other variants are row_number(), dense_rank(), percent_rank(), cume_dist() and ntile()."
   ]
  },
  {
   "cell_type": "code",
   "execution_count": 31,
   "id": "f189a6e7",
   "metadata": {},
   "outputs": [
    {
     "data": {
      "text/html": [
       "<table>\n",
       "<thead><tr><th scope=col>dep_time</th><th scope=col>hours</th><th scope=col>minutes</th></tr></thead>\n",
       "<tbody>\n",
       "\t<tr><td>517</td><td>5  </td><td>17 </td></tr>\n",
       "\t<tr><td>533</td><td>5  </td><td>33 </td></tr>\n",
       "\t<tr><td>542</td><td>5  </td><td>42 </td></tr>\n",
       "\t<tr><td>544</td><td>5  </td><td>44 </td></tr>\n",
       "\t<tr><td>554</td><td>5  </td><td>54 </td></tr>\n",
       "\t<tr><td>554</td><td>5  </td><td>54 </td></tr>\n",
       "</tbody>\n",
       "</table>\n"
      ],
      "text/latex": [
       "\\begin{tabular}{r|lll}\n",
       " dep\\_time & hours & minutes\\\\\n",
       "\\hline\n",
       "\t 517 & 5   & 17 \\\\\n",
       "\t 533 & 5   & 33 \\\\\n",
       "\t 542 & 5   & 42 \\\\\n",
       "\t 544 & 5   & 44 \\\\\n",
       "\t 554 & 5   & 54 \\\\\n",
       "\t 554 & 5   & 54 \\\\\n",
       "\\end{tabular}\n"
      ],
      "text/markdown": [
       "\n",
       "| dep_time | hours | minutes |\n",
       "|---|---|---|\n",
       "| 517 | 5   | 17  |\n",
       "| 533 | 5   | 33  |\n",
       "| 542 | 5   | 42  |\n",
       "| 544 | 5   | 44  |\n",
       "| 554 | 5   | 54  |\n",
       "| 554 | 5   | 54  |\n",
       "\n"
      ],
      "text/plain": [
       "  dep_time hours minutes\n",
       "1 517      5     17     \n",
       "2 533      5     33     \n",
       "3 542      5     42     \n",
       "4 544      5     44     \n",
       "5 554      5     54     \n",
       "6 554      5     54     "
      ]
     },
     "metadata": {},
     "output_type": "display_data"
    }
   ],
   "source": [
    "# Modular Arithmetic\n",
    "head(transmute(flights, dep_time, hours = dep_time %/% 100, minutes = dep_time %% 100))"
   ]
  },
  {
   "cell_type": "code",
   "execution_count": 32,
   "id": "8ad1ae5f",
   "metadata": {},
   "outputs": [
    {
     "data": {
      "text/html": [
       "<ol class=list-inline>\n",
       "\t<li>1</li>\n",
       "\t<li>2</li>\n",
       "\t<li>3</li>\n",
       "\t<li>4</li>\n",
       "\t<li>5</li>\n",
       "\t<li>6</li>\n",
       "\t<li>7</li>\n",
       "\t<li>8</li>\n",
       "\t<li>9</li>\n",
       "\t<li>10</li>\n",
       "</ol>\n"
      ],
      "text/latex": [
       "\\begin{enumerate*}\n",
       "\\item 1\n",
       "\\item 2\n",
       "\\item 3\n",
       "\\item 4\n",
       "\\item 5\n",
       "\\item 6\n",
       "\\item 7\n",
       "\\item 8\n",
       "\\item 9\n",
       "\\item 10\n",
       "\\end{enumerate*}\n"
      ],
      "text/markdown": [
       "1. 1\n",
       "2. 2\n",
       "3. 3\n",
       "4. 4\n",
       "5. 5\n",
       "6. 6\n",
       "7. 7\n",
       "8. 8\n",
       "9. 9\n",
       "10. 10\n",
       "\n",
       "\n"
      ],
      "text/plain": [
       " [1]  1  2  3  4  5  6  7  8  9 10"
      ]
     },
     "metadata": {},
     "output_type": "display_data"
    },
    {
     "data": {
      "text/html": [
       "<ol class=list-inline>\n",
       "\t<li>&lt;NA&gt;</li>\n",
       "\t<li>1</li>\n",
       "\t<li>2</li>\n",
       "\t<li>3</li>\n",
       "\t<li>4</li>\n",
       "\t<li>5</li>\n",
       "\t<li>6</li>\n",
       "\t<li>7</li>\n",
       "\t<li>8</li>\n",
       "\t<li>9</li>\n",
       "</ol>\n"
      ],
      "text/latex": [
       "\\begin{enumerate*}\n",
       "\\item <NA>\n",
       "\\item 1\n",
       "\\item 2\n",
       "\\item 3\n",
       "\\item 4\n",
       "\\item 5\n",
       "\\item 6\n",
       "\\item 7\n",
       "\\item 8\n",
       "\\item 9\n",
       "\\end{enumerate*}\n"
      ],
      "text/markdown": [
       "1. &lt;NA&gt;\n",
       "2. 1\n",
       "3. 2\n",
       "4. 3\n",
       "5. 4\n",
       "6. 5\n",
       "7. 6\n",
       "8. 7\n",
       "9. 8\n",
       "10. 9\n",
       "\n",
       "\n"
      ],
      "text/plain": [
       " [1] NA  1  2  3  4  5  6  7  8  9"
      ]
     },
     "metadata": {},
     "output_type": "display_data"
    },
    {
     "data": {
      "text/html": [
       "<ol class=list-inline>\n",
       "\t<li>2</li>\n",
       "\t<li>3</li>\n",
       "\t<li>4</li>\n",
       "\t<li>5</li>\n",
       "\t<li>6</li>\n",
       "\t<li>7</li>\n",
       "\t<li>8</li>\n",
       "\t<li>9</li>\n",
       "\t<li>10</li>\n",
       "\t<li>&lt;NA&gt;</li>\n",
       "</ol>\n"
      ],
      "text/latex": [
       "\\begin{enumerate*}\n",
       "\\item 2\n",
       "\\item 3\n",
       "\\item 4\n",
       "\\item 5\n",
       "\\item 6\n",
       "\\item 7\n",
       "\\item 8\n",
       "\\item 9\n",
       "\\item 10\n",
       "\\item <NA>\n",
       "\\end{enumerate*}\n"
      ],
      "text/markdown": [
       "1. 2\n",
       "2. 3\n",
       "3. 4\n",
       "4. 5\n",
       "5. 6\n",
       "6. 7\n",
       "7. 8\n",
       "8. 9\n",
       "9. 10\n",
       "10. &lt;NA&gt;\n",
       "\n",
       "\n"
      ],
      "text/plain": [
       " [1]  2  3  4  5  6  7  8  9 10 NA"
      ]
     },
     "metadata": {},
     "output_type": "display_data"
    }
   ],
   "source": [
    "# Offsets\n",
    "(x <- 1:10)\n",
    "lag(x)\n",
    "lead(x)"
   ]
  },
  {
   "cell_type": "code",
   "execution_count": 33,
   "id": "e39e42a1",
   "metadata": {},
   "outputs": [
    {
     "data": {
      "text/html": [
       "<ol class=list-inline>\n",
       "\t<li>1</li>\n",
       "\t<li>3</li>\n",
       "\t<li>6</li>\n",
       "\t<li>10</li>\n",
       "\t<li>15</li>\n",
       "\t<li>21</li>\n",
       "\t<li>28</li>\n",
       "\t<li>36</li>\n",
       "\t<li>45</li>\n",
       "\t<li>55</li>\n",
       "</ol>\n"
      ],
      "text/latex": [
       "\\begin{enumerate*}\n",
       "\\item 1\n",
       "\\item 3\n",
       "\\item 6\n",
       "\\item 10\n",
       "\\item 15\n",
       "\\item 21\n",
       "\\item 28\n",
       "\\item 36\n",
       "\\item 45\n",
       "\\item 55\n",
       "\\end{enumerate*}\n"
      ],
      "text/markdown": [
       "1. 1\n",
       "2. 3\n",
       "3. 6\n",
       "4. 10\n",
       "5. 15\n",
       "6. 21\n",
       "7. 28\n",
       "8. 36\n",
       "9. 45\n",
       "10. 55\n",
       "\n",
       "\n"
      ],
      "text/plain": [
       " [1]  1  3  6 10 15 21 28 36 45 55"
      ]
     },
     "metadata": {},
     "output_type": "display_data"
    },
    {
     "data": {
      "text/html": [
       "<ol class=list-inline>\n",
       "\t<li>1</li>\n",
       "\t<li>2</li>\n",
       "\t<li>6</li>\n",
       "\t<li>24</li>\n",
       "\t<li>120</li>\n",
       "\t<li>720</li>\n",
       "\t<li>5040</li>\n",
       "\t<li>40320</li>\n",
       "\t<li>362880</li>\n",
       "\t<li>3628800</li>\n",
       "</ol>\n"
      ],
      "text/latex": [
       "\\begin{enumerate*}\n",
       "\\item 1\n",
       "\\item 2\n",
       "\\item 6\n",
       "\\item 24\n",
       "\\item 120\n",
       "\\item 720\n",
       "\\item 5040\n",
       "\\item 40320\n",
       "\\item 362880\n",
       "\\item 3628800\n",
       "\\end{enumerate*}\n"
      ],
      "text/markdown": [
       "1. 1\n",
       "2. 2\n",
       "3. 6\n",
       "4. 24\n",
       "5. 120\n",
       "6. 720\n",
       "7. 5040\n",
       "8. 40320\n",
       "9. 362880\n",
       "10. 3628800\n",
       "\n",
       "\n"
      ],
      "text/plain": [
       " [1]       1       2       6      24     120     720    5040   40320  362880\n",
       "[10] 3628800"
      ]
     },
     "metadata": {},
     "output_type": "display_data"
    },
    {
     "data": {
      "text/html": [
       "<ol class=list-inline>\n",
       "\t<li>1</li>\n",
       "\t<li>1</li>\n",
       "\t<li>1</li>\n",
       "\t<li>1</li>\n",
       "\t<li>1</li>\n",
       "\t<li>1</li>\n",
       "\t<li>1</li>\n",
       "\t<li>1</li>\n",
       "\t<li>1</li>\n",
       "\t<li>1</li>\n",
       "</ol>\n"
      ],
      "text/latex": [
       "\\begin{enumerate*}\n",
       "\\item 1\n",
       "\\item 1\n",
       "\\item 1\n",
       "\\item 1\n",
       "\\item 1\n",
       "\\item 1\n",
       "\\item 1\n",
       "\\item 1\n",
       "\\item 1\n",
       "\\item 1\n",
       "\\end{enumerate*}\n"
      ],
      "text/markdown": [
       "1. 1\n",
       "2. 1\n",
       "3. 1\n",
       "4. 1\n",
       "5. 1\n",
       "6. 1\n",
       "7. 1\n",
       "8. 1\n",
       "9. 1\n",
       "10. 1\n",
       "\n",
       "\n"
      ],
      "text/plain": [
       " [1] 1 1 1 1 1 1 1 1 1 1"
      ]
     },
     "metadata": {},
     "output_type": "display_data"
    },
    {
     "data": {
      "text/html": [
       "<ol class=list-inline>\n",
       "\t<li>1</li>\n",
       "\t<li>2</li>\n",
       "\t<li>3</li>\n",
       "\t<li>4</li>\n",
       "\t<li>5</li>\n",
       "\t<li>6</li>\n",
       "\t<li>7</li>\n",
       "\t<li>8</li>\n",
       "\t<li>9</li>\n",
       "\t<li>10</li>\n",
       "</ol>\n"
      ],
      "text/latex": [
       "\\begin{enumerate*}\n",
       "\\item 1\n",
       "\\item 2\n",
       "\\item 3\n",
       "\\item 4\n",
       "\\item 5\n",
       "\\item 6\n",
       "\\item 7\n",
       "\\item 8\n",
       "\\item 9\n",
       "\\item 10\n",
       "\\end{enumerate*}\n"
      ],
      "text/markdown": [
       "1. 1\n",
       "2. 2\n",
       "3. 3\n",
       "4. 4\n",
       "5. 5\n",
       "6. 6\n",
       "7. 7\n",
       "8. 8\n",
       "9. 9\n",
       "10. 10\n",
       "\n",
       "\n"
      ],
      "text/plain": [
       " [1]  1  2  3  4  5  6  7  8  9 10"
      ]
     },
     "metadata": {},
     "output_type": "display_data"
    },
    {
     "data": {
      "text/html": [
       "<ol class=list-inline>\n",
       "\t<li>1</li>\n",
       "\t<li>1.5</li>\n",
       "\t<li>2</li>\n",
       "\t<li>2.5</li>\n",
       "\t<li>3</li>\n",
       "\t<li>3.5</li>\n",
       "\t<li>4</li>\n",
       "\t<li>4.5</li>\n",
       "\t<li>5</li>\n",
       "\t<li>5.5</li>\n",
       "</ol>\n"
      ],
      "text/latex": [
       "\\begin{enumerate*}\n",
       "\\item 1\n",
       "\\item 1.5\n",
       "\\item 2\n",
       "\\item 2.5\n",
       "\\item 3\n",
       "\\item 3.5\n",
       "\\item 4\n",
       "\\item 4.5\n",
       "\\item 5\n",
       "\\item 5.5\n",
       "\\end{enumerate*}\n"
      ],
      "text/markdown": [
       "1. 1\n",
       "2. 1.5\n",
       "3. 2\n",
       "4. 2.5\n",
       "5. 3\n",
       "6. 3.5\n",
       "7. 4\n",
       "8. 4.5\n",
       "9. 5\n",
       "10. 5.5\n",
       "\n",
       "\n"
      ],
      "text/plain": [
       " [1] 1.0 1.5 2.0 2.5 3.0 3.5 4.0 4.5 5.0 5.5"
      ]
     },
     "metadata": {},
     "output_type": "display_data"
    }
   ],
   "source": [
    "# Cumulative and Rolling Aggregates\n",
    "cumsum(x)\n",
    "cumprod(x)\n",
    "cummin(x)\n",
    "cummax(x)\n",
    "cummean(x)"
   ]
  },
  {
   "cell_type": "code",
   "execution_count": 34,
   "id": "527b47dc",
   "metadata": {},
   "outputs": [
    {
     "data": {
      "text/html": [
       "<ol class=list-inline>\n",
       "\t<li>1</li>\n",
       "\t<li>2</li>\n",
       "\t<li>2</li>\n",
       "\t<li>&lt;NA&gt;</li>\n",
       "\t<li>4</li>\n",
       "\t<li>5</li>\n",
       "\t<li>6</li>\n",
       "</ol>\n"
      ],
      "text/latex": [
       "\\begin{enumerate*}\n",
       "\\item 1\n",
       "\\item 2\n",
       "\\item 2\n",
       "\\item <NA>\n",
       "\\item 4\n",
       "\\item 5\n",
       "\\item 6\n",
       "\\end{enumerate*}\n"
      ],
      "text/markdown": [
       "1. 1\n",
       "2. 2\n",
       "3. 2\n",
       "4. &lt;NA&gt;\n",
       "5. 4\n",
       "6. 5\n",
       "7. 6\n",
       "\n",
       "\n"
      ],
      "text/plain": [
       "[1]  1  2  2 NA  4  5  6"
      ]
     },
     "metadata": {},
     "output_type": "display_data"
    },
    {
     "data": {
      "text/html": [
       "<ol class=list-inline>\n",
       "\t<li>1</li>\n",
       "\t<li>2</li>\n",
       "\t<li>3</li>\n",
       "\t<li>&lt;NA&gt;</li>\n",
       "\t<li>4</li>\n",
       "\t<li>5</li>\n",
       "\t<li>6</li>\n",
       "</ol>\n"
      ],
      "text/latex": [
       "\\begin{enumerate*}\n",
       "\\item 1\n",
       "\\item 2\n",
       "\\item 3\n",
       "\\item <NA>\n",
       "\\item 4\n",
       "\\item 5\n",
       "\\item 6\n",
       "\\end{enumerate*}\n"
      ],
      "text/markdown": [
       "1. 1\n",
       "2. 2\n",
       "3. 3\n",
       "4. &lt;NA&gt;\n",
       "5. 4\n",
       "6. 5\n",
       "7. 6\n",
       "\n",
       "\n"
      ],
      "text/plain": [
       "[1]  1  2  3 NA  4  5  6"
      ]
     },
     "metadata": {},
     "output_type": "display_data"
    },
    {
     "data": {
      "text/html": [
       "<ol class=list-inline>\n",
       "\t<li>5</li>\n",
       "\t<li>4</li>\n",
       "\t<li>4</li>\n",
       "\t<li>&lt;NA&gt;</li>\n",
       "\t<li>3</li>\n",
       "\t<li>2</li>\n",
       "\t<li>1</li>\n",
       "</ol>\n"
      ],
      "text/latex": [
       "\\begin{enumerate*}\n",
       "\\item 5\n",
       "\\item 4\n",
       "\\item 4\n",
       "\\item <NA>\n",
       "\\item 3\n",
       "\\item 2\n",
       "\\item 1\n",
       "\\end{enumerate*}\n"
      ],
      "text/markdown": [
       "1. 5\n",
       "2. 4\n",
       "3. 4\n",
       "4. &lt;NA&gt;\n",
       "5. 3\n",
       "6. 2\n",
       "7. 1\n",
       "\n",
       "\n"
      ],
      "text/plain": [
       "[1]  5  4  4 NA  3  2  1"
      ]
     },
     "metadata": {},
     "output_type": "display_data"
    },
    {
     "data": {
      "text/html": [
       "<ol class=list-inline>\n",
       "\t<li>0</li>\n",
       "\t<li>0.2</li>\n",
       "\t<li>0.2</li>\n",
       "\t<li>&lt;NA&gt;</li>\n",
       "\t<li>0.6</li>\n",
       "\t<li>0.8</li>\n",
       "\t<li>1</li>\n",
       "</ol>\n"
      ],
      "text/latex": [
       "\\begin{enumerate*}\n",
       "\\item 0\n",
       "\\item 0.2\n",
       "\\item 0.2\n",
       "\\item <NA>\n",
       "\\item 0.6\n",
       "\\item 0.8\n",
       "\\item 1\n",
       "\\end{enumerate*}\n"
      ],
      "text/markdown": [
       "1. 0\n",
       "2. 0.2\n",
       "3. 0.2\n",
       "4. &lt;NA&gt;\n",
       "5. 0.6\n",
       "6. 0.8\n",
       "7. 1\n",
       "\n",
       "\n"
      ],
      "text/plain": [
       "[1] 0.0 0.2 0.2  NA 0.6 0.8 1.0"
      ]
     },
     "metadata": {},
     "output_type": "display_data"
    },
    {
     "data": {
      "text/html": [
       "<ol class=list-inline>\n",
       "\t<li>0.166666666666667</li>\n",
       "\t<li>0.5</li>\n",
       "\t<li>0.5</li>\n",
       "\t<li>&lt;NA&gt;</li>\n",
       "\t<li>0.666666666666667</li>\n",
       "\t<li>0.833333333333333</li>\n",
       "\t<li>1</li>\n",
       "</ol>\n"
      ],
      "text/latex": [
       "\\begin{enumerate*}\n",
       "\\item 0.166666666666667\n",
       "\\item 0.5\n",
       "\\item 0.5\n",
       "\\item <NA>\n",
       "\\item 0.666666666666667\n",
       "\\item 0.833333333333333\n",
       "\\item 1\n",
       "\\end{enumerate*}\n"
      ],
      "text/markdown": [
       "1. 0.166666666666667\n",
       "2. 0.5\n",
       "3. 0.5\n",
       "4. &lt;NA&gt;\n",
       "5. 0.666666666666667\n",
       "6. 0.833333333333333\n",
       "7. 1\n",
       "\n",
       "\n"
      ],
      "text/plain": [
       "[1] 0.1666667 0.5000000 0.5000000        NA 0.6666667 0.8333333 1.0000000"
      ]
     },
     "metadata": {},
     "output_type": "display_data"
    },
    {
     "data": {
      "text/html": [
       "<ol class=list-inline>\n",
       "\t<li>1</li>\n",
       "\t<li>1</li>\n",
       "\t<li>2</li>\n",
       "\t<li>&lt;NA&gt;</li>\n",
       "\t<li>3</li>\n",
       "\t<li>4</li>\n",
       "\t<li>5</li>\n",
       "</ol>\n"
      ],
      "text/latex": [
       "\\begin{enumerate*}\n",
       "\\item 1\n",
       "\\item 1\n",
       "\\item 2\n",
       "\\item <NA>\n",
       "\\item 3\n",
       "\\item 4\n",
       "\\item 5\n",
       "\\end{enumerate*}\n"
      ],
      "text/markdown": [
       "1. 1\n",
       "2. 1\n",
       "3. 2\n",
       "4. &lt;NA&gt;\n",
       "5. 3\n",
       "6. 4\n",
       "7. 5\n",
       "\n",
       "\n"
      ],
      "text/plain": [
       "[1]  1  1  2 NA  3  4  5"
      ]
     },
     "metadata": {},
     "output_type": "display_data"
    }
   ],
   "source": [
    "# Ranking\n",
    "y <- c(1, 2, 2, NA, 3, 4, 7)\n",
    "\n",
    "min_rank(y)\n",
    "row_number(y)\n",
    "dense_rank(desc(y))\n",
    "percent_rank(y)\n",
    "cume_dist(y)\n",
    "ntile(y, n = 5)"
   ]
  },
  {
   "cell_type": "code",
   "execution_count": 35,
   "id": "b079c526",
   "metadata": {},
   "outputs": [
    {
     "data": {
      "text/html": [
       "<table>\n",
       "<thead><tr><th scope=col>dep_time</th><th scope=col>sched_dep_time</th><th scope=col>dep_time_in_min</th><th scope=col>sched_dep_time_in_min</th></tr></thead>\n",
       "<tbody>\n",
       "\t<tr><td>517</td><td>515</td><td>317</td><td>315</td></tr>\n",
       "\t<tr><td>533</td><td>529</td><td>333</td><td>329</td></tr>\n",
       "\t<tr><td>542</td><td>540</td><td>342</td><td>340</td></tr>\n",
       "\t<tr><td>544</td><td>545</td><td>344</td><td>345</td></tr>\n",
       "\t<tr><td>554</td><td>600</td><td>354</td><td>360</td></tr>\n",
       "\t<tr><td>554</td><td>558</td><td>354</td><td>358</td></tr>\n",
       "</tbody>\n",
       "</table>\n"
      ],
      "text/latex": [
       "\\begin{tabular}{r|llll}\n",
       " dep\\_time & sched\\_dep\\_time & dep\\_time\\_in\\_min & sched\\_dep\\_time\\_in\\_min\\\\\n",
       "\\hline\n",
       "\t 517 & 515 & 317 & 315\\\\\n",
       "\t 533 & 529 & 333 & 329\\\\\n",
       "\t 542 & 540 & 342 & 340\\\\\n",
       "\t 544 & 545 & 344 & 345\\\\\n",
       "\t 554 & 600 & 354 & 360\\\\\n",
       "\t 554 & 558 & 354 & 358\\\\\n",
       "\\end{tabular}\n"
      ],
      "text/markdown": [
       "\n",
       "| dep_time | sched_dep_time | dep_time_in_min | sched_dep_time_in_min |\n",
       "|---|---|---|---|\n",
       "| 517 | 515 | 317 | 315 |\n",
       "| 533 | 529 | 333 | 329 |\n",
       "| 542 | 540 | 342 | 340 |\n",
       "| 544 | 545 | 344 | 345 |\n",
       "| 554 | 600 | 354 | 360 |\n",
       "| 554 | 558 | 354 | 358 |\n",
       "\n"
      ],
      "text/plain": [
       "  dep_time sched_dep_time dep_time_in_min sched_dep_time_in_min\n",
       "1 517      515            317             315                  \n",
       "2 533      529            333             329                  \n",
       "3 542      540            342             340                  \n",
       "4 544      545            344             345                  \n",
       "5 554      600            354             360                  \n",
       "6 554      558            354             358                  "
      ]
     },
     "metadata": {},
     "output_type": "display_data"
    }
   ],
   "source": [
    "# Departure time (dep_time) & Scheduled Departure Time (sched_dep_time) converted to total number of minutes from midnight\n",
    "\n",
    "hrs_to_min <- function(x){\n",
    "    ((x %/% 100) * 60) + x %% 100\n",
    "}\n",
    "\n",
    "head(transmute(\n",
    "    flights, \n",
    "    dep_time,\n",
    "    sched_dep_time,\n",
    "    dep_time_in_min = hrs_to_min(dep_time), \n",
    "    sched_dep_time_in_min = hrs_to_min(sched_dep_time)\n",
    "))"
   ]
  },
  {
   "cell_type": "code",
   "execution_count": 36,
   "id": "6b729f10",
   "metadata": {},
   "outputs": [
    {
     "data": {
      "text/html": [
       "<table>\n",
       "<thead><tr><th scope=col>dep_time_in_min</th><th scope=col>sched_dep_time_in_min</th><th scope=col>difference_in_dep_delay</th></tr></thead>\n",
       "<tbody>\n",
       "\t<tr><td>317</td><td>315</td><td> 0 </td></tr>\n",
       "\t<tr><td>333</td><td>329</td><td> 0 </td></tr>\n",
       "\t<tr><td>342</td><td>340</td><td> 0 </td></tr>\n",
       "\t<tr><td>344</td><td>345</td><td> 0 </td></tr>\n",
       "\t<tr><td>354</td><td>360</td><td>40 </td></tr>\n",
       "\t<tr><td>354</td><td>358</td><td> 0 </td></tr>\n",
       "</tbody>\n",
       "</table>\n"
      ],
      "text/latex": [
       "\\begin{tabular}{r|lll}\n",
       " dep\\_time\\_in\\_min & sched\\_dep\\_time\\_in\\_min & difference\\_in\\_dep\\_delay\\\\\n",
       "\\hline\n",
       "\t 317 & 315 &  0 \\\\\n",
       "\t 333 & 329 &  0 \\\\\n",
       "\t 342 & 340 &  0 \\\\\n",
       "\t 344 & 345 &  0 \\\\\n",
       "\t 354 & 360 & 40 \\\\\n",
       "\t 354 & 358 &  0 \\\\\n",
       "\\end{tabular}\n"
      ],
      "text/markdown": [
       "\n",
       "| dep_time_in_min | sched_dep_time_in_min | difference_in_dep_delay |\n",
       "|---|---|---|\n",
       "| 317 | 315 |  0  |\n",
       "| 333 | 329 |  0  |\n",
       "| 342 | 340 |  0  |\n",
       "| 344 | 345 |  0  |\n",
       "| 354 | 360 | 40  |\n",
       "| 354 | 358 |  0  |\n",
       "\n"
      ],
      "text/plain": [
       "  dep_time_in_min sched_dep_time_in_min difference_in_dep_delay\n",
       "1 317             315                    0                     \n",
       "2 333             329                    0                     \n",
       "3 342             340                    0                     \n",
       "4 344             345                    0                     \n",
       "5 354             360                   40                     \n",
       "6 354             358                    0                     "
      ]
     },
     "metadata": {},
     "output_type": "display_data"
    },
    {
     "data": {
      "text/html": [
       "<ol class=list-inline>\n",
       "\t<li>99777</li>\n",
       "\t<li>3</li>\n",
       "</ol>\n"
      ],
      "text/latex": [
       "\\begin{enumerate*}\n",
       "\\item 99777\n",
       "\\item 3\n",
       "\\end{enumerate*}\n"
      ],
      "text/markdown": [
       "1. 99777\n",
       "2. 3\n",
       "\n",
       "\n"
      ],
      "text/plain": [
       "[1] 99777     3"
      ]
     },
     "metadata": {},
     "output_type": "display_data"
    }
   ],
   "source": [
    "# Relation between the dep_delay, sched-dep_time & dep_time\n",
    "head(departure_time <- transmute(flights,\n",
    "                          dep_time_in_min = ((dep_time %/% 100) * 60) + dep_time %% 100,\n",
    "                          sched_dep_time_in_min = ((sched_dep_time %/% 100) * 60) + sched_dep_time %% 100, \n",
    "                          difference_in_dep_delay = dep_delay - (dep_time - sched_dep_time)))\n",
    "\n",
    "dim(filter(departure_time, difference_in_dep_delay != 0)) "
   ]
  },
  {
   "cell_type": "markdown",
   "id": "1ec73b10",
   "metadata": {},
   "source": [
    "Cases in which the \"difference_in_dep_delay\" != 0 (i.e. difference in \"sched_dep_time\" and \"dep_time\" is not equal to \"dep_delay\") is due to a quirk in how these columns were stored."
   ]
  },
  {
   "cell_type": "code",
   "execution_count": 37,
   "id": "3a1a4d66",
   "metadata": {},
   "outputs": [
    {
     "data": {
      "text/html": [
       "<table>\n",
       "<thead><tr><th scope=col>dep_delay</th><th scope=col>delay_rank</th></tr></thead>\n",
       "<tbody>\n",
       "\t<tr><td>1301</td><td> 1  </td></tr>\n",
       "\t<tr><td>1137</td><td> 2  </td></tr>\n",
       "\t<tr><td>1126</td><td> 3  </td></tr>\n",
       "\t<tr><td>1014</td><td> 4  </td></tr>\n",
       "\t<tr><td>1005</td><td> 5  </td></tr>\n",
       "\t<tr><td> 960</td><td> 6  </td></tr>\n",
       "\t<tr><td> 911</td><td> 7  </td></tr>\n",
       "\t<tr><td> 899</td><td> 8  </td></tr>\n",
       "\t<tr><td> 898</td><td> 9  </td></tr>\n",
       "\t<tr><td> 896</td><td>10  </td></tr>\n",
       "</tbody>\n",
       "</table>\n"
      ],
      "text/latex": [
       "\\begin{tabular}{r|ll}\n",
       " dep\\_delay & delay\\_rank\\\\\n",
       "\\hline\n",
       "\t 1301 &  1  \\\\\n",
       "\t 1137 &  2  \\\\\n",
       "\t 1126 &  3  \\\\\n",
       "\t 1014 &  4  \\\\\n",
       "\t 1005 &  5  \\\\\n",
       "\t  960 &  6  \\\\\n",
       "\t  911 &  7  \\\\\n",
       "\t  899 &  8  \\\\\n",
       "\t  898 &  9  \\\\\n",
       "\t  896 & 10  \\\\\n",
       "\\end{tabular}\n"
      ],
      "text/markdown": [
       "\n",
       "| dep_delay | delay_rank |\n",
       "|---|---|\n",
       "| 1301 |  1   |\n",
       "| 1137 |  2   |\n",
       "| 1126 |  3   |\n",
       "| 1014 |  4   |\n",
       "| 1005 |  5   |\n",
       "|  960 |  6   |\n",
       "|  911 |  7   |\n",
       "|  899 |  8   |\n",
       "|  898 |  9   |\n",
       "|  896 | 10   |\n",
       "\n"
      ],
      "text/plain": [
       "   dep_delay delay_rank\n",
       "1  1301       1        \n",
       "2  1137       2        \n",
       "3  1126       3        \n",
       "4  1014       4        \n",
       "5  1005       5        \n",
       "6   960       6        \n",
       "7   911       7        \n",
       "8   899       8        \n",
       "9   898       9        \n",
       "10  896      10        "
      ]
     },
     "metadata": {},
     "output_type": "display_data"
    }
   ],
   "source": [
    "# 10  Most delayed flights\n",
    "\n",
    "new <- transmute(flights, dep_delay, delay_rank = dense_rank(desc(dep_delay)))\n",
    "head(arrange(new, delay_rank),10)"
   ]
  },
  {
   "cell_type": "code",
   "execution_count": 38,
   "id": "f00a3ccb",
   "metadata": {},
   "outputs": [
    {
     "data": {
      "text/html": [
       "<table>\n",
       "<thead><tr><th scope=col>year</th><th scope=col>month</th><th scope=col>day</th><th scope=col>dep_time</th><th scope=col>sched_dep_time</th><th scope=col>dep_delay</th><th scope=col>arr_time</th><th scope=col>sched_arr_time</th><th scope=col>arr_delay</th><th scope=col>carrier</th><th scope=col>flight</th><th scope=col>tailnum</th><th scope=col>origin</th><th scope=col>dest</th><th scope=col>air_time</th><th scope=col>distance</th><th scope=col>hour</th><th scope=col>minute</th><th scope=col>time_hour</th></tr></thead>\n",
       "<tbody>\n",
       "\t<tr><td>2013               </td><td> 1                 </td><td> 9                 </td><td> 641               </td><td> 900               </td><td>1301               </td><td>1242               </td><td>1530               </td><td>1272               </td><td>HA                 </td><td>  51               </td><td>N384HA             </td><td>JFK                </td><td>HNL                </td><td>640                </td><td>4983               </td><td> 9                 </td><td> 0                 </td><td>2013-01-09 09:00:00</td></tr>\n",
       "\t<tr><td>2013               </td><td> 1                 </td><td>10                 </td><td>1121               </td><td>1635               </td><td>1126               </td><td>1239               </td><td>1810               </td><td>1109               </td><td>MQ                 </td><td>3695               </td><td>N517MQ             </td><td>EWR                </td><td>ORD                </td><td>111                </td><td> 719               </td><td>16                 </td><td>35                 </td><td>2013-01-10 16:00:00</td></tr>\n",
       "\t<tr><td>2013               </td><td>12                 </td><td> 5                 </td><td> 756               </td><td>1700               </td><td> 896               </td><td>1058               </td><td>2020               </td><td> 878               </td><td>AA                 </td><td> 172               </td><td>N5DMAA             </td><td>EWR                </td><td>MIA                </td><td>149                </td><td>1085               </td><td>17                 </td><td> 0                 </td><td>2013-12-05 17:00:00</td></tr>\n",
       "\t<tr><td>2013               </td><td> 3                 </td><td>17                 </td><td>2321               </td><td> 810               </td><td> 911               </td><td> 135               </td><td>1020               </td><td> 915               </td><td>DL                 </td><td>2119               </td><td>N927DA             </td><td>LGA                </td><td>MSP                </td><td>167                </td><td>1020               </td><td> 8                 </td><td>10                 </td><td>2013-03-17 08:00:00</td></tr>\n",
       "\t<tr><td>2013               </td><td> 4                 </td><td>10                 </td><td>1100               </td><td>1900               </td><td> 960               </td><td>1342               </td><td>2211               </td><td> 931               </td><td>DL                 </td><td>2391               </td><td>N959DL             </td><td>JFK                </td><td>TPA                </td><td>139                </td><td>1005               </td><td>19                 </td><td> 0                 </td><td>2013-04-10 19:00:00</td></tr>\n",
       "\t<tr><td>2013               </td><td> 6                 </td><td>15                 </td><td>1432               </td><td>1935               </td><td>1137               </td><td>1607               </td><td>2120               </td><td>1127               </td><td>MQ                 </td><td>3535               </td><td>N504MQ             </td><td>JFK                </td><td>CMH                </td><td> 74                </td><td> 483               </td><td>19                 </td><td>35                 </td><td>2013-06-15 19:00:00</td></tr>\n",
       "\t<tr><td>2013               </td><td> 6                 </td><td>27                 </td><td> 959               </td><td>1900               </td><td> 899               </td><td>1236               </td><td>2226               </td><td> 850               </td><td>DL                 </td><td>2007               </td><td>N3762Y             </td><td>JFK                </td><td>PDX                </td><td>313                </td><td>2454               </td><td>19                 </td><td> 0                 </td><td>2013-06-27 19:00:00</td></tr>\n",
       "\t<tr><td>2013               </td><td> 7                 </td><td>22                 </td><td> 845               </td><td>1600               </td><td>1005               </td><td>1044               </td><td>1815               </td><td> 989               </td><td>MQ                 </td><td>3075               </td><td>N665MQ             </td><td>JFK                </td><td>CVG                </td><td> 96                </td><td> 589               </td><td>16                 </td><td> 0                 </td><td>2013-07-22 16:00:00</td></tr>\n",
       "\t<tr><td>2013               </td><td> 7                 </td><td>22                 </td><td>2257               </td><td> 759               </td><td> 898               </td><td> 121               </td><td>1026               </td><td> 895               </td><td>DL                 </td><td>2047               </td><td>N6716C             </td><td>LGA                </td><td>ATL                </td><td>109                </td><td> 762               </td><td> 7                 </td><td>59                 </td><td>2013-07-22 07:00:00</td></tr>\n",
       "\t<tr><td>2013               </td><td> 9                 </td><td>20                 </td><td>1139               </td><td>1845               </td><td>1014               </td><td>1457               </td><td>2210               </td><td>1007               </td><td>AA                 </td><td> 177               </td><td>N338AA             </td><td>JFK                </td><td>SFO                </td><td>354                </td><td>2586               </td><td>18                 </td><td>45                 </td><td>2013-09-20 18:00:00</td></tr>\n",
       "</tbody>\n",
       "</table>\n"
      ],
      "text/latex": [
       "\\begin{tabular}{r|lllllllllllllllllll}\n",
       " year & month & day & dep\\_time & sched\\_dep\\_time & dep\\_delay & arr\\_time & sched\\_arr\\_time & arr\\_delay & carrier & flight & tailnum & origin & dest & air\\_time & distance & hour & minute & time\\_hour\\\\\n",
       "\\hline\n",
       "\t 2013                &  1                  &  9                  &  641                &  900                & 1301                & 1242                & 1530                & 1272                & HA                  &   51                & N384HA              & JFK                 & HNL                 & 640                 & 4983                &  9                  &  0                  & 2013-01-09 09:00:00\\\\\n",
       "\t 2013                &  1                  & 10                  & 1121                & 1635                & 1126                & 1239                & 1810                & 1109                & MQ                  & 3695                & N517MQ              & EWR                 & ORD                 & 111                 &  719                & 16                  & 35                  & 2013-01-10 16:00:00\\\\\n",
       "\t 2013                & 12                  &  5                  &  756                & 1700                &  896                & 1058                & 2020                &  878                & AA                  &  172                & N5DMAA              & EWR                 & MIA                 & 149                 & 1085                & 17                  &  0                  & 2013-12-05 17:00:00\\\\\n",
       "\t 2013                &  3                  & 17                  & 2321                &  810                &  911                &  135                & 1020                &  915                & DL                  & 2119                & N927DA              & LGA                 & MSP                 & 167                 & 1020                &  8                  & 10                  & 2013-03-17 08:00:00\\\\\n",
       "\t 2013                &  4                  & 10                  & 1100                & 1900                &  960                & 1342                & 2211                &  931                & DL                  & 2391                & N959DL              & JFK                 & TPA                 & 139                 & 1005                & 19                  &  0                  & 2013-04-10 19:00:00\\\\\n",
       "\t 2013                &  6                  & 15                  & 1432                & 1935                & 1137                & 1607                & 2120                & 1127                & MQ                  & 3535                & N504MQ              & JFK                 & CMH                 &  74                 &  483                & 19                  & 35                  & 2013-06-15 19:00:00\\\\\n",
       "\t 2013                &  6                  & 27                  &  959                & 1900                &  899                & 1236                & 2226                &  850                & DL                  & 2007                & N3762Y              & JFK                 & PDX                 & 313                 & 2454                & 19                  &  0                  & 2013-06-27 19:00:00\\\\\n",
       "\t 2013                &  7                  & 22                  &  845                & 1600                & 1005                & 1044                & 1815                &  989                & MQ                  & 3075                & N665MQ              & JFK                 & CVG                 &  96                 &  589                & 16                  &  0                  & 2013-07-22 16:00:00\\\\\n",
       "\t 2013                &  7                  & 22                  & 2257                &  759                &  898                &  121                & 1026                &  895                & DL                  & 2047                & N6716C              & LGA                 & ATL                 & 109                 &  762                &  7                  & 59                  & 2013-07-22 07:00:00\\\\\n",
       "\t 2013                &  9                  & 20                  & 1139                & 1845                & 1014                & 1457                & 2210                & 1007                & AA                  &  177                & N338AA              & JFK                 & SFO                 & 354                 & 2586                & 18                  & 45                  & 2013-09-20 18:00:00\\\\\n",
       "\\end{tabular}\n"
      ],
      "text/markdown": [
       "\n",
       "| year | month | day | dep_time | sched_dep_time | dep_delay | arr_time | sched_arr_time | arr_delay | carrier | flight | tailnum | origin | dest | air_time | distance | hour | minute | time_hour |\n",
       "|---|---|---|---|---|---|---|---|---|---|---|---|---|---|---|---|---|---|---|\n",
       "| 2013                |  1                  |  9                  |  641                |  900                | 1301                | 1242                | 1530                | 1272                | HA                  |   51                | N384HA              | JFK                 | HNL                 | 640                 | 4983                |  9                  |  0                  | 2013-01-09 09:00:00 |\n",
       "| 2013                |  1                  | 10                  | 1121                | 1635                | 1126                | 1239                | 1810                | 1109                | MQ                  | 3695                | N517MQ              | EWR                 | ORD                 | 111                 |  719                | 16                  | 35                  | 2013-01-10 16:00:00 |\n",
       "| 2013                | 12                  |  5                  |  756                | 1700                |  896                | 1058                | 2020                |  878                | AA                  |  172                | N5DMAA              | EWR                 | MIA                 | 149                 | 1085                | 17                  |  0                  | 2013-12-05 17:00:00 |\n",
       "| 2013                |  3                  | 17                  | 2321                |  810                |  911                |  135                | 1020                |  915                | DL                  | 2119                | N927DA              | LGA                 | MSP                 | 167                 | 1020                |  8                  | 10                  | 2013-03-17 08:00:00 |\n",
       "| 2013                |  4                  | 10                  | 1100                | 1900                |  960                | 1342                | 2211                |  931                | DL                  | 2391                | N959DL              | JFK                 | TPA                 | 139                 | 1005                | 19                  |  0                  | 2013-04-10 19:00:00 |\n",
       "| 2013                |  6                  | 15                  | 1432                | 1935                | 1137                | 1607                | 2120                | 1127                | MQ                  | 3535                | N504MQ              | JFK                 | CMH                 |  74                 |  483                | 19                  | 35                  | 2013-06-15 19:00:00 |\n",
       "| 2013                |  6                  | 27                  |  959                | 1900                |  899                | 1236                | 2226                |  850                | DL                  | 2007                | N3762Y              | JFK                 | PDX                 | 313                 | 2454                | 19                  |  0                  | 2013-06-27 19:00:00 |\n",
       "| 2013                |  7                  | 22                  |  845                | 1600                | 1005                | 1044                | 1815                |  989                | MQ                  | 3075                | N665MQ              | JFK                 | CVG                 |  96                 |  589                | 16                  |  0                  | 2013-07-22 16:00:00 |\n",
       "| 2013                |  7                  | 22                  | 2257                |  759                |  898                |  121                | 1026                |  895                | DL                  | 2047                | N6716C              | LGA                 | ATL                 | 109                 |  762                |  7                  | 59                  | 2013-07-22 07:00:00 |\n",
       "| 2013                |  9                  | 20                  | 1139                | 1845                | 1014                | 1457                | 2210                | 1007                | AA                  |  177                | N338AA              | JFK                 | SFO                 | 354                 | 2586                | 18                  | 45                  | 2013-09-20 18:00:00 |\n",
       "\n"
      ],
      "text/plain": [
       "   year month day dep_time sched_dep_time dep_delay arr_time sched_arr_time\n",
       "1  2013  1     9   641      900           1301      1242     1530          \n",
       "2  2013  1    10  1121     1635           1126      1239     1810          \n",
       "3  2013 12     5   756     1700            896      1058     2020          \n",
       "4  2013  3    17  2321      810            911       135     1020          \n",
       "5  2013  4    10  1100     1900            960      1342     2211          \n",
       "6  2013  6    15  1432     1935           1137      1607     2120          \n",
       "7  2013  6    27   959     1900            899      1236     2226          \n",
       "8  2013  7    22   845     1600           1005      1044     1815          \n",
       "9  2013  7    22  2257      759            898       121     1026          \n",
       "10 2013  9    20  1139     1845           1014      1457     2210          \n",
       "   arr_delay carrier flight tailnum origin dest air_time distance hour minute\n",
       "1  1272      HA        51   N384HA  JFK    HNL  640      4983      9    0    \n",
       "2  1109      MQ      3695   N517MQ  EWR    ORD  111       719     16   35    \n",
       "3   878      AA       172   N5DMAA  EWR    MIA  149      1085     17    0    \n",
       "4   915      DL      2119   N927DA  LGA    MSP  167      1020      8   10    \n",
       "5   931      DL      2391   N959DL  JFK    TPA  139      1005     19    0    \n",
       "6  1127      MQ      3535   N504MQ  JFK    CMH   74       483     19   35    \n",
       "7   850      DL      2007   N3762Y  JFK    PDX  313      2454     19    0    \n",
       "8   989      MQ      3075   N665MQ  JFK    CVG   96       589     16    0    \n",
       "9   895      DL      2047   N6716C  LGA    ATL  109       762      7   59    \n",
       "10 1007      AA       177   N338AA  JFK    SFO  354      2586     18   45    \n",
       "   time_hour          \n",
       "1  2013-01-09 09:00:00\n",
       "2  2013-01-10 16:00:00\n",
       "3  2013-12-05 17:00:00\n",
       "4  2013-03-17 08:00:00\n",
       "5  2013-04-10 19:00:00\n",
       "6  2013-06-15 19:00:00\n",
       "7  2013-06-27 19:00:00\n",
       "8  2013-07-22 16:00:00\n",
       "9  2013-07-22 07:00:00\n",
       "10 2013-09-20 18:00:00"
      ]
     },
     "metadata": {},
     "output_type": "display_data"
    }
   ],
   "source": [
    "# 10 Most delayed fights ( a differnet approach)\n",
    "top_n(flights, 10, dep_delay)"
   ]
  },
  {
   "cell_type": "markdown",
   "id": "acbffe9c",
   "metadata": {},
   "source": [
    "# Grouped Summaries with summarize()"
   ]
  },
  {
   "cell_type": "markdown",
   "id": "7c5d52e5",
   "metadata": {},
   "source": [
    "summarize() <- Collapses a dataframe to a single row. Summarise works in an analogous way to mutate, except instead of adding columns to an existing data frame, it creates a new dataframe. Together group_by() and summarize() are called \"Grouped Summaries\"."
   ]
  },
  {
   "cell_type": "code",
   "execution_count": 39,
   "id": "93e291bd",
   "metadata": {},
   "outputs": [
    {
     "data": {
      "text/html": [
       "<table>\n",
       "<thead><tr><th scope=col>delay</th></tr></thead>\n",
       "<tbody>\n",
       "\t<tr><td>12.63907</td></tr>\n",
       "</tbody>\n",
       "</table>\n"
      ],
      "text/latex": [
       "\\begin{tabular}{r|l}\n",
       " delay\\\\\n",
       "\\hline\n",
       "\t 12.63907\\\\\n",
       "\\end{tabular}\n"
      ],
      "text/markdown": [
       "\n",
       "| delay |\n",
       "|---|\n",
       "| 12.63907 |\n",
       "\n"
      ],
      "text/plain": [
       "  delay   \n",
       "1 12.63907"
      ]
     },
     "metadata": {},
     "output_type": "display_data"
    }
   ],
   "source": [
    "# Average departure delay within year-2013\n",
    "summarize(flights, delay = mean(dep_delay, na.rm = TRUE))"
   ]
  },
  {
   "cell_type": "code",
   "execution_count": 40,
   "id": "48b303a8",
   "metadata": {},
   "outputs": [
    {
     "data": {
      "text/html": [
       "<ol class=list-inline>\n",
       "\t<li>365</li>\n",
       "\t<li>4</li>\n",
       "</ol>\n"
      ],
      "text/latex": [
       "\\begin{enumerate*}\n",
       "\\item 365\n",
       "\\item 4\n",
       "\\end{enumerate*}\n"
      ],
      "text/markdown": [
       "1. 365\n",
       "2. 4\n",
       "\n",
       "\n"
      ],
      "text/plain": [
       "[1] 365   4"
      ]
     },
     "metadata": {},
     "output_type": "display_data"
    }
   ],
   "source": [
    "# Average departure delay on each day\n",
    "by_day <- group_by(flights, year, month, day)\n",
    "dim(summarize(by_day, delay = mean(dep_delay, na.rm = TRUE)))"
   ]
  },
  {
   "cell_type": "code",
   "execution_count": 41,
   "id": "5e975bea",
   "metadata": {},
   "outputs": [
    {
     "data": {
      "text/html": [
       "<table>\n",
       "<thead><tr><th scope=col>year</th><th scope=col>month</th><th scope=col>delay</th></tr></thead>\n",
       "<tbody>\n",
       "\t<tr><td>2013     </td><td> 1       </td><td>10.036665</td></tr>\n",
       "\t<tr><td>2013     </td><td> 2       </td><td>10.816843</td></tr>\n",
       "\t<tr><td>2013     </td><td> 3       </td><td>13.227076</td></tr>\n",
       "\t<tr><td>2013     </td><td> 4       </td><td>13.938038</td></tr>\n",
       "\t<tr><td>2013     </td><td> 5       </td><td>12.986859</td></tr>\n",
       "\t<tr><td>2013     </td><td> 6       </td><td>20.846332</td></tr>\n",
       "\t<tr><td>2013     </td><td> 7       </td><td>21.727787</td></tr>\n",
       "\t<tr><td>2013     </td><td> 8       </td><td>12.611040</td></tr>\n",
       "\t<tr><td>2013     </td><td> 9       </td><td> 6.722476</td></tr>\n",
       "\t<tr><td>2013     </td><td>10       </td><td> 6.243988</td></tr>\n",
       "\t<tr><td>2013     </td><td>11       </td><td> 5.435362</td></tr>\n",
       "\t<tr><td>2013     </td><td>12       </td><td>16.576688</td></tr>\n",
       "</tbody>\n",
       "</table>\n"
      ],
      "text/latex": [
       "\\begin{tabular}{r|lll}\n",
       " year & month & delay\\\\\n",
       "\\hline\n",
       "\t 2013      &  1        & 10.036665\\\\\n",
       "\t 2013      &  2        & 10.816843\\\\\n",
       "\t 2013      &  3        & 13.227076\\\\\n",
       "\t 2013      &  4        & 13.938038\\\\\n",
       "\t 2013      &  5        & 12.986859\\\\\n",
       "\t 2013      &  6        & 20.846332\\\\\n",
       "\t 2013      &  7        & 21.727787\\\\\n",
       "\t 2013      &  8        & 12.611040\\\\\n",
       "\t 2013      &  9        &  6.722476\\\\\n",
       "\t 2013      & 10        &  6.243988\\\\\n",
       "\t 2013      & 11        &  5.435362\\\\\n",
       "\t 2013      & 12        & 16.576688\\\\\n",
       "\\end{tabular}\n"
      ],
      "text/markdown": [
       "\n",
       "| year | month | delay |\n",
       "|---|---|---|\n",
       "| 2013      |  1        | 10.036665 |\n",
       "| 2013      |  2        | 10.816843 |\n",
       "| 2013      |  3        | 13.227076 |\n",
       "| 2013      |  4        | 13.938038 |\n",
       "| 2013      |  5        | 12.986859 |\n",
       "| 2013      |  6        | 20.846332 |\n",
       "| 2013      |  7        | 21.727787 |\n",
       "| 2013      |  8        | 12.611040 |\n",
       "| 2013      |  9        |  6.722476 |\n",
       "| 2013      | 10        |  6.243988 |\n",
       "| 2013      | 11        |  5.435362 |\n",
       "| 2013      | 12        | 16.576688 |\n",
       "\n"
      ],
      "text/plain": [
       "   year month delay    \n",
       "1  2013  1    10.036665\n",
       "2  2013  2    10.816843\n",
       "3  2013  3    13.227076\n",
       "4  2013  4    13.938038\n",
       "5  2013  5    12.986859\n",
       "6  2013  6    20.846332\n",
       "7  2013  7    21.727787\n",
       "8  2013  8    12.611040\n",
       "9  2013  9     6.722476\n",
       "10 2013 10     6.243988\n",
       "11 2013 11     5.435362\n",
       "12 2013 12    16.576688"
      ]
     },
     "metadata": {},
     "output_type": "display_data"
    }
   ],
   "source": [
    "# Average departure delay in each month\n",
    "summarise(group_by(flights, year, month), delay = mean(dep_delay, na.rm = T))"
   ]
  },
  {
   "cell_type": "markdown",
   "id": "cb36eda7",
   "metadata": {},
   "source": [
    "# Combining Multiple Operations with the Pipe"
   ]
  },
  {
   "cell_type": "code",
   "execution_count": 42,
   "id": "174e1053",
   "metadata": {},
   "outputs": [],
   "source": [
    "# Relation between distance and average delay for each location\n",
    "by_dest <- group_by(flights, dest)\n",
    "\n",
    "delay <- summarize( \n",
    "    by_dest, \n",
    "    count = n(),\n",
    "    dist = mean(distance, na.rm = T),\n",
    "    delay = mean(arr_delay, na.rm = T)\n",
    ")\n",
    "\n",
    "# \"HNL\" is removed from dataframe because, its twice as far as the next closest airport and works as an outlier.\n",
    "delay <- filter(delay, count>20, dest != \"HNL\") "
   ]
  },
  {
   "cell_type": "code",
   "execution_count": 43,
   "id": "88fd0f8b",
   "metadata": {},
   "outputs": [
    {
     "name": "stderr",
     "output_type": "stream",
     "text": [
      "`geom_smooth()` using method = 'loess' and formula 'y ~ x'\n"
     ]
    },
    {
     "data": {
      "image/png": "[encoded data removed]",
      "text/plain": [
       "plot without title"
      ]
     },
     "metadata": {},
     "output_type": "display_data"
    }
   ],
   "source": [
    "ggplot(delay, aes(dist, delay)) + \n",
    "geom_point(mapping = aes(size = count), alpha = 0.7) + \n",
    "geom_smooth(se = F)"
   ]
  },
  {
   "cell_type": "code",
   "execution_count": 44,
   "id": "d421a39f",
   "metadata": {},
   "outputs": [],
   "source": [
    "# Another way to solve the same relationship b/w distance and average delay, using the pipe : %>%\n",
    "delays <- flights %>%\n",
    "    group_by(dest) %>%\n",
    "    summarize(\n",
    "        count = n(),\n",
    "        dist = mean(distance, na.rm = T),\n",
    "        delay = mean(arr_delay, na.rm = T)\n",
    "    ) %>%\n",
    "    filter(count > 20, dest != \"HNL\")"
   ]
  },
  {
   "cell_type": "markdown",
   "id": "dd9fc60b",
   "metadata": {},
   "source": [
    "The pipe %>% focusses on transformations. Pronounce %>% as \"then\". x %>% f(y) turns into f(x, y) and x %>% f(y) %>% g(z) turns into g(f(x, y), z) and so on. Piping is the key criteria for belonging to tidyverse (ggplot2 is the only exception to this criteria)."
   ]
  },
  {
   "cell_type": "markdown",
   "id": "713aa3ea",
   "metadata": {},
   "source": [
    "# Missing Values\n",
    "Note <- na.rm() argument removes missing values prior to computation. All aggregate functions have na.rm argument."
   ]
  },
  {
   "cell_type": "code",
   "execution_count": 45,
   "id": "bd603b82",
   "metadata": {},
   "outputs": [
    {
     "data": {
      "text/html": [
       "<table>\n",
       "<thead><tr><th scope=col>year</th><th scope=col>month</th><th scope=col>day</th><th scope=col>mean</th></tr></thead>\n",
       "<tbody>\n",
       "\t<tr><td>2013     </td><td>1        </td><td> 1       </td><td>11.435620</td></tr>\n",
       "\t<tr><td>2013     </td><td>1        </td><td> 2       </td><td>13.677802</td></tr>\n",
       "\t<tr><td>2013     </td><td>1        </td><td> 3       </td><td>10.907778</td></tr>\n",
       "\t<tr><td>2013     </td><td>1        </td><td> 4       </td><td> 8.965859</td></tr>\n",
       "\t<tr><td>2013     </td><td>1        </td><td> 5       </td><td> 5.732218</td></tr>\n",
       "\t<tr><td>2013     </td><td>1        </td><td> 6       </td><td> 7.145959</td></tr>\n",
       "\t<tr><td>2013     </td><td>1        </td><td> 7       </td><td> 5.417204</td></tr>\n",
       "\t<tr><td>2013     </td><td>1        </td><td> 8       </td><td> 2.558296</td></tr>\n",
       "\t<tr><td>2013     </td><td>1        </td><td> 9       </td><td> 2.301232</td></tr>\n",
       "\t<tr><td>2013     </td><td>1        </td><td>10       </td><td> 2.844995</td></tr>\n",
       "\t<tr><td>2013     </td><td>1        </td><td>11       </td><td> 2.833152</td></tr>\n",
       "\t<tr><td>2013     </td><td>1        </td><td>12       </td><td> 1.593245</td></tr>\n",
       "\t<tr><td>2013     </td><td>1        </td><td>13       </td><td>19.619579</td></tr>\n",
       "\t<tr><td>2013     </td><td>1        </td><td>14       </td><td> 2.798483</td></tr>\n",
       "\t<tr><td>2013     </td><td>1        </td><td>15       </td><td> 0.123723</td></tr>\n",
       "\t<tr><td>2013     </td><td>1        </td><td>16       </td><td>24.454865</td></tr>\n",
       "\t<tr><td>2013     </td><td>1        </td><td>17       </td><td> 7.685246</td></tr>\n",
       "\t<tr><td>2013     </td><td>1        </td><td>18       </td><td> 6.768132</td></tr>\n",
       "\t<tr><td>2013     </td><td>1        </td><td>19       </td><td> 3.362146</td></tr>\n",
       "\t<tr><td>2013     </td><td>1        </td><td>20       </td><td> 6.804097</td></tr>\n",
       "\t<tr><td>2013     </td><td>1        </td><td>21       </td><td> 7.839246</td></tr>\n",
       "\t<tr><td>2013     </td><td>1        </td><td>22       </td><td>12.499435</td></tr>\n",
       "\t<tr><td>2013     </td><td>1        </td><td>23       </td><td>10.610360</td></tr>\n",
       "\t<tr><td>2013     </td><td>1        </td><td>24       </td><td>19.542952</td></tr>\n",
       "\t<tr><td>2013     </td><td>1        </td><td>25       </td><td>21.751991</td></tr>\n",
       "\t<tr><td>2013     </td><td>1        </td><td>26       </td><td> 7.213115</td></tr>\n",
       "\t<tr><td>2013     </td><td>1        </td><td>27       </td><td> 8.388337</td></tr>\n",
       "\t<tr><td>2013     </td><td>1        </td><td>28       </td><td>15.099183</td></tr>\n",
       "\t<tr><td>2013     </td><td>1        </td><td>29       </td><td> 2.548907</td></tr>\n",
       "\t<tr><td>2013     </td><td>1        </td><td>30       </td><td>27.933417</td></tr>\n",
       "\t<tr><td>2013     </td><td>1        </td><td>31       </td><td>28.717004</td></tr>\n",
       "</tbody>\n",
       "</table>\n"
      ],
      "text/latex": [
       "\\begin{tabular}{r|llll}\n",
       " year & month & day & mean\\\\\n",
       "\\hline\n",
       "\t 2013      & 1         &  1        & 11.435620\\\\\n",
       "\t 2013      & 1         &  2        & 13.677802\\\\\n",
       "\t 2013      & 1         &  3        & 10.907778\\\\\n",
       "\t 2013      & 1         &  4        &  8.965859\\\\\n",
       "\t 2013      & 1         &  5        &  5.732218\\\\\n",
       "\t 2013      & 1         &  6        &  7.145959\\\\\n",
       "\t 2013      & 1         &  7        &  5.417204\\\\\n",
       "\t 2013      & 1         &  8        &  2.558296\\\\\n",
       "\t 2013      & 1         &  9        &  2.301232\\\\\n",
       "\t 2013      & 1         & 10        &  2.844995\\\\\n",
       "\t 2013      & 1         & 11        &  2.833152\\\\\n",
       "\t 2013      & 1         & 12        &  1.593245\\\\\n",
       "\t 2013      & 1         & 13        & 19.619579\\\\\n",
       "\t 2013      & 1         & 14        &  2.798483\\\\\n",
       "\t 2013      & 1         & 15        &  0.123723\\\\\n",
       "\t 2013      & 1         & 16        & 24.454865\\\\\n",
       "\t 2013      & 1         & 17        &  7.685246\\\\\n",
       "\t 2013      & 1         & 18        &  6.768132\\\\\n",
       "\t 2013      & 1         & 19        &  3.362146\\\\\n",
       "\t 2013      & 1         & 20        &  6.804097\\\\\n",
       "\t 2013      & 1         & 21        &  7.839246\\\\\n",
       "\t 2013      & 1         & 22        & 12.499435\\\\\n",
       "\t 2013      & 1         & 23        & 10.610360\\\\\n",
       "\t 2013      & 1         & 24        & 19.542952\\\\\n",
       "\t 2013      & 1         & 25        & 21.751991\\\\\n",
       "\t 2013      & 1         & 26        &  7.213115\\\\\n",
       "\t 2013      & 1         & 27        &  8.388337\\\\\n",
       "\t 2013      & 1         & 28        & 15.099183\\\\\n",
       "\t 2013      & 1         & 29        &  2.548907\\\\\n",
       "\t 2013      & 1         & 30        & 27.933417\\\\\n",
       "\t 2013      & 1         & 31        & 28.717004\\\\\n",
       "\\end{tabular}\n"
      ],
      "text/markdown": [
       "\n",
       "| year | month | day | mean |\n",
       "|---|---|---|---|\n",
       "| 2013      | 1         |  1        | 11.435620 |\n",
       "| 2013      | 1         |  2        | 13.677802 |\n",
       "| 2013      | 1         |  3        | 10.907778 |\n",
       "| 2013      | 1         |  4        |  8.965859 |\n",
       "| 2013      | 1         |  5        |  5.732218 |\n",
       "| 2013      | 1         |  6        |  7.145959 |\n",
       "| 2013      | 1         |  7        |  5.417204 |\n",
       "| 2013      | 1         |  8        |  2.558296 |\n",
       "| 2013      | 1         |  9        |  2.301232 |\n",
       "| 2013      | 1         | 10        |  2.844995 |\n",
       "| 2013      | 1         | 11        |  2.833152 |\n",
       "| 2013      | 1         | 12        |  1.593245 |\n",
       "| 2013      | 1         | 13        | 19.619579 |\n",
       "| 2013      | 1         | 14        |  2.798483 |\n",
       "| 2013      | 1         | 15        |  0.123723 |\n",
       "| 2013      | 1         | 16        | 24.454865 |\n",
       "| 2013      | 1         | 17        |  7.685246 |\n",
       "| 2013      | 1         | 18        |  6.768132 |\n",
       "| 2013      | 1         | 19        |  3.362146 |\n",
       "| 2013      | 1         | 20        |  6.804097 |\n",
       "| 2013      | 1         | 21        |  7.839246 |\n",
       "| 2013      | 1         | 22        | 12.499435 |\n",
       "| 2013      | 1         | 23        | 10.610360 |\n",
       "| 2013      | 1         | 24        | 19.542952 |\n",
       "| 2013      | 1         | 25        | 21.751991 |\n",
       "| 2013      | 1         | 26        |  7.213115 |\n",
       "| 2013      | 1         | 27        |  8.388337 |\n",
       "| 2013      | 1         | 28        | 15.099183 |\n",
       "| 2013      | 1         | 29        |  2.548907 |\n",
       "| 2013      | 1         | 30        | 27.933417 |\n",
       "| 2013      | 1         | 31        | 28.717004 |\n",
       "\n"
      ],
      "text/plain": [
       "   year month day mean     \n",
       "1  2013 1      1  11.435620\n",
       "2  2013 1      2  13.677802\n",
       "3  2013 1      3  10.907778\n",
       "4  2013 1      4   8.965859\n",
       "5  2013 1      5   5.732218\n",
       "6  2013 1      6   7.145959\n",
       "7  2013 1      7   5.417204\n",
       "8  2013 1      8   2.558296\n",
       "9  2013 1      9   2.301232\n",
       "10 2013 1     10   2.844995\n",
       "11 2013 1     11   2.833152\n",
       "12 2013 1     12   1.593245\n",
       "13 2013 1     13  19.619579\n",
       "14 2013 1     14   2.798483\n",
       "15 2013 1     15   0.123723\n",
       "16 2013 1     16  24.454865\n",
       "17 2013 1     17   7.685246\n",
       "18 2013 1     18   6.768132\n",
       "19 2013 1     19   3.362146\n",
       "20 2013 1     20   6.804097\n",
       "21 2013 1     21   7.839246\n",
       "22 2013 1     22  12.499435\n",
       "23 2013 1     23  10.610360\n",
       "24 2013 1     24  19.542952\n",
       "25 2013 1     25  21.751991\n",
       "26 2013 1     26   7.213115\n",
       "27 2013 1     27   8.388337\n",
       "28 2013 1     28  15.099183\n",
       "29 2013 1     29   2.548907\n",
       "30 2013 1     30  27.933417\n",
       "31 2013 1     31  28.717004"
      ]
     },
     "metadata": {},
     "output_type": "display_data"
    }
   ],
   "source": [
    "# Case where missing values represent cancelled flights \n",
    "\n",
    "not_cancelled <- flights %>%\n",
    "    filter(!is.na(dep_delay), !is.na(arr_delay))\n",
    "\n",
    "head(not_cancelled %>% \n",
    "    group_by(year, month, day) %>%\n",
    "    summarize(mean = mean(dep_delay)),31)"
   ]
  },
  {
   "cell_type": "markdown",
   "id": "654888ae",
   "metadata": {},
   "source": [
    "# Counts"
   ]
  },
  {
   "cell_type": "markdown",
   "id": "bb7d4d71",
   "metadata": {},
   "source": [
    "Whenever doing aggression, its good idea to include count(n()), or (sum(!is.na(x))) to check that conclusions are not drawn on very small amounts of data."
   ]
  },
  {
   "cell_type": "code",
   "execution_count": 46,
   "id": "11495a93",
   "metadata": {},
   "outputs": [
    {
     "data": {
      "image/png": "[encoded data removed]",
      "text/plain": [
       "plot without title"
      ]
     },
     "metadata": {},
     "output_type": "display_data"
    }
   ],
   "source": [
    "delays <- not_cancelled %>%\n",
    "    group_by(tailnum) %>%\n",
    "    summarize(\n",
    "        delay = mean(arr_delay)\n",
    "    )\n",
    "\n",
    "ggplot(delays, aes(delay)) +\n",
    "    geom_freqpoly(binwidth = 10)"
   ]
  },
  {
   "cell_type": "code",
   "execution_count": 47,
   "id": "bc07ae9f",
   "metadata": {},
   "outputs": [
    {
     "data": {
      "image/png": "[encoded data removed]",
      "text/plain": [
       "plot without title"
      ]
     },
     "metadata": {},
     "output_type": "display_data"
    }
   ],
   "source": [
    "# Relationship b/w flight_count and avg_delay\n",
    "delays <- not_cancelled %>%\n",
    "    group_by(tailnum) %>%\n",
    "    summarize(\n",
    "        flight_count = n(),\n",
    "        avg_delay = mean(arr_delay)\n",
    "    )\n",
    "\n",
    "ggplot(delays, aes(flight_count, avg_delay)) + \n",
    "    geom_point(alpha = 1/5)"
   ]
  },
  {
   "cell_type": "markdown",
   "id": "96863357",
   "metadata": {},
   "source": [
    "There are much greater variations in the average delay when there are few flights. The shape of this plot is very characteristic:  \"In a plot of mean (or other group summary) versus group size, the variation decreases as the sample size increases.\" \n",
    "\n",
    "When working with this sort of plot, it's useful to filter out the groups with the smallest number of observations, so as to see more patterns and less extreme variation in the smallest groups."
   ]
  },
  {
   "cell_type": "code",
   "execution_count": 48,
   "id": "b4fc2a66",
   "metadata": {},
   "outputs": [
    {
     "data": {
      "image/png": "[encoded data removed]",
      "text/plain": [
       "plot without title"
      ]
     },
     "metadata": {},
     "output_type": "display_data"
    }
   ],
   "source": [
    "# Handy pattern for integrating dplyr and ggplot2\n",
    "delays %>%\n",
    "    filter(flight_count > 25) %>%\n",
    "    ggplot(aes(flight_count, avg_delay)) +\n",
    "        geom_point(alpha = 1/3)"
   ]
  },
  {
   "cell_type": "code",
   "execution_count": 49,
   "id": "a2170ffa",
   "metadata": {},
   "outputs": [],
   "source": [
    "#install.packages(\"Lahman\")"
   ]
  },
  {
   "cell_type": "code",
   "execution_count": 50,
   "id": "2439b00b",
   "metadata": {},
   "outputs": [
    {
     "name": "stderr",
     "output_type": "stream",
     "text": [
      "`geom_smooth()` using method = 'gam' and formula 'y ~ s(x, bs = \"cs\")'\n"
     ]
    },
    {
     "data": {
      "image/png": "[encoded data removed]",
      "text/plain": [
       "plot without title"
      ]
     },
     "metadata": {},
     "output_type": "display_data"
    }
   ],
   "source": [
    "# Compute the batting average (number of hits / number of attempts) of every major league baseball player\n",
    "batting <- as_tibble(Lahman::Batting)\n",
    "\n",
    "batters <- batting %>%\n",
    "    group_by(playerID) %>%\n",
    "    summarize(\n",
    "        bat_avg = sum(H, na.rm = T) / sum(AB, na.rm = T),\n",
    "        at_bat = sum(AB, na.rm = T)\n",
    "    )\n",
    "\n",
    "# Plotting skill of batter (as per batting average, ba) v/s number of opportunities (as per at bat, ab)\n",
    "batters %>%\n",
    "    filter(at_bat >100) %>%\n",
    "    ggplot(aes(bat_avg, at_bat)) +\n",
    "        geom_point(alpha = 1/3) +\n",
    "        geom_smooth(se = F)"
   ]
  },
  {
   "cell_type": "markdown",
   "id": "38bb298d",
   "metadata": {},
   "source": [
    "Patterns displayed from the graph:\n",
    "* The variation in aggregate decreases as we get more data points\n",
    "* There's a positive correlation between skill (bat_avg) and opportunities to hit the ball (at_bat). This is because teams control who gets to play, and obviously they'll pick their best players.\n",
    "\n",
    "This also has important implications for ranking. Naively sorting on desc(bat_avg) will not be good, as the players with best batting averages are clearly lucky and not skilled."
   ]
  },
  {
   "cell_type": "markdown",
   "id": "aecb95a5",
   "metadata": {},
   "source": [
    "# Useful Summary Functions"
   ]
  },
  {
   "cell_type": "markdown",
   "id": "67e4b27d",
   "metadata": {},
   "source": [
    "Measures of location : median() (50% of the data lies below and 50% lies above it)."
   ]
  },
  {
   "cell_type": "code",
   "execution_count": 51,
   "id": "1136b2a0",
   "metadata": {},
   "outputs": [
    {
     "data": {
      "text/html": [
       "<table>\n",
       "<thead><tr><th scope=col>year</th><th scope=col>month</th><th scope=col>day</th><th scope=col>avg_delay1</th><th scope=col>avg_delay2</th></tr></thead>\n",
       "<tbody>\n",
       "\t<tr><td>2013     </td><td>1        </td><td>1        </td><td>12.651023</td><td>32.48156 </td></tr>\n",
       "\t<tr><td>2013     </td><td>1        </td><td>2        </td><td>12.692888</td><td>32.02991 </td></tr>\n",
       "\t<tr><td>2013     </td><td>1        </td><td>3        </td><td> 5.733333</td><td>27.66087 </td></tr>\n",
       "\t<tr><td>2013     </td><td>1        </td><td>4        </td><td>-1.932819</td><td>28.30976 </td></tr>\n",
       "\t<tr><td>2013     </td><td>1        </td><td>5        </td><td>-1.525802</td><td>22.55882 </td></tr>\n",
       "\t<tr><td>2013     </td><td>1        </td><td>6        </td><td> 4.236429</td><td>24.37270 </td></tr>\n",
       "</tbody>\n",
       "</table>\n"
      ],
      "text/latex": [
       "\\begin{tabular}{r|lllll}\n",
       " year & month & day & avg\\_delay1 & avg\\_delay2\\\\\n",
       "\\hline\n",
       "\t 2013      & 1         & 1         & 12.651023 & 32.48156 \\\\\n",
       "\t 2013      & 1         & 2         & 12.692888 & 32.02991 \\\\\n",
       "\t 2013      & 1         & 3         &  5.733333 & 27.66087 \\\\\n",
       "\t 2013      & 1         & 4         & -1.932819 & 28.30976 \\\\\n",
       "\t 2013      & 1         & 5         & -1.525802 & 22.55882 \\\\\n",
       "\t 2013      & 1         & 6         &  4.236429 & 24.37270 \\\\\n",
       "\\end{tabular}\n"
      ],
      "text/markdown": [
       "\n",
       "| year | month | day | avg_delay1 | avg_delay2 |\n",
       "|---|---|---|---|---|\n",
       "| 2013      | 1         | 1         | 12.651023 | 32.48156  |\n",
       "| 2013      | 1         | 2         | 12.692888 | 32.02991  |\n",
       "| 2013      | 1         | 3         |  5.733333 | 27.66087  |\n",
       "| 2013      | 1         | 4         | -1.932819 | 28.30976  |\n",
       "| 2013      | 1         | 5         | -1.525802 | 22.55882  |\n",
       "| 2013      | 1         | 6         |  4.236429 | 24.37270  |\n",
       "\n"
      ],
      "text/plain": [
       "  year month day avg_delay1 avg_delay2\n",
       "1 2013 1     1   12.651023  32.48156  \n",
       "2 2013 1     2   12.692888  32.02991  \n",
       "3 2013 1     3    5.733333  27.66087  \n",
       "4 2013 1     4   -1.932819  28.30976  \n",
       "5 2013 1     5   -1.525802  22.55882  \n",
       "6 2013 1     6    4.236429  24.37270  "
      ]
     },
     "metadata": {},
     "output_type": "display_data"
    }
   ],
   "source": [
    "head(\n",
    "    not_cancelled %>%\n",
    "    group_by(year, month, day) %>%\n",
    "    summarize(\n",
    "        # average delay\n",
    "        avg_delay1 = mean(arr_delay),\n",
    "        # average positive delay\n",
    "        avg_delay2 = mean(arr_delay[arr_delay > 0])\n",
    "    )\n",
    ")"
   ]
  },
  {
   "cell_type": "markdown",
   "id": "1d77b5cf",
   "metadata": {},
   "source": [
    "Measures of spread : standard deviation sd(x), Inter-Quartile Range IQR(x), median absolute deviation mad(x). The first is the standard measure of spread, and last two measures are useful in case of outliers."
   ]
  },
  {
   "cell_type": "code",
   "execution_count": 52,
   "id": "4e0215bb",
   "metadata": {},
   "outputs": [
    {
     "data": {
      "text/html": [
       "<table>\n",
       "<thead><tr><th scope=col>dest</th><th scope=col>distance_sd</th></tr></thead>\n",
       "<tbody>\n",
       "\t<tr><td>EGE      </td><td>10.542765</td></tr>\n",
       "\t<tr><td>SAN      </td><td>10.350094</td></tr>\n",
       "\t<tr><td>SFO      </td><td>10.216017</td></tr>\n",
       "\t<tr><td>HNL      </td><td>10.004197</td></tr>\n",
       "\t<tr><td>SEA      </td><td> 9.977993</td></tr>\n",
       "\t<tr><td>LAS      </td><td> 9.907786</td></tr>\n",
       "</tbody>\n",
       "</table>\n"
      ],
      "text/latex": [
       "\\begin{tabular}{r|ll}\n",
       " dest & distance\\_sd\\\\\n",
       "\\hline\n",
       "\t EGE       & 10.542765\\\\\n",
       "\t SAN       & 10.350094\\\\\n",
       "\t SFO       & 10.216017\\\\\n",
       "\t HNL       & 10.004197\\\\\n",
       "\t SEA       &  9.977993\\\\\n",
       "\t LAS       &  9.907786\\\\\n",
       "\\end{tabular}\n"
      ],
      "text/markdown": [
       "\n",
       "| dest | distance_sd |\n",
       "|---|---|\n",
       "| EGE       | 10.542765 |\n",
       "| SAN       | 10.350094 |\n",
       "| SFO       | 10.216017 |\n",
       "| HNL       | 10.004197 |\n",
       "| SEA       |  9.977993 |\n",
       "| LAS       |  9.907786 |\n",
       "\n"
      ],
      "text/plain": [
       "  dest distance_sd\n",
       "1 EGE  10.542765  \n",
       "2 SAN  10.350094  \n",
       "3 SFO  10.216017  \n",
       "4 HNL  10.004197  \n",
       "5 SEA   9.977993  \n",
       "6 LAS   9.907786  "
      ]
     },
     "metadata": {},
     "output_type": "display_data"
    }
   ],
   "source": [
    "#Why is distance of some destinations more variable than others?\n",
    "head(\n",
    "    not_cancelled %>%\n",
    "    group_by(dest) %>%\n",
    "    summarize(distance_sd = sd(distance)) %>%\n",
    "    arrange(desc(distance_sd))\n",
    ")"
   ]
  },
  {
   "cell_type": "markdown",
   "id": "5109e71d",
   "metadata": {},
   "source": [
    "Measures of rank: min(x), quantile(x, 0.25), max(x). quantile(x, 0.25) gives value of x that is greater than 25% of the values, and less than remaining 75%."
   ]
  },
  {
   "cell_type": "code",
   "execution_count": 53,
   "id": "ae7573b3",
   "metadata": {},
   "outputs": [
    {
     "data": {
      "text/html": [
       "<table>\n",
       "<thead><tr><th scope=col>year</th><th scope=col>month</th><th scope=col>day</th><th scope=col>first</th><th scope=col>last</th></tr></thead>\n",
       "<tbody>\n",
       "\t<tr><td>2013</td><td>1   </td><td>1   </td><td>517 </td><td>2356</td></tr>\n",
       "\t<tr><td>2013</td><td>1   </td><td>2   </td><td> 42 </td><td>2354</td></tr>\n",
       "\t<tr><td>2013</td><td>1   </td><td>3   </td><td> 32 </td><td>2349</td></tr>\n",
       "\t<tr><td>2013</td><td>1   </td><td>4   </td><td> 25 </td><td>2358</td></tr>\n",
       "\t<tr><td>2013</td><td>1   </td><td>5   </td><td> 14 </td><td>2357</td></tr>\n",
       "\t<tr><td>2013</td><td>1   </td><td>6   </td><td> 16 </td><td>2355</td></tr>\n",
       "</tbody>\n",
       "</table>\n"
      ],
      "text/latex": [
       "\\begin{tabular}{r|lllll}\n",
       " year & month & day & first & last\\\\\n",
       "\\hline\n",
       "\t 2013 & 1    & 1    & 517  & 2356\\\\\n",
       "\t 2013 & 1    & 2    &  42  & 2354\\\\\n",
       "\t 2013 & 1    & 3    &  32  & 2349\\\\\n",
       "\t 2013 & 1    & 4    &  25  & 2358\\\\\n",
       "\t 2013 & 1    & 5    &  14  & 2357\\\\\n",
       "\t 2013 & 1    & 6    &  16  & 2355\\\\\n",
       "\\end{tabular}\n"
      ],
      "text/markdown": [
       "\n",
       "| year | month | day | first | last |\n",
       "|---|---|---|---|---|\n",
       "| 2013 | 1    | 1    | 517  | 2356 |\n",
       "| 2013 | 1    | 2    |  42  | 2354 |\n",
       "| 2013 | 1    | 3    |  32  | 2349 |\n",
       "| 2013 | 1    | 4    |  25  | 2358 |\n",
       "| 2013 | 1    | 5    |  14  | 2357 |\n",
       "| 2013 | 1    | 6    |  16  | 2355 |\n",
       "\n"
      ],
      "text/plain": [
       "  year month day first last\n",
       "1 2013 1     1   517   2356\n",
       "2 2013 1     2    42   2354\n",
       "3 2013 1     3    32   2349\n",
       "4 2013 1     4    25   2358\n",
       "5 2013 1     5    14   2357\n",
       "6 2013 1     6    16   2355"
      ]
     },
     "metadata": {},
     "output_type": "display_data"
    }
   ],
   "source": [
    "# When do the first and last flight leave each day?\n",
    "head(\n",
    "    not_cancelled %>%\n",
    "    group_by(year, month, day) %>%\n",
    "    summarize(\n",
    "        first = min(dep_time),\n",
    "        last = max(dep_time)\n",
    "    )\n",
    ")"
   ]
  },
  {
   "cell_type": "markdown",
   "id": "65c018ba",
   "metadata": {},
   "source": [
    "Measures of position: first(x), nth(x, 2), last(x). Similar to x[1], x[2], x[lenght(x)]"
   ]
  },
  {
   "cell_type": "code",
   "execution_count": 54,
   "id": "96bcfa62",
   "metadata": {},
   "outputs": [
    {
     "data": {
      "text/html": [
       "<table>\n",
       "<thead><tr><th scope=col>year</th><th scope=col>month</th><th scope=col>day</th><th scope=col>first_flight</th><th scope=col>last_flight</th></tr></thead>\n",
       "<tbody>\n",
       "\t<tr><td>2013</td><td>1   </td><td>1   </td><td>517 </td><td>2356</td></tr>\n",
       "\t<tr><td>2013</td><td>1   </td><td>2   </td><td> 42 </td><td>2354</td></tr>\n",
       "\t<tr><td>2013</td><td>1   </td><td>3   </td><td> 32 </td><td>2349</td></tr>\n",
       "\t<tr><td>2013</td><td>1   </td><td>4   </td><td> 25 </td><td>2358</td></tr>\n",
       "\t<tr><td>2013</td><td>1   </td><td>5   </td><td> 14 </td><td>2357</td></tr>\n",
       "\t<tr><td>2013</td><td>1   </td><td>6   </td><td> 16 </td><td>2355</td></tr>\n",
       "</tbody>\n",
       "</table>\n"
      ],
      "text/latex": [
       "\\begin{tabular}{r|lllll}\n",
       " year & month & day & first\\_flight & last\\_flight\\\\\n",
       "\\hline\n",
       "\t 2013 & 1    & 1    & 517  & 2356\\\\\n",
       "\t 2013 & 1    & 2    &  42  & 2354\\\\\n",
       "\t 2013 & 1    & 3    &  32  & 2349\\\\\n",
       "\t 2013 & 1    & 4    &  25  & 2358\\\\\n",
       "\t 2013 & 1    & 5    &  14  & 2357\\\\\n",
       "\t 2013 & 1    & 6    &  16  & 2355\\\\\n",
       "\\end{tabular}\n"
      ],
      "text/markdown": [
       "\n",
       "| year | month | day | first_flight | last_flight |\n",
       "|---|---|---|---|---|\n",
       "| 2013 | 1    | 1    | 517  | 2356 |\n",
       "| 2013 | 1    | 2    |  42  | 2354 |\n",
       "| 2013 | 1    | 3    |  32  | 2349 |\n",
       "| 2013 | 1    | 4    |  25  | 2358 |\n",
       "| 2013 | 1    | 5    |  14  | 2357 |\n",
       "| 2013 | 1    | 6    |  16  | 2355 |\n",
       "\n"
      ],
      "text/plain": [
       "  year month day first_flight last_flight\n",
       "1 2013 1     1   517          2356       \n",
       "2 2013 1     2    42          2354       \n",
       "3 2013 1     3    32          2349       \n",
       "4 2013 1     4    25          2358       \n",
       "5 2013 1     5    14          2357       \n",
       "6 2013 1     6    16          2355       "
      ]
     },
     "metadata": {},
     "output_type": "display_data"
    }
   ],
   "source": [
    "# The first and last departure for each day\n",
    "head(\n",
    "    not_cancelled %>%\n",
    "    group_by(year, month, day) %>%\n",
    "    summarize(\n",
    "        first_flight = first(dep_time),\n",
    "        last_flight = last(dep_time)\n",
    "    )\n",
    ")"
   ]
  },
  {
   "cell_type": "markdown",
   "id": "5b85c13d",
   "metadata": {},
   "source": [
    "* These functions are complementary to filtering on ranks. Filtering gives all variables, with each observation in a seperate row."
   ]
  },
  {
   "cell_type": "code",
   "execution_count": 55,
   "id": "79910c32",
   "metadata": {},
   "outputs": [
    {
     "data": {
      "text/html": [
       "<table>\n",
       "<thead><tr><th scope=col>year</th><th scope=col>month</th><th scope=col>day</th><th scope=col>dep_time</th><th scope=col>sched_dep_time</th><th scope=col>dep_delay</th><th scope=col>arr_time</th><th scope=col>sched_arr_time</th><th scope=col>arr_delay</th><th scope=col>carrier</th><th scope=col>flight</th><th scope=col>tailnum</th><th scope=col>origin</th><th scope=col>dest</th><th scope=col>air_time</th><th scope=col>distance</th><th scope=col>hour</th><th scope=col>minute</th><th scope=col>time_hour</th><th scope=col>r</th></tr></thead>\n",
       "<tbody>\n",
       "\t<tr><td>2013               </td><td>1                  </td><td>1                  </td><td> 517               </td><td> 515               </td><td>  2                </td><td>830                </td><td>819                </td><td> 11                </td><td>UA                 </td><td>1545               </td><td>N14228             </td><td>EWR                </td><td>IAH                </td><td>227                </td><td>1400               </td><td> 5                 </td><td>15                 </td><td>2013-01-01 05:00:00</td><td>831                </td></tr>\n",
       "\t<tr><td>2013               </td><td>1                  </td><td>1                  </td><td>2356               </td><td>2359               </td><td> -3                </td><td>425                </td><td>437                </td><td>-12                </td><td>B6                 </td><td> 727               </td><td>N588JB             </td><td>JFK                </td><td>BQN                </td><td>186                </td><td>1576               </td><td>23                 </td><td>59                 </td><td>2013-01-01 23:00:00</td><td>  1                </td></tr>\n",
       "\t<tr><td>2013               </td><td>1                  </td><td>2                  </td><td>  42               </td><td>2359               </td><td> 43                </td><td>518                </td><td>442                </td><td> 36                </td><td>B6                 </td><td> 707               </td><td>N580JB             </td><td>JFK                </td><td>SJU                </td><td>189                </td><td>1598               </td><td>23                 </td><td>59                 </td><td>2013-01-02 23:00:00</td><td>928                </td></tr>\n",
       "\t<tr><td>2013               </td><td>1                  </td><td>2                  </td><td>2354               </td><td>2359               </td><td> -5                </td><td>413                </td><td>437                </td><td>-24                </td><td>B6                 </td><td> 727               </td><td>N789JB             </td><td>JFK                </td><td>BQN                </td><td>180                </td><td>1576               </td><td>23                 </td><td>59                 </td><td>2013-01-02 23:00:00</td><td>  1                </td></tr>\n",
       "\t<tr><td>2013               </td><td>1                  </td><td>3                  </td><td>  32               </td><td>2359               </td><td> 33                </td><td>504                </td><td>442                </td><td> 22                </td><td>B6                 </td><td> 707               </td><td>N763JB             </td><td>JFK                </td><td>SJU                </td><td>193                </td><td>1598               </td><td>23                 </td><td>59                 </td><td>2013-01-03 23:00:00</td><td>900                </td></tr>\n",
       "\t<tr><td>2013               </td><td>1                  </td><td>3                  </td><td>2349               </td><td>2359               </td><td>-10                </td><td>434                </td><td>445                </td><td>-11                </td><td>B6                 </td><td> 739               </td><td>N729JB             </td><td>JFK                </td><td>PSE                </td><td>199                </td><td>1617               </td><td>23                 </td><td>59                 </td><td>2013-01-03 23:00:00</td><td>  1                </td></tr>\n",
       "</tbody>\n",
       "</table>\n"
      ],
      "text/latex": [
       "\\begin{tabular}{r|llllllllllllllllllll}\n",
       " year & month & day & dep\\_time & sched\\_dep\\_time & dep\\_delay & arr\\_time & sched\\_arr\\_time & arr\\_delay & carrier & flight & tailnum & origin & dest & air\\_time & distance & hour & minute & time\\_hour & r\\\\\n",
       "\\hline\n",
       "\t 2013                & 1                   & 1                   &  517                &  515                &   2                 & 830                 & 819                 &  11                 & UA                  & 1545                & N14228              & EWR                 & IAH                 & 227                 & 1400                &  5                  & 15                  & 2013-01-01 05:00:00 & 831                \\\\\n",
       "\t 2013                & 1                   & 1                   & 2356                & 2359                &  -3                 & 425                 & 437                 & -12                 & B6                  &  727                & N588JB              & JFK                 & BQN                 & 186                 & 1576                & 23                  & 59                  & 2013-01-01 23:00:00 &   1                \\\\\n",
       "\t 2013                & 1                   & 2                   &   42                & 2359                &  43                 & 518                 & 442                 &  36                 & B6                  &  707                & N580JB              & JFK                 & SJU                 & 189                 & 1598                & 23                  & 59                  & 2013-01-02 23:00:00 & 928                \\\\\n",
       "\t 2013                & 1                   & 2                   & 2354                & 2359                &  -5                 & 413                 & 437                 & -24                 & B6                  &  727                & N789JB              & JFK                 & BQN                 & 180                 & 1576                & 23                  & 59                  & 2013-01-02 23:00:00 &   1                \\\\\n",
       "\t 2013                & 1                   & 3                   &   32                & 2359                &  33                 & 504                 & 442                 &  22                 & B6                  &  707                & N763JB              & JFK                 & SJU                 & 193                 & 1598                & 23                  & 59                  & 2013-01-03 23:00:00 & 900                \\\\\n",
       "\t 2013                & 1                   & 3                   & 2349                & 2359                & -10                 & 434                 & 445                 & -11                 & B6                  &  739                & N729JB              & JFK                 & PSE                 & 199                 & 1617                & 23                  & 59                  & 2013-01-03 23:00:00 &   1                \\\\\n",
       "\\end{tabular}\n"
      ],
      "text/markdown": [
       "\n",
       "| year | month | day | dep_time | sched_dep_time | dep_delay | arr_time | sched_arr_time | arr_delay | carrier | flight | tailnum | origin | dest | air_time | distance | hour | minute | time_hour | r |\n",
       "|---|---|---|---|---|---|---|---|---|---|---|---|---|---|---|---|---|---|---|---|\n",
       "| 2013                | 1                   | 1                   |  517                |  515                |   2                 | 830                 | 819                 |  11                 | UA                  | 1545                | N14228              | EWR                 | IAH                 | 227                 | 1400                |  5                  | 15                  | 2013-01-01 05:00:00 | 831                 |\n",
       "| 2013                | 1                   | 1                   | 2356                | 2359                |  -3                 | 425                 | 437                 | -12                 | B6                  |  727                | N588JB              | JFK                 | BQN                 | 186                 | 1576                | 23                  | 59                  | 2013-01-01 23:00:00 |   1                 |\n",
       "| 2013                | 1                   | 2                   |   42                | 2359                |  43                 | 518                 | 442                 |  36                 | B6                  |  707                | N580JB              | JFK                 | SJU                 | 189                 | 1598                | 23                  | 59                  | 2013-01-02 23:00:00 | 928                 |\n",
       "| 2013                | 1                   | 2                   | 2354                | 2359                |  -5                 | 413                 | 437                 | -24                 | B6                  |  727                | N789JB              | JFK                 | BQN                 | 180                 | 1576                | 23                  | 59                  | 2013-01-02 23:00:00 |   1                 |\n",
       "| 2013                | 1                   | 3                   |   32                | 2359                |  33                 | 504                 | 442                 |  22                 | B6                  |  707                | N763JB              | JFK                 | SJU                 | 193                 | 1598                | 23                  | 59                  | 2013-01-03 23:00:00 | 900                 |\n",
       "| 2013                | 1                   | 3                   | 2349                | 2359                | -10                 | 434                 | 445                 | -11                 | B6                  |  739                | N729JB              | JFK                 | PSE                 | 199                 | 1617                | 23                  | 59                  | 2013-01-03 23:00:00 |   1                 |\n",
       "\n"
      ],
      "text/plain": [
       "  year month day dep_time sched_dep_time dep_delay arr_time sched_arr_time\n",
       "1 2013 1     1    517      515             2       830      819           \n",
       "2 2013 1     1   2356     2359            -3       425      437           \n",
       "3 2013 1     2     42     2359            43       518      442           \n",
       "4 2013 1     2   2354     2359            -5       413      437           \n",
       "5 2013 1     3     32     2359            33       504      442           \n",
       "6 2013 1     3   2349     2359           -10       434      445           \n",
       "  arr_delay carrier flight tailnum origin dest air_time distance hour minute\n",
       "1  11       UA      1545   N14228  EWR    IAH  227      1400      5   15    \n",
       "2 -12       B6       727   N588JB  JFK    BQN  186      1576     23   59    \n",
       "3  36       B6       707   N580JB  JFK    SJU  189      1598     23   59    \n",
       "4 -24       B6       727   N789JB  JFK    BQN  180      1576     23   59    \n",
       "5  22       B6       707   N763JB  JFK    SJU  193      1598     23   59    \n",
       "6 -11       B6       739   N729JB  JFK    PSE  199      1617     23   59    \n",
       "  time_hour           r  \n",
       "1 2013-01-01 05:00:00 831\n",
       "2 2013-01-01 23:00:00   1\n",
       "3 2013-01-02 23:00:00 928\n",
       "4 2013-01-02 23:00:00   1\n",
       "5 2013-01-03 23:00:00 900\n",
       "6 2013-01-03 23:00:00   1"
      ]
     },
     "metadata": {},
     "output_type": "display_data"
    }
   ],
   "source": [
    "head(\n",
    "    not_cancelled %>%\n",
    "    group_by(year, month, day) %>%\n",
    "    mutate(r = min_rank(desc(dep_time))) %>%\n",
    "    filter(r %in% range(r))\n",
    ")"
   ]
  },
  {
   "cell_type": "markdown",
   "id": "a4d3b6dd",
   "metadata": {},
   "source": [
    "Counts : n() <- returns the size of current group. sum(!is.na(x)) <- returns the number of non-missing values. n_distinct(x) <- returns the number of distinct (unique) values."
   ]
  },
  {
   "cell_type": "code",
   "execution_count": 56,
   "id": "9c1f097f",
   "metadata": {},
   "outputs": [
    {
     "data": {
      "text/html": [
       "<table>\n",
       "<thead><tr><th scope=col>dest</th><th scope=col>carriers</th></tr></thead>\n",
       "<tbody>\n",
       "\t<tr><td>ATL</td><td>7  </td></tr>\n",
       "\t<tr><td>BOS</td><td>7  </td></tr>\n",
       "\t<tr><td>CLT</td><td>7  </td></tr>\n",
       "\t<tr><td>ORD</td><td>7  </td></tr>\n",
       "\t<tr><td>TPA</td><td>7  </td></tr>\n",
       "\t<tr><td>AUS</td><td>6  </td></tr>\n",
       "</tbody>\n",
       "</table>\n"
      ],
      "text/latex": [
       "\\begin{tabular}{r|ll}\n",
       " dest & carriers\\\\\n",
       "\\hline\n",
       "\t ATL & 7  \\\\\n",
       "\t BOS & 7  \\\\\n",
       "\t CLT & 7  \\\\\n",
       "\t ORD & 7  \\\\\n",
       "\t TPA & 7  \\\\\n",
       "\t AUS & 6  \\\\\n",
       "\\end{tabular}\n"
      ],
      "text/markdown": [
       "\n",
       "| dest | carriers |\n",
       "|---|---|\n",
       "| ATL | 7   |\n",
       "| BOS | 7   |\n",
       "| CLT | 7   |\n",
       "| ORD | 7   |\n",
       "| TPA | 7   |\n",
       "| AUS | 6   |\n",
       "\n"
      ],
      "text/plain": [
       "  dest carriers\n",
       "1 ATL  7       \n",
       "2 BOS  7       \n",
       "3 CLT  7       \n",
       "4 ORD  7       \n",
       "5 TPA  7       \n",
       "6 AUS  6       "
      ]
     },
     "metadata": {},
     "output_type": "display_data"
    }
   ],
   "source": [
    "#Which destinaitons have the most carriers?\n",
    "head(\n",
    "    not_cancelled %>%\n",
    "    group_by(dest) %>%\n",
    "    summarize(carriers = n_distinct(carrier)) %>%\n",
    "    arrange(desc(carriers))\n",
    ")"
   ]
  },
  {
   "cell_type": "markdown",
   "id": "cc845ed3",
   "metadata": {},
   "source": [
    "dplyr has a default count() function with optional weight \"wt\" variable. "
   ]
  },
  {
   "cell_type": "code",
   "execution_count": 57,
   "id": "92d9bca7",
   "metadata": {},
   "outputs": [
    {
     "data": {
      "text/html": [
       "<table>\n",
       "<thead><tr><th scope=col>tailnum</th><th scope=col>n</th></tr></thead>\n",
       "<tbody>\n",
       "\t<tr><td>D942DN</td><td>  3418</td></tr>\n",
       "\t<tr><td>N0EGMQ</td><td>239143</td></tr>\n",
       "\t<tr><td>N10156</td><td>109664</td></tr>\n",
       "\t<tr><td>N102UW</td><td> 25722</td></tr>\n",
       "\t<tr><td>N103US</td><td> 24619</td></tr>\n",
       "\t<tr><td>N104UW</td><td> 24616</td></tr>\n",
       "</tbody>\n",
       "</table>\n"
      ],
      "text/latex": [
       "\\begin{tabular}{r|ll}\n",
       " tailnum & n\\\\\n",
       "\\hline\n",
       "\t D942DN &   3418\\\\\n",
       "\t N0EGMQ & 239143\\\\\n",
       "\t N10156 & 109664\\\\\n",
       "\t N102UW &  25722\\\\\n",
       "\t N103US &  24619\\\\\n",
       "\t N104UW &  24616\\\\\n",
       "\\end{tabular}\n"
      ],
      "text/markdown": [
       "\n",
       "| tailnum | n |\n",
       "|---|---|\n",
       "| D942DN |   3418 |\n",
       "| N0EGMQ | 239143 |\n",
       "| N10156 | 109664 |\n",
       "| N102UW |  25722 |\n",
       "| N103US |  24619 |\n",
       "| N104UW |  24616 |\n",
       "\n"
      ],
      "text/plain": [
       "  tailnum n     \n",
       "1 D942DN    3418\n",
       "2 N0EGMQ  239143\n",
       "3 N10156  109664\n",
       "4 N102UW   25722\n",
       "5 N103US   24619\n",
       "6 N104UW   24616"
      ]
     },
     "metadata": {},
     "output_type": "display_data"
    }
   ],
   "source": [
    "# Total distance a plane flew\n",
    "head(\n",
    "    not_cancelled %>%\n",
    "    count(tailnum, wt = distance)\n",
    ")"
   ]
  },
  {
   "cell_type": "markdown",
   "id": "f68da993",
   "metadata": {},
   "source": [
    "Counts and proportions of logical values: sum(x > 10), mean(y == 0). When used with numeric functions, TRUE is converted to 1 and FALSE to 0. sum(x) then returns number of TRUEs in x, and mean(x) gives the proportion of TRUE x."
   ]
  },
  {
   "cell_type": "code",
   "execution_count": 58,
   "id": "4598ccfa",
   "metadata": {},
   "outputs": [
    {
     "data": {
      "text/html": [
       "<table>\n",
       "<thead><tr><th scope=col>year</th><th scope=col>month</th><th scope=col>day</th><th scope=col>before_5</th></tr></thead>\n",
       "<tbody>\n",
       "\t<tr><td>2013</td><td>1   </td><td>1   </td><td>0   </td></tr>\n",
       "\t<tr><td>2013</td><td>1   </td><td>2   </td><td>3   </td></tr>\n",
       "\t<tr><td>2013</td><td>1   </td><td>3   </td><td>4   </td></tr>\n",
       "\t<tr><td>2013</td><td>1   </td><td>4   </td><td>3   </td></tr>\n",
       "\t<tr><td>2013</td><td>1   </td><td>5   </td><td>3   </td></tr>\n",
       "\t<tr><td>2013</td><td>1   </td><td>6   </td><td>2   </td></tr>\n",
       "</tbody>\n",
       "</table>\n"
      ],
      "text/latex": [
       "\\begin{tabular}{r|llll}\n",
       " year & month & day & before\\_5\\\\\n",
       "\\hline\n",
       "\t 2013 & 1    & 1    & 0   \\\\\n",
       "\t 2013 & 1    & 2    & 3   \\\\\n",
       "\t 2013 & 1    & 3    & 4   \\\\\n",
       "\t 2013 & 1    & 4    & 3   \\\\\n",
       "\t 2013 & 1    & 5    & 3   \\\\\n",
       "\t 2013 & 1    & 6    & 2   \\\\\n",
       "\\end{tabular}\n"
      ],
      "text/markdown": [
       "\n",
       "| year | month | day | before_5 |\n",
       "|---|---|---|---|\n",
       "| 2013 | 1    | 1    | 0    |\n",
       "| 2013 | 1    | 2    | 3    |\n",
       "| 2013 | 1    | 3    | 4    |\n",
       "| 2013 | 1    | 4    | 3    |\n",
       "| 2013 | 1    | 5    | 3    |\n",
       "| 2013 | 1    | 6    | 2    |\n",
       "\n"
      ],
      "text/plain": [
       "  year month day before_5\n",
       "1 2013 1     1   0       \n",
       "2 2013 1     2   3       \n",
       "3 2013 1     3   4       \n",
       "4 2013 1     4   3       \n",
       "5 2013 1     5   3       \n",
       "6 2013 1     6   2       "
      ]
     },
     "metadata": {},
     "output_type": "display_data"
    }
   ],
   "source": [
    "# How many flights left before 5am each day?\n",
    "head(\n",
    "    not_cancelled %>%\n",
    "    group_by(year, month, day) %>%\n",
    "    summarize(before_5 = sum(dep_time < 500))\n",
    ")"
   ]
  },
  {
   "cell_type": "code",
   "execution_count": 59,
   "id": "b89c2a4a",
   "metadata": {},
   "outputs": [
    {
     "data": {
      "text/html": [
       "<table>\n",
       "<thead><tr><th scope=col>year</th><th scope=col>month</th><th scope=col>day</th><th scope=col>delay_less_than_60</th></tr></thead>\n",
       "<tbody>\n",
       "\t<tr><td>2013      </td><td>1         </td><td>1         </td><td>0.07220217</td></tr>\n",
       "\t<tr><td>2013      </td><td>1         </td><td>2         </td><td>0.08512931</td></tr>\n",
       "\t<tr><td>2013      </td><td>1         </td><td>3         </td><td>0.05666667</td></tr>\n",
       "\t<tr><td>2013      </td><td>1         </td><td>4         </td><td>0.03964758</td></tr>\n",
       "\t<tr><td>2013      </td><td>1         </td><td>5         </td><td>0.03486750</td></tr>\n",
       "\t<tr><td>2013      </td><td>1         </td><td>6         </td><td>0.04704463</td></tr>\n",
       "</tbody>\n",
       "</table>\n"
      ],
      "text/latex": [
       "\\begin{tabular}{r|llll}\n",
       " year & month & day & delay\\_less\\_than\\_60\\\\\n",
       "\\hline\n",
       "\t 2013       & 1          & 1          & 0.07220217\\\\\n",
       "\t 2013       & 1          & 2          & 0.08512931\\\\\n",
       "\t 2013       & 1          & 3          & 0.05666667\\\\\n",
       "\t 2013       & 1          & 4          & 0.03964758\\\\\n",
       "\t 2013       & 1          & 5          & 0.03486750\\\\\n",
       "\t 2013       & 1          & 6          & 0.04704463\\\\\n",
       "\\end{tabular}\n"
      ],
      "text/markdown": [
       "\n",
       "| year | month | day | delay_less_than_60 |\n",
       "|---|---|---|---|\n",
       "| 2013       | 1          | 1          | 0.07220217 |\n",
       "| 2013       | 1          | 2          | 0.08512931 |\n",
       "| 2013       | 1          | 3          | 0.05666667 |\n",
       "| 2013       | 1          | 4          | 0.03964758 |\n",
       "| 2013       | 1          | 5          | 0.03486750 |\n",
       "| 2013       | 1          | 6          | 0.04704463 |\n",
       "\n"
      ],
      "text/plain": [
       "  year month day delay_less_than_60\n",
       "1 2013 1     1   0.07220217        \n",
       "2 2013 1     2   0.08512931        \n",
       "3 2013 1     3   0.05666667        \n",
       "4 2013 1     4   0.03964758        \n",
       "5 2013 1     5   0.03486750        \n",
       "6 2013 1     6   0.04704463        "
      ]
     },
     "metadata": {},
     "output_type": "display_data"
    }
   ],
   "source": [
    "# What proportion of flights are delayed by more than an hour\n",
    "head(\n",
    "    not_cancelled %>%\n",
    "    group_by(year, month, day) %>%\n",
    "    summarize(delay_less_than_60 = mean(arr_delay > 60))\n",
    ")"
   ]
  },
  {
   "cell_type": "markdown",
   "id": "bc185cc3",
   "metadata": {},
   "source": [
    "# Grouping by Multiple Variables\n",
    "When grouping by multiple variables, each summary peels off one level of grouping. It makes easy to progressively roll-up a dataset."
   ]
  },
  {
   "cell_type": "code",
   "execution_count": 60,
   "id": "97fc0da8",
   "metadata": {},
   "outputs": [
    {
     "data": {
      "text/html": [
       "<table>\n",
       "<thead><tr><th scope=col>year</th><th scope=col>month</th><th scope=col>day</th><th scope=col>flights_per_day</th></tr></thead>\n",
       "<tbody>\n",
       "\t<tr><td>2013</td><td>1   </td><td>1   </td><td>842 </td></tr>\n",
       "\t<tr><td>2013</td><td>1   </td><td>2   </td><td>943 </td></tr>\n",
       "\t<tr><td>2013</td><td>1   </td><td>3   </td><td>914 </td></tr>\n",
       "\t<tr><td>2013</td><td>1   </td><td>4   </td><td>915 </td></tr>\n",
       "\t<tr><td>2013</td><td>1   </td><td>5   </td><td>720 </td></tr>\n",
       "\t<tr><td>2013</td><td>1   </td><td>6   </td><td>832 </td></tr>\n",
       "</tbody>\n",
       "</table>\n"
      ],
      "text/latex": [
       "\\begin{tabular}{r|llll}\n",
       " year & month & day & flights\\_per\\_day\\\\\n",
       "\\hline\n",
       "\t 2013 & 1    & 1    & 842 \\\\\n",
       "\t 2013 & 1    & 2    & 943 \\\\\n",
       "\t 2013 & 1    & 3    & 914 \\\\\n",
       "\t 2013 & 1    & 4    & 915 \\\\\n",
       "\t 2013 & 1    & 5    & 720 \\\\\n",
       "\t 2013 & 1    & 6    & 832 \\\\\n",
       "\\end{tabular}\n"
      ],
      "text/markdown": [
       "\n",
       "| year | month | day | flights_per_day |\n",
       "|---|---|---|---|\n",
       "| 2013 | 1    | 1    | 842  |\n",
       "| 2013 | 1    | 2    | 943  |\n",
       "| 2013 | 1    | 3    | 914  |\n",
       "| 2013 | 1    | 4    | 915  |\n",
       "| 2013 | 1    | 5    | 720  |\n",
       "| 2013 | 1    | 6    | 832  |\n",
       "\n"
      ],
      "text/plain": [
       "  year month day flights_per_day\n",
       "1 2013 1     1   842            \n",
       "2 2013 1     2   943            \n",
       "3 2013 1     3   914            \n",
       "4 2013 1     4   915            \n",
       "5 2013 1     5   720            \n",
       "6 2013 1     6   832            "
      ]
     },
     "metadata": {},
     "output_type": "display_data"
    }
   ],
   "source": [
    "daily <- group_by(flights, year, month, day)\n",
    "head(per_day <- summarize(daily, flights_per_day = n()))"
   ]
  },
  {
   "cell_type": "code",
   "execution_count": 61,
   "id": "3f6c79b6",
   "metadata": {},
   "outputs": [
    {
     "data": {
      "text/html": [
       "<table>\n",
       "<thead><tr><th scope=col>year</th><th scope=col>month</th><th scope=col>flights_per_month</th></tr></thead>\n",
       "<tbody>\n",
       "\t<tr><td>2013 </td><td> 1   </td><td>27004</td></tr>\n",
       "\t<tr><td>2013 </td><td> 2   </td><td>24951</td></tr>\n",
       "\t<tr><td>2013 </td><td> 3   </td><td>28834</td></tr>\n",
       "\t<tr><td>2013 </td><td> 4   </td><td>28330</td></tr>\n",
       "\t<tr><td>2013 </td><td> 5   </td><td>28796</td></tr>\n",
       "\t<tr><td>2013 </td><td> 6   </td><td>28243</td></tr>\n",
       "\t<tr><td>2013 </td><td> 7   </td><td>29425</td></tr>\n",
       "\t<tr><td>2013 </td><td> 8   </td><td>29327</td></tr>\n",
       "\t<tr><td>2013 </td><td> 9   </td><td>27574</td></tr>\n",
       "\t<tr><td>2013 </td><td>10   </td><td>28889</td></tr>\n",
       "\t<tr><td>2013 </td><td>11   </td><td>27268</td></tr>\n",
       "\t<tr><td>2013 </td><td>12   </td><td>28135</td></tr>\n",
       "</tbody>\n",
       "</table>\n"
      ],
      "text/latex": [
       "\\begin{tabular}{r|lll}\n",
       " year & month & flights\\_per\\_month\\\\\n",
       "\\hline\n",
       "\t 2013  &  1    & 27004\\\\\n",
       "\t 2013  &  2    & 24951\\\\\n",
       "\t 2013  &  3    & 28834\\\\\n",
       "\t 2013  &  4    & 28330\\\\\n",
       "\t 2013  &  5    & 28796\\\\\n",
       "\t 2013  &  6    & 28243\\\\\n",
       "\t 2013  &  7    & 29425\\\\\n",
       "\t 2013  &  8    & 29327\\\\\n",
       "\t 2013  &  9    & 27574\\\\\n",
       "\t 2013  & 10    & 28889\\\\\n",
       "\t 2013  & 11    & 27268\\\\\n",
       "\t 2013  & 12    & 28135\\\\\n",
       "\\end{tabular}\n"
      ],
      "text/markdown": [
       "\n",
       "| year | month | flights_per_month |\n",
       "|---|---|---|\n",
       "| 2013  |  1    | 27004 |\n",
       "| 2013  |  2    | 24951 |\n",
       "| 2013  |  3    | 28834 |\n",
       "| 2013  |  4    | 28330 |\n",
       "| 2013  |  5    | 28796 |\n",
       "| 2013  |  6    | 28243 |\n",
       "| 2013  |  7    | 29425 |\n",
       "| 2013  |  8    | 29327 |\n",
       "| 2013  |  9    | 27574 |\n",
       "| 2013  | 10    | 28889 |\n",
       "| 2013  | 11    | 27268 |\n",
       "| 2013  | 12    | 28135 |\n",
       "\n"
      ],
      "text/plain": [
       "   year month flights_per_month\n",
       "1  2013  1    27004            \n",
       "2  2013  2    24951            \n",
       "3  2013  3    28834            \n",
       "4  2013  4    28330            \n",
       "5  2013  5    28796            \n",
       "6  2013  6    28243            \n",
       "7  2013  7    29425            \n",
       "8  2013  8    29327            \n",
       "9  2013  9    27574            \n",
       "10 2013 10    28889            \n",
       "11 2013 11    27268            \n",
       "12 2013 12    28135            "
      ]
     },
     "metadata": {},
     "output_type": "display_data"
    }
   ],
   "source": [
    "(per_month <- summarize(per_day, flights_per_month = sum(flights_per_day)))"
   ]
  },
  {
   "cell_type": "code",
   "execution_count": 62,
   "id": "6946105b",
   "metadata": {},
   "outputs": [
    {
     "data": {
      "text/html": [
       "<table>\n",
       "<thead><tr><th scope=col>year</th><th scope=col>flights_per_year</th></tr></thead>\n",
       "<tbody>\n",
       "\t<tr><td>2013  </td><td>336776</td></tr>\n",
       "</tbody>\n",
       "</table>\n"
      ],
      "text/latex": [
       "\\begin{tabular}{r|ll}\n",
       " year & flights\\_per\\_year\\\\\n",
       "\\hline\n",
       "\t 2013   & 336776\\\\\n",
       "\\end{tabular}\n"
      ],
      "text/markdown": [
       "\n",
       "| year | flights_per_year |\n",
       "|---|---|\n",
       "| 2013   | 336776 |\n",
       "\n"
      ],
      "text/plain": [
       "  year flights_per_year\n",
       "1 2013 336776          "
      ]
     },
     "metadata": {},
     "output_type": "display_data"
    }
   ],
   "source": [
    "(per_year <- summarize(per_month, flights_per_year = sum(flights_per_month)))"
   ]
  },
  {
   "cell_type": "markdown",
   "id": "0f4682a7",
   "metadata": {},
   "source": [
    "Note <- Be careful when rpogressively rolling up summaries...!!! Its ok for sums and counts, but think about weighting means and variances because, \"sum of groupwise sums is the overall sum, but the median of the groupwise medians is not the overall median\"."
   ]
  },
  {
   "cell_type": "markdown",
   "id": "1b868f01",
   "metadata": {},
   "source": [
    "# Ungrouping "
   ]
  },
  {
   "cell_type": "markdown",
   "id": "e755a980",
   "metadata": {},
   "source": [
    "ungroup(): To remove grouping, and return to operations on ungrouped data."
   ]
  },
  {
   "cell_type": "code",
   "execution_count": 63,
   "id": "a4ca48d9",
   "metadata": {},
   "outputs": [
    {
     "data": {
      "text/html": [
       "<table>\n",
       "<thead><tr><th scope=col>flights</th></tr></thead>\n",
       "<tbody>\n",
       "\t<tr><td>336776</td></tr>\n",
       "</tbody>\n",
       "</table>\n"
      ],
      "text/latex": [
       "\\begin{tabular}{r|l}\n",
       " flights\\\\\n",
       "\\hline\n",
       "\t 336776\\\\\n",
       "\\end{tabular}\n"
      ],
      "text/markdown": [
       "\n",
       "| flights |\n",
       "|---|\n",
       "| 336776 |\n",
       "\n"
      ],
      "text/plain": [
       "  flights\n",
       "1 336776 "
      ]
     },
     "metadata": {},
     "output_type": "display_data"
    }
   ],
   "source": [
    "daily %>%\n",
    "    # no longer grouped by date\n",
    "    ungroup() %>%\n",
    "    # all flights\n",
    "    summarize(flights = n())"
   ]
  },
  {
   "cell_type": "code",
   "execution_count": 64,
   "id": "6d6d970a",
   "metadata": {},
   "outputs": [
    {
     "data": {
      "text/html": [
       "<table>\n",
       "<thead><tr><th scope=col>dest</th><th scope=col>n</th></tr></thead>\n",
       "<tbody>\n",
       "\t<tr><td>ABQ  </td><td>  254</td></tr>\n",
       "\t<tr><td>ACK  </td><td>  264</td></tr>\n",
       "\t<tr><td>ALB  </td><td>  418</td></tr>\n",
       "\t<tr><td>ANC  </td><td>    8</td></tr>\n",
       "\t<tr><td>ATL  </td><td>16837</td></tr>\n",
       "\t<tr><td>AUS  </td><td> 2411</td></tr>\n",
       "</tbody>\n",
       "</table>\n"
      ],
      "text/latex": [
       "\\begin{tabular}{r|ll}\n",
       " dest & n\\\\\n",
       "\\hline\n",
       "\t ABQ   &   254\\\\\n",
       "\t ACK   &   264\\\\\n",
       "\t ALB   &   418\\\\\n",
       "\t ANC   &     8\\\\\n",
       "\t ATL   & 16837\\\\\n",
       "\t AUS   &  2411\\\\\n",
       "\\end{tabular}\n"
      ],
      "text/markdown": [
       "\n",
       "| dest | n |\n",
       "|---|---|\n",
       "| ABQ   |   254 |\n",
       "| ACK   |   264 |\n",
       "| ALB   |   418 |\n",
       "| ANC   |     8 |\n",
       "| ATL   | 16837 |\n",
       "| AUS   |  2411 |\n",
       "\n"
      ],
      "text/plain": [
       "  dest n    \n",
       "1 ABQ    254\n",
       "2 ACK    264\n",
       "3 ALB    418\n",
       "4 ANC      8\n",
       "5 ATL  16837\n",
       "6 AUS   2411"
      ]
     },
     "metadata": {},
     "output_type": "display_data"
    }
   ],
   "source": [
    "# Analogous to not_cancelled %>% count(dest)\n",
    "head(\n",
    "    not_cancelled %>%\n",
    "    group_by(dest) %>%\n",
    "    summarize(\n",
    "        n = n()\n",
    "    )\n",
    ")"
   ]
  },
  {
   "cell_type": "code",
   "execution_count": 65,
   "id": "a7794152",
   "metadata": {},
   "outputs": [
    {
     "data": {
      "text/html": [
       "<table>\n",
       "<thead><tr><th scope=col>tailnum</th><th scope=col>n</th></tr></thead>\n",
       "<tbody>\n",
       "\t<tr><td>D942DN</td><td>  3418</td></tr>\n",
       "\t<tr><td>N0EGMQ</td><td>239143</td></tr>\n",
       "\t<tr><td>N10156</td><td>109664</td></tr>\n",
       "\t<tr><td>N102UW</td><td> 25722</td></tr>\n",
       "\t<tr><td>N103US</td><td> 24619</td></tr>\n",
       "\t<tr><td>N104UW</td><td> 24616</td></tr>\n",
       "</tbody>\n",
       "</table>\n"
      ],
      "text/latex": [
       "\\begin{tabular}{r|ll}\n",
       " tailnum & n\\\\\n",
       "\\hline\n",
       "\t D942DN &   3418\\\\\n",
       "\t N0EGMQ & 239143\\\\\n",
       "\t N10156 & 109664\\\\\n",
       "\t N102UW &  25722\\\\\n",
       "\t N103US &  24619\\\\\n",
       "\t N104UW &  24616\\\\\n",
       "\\end{tabular}\n"
      ],
      "text/markdown": [
       "\n",
       "| tailnum | n |\n",
       "|---|---|\n",
       "| D942DN |   3418 |\n",
       "| N0EGMQ | 239143 |\n",
       "| N10156 | 109664 |\n",
       "| N102UW |  25722 |\n",
       "| N103US |  24619 |\n",
       "| N104UW |  24616 |\n",
       "\n"
      ],
      "text/plain": [
       "  tailnum n     \n",
       "1 D942DN    3418\n",
       "2 N0EGMQ  239143\n",
       "3 N10156  109664\n",
       "4 N102UW   25722\n",
       "5 N103US   24619\n",
       "6 N104UW   24616"
      ]
     },
     "metadata": {},
     "output_type": "display_data"
    }
   ],
   "source": [
    "# Analogous to not_cancelled %>% count(tailnum, wt = distance)\n",
    "head(\n",
    "    not_cancelled %>%\n",
    "    group_by(tailnum) %>%\n",
    "    summarize(\n",
    "        n = sum(distance)\n",
    "    )\n",
    ")"
   ]
  },
  {
   "cell_type": "code",
   "execution_count": 66,
   "id": "d169cfc5",
   "metadata": {},
   "outputs": [
    {
     "data": {
      "text/html": [
       "<table>\n",
       "<thead><tr><th scope=col>year</th><th scope=col>month</th><th scope=col>day</th><th scope=col>cancelled_per_day</th></tr></thead>\n",
       "<tbody>\n",
       "\t<tr><td>2013</td><td>1   </td><td>1   </td><td>11  </td></tr>\n",
       "\t<tr><td>2013</td><td>1   </td><td>2   </td><td>15  </td></tr>\n",
       "\t<tr><td>2013</td><td>1   </td><td>3   </td><td>14  </td></tr>\n",
       "\t<tr><td>2013</td><td>1   </td><td>4   </td><td> 7  </td></tr>\n",
       "\t<tr><td>2013</td><td>1   </td><td>5   </td><td> 3  </td></tr>\n",
       "\t<tr><td>2013</td><td>1   </td><td>6   </td><td> 3  </td></tr>\n",
       "</tbody>\n",
       "</table>\n"
      ],
      "text/latex": [
       "\\begin{tabular}{r|llll}\n",
       " year & month & day & cancelled\\_per\\_day\\\\\n",
       "\\hline\n",
       "\t 2013 & 1    & 1    & 11  \\\\\n",
       "\t 2013 & 1    & 2    & 15  \\\\\n",
       "\t 2013 & 1    & 3    & 14  \\\\\n",
       "\t 2013 & 1    & 4    &  7  \\\\\n",
       "\t 2013 & 1    & 5    &  3  \\\\\n",
       "\t 2013 & 1    & 6    &  3  \\\\\n",
       "\\end{tabular}\n"
      ],
      "text/markdown": [
       "\n",
       "| year | month | day | cancelled_per_day |\n",
       "|---|---|---|---|\n",
       "| 2013 | 1    | 1    | 11   |\n",
       "| 2013 | 1    | 2    | 15   |\n",
       "| 2013 | 1    | 3    | 14   |\n",
       "| 2013 | 1    | 4    |  7   |\n",
       "| 2013 | 1    | 5    |  3   |\n",
       "| 2013 | 1    | 6    |  3   |\n",
       "\n"
      ],
      "text/plain": [
       "  year month day cancelled_per_day\n",
       "1 2013 1     1   11               \n",
       "2 2013 1     2   15               \n",
       "3 2013 1     3   14               \n",
       "4 2013 1     4    7               \n",
       "5 2013 1     5    3               \n",
       "6 2013 1     6    3               "
      ]
     },
     "metadata": {},
     "output_type": "display_data"
    }
   ],
   "source": [
    "# Flights cancelled per day\n",
    "head(\n",
    "    cancelled <- flights %>%\n",
    "        group_by(year, month, day) %>%\n",
    "        summarize(\n",
    "            cancelled_per_day = sum(is.na(dep_delay) | is.na(arr_delay))\n",
    "        )\n",
    "    )"
   ]
  },
  {
   "cell_type": "code",
   "execution_count": 67,
   "id": "a76a8235",
   "metadata": {},
   "outputs": [
    {
     "data": {
      "text/html": [
       "<table>\n",
       "<thead><tr><th scope=col>year</th><th scope=col>month</th><th scope=col>day</th><th scope=col>cancelled_prop</th><th scope=col>avg_arr_delay</th><th scope=col>avg_dep_delay</th></tr></thead>\n",
       "<tbody>\n",
       "\t<tr><td>2013       </td><td>1          </td><td>1          </td><td>0.013064133</td><td>12.651023  </td><td>11.548926  </td></tr>\n",
       "\t<tr><td>2013       </td><td>1          </td><td>2          </td><td>0.015906681</td><td>12.692888  </td><td>13.858824  </td></tr>\n",
       "\t<tr><td>2013       </td><td>1          </td><td>3          </td><td>0.015317287</td><td> 5.733333  </td><td>10.987832  </td></tr>\n",
       "\t<tr><td>2013       </td><td>1          </td><td>4          </td><td>0.007650273</td><td>-1.932819  </td><td> 8.951595  </td></tr>\n",
       "\t<tr><td>2013       </td><td>1          </td><td>5          </td><td>0.004166667</td><td>-1.525802  </td><td> 5.732218  </td></tr>\n",
       "\t<tr><td>2013       </td><td>1          </td><td>6          </td><td>0.003605769</td><td> 4.236429  </td><td> 7.148014  </td></tr>\n",
       "</tbody>\n",
       "</table>\n"
      ],
      "text/latex": [
       "\\begin{tabular}{r|llllll}\n",
       " year & month & day & cancelled\\_prop & avg\\_arr\\_delay & avg\\_dep\\_delay\\\\\n",
       "\\hline\n",
       "\t 2013        & 1           & 1           & 0.013064133 & 12.651023   & 11.548926  \\\\\n",
       "\t 2013        & 1           & 2           & 0.015906681 & 12.692888   & 13.858824  \\\\\n",
       "\t 2013        & 1           & 3           & 0.015317287 &  5.733333   & 10.987832  \\\\\n",
       "\t 2013        & 1           & 4           & 0.007650273 & -1.932819   &  8.951595  \\\\\n",
       "\t 2013        & 1           & 5           & 0.004166667 & -1.525802   &  5.732218  \\\\\n",
       "\t 2013        & 1           & 6           & 0.003605769 &  4.236429   &  7.148014  \\\\\n",
       "\\end{tabular}\n"
      ],
      "text/markdown": [
       "\n",
       "| year | month | day | cancelled_prop | avg_arr_delay | avg_dep_delay |\n",
       "|---|---|---|---|---|---|\n",
       "| 2013        | 1           | 1           | 0.013064133 | 12.651023   | 11.548926   |\n",
       "| 2013        | 1           | 2           | 0.015906681 | 12.692888   | 13.858824   |\n",
       "| 2013        | 1           | 3           | 0.015317287 |  5.733333   | 10.987832   |\n",
       "| 2013        | 1           | 4           | 0.007650273 | -1.932819   |  8.951595   |\n",
       "| 2013        | 1           | 5           | 0.004166667 | -1.525802   |  5.732218   |\n",
       "| 2013        | 1           | 6           | 0.003605769 |  4.236429   |  7.148014   |\n",
       "\n"
      ],
      "text/plain": [
       "  year month day cancelled_prop avg_arr_delay avg_dep_delay\n",
       "1 2013 1     1   0.013064133    12.651023     11.548926    \n",
       "2 2013 1     2   0.015906681    12.692888     13.858824    \n",
       "3 2013 1     3   0.015317287     5.733333     10.987832    \n",
       "4 2013 1     4   0.007650273    -1.932819      8.951595    \n",
       "5 2013 1     5   0.004166667    -1.525802      5.732218    \n",
       "6 2013 1     6   0.003605769     4.236429      7.148014    "
      ]
     },
     "metadata": {},
     "output_type": "display_data"
    }
   ],
   "source": [
    "head(\n",
    "    cancelled_vs_delays <- flights %>%\n",
    "    group_by(year, month, day) %>%\n",
    "    summarize(\n",
    "        cancelled_prop = mean(is.na(dep_delay) | is.na(arr_delay)),\n",
    "        avg_arr_delay = mean(arr_delay, na.rm = T),\n",
    "        avg_dep_delay = mean(dep_delay, na.rm = T)\n",
    "    )\n",
    ")"
   ]
  },
  {
   "cell_type": "code",
   "execution_count": 68,
   "id": "997cec26",
   "metadata": {},
   "outputs": [
    {
     "name": "stderr",
     "output_type": "stream",
     "text": [
      "`geom_smooth()` using method = 'loess' and formula 'y ~ x'\n"
     ]
    },
    {
     "data": {
      "image/png": "[encoded data removed]",
      "text/plain": [
       "plot without title"
      ]
     },
     "metadata": {},
     "output_type": "display_data"
    }
   ],
   "source": [
    "ggplot(cancelled_vs_delays, aes(avg_arr_delay, cancelled_prop)) + \n",
    "    geom_point() +\n",
    "    geom_smooth(se = F)"
   ]
  },
  {
   "cell_type": "code",
   "execution_count": 69,
   "id": "769a95d0",
   "metadata": {},
   "outputs": [
    {
     "name": "stderr",
     "output_type": "stream",
     "text": [
      "`geom_smooth()` using method = 'loess' and formula 'y ~ x'\n"
     ]
    },
    {
     "data": {
      "image/png": "[encoded data removed]",
      "text/plain": [
       "plot without title"
      ]
     },
     "metadata": {},
     "output_type": "display_data"
    }
   ],
   "source": [
    "ggplot(cancelled_vs_delays, aes(avg_dep_delay, cancelled_prop)) + \n",
    "    geom_point() +\n",
    "    geom_smooth(se = F)"
   ]
  },
  {
   "cell_type": "markdown",
   "id": "7bfb1393",
   "metadata": {},
   "source": [
    "There is a strong increasing relationship displayed in both of the graphs: avg_arr_delay v/s cancelled_prop and avg_dep_delay v/s cancelled_prop."
   ]
  },
  {
   "cell_type": "code",
   "execution_count": 70,
   "id": "bc2da4fc",
   "metadata": {},
   "outputs": [
    {
     "data": {
      "text/html": [
       "<table>\n",
       "<thead><tr><th scope=col>carrier</th><th scope=col>delays</th></tr></thead>\n",
       "<tbody>\n",
       "\t<tr><td>F9      </td><td>21.92070</td></tr>\n",
       "\t<tr><td>FL      </td><td>20.11591</td></tr>\n",
       "\t<tr><td>EV      </td><td>15.79643</td></tr>\n",
       "\t<tr><td>YV      </td><td>15.55699</td></tr>\n",
       "\t<tr><td>OO      </td><td>11.93103</td></tr>\n",
       "\t<tr><td>MQ      </td><td>10.77473</td></tr>\n",
       "</tbody>\n",
       "</table>\n"
      ],
      "text/latex": [
       "\\begin{tabular}{r|ll}\n",
       " carrier & delays\\\\\n",
       "\\hline\n",
       "\t F9       & 21.92070\\\\\n",
       "\t FL       & 20.11591\\\\\n",
       "\t EV       & 15.79643\\\\\n",
       "\t YV       & 15.55699\\\\\n",
       "\t OO       & 11.93103\\\\\n",
       "\t MQ       & 10.77473\\\\\n",
       "\\end{tabular}\n"
      ],
      "text/markdown": [
       "\n",
       "| carrier | delays |\n",
       "|---|---|\n",
       "| F9       | 21.92070 |\n",
       "| FL       | 20.11591 |\n",
       "| EV       | 15.79643 |\n",
       "| YV       | 15.55699 |\n",
       "| OO       | 11.93103 |\n",
       "| MQ       | 10.77473 |\n",
       "\n"
      ],
      "text/plain": [
       "  carrier delays  \n",
       "1 F9      21.92070\n",
       "2 FL      20.11591\n",
       "3 EV      15.79643\n",
       "4 YV      15.55699\n",
       "5 OO      11.93103\n",
       "6 MQ      10.77473"
      ]
     },
     "metadata": {},
     "output_type": "display_data"
    }
   ],
   "source": [
    "# Carriers with the worst arr_delay\n",
    "head(\n",
    "    flights %>%\n",
    "    group_by(carrier) %>%\n",
    "    summarize(\n",
    "        delays = mean(arr_delay, na.rm = T)\n",
    "    ) %>%\n",
    "    arrange(desc(delays))\n",
    ")"
   ]
  },
  {
   "cell_type": "code",
   "execution_count": 71,
   "id": "c89e6a36",
   "metadata": {},
   "outputs": [
    {
     "data": {
      "text/html": [
       "<table>\n",
       "<thead><tr><th scope=col>tailnum</th><th scope=col>total_flights</th></tr></thead>\n",
       "<tbody>\n",
       "\t<tr><td>N954UW</td><td>206   </td></tr>\n",
       "\t<tr><td>N952UW</td><td>163   </td></tr>\n",
       "\t<tr><td>N957UW</td><td>142   </td></tr>\n",
       "\t<tr><td>N5FAAA</td><td>117   </td></tr>\n",
       "\t<tr><td>N38727</td><td> 99   </td></tr>\n",
       "\t<tr><td>N516JB</td><td> 99   </td></tr>\n",
       "</tbody>\n",
       "</table>\n"
      ],
      "text/latex": [
       "\\begin{tabular}{r|ll}\n",
       " tailnum & total\\_flights\\\\\n",
       "\\hline\n",
       "\t N954UW & 206   \\\\\n",
       "\t N952UW & 163   \\\\\n",
       "\t N957UW & 142   \\\\\n",
       "\t N5FAAA & 117   \\\\\n",
       "\t N38727 &  99   \\\\\n",
       "\t N516JB &  99   \\\\\n",
       "\\end{tabular}\n"
      ],
      "text/markdown": [
       "\n",
       "| tailnum | total_flights |\n",
       "|---|---|\n",
       "| N954UW | 206    |\n",
       "| N952UW | 163    |\n",
       "| N957UW | 142    |\n",
       "| N5FAAA | 117    |\n",
       "| N38727 |  99    |\n",
       "| N516JB |  99    |\n",
       "\n"
      ],
      "text/plain": [
       "  tailnum total_flights\n",
       "1 N954UW  206          \n",
       "2 N952UW  163          \n",
       "3 N957UW  142          \n",
       "4 N5FAAA  117          \n",
       "5 N38727   99          \n",
       "6 N516JB   99          "
      ]
     },
     "metadata": {},
     "output_type": "display_data"
    }
   ],
   "source": [
    "# For each plane, number of flights before the first delay of greater than 1 hour\n",
    "\n",
    "head(\n",
    "    flights %>%\n",
    "    # sort in increasing order\n",
    "    select(tailnum, year, month,day, dep_delay) %>%\n",
    "    filter(!is.na(dep_delay)) %>%\n",
    "    arrange(tailnum, year, month, day) %>%\n",
    "    group_by(tailnum) %>%\n",
    "    # cumulative number of flights delayed over one hour\n",
    "    mutate(cumulative_hr_delays = cumsum(dep_delay > 60)) %>%\n",
    "    # count the number of flights == 0\n",
    "    summarise(total_flights = sum(cumulative_hr_delays < 1)) %>%\n",
    "    arrange(desc(total_flights))\n",
    ")"
   ]
  },
  {
   "cell_type": "markdown",
   "id": "860c0efa",
   "metadata": {},
   "source": [
    "Note <- The sort argument in count() function if set to TRUE, sorts the output in descending order."
   ]
  },
  {
   "cell_type": "code",
   "execution_count": 72,
   "id": "a0705593",
   "metadata": {},
   "outputs": [
    {
     "data": {
      "text/html": [
       "<table>\n",
       "<thead><tr><th scope=col>dest</th><th scope=col>n</th></tr></thead>\n",
       "<tbody>\n",
       "\t<tr><td>ATL  </td><td>16837</td></tr>\n",
       "\t<tr><td>ORD  </td><td>16566</td></tr>\n",
       "\t<tr><td>LAX  </td><td>16026</td></tr>\n",
       "\t<tr><td>BOS  </td><td>15022</td></tr>\n",
       "\t<tr><td>MCO  </td><td>13967</td></tr>\n",
       "\t<tr><td>CLT  </td><td>13674</td></tr>\n",
       "</tbody>\n",
       "</table>\n"
      ],
      "text/latex": [
       "\\begin{tabular}{r|ll}\n",
       " dest & n\\\\\n",
       "\\hline\n",
       "\t ATL   & 16837\\\\\n",
       "\t ORD   & 16566\\\\\n",
       "\t LAX   & 16026\\\\\n",
       "\t BOS   & 15022\\\\\n",
       "\t MCO   & 13967\\\\\n",
       "\t CLT   & 13674\\\\\n",
       "\\end{tabular}\n"
      ],
      "text/markdown": [
       "\n",
       "| dest | n |\n",
       "|---|---|\n",
       "| ATL   | 16837 |\n",
       "| ORD   | 16566 |\n",
       "| LAX   | 16026 |\n",
       "| BOS   | 15022 |\n",
       "| MCO   | 13967 |\n",
       "| CLT   | 13674 |\n",
       "\n"
      ],
      "text/plain": [
       "  dest n    \n",
       "1 ATL  16837\n",
       "2 ORD  16566\n",
       "3 LAX  16026\n",
       "4 BOS  15022\n",
       "5 MCO  13967\n",
       "6 CLT  13674"
      ]
     },
     "metadata": {},
     "output_type": "display_data"
    }
   ],
   "source": [
    "head(count(not_cancelled, dest, sort = T))"
   ]
  },
  {
   "cell_type": "markdown",
   "id": "04a2cabb",
   "metadata": {},
   "source": [
    "# Grouped Mutates (and Filters)\n",
    "Grouping is most useful in conjunction with summarize(), but can also do convenient operations with mutate() and filter()."
   ]
  },
  {
   "cell_type": "code",
   "execution_count": 73,
   "id": "b14170e5",
   "metadata": {},
   "outputs": [
    {
     "data": {
      "text/html": [
       "<table>\n",
       "<thead><tr><th scope=col>year</th><th scope=col>month</th><th scope=col>day</th><th scope=col>dep_delay</th><th scope=col>arr_delay</th><th scope=col>distance</th><th scope=col>air_time</th></tr></thead>\n",
       "<tbody>\n",
       "\t<tr><td>2013</td><td>1   </td><td>1   </td><td>853 </td><td>851 </td><td> 184</td><td> 41 </td></tr>\n",
       "\t<tr><td>2013</td><td>1   </td><td>1   </td><td>290 </td><td>338 </td><td>1134</td><td>213 </td></tr>\n",
       "\t<tr><td>2013</td><td>1   </td><td>1   </td><td>260 </td><td>263 </td><td> 266</td><td> 46 </td></tr>\n",
       "\t<tr><td>2013</td><td>1   </td><td>1   </td><td>157 </td><td>174 </td><td> 213</td><td> 60 </td></tr>\n",
       "\t<tr><td>2013</td><td>1   </td><td>1   </td><td>216 </td><td>222 </td><td> 708</td><td>121 </td></tr>\n",
       "\t<tr><td>2013</td><td>1   </td><td>1   </td><td>255 </td><td>250 </td><td> 589</td><td>115 </td></tr>\n",
       "</tbody>\n",
       "</table>\n"
      ],
      "text/latex": [
       "\\begin{tabular}{r|lllllll}\n",
       " year & month & day & dep\\_delay & arr\\_delay & distance & air\\_time\\\\\n",
       "\\hline\n",
       "\t 2013 & 1    & 1    & 853  & 851  &  184 &  41 \\\\\n",
       "\t 2013 & 1    & 1    & 290  & 338  & 1134 & 213 \\\\\n",
       "\t 2013 & 1    & 1    & 260  & 263  &  266 &  46 \\\\\n",
       "\t 2013 & 1    & 1    & 157  & 174  &  213 &  60 \\\\\n",
       "\t 2013 & 1    & 1    & 216  & 222  &  708 & 121 \\\\\n",
       "\t 2013 & 1    & 1    & 255  & 250  &  589 & 115 \\\\\n",
       "\\end{tabular}\n"
      ],
      "text/markdown": [
       "\n",
       "| year | month | day | dep_delay | arr_delay | distance | air_time |\n",
       "|---|---|---|---|---|---|---|\n",
       "| 2013 | 1    | 1    | 853  | 851  |  184 |  41  |\n",
       "| 2013 | 1    | 1    | 290  | 338  | 1134 | 213  |\n",
       "| 2013 | 1    | 1    | 260  | 263  |  266 |  46  |\n",
       "| 2013 | 1    | 1    | 157  | 174  |  213 |  60  |\n",
       "| 2013 | 1    | 1    | 216  | 222  |  708 | 121  |\n",
       "| 2013 | 1    | 1    | 255  | 250  |  589 | 115  |\n",
       "\n"
      ],
      "text/plain": [
       "  year month day dep_delay arr_delay distance air_time\n",
       "1 2013 1     1   853       851        184      41     \n",
       "2 2013 1     1   290       338       1134     213     \n",
       "3 2013 1     1   260       263        266      46     \n",
       "4 2013 1     1   157       174        213      60     \n",
       "5 2013 1     1   216       222        708     121     \n",
       "6 2013 1     1   255       250        589     115     "
      ]
     },
     "metadata": {},
     "output_type": "display_data"
    }
   ],
   "source": [
    "# Worst members in each group\n",
    "head(\n",
    "    flights_sml %>%\n",
    "    group_by(year, month, day) %>%\n",
    "    filter(rank(desc(arr_delay)) < 10)\n",
    ")"
   ]
  },
  {
   "cell_type": "code",
   "execution_count": 74,
   "id": "292a0ec6",
   "metadata": {},
   "outputs": [
    {
     "data": {
      "text/html": [
       "<table>\n",
       "<thead><tr><th scope=col>year</th><th scope=col>month</th><th scope=col>day</th><th scope=col>dep_time</th><th scope=col>sched_dep_time</th><th scope=col>dep_delay</th><th scope=col>arr_time</th><th scope=col>sched_arr_time</th><th scope=col>arr_delay</th><th scope=col>carrier</th><th scope=col>flight</th><th scope=col>tailnum</th><th scope=col>origin</th><th scope=col>dest</th><th scope=col>air_time</th><th scope=col>distance</th><th scope=col>hour</th><th scope=col>minute</th><th scope=col>time_hour</th></tr></thead>\n",
       "<tbody>\n",
       "\t<tr><td>2013               </td><td>1                  </td><td>1                  </td><td>517                </td><td>515                </td><td> 2                 </td><td> 830               </td><td> 819               </td><td> 11                </td><td>UA                 </td><td>1545               </td><td>N14228             </td><td>EWR                </td><td>IAH                </td><td>227                </td><td>1400               </td><td>5                  </td><td>15                 </td><td>2013-01-01 05:00:00</td></tr>\n",
       "\t<tr><td>2013               </td><td>1                  </td><td>1                  </td><td>533                </td><td>529                </td><td> 4                 </td><td> 850               </td><td> 830               </td><td> 20                </td><td>UA                 </td><td>1714               </td><td>N24211             </td><td>LGA                </td><td>IAH                </td><td>227                </td><td>1416               </td><td>5                  </td><td>29                 </td><td>2013-01-01 05:00:00</td></tr>\n",
       "\t<tr><td>2013               </td><td>1                  </td><td>1                  </td><td>542                </td><td>540                </td><td> 2                 </td><td> 923               </td><td> 850               </td><td> 33                </td><td>AA                 </td><td>1141               </td><td>N619AA             </td><td>JFK                </td><td>MIA                </td><td>160                </td><td>1089               </td><td>5                  </td><td>40                 </td><td>2013-01-01 05:00:00</td></tr>\n",
       "\t<tr><td>2013               </td><td>1                  </td><td>1                  </td><td>544                </td><td>545                </td><td>-1                 </td><td>1004               </td><td>1022               </td><td>-18                </td><td>B6                 </td><td> 725               </td><td>N804JB             </td><td>JFK                </td><td>BQN                </td><td>183                </td><td>1576               </td><td>5                  </td><td>45                 </td><td>2013-01-01 05:00:00</td></tr>\n",
       "\t<tr><td>2013               </td><td>1                  </td><td>1                  </td><td>554                </td><td>600                </td><td>-6                 </td><td> 812               </td><td> 837               </td><td>-25                </td><td>DL                 </td><td> 461               </td><td>N668DN             </td><td>LGA                </td><td>ATL                </td><td>116                </td><td> 762               </td><td>6                  </td><td> 0                 </td><td>2013-01-01 06:00:00</td></tr>\n",
       "\t<tr><td>2013               </td><td>1                  </td><td>1                  </td><td>554                </td><td>558                </td><td>-4                 </td><td> 740               </td><td> 728               </td><td> 12                </td><td>UA                 </td><td>1696               </td><td>N39463             </td><td>EWR                </td><td>ORD                </td><td>150                </td><td> 719               </td><td>5                  </td><td>58                 </td><td>2013-01-01 05:00:00</td></tr>\n",
       "</tbody>\n",
       "</table>\n"
      ],
      "text/latex": [
       "\\begin{tabular}{r|lllllllllllllllllll}\n",
       " year & month & day & dep\\_time & sched\\_dep\\_time & dep\\_delay & arr\\_time & sched\\_arr\\_time & arr\\_delay & carrier & flight & tailnum & origin & dest & air\\_time & distance & hour & minute & time\\_hour\\\\\n",
       "\\hline\n",
       "\t 2013                & 1                   & 1                   & 517                 & 515                 &  2                  &  830                &  819                &  11                 & UA                  & 1545                & N14228              & EWR                 & IAH                 & 227                 & 1400                & 5                   & 15                  & 2013-01-01 05:00:00\\\\\n",
       "\t 2013                & 1                   & 1                   & 533                 & 529                 &  4                  &  850                &  830                &  20                 & UA                  & 1714                & N24211              & LGA                 & IAH                 & 227                 & 1416                & 5                   & 29                  & 2013-01-01 05:00:00\\\\\n",
       "\t 2013                & 1                   & 1                   & 542                 & 540                 &  2                  &  923                &  850                &  33                 & AA                  & 1141                & N619AA              & JFK                 & MIA                 & 160                 & 1089                & 5                   & 40                  & 2013-01-01 05:00:00\\\\\n",
       "\t 2013                & 1                   & 1                   & 544                 & 545                 & -1                  & 1004                & 1022                & -18                 & B6                  &  725                & N804JB              & JFK                 & BQN                 & 183                 & 1576                & 5                   & 45                  & 2013-01-01 05:00:00\\\\\n",
       "\t 2013                & 1                   & 1                   & 554                 & 600                 & -6                  &  812                &  837                & -25                 & DL                  &  461                & N668DN              & LGA                 & ATL                 & 116                 &  762                & 6                   &  0                  & 2013-01-01 06:00:00\\\\\n",
       "\t 2013                & 1                   & 1                   & 554                 & 558                 & -4                  &  740                &  728                &  12                 & UA                  & 1696                & N39463              & EWR                 & ORD                 & 150                 &  719                & 5                   & 58                  & 2013-01-01 05:00:00\\\\\n",
       "\\end{tabular}\n"
      ],
      "text/markdown": [
       "\n",
       "| year | month | day | dep_time | sched_dep_time | dep_delay | arr_time | sched_arr_time | arr_delay | carrier | flight | tailnum | origin | dest | air_time | distance | hour | minute | time_hour |\n",
       "|---|---|---|---|---|---|---|---|---|---|---|---|---|---|---|---|---|---|---|\n",
       "| 2013                | 1                   | 1                   | 517                 | 515                 |  2                  |  830                |  819                |  11                 | UA                  | 1545                | N14228              | EWR                 | IAH                 | 227                 | 1400                | 5                   | 15                  | 2013-01-01 05:00:00 |\n",
       "| 2013                | 1                   | 1                   | 533                 | 529                 |  4                  |  850                |  830                |  20                 | UA                  | 1714                | N24211              | LGA                 | IAH                 | 227                 | 1416                | 5                   | 29                  | 2013-01-01 05:00:00 |\n",
       "| 2013                | 1                   | 1                   | 542                 | 540                 |  2                  |  923                |  850                |  33                 | AA                  | 1141                | N619AA              | JFK                 | MIA                 | 160                 | 1089                | 5                   | 40                  | 2013-01-01 05:00:00 |\n",
       "| 2013                | 1                   | 1                   | 544                 | 545                 | -1                  | 1004                | 1022                | -18                 | B6                  |  725                | N804JB              | JFK                 | BQN                 | 183                 | 1576                | 5                   | 45                  | 2013-01-01 05:00:00 |\n",
       "| 2013                | 1                   | 1                   | 554                 | 600                 | -6                  |  812                |  837                | -25                 | DL                  |  461                | N668DN              | LGA                 | ATL                 | 116                 |  762                | 6                   |  0                  | 2013-01-01 06:00:00 |\n",
       "| 2013                | 1                   | 1                   | 554                 | 558                 | -4                  |  740                |  728                |  12                 | UA                  | 1696                | N39463              | EWR                 | ORD                 | 150                 |  719                | 5                   | 58                  | 2013-01-01 05:00:00 |\n",
       "\n"
      ],
      "text/plain": [
       "  year month day dep_time sched_dep_time dep_delay arr_time sched_arr_time\n",
       "1 2013 1     1   517      515             2         830      819          \n",
       "2 2013 1     1   533      529             4         850      830          \n",
       "3 2013 1     1   542      540             2         923      850          \n",
       "4 2013 1     1   544      545            -1        1004     1022          \n",
       "5 2013 1     1   554      600            -6         812      837          \n",
       "6 2013 1     1   554      558            -4         740      728          \n",
       "  arr_delay carrier flight tailnum origin dest air_time distance hour minute\n",
       "1  11       UA      1545   N14228  EWR    IAH  227      1400     5    15    \n",
       "2  20       UA      1714   N24211  LGA    IAH  227      1416     5    29    \n",
       "3  33       AA      1141   N619AA  JFK    MIA  160      1089     5    40    \n",
       "4 -18       B6       725   N804JB  JFK    BQN  183      1576     5    45    \n",
       "5 -25       DL       461   N668DN  LGA    ATL  116       762     6     0    \n",
       "6  12       UA      1696   N39463  EWR    ORD  150       719     5    58    \n",
       "  time_hour          \n",
       "1 2013-01-01 05:00:00\n",
       "2 2013-01-01 05:00:00\n",
       "3 2013-01-01 05:00:00\n",
       "4 2013-01-01 05:00:00\n",
       "5 2013-01-01 06:00:00\n",
       "6 2013-01-01 05:00:00"
      ]
     },
     "metadata": {},
     "output_type": "display_data"
    }
   ],
   "source": [
    "# Most popular destinations\n",
    "head(\n",
    "    popular_dest <- flights %>%\n",
    "    group_by(dest) %>%\n",
    "    filter(n() > 365)\n",
    ")"
   ]
  },
  {
   "cell_type": "code",
   "execution_count": 75,
   "id": "ee9a0f79",
   "metadata": {},
   "outputs": [
    {
     "data": {
      "text/html": [
       "<table>\n",
       "<thead><tr><th scope=col>year</th><th scope=col>month</th><th scope=col>day</th><th scope=col>dest</th><th scope=col>arr_delay</th><th scope=col>prop_delay</th></tr></thead>\n",
       "<tbody>\n",
       "\t<tr><td>2013        </td><td>1           </td><td>1           </td><td>IAH         </td><td>11          </td><td>1.106740e-04</td></tr>\n",
       "\t<tr><td>2013        </td><td>1           </td><td>1           </td><td>IAH         </td><td>20          </td><td>2.012255e-04</td></tr>\n",
       "\t<tr><td>2013        </td><td>1           </td><td>1           </td><td>MIA         </td><td>33          </td><td>2.350026e-04</td></tr>\n",
       "\t<tr><td>2013        </td><td>1           </td><td>1           </td><td>ORD         </td><td>12          </td><td>4.239594e-05</td></tr>\n",
       "\t<tr><td>2013        </td><td>1           </td><td>1           </td><td>FLL         </td><td>19          </td><td>9.377853e-05</td></tr>\n",
       "\t<tr><td>2013        </td><td>1           </td><td>1           </td><td>ORD         </td><td> 8          </td><td>2.826396e-05</td></tr>\n",
       "</tbody>\n",
       "</table>\n"
      ],
      "text/latex": [
       "\\begin{tabular}{r|llllll}\n",
       " year & month & day & dest & arr\\_delay & prop\\_delay\\\\\n",
       "\\hline\n",
       "\t 2013         & 1            & 1            & IAH          & 11           & 1.106740e-04\\\\\n",
       "\t 2013         & 1            & 1            & IAH          & 20           & 2.012255e-04\\\\\n",
       "\t 2013         & 1            & 1            & MIA          & 33           & 2.350026e-04\\\\\n",
       "\t 2013         & 1            & 1            & ORD          & 12           & 4.239594e-05\\\\\n",
       "\t 2013         & 1            & 1            & FLL          & 19           & 9.377853e-05\\\\\n",
       "\t 2013         & 1            & 1            & ORD          &  8           & 2.826396e-05\\\\\n",
       "\\end{tabular}\n"
      ],
      "text/markdown": [
       "\n",
       "| year | month | day | dest | arr_delay | prop_delay |\n",
       "|---|---|---|---|---|---|\n",
       "| 2013         | 1            | 1            | IAH          | 11           | 1.106740e-04 |\n",
       "| 2013         | 1            | 1            | IAH          | 20           | 2.012255e-04 |\n",
       "| 2013         | 1            | 1            | MIA          | 33           | 2.350026e-04 |\n",
       "| 2013         | 1            | 1            | ORD          | 12           | 4.239594e-05 |\n",
       "| 2013         | 1            | 1            | FLL          | 19           | 9.377853e-05 |\n",
       "| 2013         | 1            | 1            | ORD          |  8           | 2.826396e-05 |\n",
       "\n"
      ],
      "text/plain": [
       "  year month day dest arr_delay prop_delay  \n",
       "1 2013 1     1   IAH  11        1.106740e-04\n",
       "2 2013 1     1   IAH  20        2.012255e-04\n",
       "3 2013 1     1   MIA  33        2.350026e-04\n",
       "4 2013 1     1   ORD  12        4.239594e-05\n",
       "5 2013 1     1   FLL  19        9.377853e-05\n",
       "6 2013 1     1   ORD   8        2.826396e-05"
      ]
     },
     "metadata": {},
     "output_type": "display_data"
    }
   ],
   "source": [
    "# Compute per group metrics\n",
    "head(\n",
    "    popular_dest %>%\n",
    "    filter(arr_delay > 0) %>%\n",
    "    mutate(prop_delay = arr_delay / sum(arr_delay)) %>%\n",
    "    select(year:day, dest, arr_delay, prop_delay)\n",
    ")"
   ]
  },
  {
   "cell_type": "markdown",
   "id": "a5baf7b9",
   "metadata": {},
   "source": [
    "Note <-  A grouped filter is a grouped mutate followed by an ungrouped filter.\n",
    "\n",
    "Functions that work most naturally in grouped mutates and filters, are known as window functions (versus the summary functions used for summaries). For further help use command: vignette(\"window-functions\")"
   ]
  },
  {
   "cell_type": "code",
   "execution_count": 76,
   "id": "cf0c33b4",
   "metadata": {},
   "outputs": [
    {
     "data": {
      "text/html": [
       "<table>\n",
       "<thead><tr><th scope=col>tailnum</th><th scope=col>delay</th></tr></thead>\n",
       "<tbody>\n",
       "\t<tr><td>N844MH</td><td>297   </td></tr>\n",
       "\t<tr><td>N922EV</td><td>274   </td></tr>\n",
       "\t<tr><td>N587NW</td><td>272   </td></tr>\n",
       "\t<tr><td>N911DA</td><td>268   </td></tr>\n",
       "\t<tr><td>N851NW</td><td>233   </td></tr>\n",
       "\t<tr><td>N654UA</td><td>227   </td></tr>\n",
       "</tbody>\n",
       "</table>\n"
      ],
      "text/latex": [
       "\\begin{tabular}{r|ll}\n",
       " tailnum & delay\\\\\n",
       "\\hline\n",
       "\t N844MH & 297   \\\\\n",
       "\t N922EV & 274   \\\\\n",
       "\t N587NW & 272   \\\\\n",
       "\t N911DA & 268   \\\\\n",
       "\t N851NW & 233   \\\\\n",
       "\t N654UA & 227   \\\\\n",
       "\\end{tabular}\n"
      ],
      "text/markdown": [
       "\n",
       "| tailnum | delay |\n",
       "|---|---|\n",
       "| N844MH | 297    |\n",
       "| N922EV | 274    |\n",
       "| N587NW | 272    |\n",
       "| N911DA | 268    |\n",
       "| N851NW | 233    |\n",
       "| N654UA | 227    |\n",
       "\n"
      ],
      "text/plain": [
       "  tailnum delay\n",
       "1 N844MH  297  \n",
       "2 N922EV  274  \n",
       "3 N587NW  272  \n",
       "4 N911DA  268  \n",
       "5 N851NW  233  \n",
       "6 N654UA  227  "
      ]
     },
     "metadata": {},
     "output_type": "display_data"
    }
   ],
   "source": [
    "# Flights (wrt. tailnum ) with worst on-time record\n",
    "\n",
    "head(\n",
    "    flights %>%\n",
    "    group_by(tailnum) %>%\n",
    "    summarize(\n",
    "        delay = mean(dep_delay, na.rm = T)\n",
    "    ) %>%\n",
    "    arrange(desc(delay))\n",
    ")"
   ]
  },
  {
   "cell_type": "code",
   "execution_count": 77,
   "id": "09589aa5",
   "metadata": {},
   "outputs": [
    {
     "data": {
      "text/html": [
       "<table>\n",
       "<thead><tr><th scope=col>hour</th><th scope=col>delay</th></tr></thead>\n",
       "<tbody>\n",
       "\t<tr><td> 7        </td><td>-5.3044716</td></tr>\n",
       "\t<tr><td> 5        </td><td>-4.7969072</td></tr>\n",
       "\t<tr><td> 6        </td><td>-3.3844854</td></tr>\n",
       "\t<tr><td> 9        </td><td>-1.4514074</td></tr>\n",
       "\t<tr><td> 8        </td><td>-1.1132266</td></tr>\n",
       "\t<tr><td>10        </td><td> 0.9539401</td></tr>\n",
       "</tbody>\n",
       "</table>\n"
      ],
      "text/latex": [
       "\\begin{tabular}{r|ll}\n",
       " hour & delay\\\\\n",
       "\\hline\n",
       "\t  7         & -5.3044716\\\\\n",
       "\t  5         & -4.7969072\\\\\n",
       "\t  6         & -3.3844854\\\\\n",
       "\t  9         & -1.4514074\\\\\n",
       "\t  8         & -1.1132266\\\\\n",
       "\t 10         &  0.9539401\\\\\n",
       "\\end{tabular}\n"
      ],
      "text/markdown": [
       "\n",
       "| hour | delay |\n",
       "|---|---|\n",
       "|  7         | -5.3044716 |\n",
       "|  5         | -4.7969072 |\n",
       "|  6         | -3.3844854 |\n",
       "|  9         | -1.4514074 |\n",
       "|  8         | -1.1132266 |\n",
       "| 10         |  0.9539401 |\n",
       "\n"
      ],
      "text/plain": [
       "  hour delay     \n",
       "1  7   -5.3044716\n",
       "2  5   -4.7969072\n",
       "3  6   -3.3844854\n",
       "4  9   -1.4514074\n",
       "5  8   -1.1132266\n",
       "6 10    0.9539401"
      ]
     },
     "metadata": {},
     "output_type": "display_data"
    }
   ],
   "source": [
    "# Time (in hours) of day with least possible delays\n",
    "\n",
    "head(\n",
    "    flights %>%\n",
    "    group_by(hour) %>%\n",
    "    summarize(\n",
    "        delay = mean(arr_delay, na.rm = T)\n",
    "    ) %>%\n",
    "    arrange(delay)\n",
    ")"
   ]
  },
  {
   "cell_type": "code",
   "execution_count": 78,
   "id": "cbab86ed",
   "metadata": {},
   "outputs": [
    {
     "data": {
      "text/html": [
       "<table>\n",
       "<thead><tr><th scope=col>month</th><th scope=col>day</th><th scope=col>carrier</th><th scope=col>flight</th><th scope=col>dest</th><th scope=col>arr_delay</th><th scope=col>arr_delay_prop</th><th scope=col>total_arr_delay</th></tr></thead>\n",
       "<tbody>\n",
       "\t<tr><td> 7        </td><td>22        </td><td>B6        </td><td>1505      </td><td>ABQ       </td><td>153       </td><td>0.03409851</td><td>4487      </td></tr>\n",
       "\t<tr><td>12        </td><td>14        </td><td>B6        </td><td>  65      </td><td>ABQ       </td><td>149       </td><td>0.03320704</td><td>4487      </td></tr>\n",
       "\t<tr><td>10        </td><td>15        </td><td>B6        </td><td>  65      </td><td>ABQ       </td><td>138       </td><td>0.03075552</td><td>4487      </td></tr>\n",
       "\t<tr><td> 7        </td><td>23        </td><td>B6        </td><td>1505      </td><td>ABQ       </td><td>137       </td><td>0.03053265</td><td>4487      </td></tr>\n",
       "\t<tr><td>12        </td><td>17        </td><td>B6        </td><td>  65      </td><td>ABQ       </td><td>136       </td><td>0.03030978</td><td>4487      </td></tr>\n",
       "\t<tr><td> 7        </td><td>10        </td><td>B6        </td><td>1505      </td><td>ABQ       </td><td>126       </td><td>0.02808112</td><td>4487      </td></tr>\n",
       "</tbody>\n",
       "</table>\n"
      ],
      "text/latex": [
       "\\begin{tabular}{r|llllllll}\n",
       " month & day & carrier & flight & dest & arr\\_delay & arr\\_delay\\_prop & total\\_arr\\_delay\\\\\n",
       "\\hline\n",
       "\t  7         & 22         & B6         & 1505       & ABQ        & 153        & 0.03409851 & 4487      \\\\\n",
       "\t 12         & 14         & B6         &   65       & ABQ        & 149        & 0.03320704 & 4487      \\\\\n",
       "\t 10         & 15         & B6         &   65       & ABQ        & 138        & 0.03075552 & 4487      \\\\\n",
       "\t  7         & 23         & B6         & 1505       & ABQ        & 137        & 0.03053265 & 4487      \\\\\n",
       "\t 12         & 17         & B6         &   65       & ABQ        & 136        & 0.03030978 & 4487      \\\\\n",
       "\t  7         & 10         & B6         & 1505       & ABQ        & 126        & 0.02808112 & 4487      \\\\\n",
       "\\end{tabular}\n"
      ],
      "text/markdown": [
       "\n",
       "| month | day | carrier | flight | dest | arr_delay | arr_delay_prop | total_arr_delay |\n",
       "|---|---|---|---|---|---|---|---|\n",
       "|  7         | 22         | B6         | 1505       | ABQ        | 153        | 0.03409851 | 4487       |\n",
       "| 12         | 14         | B6         |   65       | ABQ        | 149        | 0.03320704 | 4487       |\n",
       "| 10         | 15         | B6         |   65       | ABQ        | 138        | 0.03075552 | 4487       |\n",
       "|  7         | 23         | B6         | 1505       | ABQ        | 137        | 0.03053265 | 4487       |\n",
       "| 12         | 17         | B6         |   65       | ABQ        | 136        | 0.03030978 | 4487       |\n",
       "|  7         | 10         | B6         | 1505       | ABQ        | 126        | 0.02808112 | 4487       |\n",
       "\n"
      ],
      "text/plain": [
       "  month day carrier flight dest arr_delay arr_delay_prop total_arr_delay\n",
       "1  7    22  B6      1505   ABQ  153       0.03409851     4487           \n",
       "2 12    14  B6        65   ABQ  149       0.03320704     4487           \n",
       "3 10    15  B6        65   ABQ  138       0.03075552     4487           \n",
       "4  7    23  B6      1505   ABQ  137       0.03053265     4487           \n",
       "5 12    17  B6        65   ABQ  136       0.03030978     4487           \n",
       "6  7    10  B6      1505   ABQ  126       0.02808112     4487           "
      ]
     },
     "metadata": {},
     "output_type": "display_data"
    }
   ],
   "source": [
    "# Proportion of delay of flights for its destination\n",
    "\n",
    "head(\n",
    "    flights %>%\n",
    "    group_by(dest) %>%\n",
    "    filter(arr_delay > 0) %>%\n",
    "    mutate(\n",
    "        total_arr_delay  =  sum(arr_delay, na.rm = T), # Total average delay for each destination\n",
    "        arr_delay_prop = arr_delay / total_arr_delay\n",
    "    ) %>%\n",
    "    select(month, day, carrier, flight, dest, arr_delay, arr_delay_prop, total_arr_delay) %>%\n",
    "    arrange(dest, desc(arr_delay_prop))\n",
    ")"
   ]
  },
  {
   "cell_type": "code",
   "execution_count": 79,
   "id": "551000e5",
   "metadata": {},
   "outputs": [
    {
     "data": {
      "text/html": [
       "<table>\n",
       "<thead><tr><th scope=col>year</th><th scope=col>month</th><th scope=col>day</th><th scope=col>dep_time</th><th scope=col>sched_dep_time</th><th scope=col>dep_delay</th><th scope=col>arr_time</th><th scope=col>sched_arr_time</th><th scope=col>arr_delay</th><th scope=col>carrier</th><th scope=col>flight</th><th scope=col>tailnum</th><th scope=col>origin</th><th scope=col>dest</th><th scope=col>air_time</th><th scope=col>distance</th><th scope=col>hour</th><th scope=col>minute</th><th scope=col>time_hour</th><th scope=col>delay_lag</th></tr></thead>\n",
       "<tbody>\n",
       "\t<tr><td>2013               </td><td>1                  </td><td>1                  </td><td>544                </td><td>545                </td><td>-1                 </td><td>1004               </td><td>1022               </td><td>-18                </td><td>B6                 </td><td> 725               </td><td>N804JB             </td><td>JFK                </td><td>BQN                </td><td>183                </td><td>1576               </td><td>5                  </td><td>45                 </td><td>2013-01-01 05:00:00</td><td> 2                 </td></tr>\n",
       "\t<tr><td>2013               </td><td>1                  </td><td>1                  </td><td>554                </td><td>600                </td><td>-6                 </td><td> 812               </td><td> 837               </td><td>-25                </td><td>DL                 </td><td> 461               </td><td>N668DN             </td><td>LGA                </td><td>ATL                </td><td>116                </td><td> 762               </td><td>6                  </td><td> 0                 </td><td>2013-01-01 06:00:00</td><td> 4                 </td></tr>\n",
       "\t<tr><td>2013               </td><td>1                  </td><td>1                  </td><td>554                </td><td>558                </td><td>-4                 </td><td> 740               </td><td> 728               </td><td> 12                </td><td>UA                 </td><td>1696               </td><td>N39463             </td><td>EWR                </td><td>ORD                </td><td>150                </td><td> 719               </td><td>5                  </td><td>58                 </td><td>2013-01-01 05:00:00</td><td> 2                 </td></tr>\n",
       "\t<tr><td>2013               </td><td>1                  </td><td>1                  </td><td>555                </td><td>600                </td><td>-5                 </td><td> 913               </td><td> 854               </td><td> 19                </td><td>B6                 </td><td> 507               </td><td>N516JB             </td><td>EWR                </td><td>FLL                </td><td>158                </td><td>1065               </td><td>6                  </td><td> 0                 </td><td>2013-01-01 06:00:00</td><td>-4                 </td></tr>\n",
       "\t<tr><td>2013               </td><td>1                  </td><td>1                  </td><td>557                </td><td>600                </td><td>-3                 </td><td> 709               </td><td> 723               </td><td>-14                </td><td>EV                 </td><td>5708               </td><td>N829AS             </td><td>LGA                </td><td>IAD                </td><td> 53                </td><td> 229               </td><td>6                  </td><td> 0                 </td><td>2013-01-01 06:00:00</td><td>-6                 </td></tr>\n",
       "\t<tr><td>2013               </td><td>1                  </td><td>1                  </td><td>557                </td><td>600                </td><td>-3                 </td><td> 838               </td><td> 846               </td><td> -8                </td><td>B6                 </td><td>  79               </td><td>N593JB             </td><td>JFK                </td><td>MCO                </td><td>140                </td><td> 944               </td><td>6                  </td><td> 0                 </td><td>2013-01-01 06:00:00</td><td>-1                 </td></tr>\n",
       "</tbody>\n",
       "</table>\n"
      ],
      "text/latex": [
       "\\begin{tabular}{r|llllllllllllllllllll}\n",
       " year & month & day & dep\\_time & sched\\_dep\\_time & dep\\_delay & arr\\_time & sched\\_arr\\_time & arr\\_delay & carrier & flight & tailnum & origin & dest & air\\_time & distance & hour & minute & time\\_hour & delay\\_lag\\\\\n",
       "\\hline\n",
       "\t 2013                & 1                   & 1                   & 544                 & 545                 & -1                  & 1004                & 1022                & -18                 & B6                  &  725                & N804JB              & JFK                 & BQN                 & 183                 & 1576                & 5                   & 45                  & 2013-01-01 05:00:00 &  2                 \\\\\n",
       "\t 2013                & 1                   & 1                   & 554                 & 600                 & -6                  &  812                &  837                & -25                 & DL                  &  461                & N668DN              & LGA                 & ATL                 & 116                 &  762                & 6                   &  0                  & 2013-01-01 06:00:00 &  4                 \\\\\n",
       "\t 2013                & 1                   & 1                   & 554                 & 558                 & -4                  &  740                &  728                &  12                 & UA                  & 1696                & N39463              & EWR                 & ORD                 & 150                 &  719                & 5                   & 58                  & 2013-01-01 05:00:00 &  2                 \\\\\n",
       "\t 2013                & 1                   & 1                   & 555                 & 600                 & -5                  &  913                &  854                &  19                 & B6                  &  507                & N516JB              & EWR                 & FLL                 & 158                 & 1065                & 6                   &  0                  & 2013-01-01 06:00:00 & -4                 \\\\\n",
       "\t 2013                & 1                   & 1                   & 557                 & 600                 & -3                  &  709                &  723                & -14                 & EV                  & 5708                & N829AS              & LGA                 & IAD                 &  53                 &  229                & 6                   &  0                  & 2013-01-01 06:00:00 & -6                 \\\\\n",
       "\t 2013                & 1                   & 1                   & 557                 & 600                 & -3                  &  838                &  846                &  -8                 & B6                  &   79                & N593JB              & JFK                 & MCO                 & 140                 &  944                & 6                   &  0                  & 2013-01-01 06:00:00 & -1                 \\\\\n",
       "\\end{tabular}\n"
      ],
      "text/markdown": [
       "\n",
       "| year | month | day | dep_time | sched_dep_time | dep_delay | arr_time | sched_arr_time | arr_delay | carrier | flight | tailnum | origin | dest | air_time | distance | hour | minute | time_hour | delay_lag |\n",
       "|---|---|---|---|---|---|---|---|---|---|---|---|---|---|---|---|---|---|---|---|\n",
       "| 2013                | 1                   | 1                   | 544                 | 545                 | -1                  | 1004                | 1022                | -18                 | B6                  |  725                | N804JB              | JFK                 | BQN                 | 183                 | 1576                | 5                   | 45                  | 2013-01-01 05:00:00 |  2                  |\n",
       "| 2013                | 1                   | 1                   | 554                 | 600                 | -6                  |  812                |  837                | -25                 | DL                  |  461                | N668DN              | LGA                 | ATL                 | 116                 |  762                | 6                   |  0                  | 2013-01-01 06:00:00 |  4                  |\n",
       "| 2013                | 1                   | 1                   | 554                 | 558                 | -4                  |  740                |  728                |  12                 | UA                  | 1696                | N39463              | EWR                 | ORD                 | 150                 |  719                | 5                   | 58                  | 2013-01-01 05:00:00 |  2                  |\n",
       "| 2013                | 1                   | 1                   | 555                 | 600                 | -5                  |  913                |  854                |  19                 | B6                  |  507                | N516JB              | EWR                 | FLL                 | 158                 | 1065                | 6                   |  0                  | 2013-01-01 06:00:00 | -4                  |\n",
       "| 2013                | 1                   | 1                   | 557                 | 600                 | -3                  |  709                |  723                | -14                 | EV                  | 5708                | N829AS              | LGA                 | IAD                 |  53                 |  229                | 6                   |  0                  | 2013-01-01 06:00:00 | -6                  |\n",
       "| 2013                | 1                   | 1                   | 557                 | 600                 | -3                  |  838                |  846                |  -8                 | B6                  |   79                | N593JB              | JFK                 | MCO                 | 140                 |  944                | 6                   |  0                  | 2013-01-01 06:00:00 | -1                  |\n",
       "\n"
      ],
      "text/plain": [
       "  year month day dep_time sched_dep_time dep_delay arr_time sched_arr_time\n",
       "1 2013 1     1   544      545            -1        1004     1022          \n",
       "2 2013 1     1   554      600            -6         812      837          \n",
       "3 2013 1     1   554      558            -4         740      728          \n",
       "4 2013 1     1   555      600            -5         913      854          \n",
       "5 2013 1     1   557      600            -3         709      723          \n",
       "6 2013 1     1   557      600            -3         838      846          \n",
       "  arr_delay carrier flight tailnum origin dest air_time distance hour minute\n",
       "1 -18       B6       725   N804JB  JFK    BQN  183      1576     5    45    \n",
       "2 -25       DL       461   N668DN  LGA    ATL  116       762     6     0    \n",
       "3  12       UA      1696   N39463  EWR    ORD  150       719     5    58    \n",
       "4  19       B6       507   N516JB  EWR    FLL  158      1065     6     0    \n",
       "5 -14       EV      5708   N829AS  LGA    IAD   53       229     6     0    \n",
       "6  -8       B6        79   N593JB  JFK    MCO  140       944     6     0    \n",
       "  time_hour           delay_lag\n",
       "1 2013-01-01 05:00:00  2       \n",
       "2 2013-01-01 06:00:00  4       \n",
       "3 2013-01-01 05:00:00  2       \n",
       "4 2013-01-01 06:00:00 -4       \n",
       "5 2013-01-01 06:00:00 -6       \n",
       "6 2013-01-01 06:00:00 -1       "
      ]
     },
     "metadata": {},
     "output_type": "display_data"
    }
   ],
   "source": [
    "# Departure delay of the preceding flight from the same airport\n",
    "\n",
    "head(\n",
    "    lagged_delays <- flights %>%\n",
    "    group_by(origin) %>%\n",
    "    mutate(\n",
    "        delay_lag = lag(dep_delay)\n",
    "    ) %>%\n",
    "    filter(!is.na(dep_delay), !is.na(delay_lag))\n",
    ")"
   ]
  },
  {
   "cell_type": "code",
   "execution_count": 80,
   "id": "0b102550",
   "metadata": {},
   "outputs": [
    {
     "data": {
      "text/html": [
       "<table>\n",
       "<thead><tr><th scope=col>origin</th><th scope=col>dest</th><th scope=col>mean_air_time</th><th scope=col>sd_air_time</th><th scope=col>standard_air_time</th></tr></thead>\n",
       "<tbody>\n",
       "\t<tr><td>EWR       </td><td>IAH       </td><td>195.8404  </td><td>16.144065 </td><td> 1.9300946</td></tr>\n",
       "\t<tr><td>LGA       </td><td>IAH       </td><td>200.7932  </td><td>17.174701 </td><td> 1.5258984</td></tr>\n",
       "\t<tr><td>JFK       </td><td>MIA       </td><td>152.1300  </td><td>11.122881 </td><td> 0.7075519</td></tr>\n",
       "\t<tr><td>JFK       </td><td>BQN       </td><td>194.2411  </td><td> 9.239541 </td><td>-1.2166348</td></tr>\n",
       "\t<tr><td>LGA       </td><td>ATL       </td><td>113.5550  </td><td> 9.657191 </td><td> 0.2531767</td></tr>\n",
       "\t<tr><td>EWR       </td><td>ORD       </td><td>113.2603  </td><td> 9.987122 </td><td> 3.6787080</td></tr>\n",
       "</tbody>\n",
       "</table>\n"
      ],
      "text/latex": [
       "\\begin{tabular}{r|lllll}\n",
       " origin & dest & mean\\_air\\_time & sd\\_air\\_time & standard\\_air\\_time\\\\\n",
       "\\hline\n",
       "\t EWR        & IAH        & 195.8404   & 16.144065  &  1.9300946\\\\\n",
       "\t LGA        & IAH        & 200.7932   & 17.174701  &  1.5258984\\\\\n",
       "\t JFK        & MIA        & 152.1300   & 11.122881  &  0.7075519\\\\\n",
       "\t JFK        & BQN        & 194.2411   &  9.239541  & -1.2166348\\\\\n",
       "\t LGA        & ATL        & 113.5550   &  9.657191  &  0.2531767\\\\\n",
       "\t EWR        & ORD        & 113.2603   &  9.987122  &  3.6787080\\\\\n",
       "\\end{tabular}\n"
      ],
      "text/markdown": [
       "\n",
       "| origin | dest | mean_air_time | sd_air_time | standard_air_time |\n",
       "|---|---|---|---|---|\n",
       "| EWR        | IAH        | 195.8404   | 16.144065  |  1.9300946 |\n",
       "| LGA        | IAH        | 200.7932   | 17.174701  |  1.5258984 |\n",
       "| JFK        | MIA        | 152.1300   | 11.122881  |  0.7075519 |\n",
       "| JFK        | BQN        | 194.2411   |  9.239541  | -1.2166348 |\n",
       "| LGA        | ATL        | 113.5550   |  9.657191  |  0.2531767 |\n",
       "| EWR        | ORD        | 113.2603   |  9.987122  |  3.6787080 |\n",
       "\n"
      ],
      "text/plain": [
       "  origin dest mean_air_time sd_air_time standard_air_time\n",
       "1 EWR    IAH  195.8404      16.144065    1.9300946       \n",
       "2 LGA    IAH  200.7932      17.174701    1.5258984       \n",
       "3 JFK    MIA  152.1300      11.122881    0.7075519       \n",
       "4 JFK    BQN  194.2411       9.239541   -1.2166348       \n",
       "5 LGA    ATL  113.5550       9.657191    0.2531767       \n",
       "6 EWR    ORD  113.2603       9.987122    3.6787080       "
      ]
     },
     "metadata": {},
     "output_type": "display_data"
    }
   ],
   "source": [
    "# Spotting suspiciously fast flights using the z-score statistics\n",
    "\n",
    "head(\n",
    "    standardized_air_timing <- flights %>%\n",
    "    filter(!is.na(air_time)) %>%\n",
    "    group_by(origin, dest) %>%\n",
    "    mutate(\n",
    "        mean_air_time = mean(air_time),\n",
    "        sd_air_time = sd(air_time),\n",
    "        standard_air_time = (air_time - mean_air_time) / sd_air_time     # Z-Score Calculation Formula\n",
    "    ) %>%\n",
    "    select(origin, dest, mean_air_time, sd_air_time, standard_air_time)\n",
    ")"
   ]
  },
  {
   "cell_type": "markdown",
   "id": "921d3148",
   "metadata": {},
   "source": [
    "Flights with values of standardized_air_time (z-score) greater than 2 are unusually fast."
   ]
  },
  {
   "cell_type": "code",
   "execution_count": 81,
   "id": "a85a9de4",
   "metadata": {},
   "outputs": [
    {
     "data": {
      "text/html": [
       "<table>\n",
       "<thead><tr><th scope=col>origin</th><th scope=col>dest</th><th scope=col>mean_air_time</th><th scope=col>sd_air_time</th><th scope=col>standard_air_time</th></tr></thead>\n",
       "<tbody>\n",
       "\t<tr><td>LGA     </td><td>BOS     </td><td>37.85082</td><td>4.677608</td><td>14.78302</td></tr>\n",
       "\t<tr><td>EWR     </td><td>BOS     </td><td>40.31275</td><td>4.922072</td><td>14.56444</td></tr>\n",
       "\t<tr><td>JFK     </td><td>SYR     </td><td>44.53406</td><td>3.782374</td><td>13.87117</td></tr>\n",
       "\t<tr><td>LGA     </td><td>DCA     </td><td>45.59467</td><td>6.319190</td><td>13.51523</td></tr>\n",
       "\t<tr><td>JFK     </td><td>ACK     </td><td>42.06818</td><td>8.127495</td><td>12.17249</td></tr>\n",
       "\t<tr><td>EWR     </td><td>BOS     </td><td>40.31275</td><td>4.922072</td><td>11.92328</td></tr>\n",
       "</tbody>\n",
       "</table>\n"
      ],
      "text/latex": [
       "\\begin{tabular}{r|lllll}\n",
       " origin & dest & mean\\_air\\_time & sd\\_air\\_time & standard\\_air\\_time\\\\\n",
       "\\hline\n",
       "\t LGA      & BOS      & 37.85082 & 4.677608 & 14.78302\\\\\n",
       "\t EWR      & BOS      & 40.31275 & 4.922072 & 14.56444\\\\\n",
       "\t JFK      & SYR      & 44.53406 & 3.782374 & 13.87117\\\\\n",
       "\t LGA      & DCA      & 45.59467 & 6.319190 & 13.51523\\\\\n",
       "\t JFK      & ACK      & 42.06818 & 8.127495 & 12.17249\\\\\n",
       "\t EWR      & BOS      & 40.31275 & 4.922072 & 11.92328\\\\\n",
       "\\end{tabular}\n"
      ],
      "text/markdown": [
       "\n",
       "| origin | dest | mean_air_time | sd_air_time | standard_air_time |\n",
       "|---|---|---|---|---|\n",
       "| LGA      | BOS      | 37.85082 | 4.677608 | 14.78302 |\n",
       "| EWR      | BOS      | 40.31275 | 4.922072 | 14.56444 |\n",
       "| JFK      | SYR      | 44.53406 | 3.782374 | 13.87117 |\n",
       "| LGA      | DCA      | 45.59467 | 6.319190 | 13.51523 |\n",
       "| JFK      | ACK      | 42.06818 | 8.127495 | 12.17249 |\n",
       "| EWR      | BOS      | 40.31275 | 4.922072 | 11.92328 |\n",
       "\n"
      ],
      "text/plain": [
       "  origin dest mean_air_time sd_air_time standard_air_time\n",
       "1 LGA    BOS  37.85082      4.677608    14.78302         \n",
       "2 EWR    BOS  40.31275      4.922072    14.56444         \n",
       "3 JFK    SYR  44.53406      3.782374    13.87117         \n",
       "4 LGA    DCA  45.59467      6.319190    13.51523         \n",
       "5 JFK    ACK  42.06818      8.127495    12.17249         \n",
       "6 EWR    BOS  40.31275      4.922072    11.92328         "
      ]
     },
     "metadata": {},
     "output_type": "display_data"
    }
   ],
   "source": [
    "# Flights that are most delayed in air\n",
    "\n",
    "head(standardized_air_timing %>%\n",
    "    arrange(desc(standard_air_time))\n",
    ")"
   ]
  },
  {
   "cell_type": "code",
   "execution_count": 82,
   "id": "bbfbee6b",
   "metadata": {},
   "outputs": [
    {
     "data": {
      "text/html": [
       "<table>\n",
       "<thead><tr><th scope=col>dest</th><th scope=col>carrier_count</th></tr></thead>\n",
       "<tbody>\n",
       "\t<tr><td>ATL</td><td>7  </td></tr>\n",
       "\t<tr><td>BOS</td><td>7  </td></tr>\n",
       "\t<tr><td>CLT</td><td>7  </td></tr>\n",
       "\t<tr><td>ORD</td><td>7  </td></tr>\n",
       "\t<tr><td>TPA</td><td>7  </td></tr>\n",
       "\t<tr><td>AUS</td><td>6  </td></tr>\n",
       "</tbody>\n",
       "</table>\n"
      ],
      "text/latex": [
       "\\begin{tabular}{r|ll}\n",
       " dest & carrier\\_count\\\\\n",
       "\\hline\n",
       "\t ATL & 7  \\\\\n",
       "\t BOS & 7  \\\\\n",
       "\t CLT & 7  \\\\\n",
       "\t ORD & 7  \\\\\n",
       "\t TPA & 7  \\\\\n",
       "\t AUS & 6  \\\\\n",
       "\\end{tabular}\n"
      ],
      "text/markdown": [
       "\n",
       "| dest | carrier_count |\n",
       "|---|---|\n",
       "| ATL | 7   |\n",
       "| BOS | 7   |\n",
       "| CLT | 7   |\n",
       "| ORD | 7   |\n",
       "| TPA | 7   |\n",
       "| AUS | 6   |\n",
       "\n"
      ],
      "text/plain": [
       "  dest carrier_count\n",
       "1 ATL  7            \n",
       "2 BOS  7            \n",
       "3 CLT  7            \n",
       "4 ORD  7            \n",
       "5 TPA  7            \n",
       "6 AUS  6            "
      ]
     },
     "metadata": {},
     "output_type": "display_data"
    }
   ],
   "source": [
    "# Destinations flown by atleast two carriers\n",
    "\n",
    "head(\n",
    "    flights %>%\n",
    "    group_by(dest) %>%\n",
    "    summarize(\n",
    "        carrier_count = n_distinct(carrier)\n",
    "    ) %>%\n",
    "    filter(carrier_count >= 2) %>%\n",
    "    arrange(desc(carrier_count))\n",
    ")"
   ]
  },
  {
   "cell_type": "code",
   "execution_count": null,
   "id": "df286d4a",
   "metadata": {},
   "outputs": [],
   "source": []
  }
 ],
 "metadata": {
  "kernelspec": {
   "display_name": "R",
   "language": "R",
   "name": "ir"
  },
  "language_info": {
   "codemirror_mode": "r",
   "file_extension": ".r",
   "mimetype": "text/x-r-source",
   "name": "R",
   "pygments_lexer": "r",
   "version": "3.6.1"
  }
 },
 "nbformat": 4,
 "nbformat_minor": 5
}
