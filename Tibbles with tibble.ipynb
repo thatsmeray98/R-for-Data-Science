{
 "cells": [
  {
   "cell_type": "code",
   "execution_count": 1,
   "id": "b3eab88e",
   "metadata": {},
   "outputs": [
    {
     "name": "stderr",
     "output_type": "stream",
     "text": [
      "Registered S3 methods overwritten by 'ggplot2':\n",
      "  method         from \n",
      "  [.quosures     rlang\n",
      "  c.quosures     rlang\n",
      "  print.quosures rlang\n",
      "Registered S3 method overwritten by 'rvest':\n",
      "  method            from\n",
      "  read_xml.response xml2\n",
      "-- Attaching packages --------------------------------------- tidyverse 1.2.1 --\n",
      "v ggplot2 3.1.1       v purrr   0.3.2  \n",
      "v tibble  2.1.1       v dplyr   0.8.0.1\n",
      "v tidyr   0.8.3       v stringr 1.4.0  \n",
      "v readr   1.3.1       v forcats 0.4.0  \n",
      "-- Conflicts ------------------------------------------ tidyverse_conflicts() --\n",
      "x dplyr::filter() masks stats::filter()\n",
      "x dplyr::lag()    masks stats::lag()\n"
     ]
    }
   ],
   "source": [
    "library(tidyverse)"
   ]
  },
  {
   "cell_type": "markdown",
   "id": "63472ec8",
   "metadata": {},
   "source": [
    "# Creating Tibbles\n",
    "\n",
    "To coerce a dataframe to a tibble, use as_tibble()."
   ]
  },
  {
   "cell_type": "code",
   "execution_count": 2,
   "id": "9ee3d0ca",
   "metadata": {},
   "outputs": [
    {
     "data": {
      "text/html": [
       "<table>\n",
       "<thead><tr><th scope=col>Sepal.Length</th><th scope=col>Sepal.Width</th><th scope=col>Petal.Length</th><th scope=col>Petal.Width</th><th scope=col>Species</th></tr></thead>\n",
       "<tbody>\n",
       "\t<tr><td>5.1   </td><td>3.5   </td><td>1.4   </td><td>0.2   </td><td>setosa</td></tr>\n",
       "\t<tr><td>4.9   </td><td>3.0   </td><td>1.4   </td><td>0.2   </td><td>setosa</td></tr>\n",
       "\t<tr><td>4.7   </td><td>3.2   </td><td>1.3   </td><td>0.2   </td><td>setosa</td></tr>\n",
       "\t<tr><td>4.6   </td><td>3.1   </td><td>1.5   </td><td>0.2   </td><td>setosa</td></tr>\n",
       "\t<tr><td>5.0   </td><td>3.6   </td><td>1.4   </td><td>0.2   </td><td>setosa</td></tr>\n",
       "\t<tr><td>5.4   </td><td>3.9   </td><td>1.7   </td><td>0.4   </td><td>setosa</td></tr>\n",
       "</tbody>\n",
       "</table>\n"
      ],
      "text/latex": [
       "\\begin{tabular}{r|lllll}\n",
       " Sepal.Length & Sepal.Width & Petal.Length & Petal.Width & Species\\\\\n",
       "\\hline\n",
       "\t 5.1    & 3.5    & 1.4    & 0.2    & setosa\\\\\n",
       "\t 4.9    & 3.0    & 1.4    & 0.2    & setosa\\\\\n",
       "\t 4.7    & 3.2    & 1.3    & 0.2    & setosa\\\\\n",
       "\t 4.6    & 3.1    & 1.5    & 0.2    & setosa\\\\\n",
       "\t 5.0    & 3.6    & 1.4    & 0.2    & setosa\\\\\n",
       "\t 5.4    & 3.9    & 1.7    & 0.4    & setosa\\\\\n",
       "\\end{tabular}\n"
      ],
      "text/markdown": [
       "\n",
       "| Sepal.Length | Sepal.Width | Petal.Length | Petal.Width | Species |\n",
       "|---|---|---|---|---|\n",
       "| 5.1    | 3.5    | 1.4    | 0.2    | setosa |\n",
       "| 4.9    | 3.0    | 1.4    | 0.2    | setosa |\n",
       "| 4.7    | 3.2    | 1.3    | 0.2    | setosa |\n",
       "| 4.6    | 3.1    | 1.5    | 0.2    | setosa |\n",
       "| 5.0    | 3.6    | 1.4    | 0.2    | setosa |\n",
       "| 5.4    | 3.9    | 1.7    | 0.4    | setosa |\n",
       "\n"
      ],
      "text/plain": [
       "  Sepal.Length Sepal.Width Petal.Length Petal.Width Species\n",
       "1 5.1          3.5         1.4          0.2         setosa \n",
       "2 4.9          3.0         1.4          0.2         setosa \n",
       "3 4.7          3.2         1.3          0.2         setosa \n",
       "4 4.6          3.1         1.5          0.2         setosa \n",
       "5 5.0          3.6         1.4          0.2         setosa \n",
       "6 5.4          3.9         1.7          0.4         setosa "
      ]
     },
     "metadata": {},
     "output_type": "display_data"
    }
   ],
   "source": [
    "head(as_tibble(iris))"
   ]
  },
  {
   "cell_type": "markdown",
   "id": "148a8bac",
   "metadata": {},
   "source": [
    "Create a new tibble from individual vectors with tibble()."
   ]
  },
  {
   "cell_type": "code",
   "execution_count": 3,
   "id": "59aefe99",
   "metadata": {},
   "outputs": [
    {
     "data": {
      "text/html": [
       "<table>\n",
       "<thead><tr><th scope=col>x</th><th scope=col>y</th><th scope=col>z</th></tr></thead>\n",
       "<tbody>\n",
       "\t<tr><td>1 </td><td>1 </td><td> 6</td></tr>\n",
       "\t<tr><td>2 </td><td>1 </td><td> 9</td></tr>\n",
       "\t<tr><td>3 </td><td>1 </td><td>12</td></tr>\n",
       "\t<tr><td>4 </td><td>1 </td><td>15</td></tr>\n",
       "\t<tr><td>5 </td><td>1 </td><td>18</td></tr>\n",
       "</tbody>\n",
       "</table>\n"
      ],
      "text/latex": [
       "\\begin{tabular}{r|lll}\n",
       " x & y & z\\\\\n",
       "\\hline\n",
       "\t 1  & 1  &  6\\\\\n",
       "\t 2  & 1  &  9\\\\\n",
       "\t 3  & 1  & 12\\\\\n",
       "\t 4  & 1  & 15\\\\\n",
       "\t 5  & 1  & 18\\\\\n",
       "\\end{tabular}\n"
      ],
      "text/markdown": [
       "\n",
       "| x | y | z |\n",
       "|---|---|---|\n",
       "| 1  | 1  |  6 |\n",
       "| 2  | 1  |  9 |\n",
       "| 3  | 1  | 12 |\n",
       "| 4  | 1  | 15 |\n",
       "| 5  | 1  | 18 |\n",
       "\n"
      ],
      "text/plain": [
       "  x y z \n",
       "1 1 1  6\n",
       "2 2 1  9\n",
       "3 3 1 12\n",
       "4 4 1 15\n",
       "5 5 1 18"
      ]
     },
     "metadata": {},
     "output_type": "display_data"
    }
   ],
   "source": [
    "tibble(\n",
    "    x = 1:5,\n",
    "    y = 1,\n",
    "    z = (x + y^3) * 3\n",
    ")"
   ]
  },
  {
   "cell_type": "markdown",
   "id": "2bcb70d5",
   "metadata": {},
   "source": [
    "Tibble does much less than data.frame():\n",
    "* never changes the type of inputs (eg. never converts stringd to factors).\n",
    "* never changes names of variables.\n",
    "* never creates row names.\n",
    "\n",
    "Tibble can also have column names that are nonsyntactic. (Note <- To refer to these variables, surround them with backticks, `)"
   ]
  },
  {
   "cell_type": "code",
   "execution_count": 4,
   "id": "106a3bf3",
   "metadata": {},
   "outputs": [
    {
     "data": {
      "text/html": [
       "<table>\n",
       "<thead><tr><th scope=col>:)</th><th scope=col> </th><th scope=col>2000</th></tr></thead>\n",
       "<tbody>\n",
       "\t<tr><td>smile </td><td>space </td><td>number</td></tr>\n",
       "</tbody>\n",
       "</table>\n"
      ],
      "text/latex": [
       "\\begin{tabular}{r|lll}\n",
       " :) &   & 2000\\\\\n",
       "\\hline\n",
       "\t smile  & space  & number\\\\\n",
       "\\end{tabular}\n"
      ],
      "text/markdown": [
       "\n",
       "| :) |   | 2000 |\n",
       "|---|---|---|\n",
       "| smile  | space  | number |\n",
       "\n"
      ],
      "text/plain": [
       "  :)          2000  \n",
       "1 smile space number"
      ]
     },
     "metadata": {},
     "output_type": "display_data"
    }
   ],
   "source": [
    "(tb <- tibble(\n",
    "    `:)` = \"smile\",\n",
    "    ` ` = 'space',\n",
    "    `2000` = 'number'\n",
    "))"
   ]
  },
  {
   "cell_type": "markdown",
   "id": "93ed1f2f",
   "metadata": {},
   "source": [
    "Note <- Backticks are needed when working with these variables in other packages, like ggplot2, dplyr, and tidyr.\n",
    "\n",
    "Another way to create tibble is using tribble() (short for transposed tibble). tribble is customised for data entry in code: column headings are defined by formulas(i.e. start with ~), and entries are separated by commas."
   ]
  },
  {
   "cell_type": "code",
   "execution_count": 5,
   "id": "c60d2b87",
   "metadata": {},
   "outputs": [
    {
     "data": {
      "text/html": [
       "<table>\n",
       "<thead><tr><th scope=col>x</th><th scope=col>y</th><th scope=col>z</th></tr></thead>\n",
       "<tbody>\n",
       "\t<tr><td>a  </td><td>2  </td><td>3.6</td></tr>\n",
       "\t<tr><td>b  </td><td>3  </td><td>5.4</td></tr>\n",
       "\t<tr><td>c  </td><td>4  </td><td>3.1</td></tr>\n",
       "</tbody>\n",
       "</table>\n"
      ],
      "text/latex": [
       "\\begin{tabular}{r|lll}\n",
       " x & y & z\\\\\n",
       "\\hline\n",
       "\t a   & 2   & 3.6\\\\\n",
       "\t b   & 3   & 5.4\\\\\n",
       "\t c   & 4   & 3.1\\\\\n",
       "\\end{tabular}\n"
      ],
      "text/markdown": [
       "\n",
       "| x | y | z |\n",
       "|---|---|---|\n",
       "| a   | 2   | 3.6 |\n",
       "| b   | 3   | 5.4 |\n",
       "| c   | 4   | 3.1 |\n",
       "\n"
      ],
      "text/plain": [
       "  x y z  \n",
       "1 a 2 3.6\n",
       "2 b 3 5.4\n",
       "3 c 4 3.1"
      ]
     },
     "metadata": {},
     "output_type": "display_data"
    }
   ],
   "source": [
    "tribble(\n",
    "    ~x, ~y, ~z,\n",
    "   #---/---/----/\n",
    "    \"a\", 2, 3.6,\n",
    "    'b', 3, 5.4,\n",
    "    'c', 4, 3.1\n",
    ")"
   ]
  },
  {
   "cell_type": "markdown",
   "id": "420f878a",
   "metadata": {},
   "source": [
    "# Tibbles versus data.frame\n",
    "\n",
    "The two major differences between tibble and data.frame: \n",
    "* Printing \n",
    "* Subsetting\n",
    "\n",
    "# Printing\n",
    "\n",
    "Printing tibbles shows only first 10 rows and all columns that fit on screen. In addition to its name, each column also reports its type (a feature from str())."
   ]
  },
  {
   "cell_type": "code",
   "execution_count": 6,
   "id": "b0048e59",
   "metadata": {},
   "outputs": [
    {
     "data": {
      "text/html": [
       "<table>\n",
       "<thead><tr><th scope=col>a</th><th scope=col>b</th><th scope=col>c</th><th scope=col>d</th><th scope=col>e</th></tr></thead>\n",
       "<tbody>\n",
       "\t<tr><td>2021-06-08 21:00:16</td><td>2021-06-28         </td><td>1                  </td><td>0.9698232          </td><td>z                  </td></tr>\n",
       "\t<tr><td>2021-06-09 19:02:09</td><td>2021-06-21         </td><td>2                  </td><td>0.9759702          </td><td>k                  </td></tr>\n",
       "\t<tr><td>2021-06-09 13:44:31</td><td>2021-07-06         </td><td>3                  </td><td>0.8637972          </td><td>v                  </td></tr>\n",
       "\t<tr><td>2021-06-09 14:23:41</td><td>2021-06-26         </td><td>4                  </td><td>0.2034292          </td><td>y                  </td></tr>\n",
       "\t<tr><td>2021-06-08 23:41:31</td><td>2021-06-24         </td><td>5                  </td><td>0.6050637          </td><td>b                  </td></tr>\n",
       "\t<tr><td>2021-06-09 16:30:30</td><td>2021-07-07         </td><td>6                  </td><td>0.4901938          </td><td>d                  </td></tr>\n",
       "</tbody>\n",
       "</table>\n"
      ],
      "text/latex": [
       "\\begin{tabular}{r|lllll}\n",
       " a & b & c & d & e\\\\\n",
       "\\hline\n",
       "\t 2021-06-08 21:00:16 & 2021-06-28          & 1                   & 0.9698232           & z                  \\\\\n",
       "\t 2021-06-09 19:02:09 & 2021-06-21          & 2                   & 0.9759702           & k                  \\\\\n",
       "\t 2021-06-09 13:44:31 & 2021-07-06          & 3                   & 0.8637972           & v                  \\\\\n",
       "\t 2021-06-09 14:23:41 & 2021-06-26          & 4                   & 0.2034292           & y                  \\\\\n",
       "\t 2021-06-08 23:41:31 & 2021-06-24          & 5                   & 0.6050637           & b                  \\\\\n",
       "\t 2021-06-09 16:30:30 & 2021-07-07          & 6                   & 0.4901938           & d                  \\\\\n",
       "\\end{tabular}\n"
      ],
      "text/markdown": [
       "\n",
       "| a | b | c | d | e |\n",
       "|---|---|---|---|---|\n",
       "| 2021-06-08 21:00:16 | 2021-06-28          | 1                   | 0.9698232           | z                   |\n",
       "| 2021-06-09 19:02:09 | 2021-06-21          | 2                   | 0.9759702           | k                   |\n",
       "| 2021-06-09 13:44:31 | 2021-07-06          | 3                   | 0.8637972           | v                   |\n",
       "| 2021-06-09 14:23:41 | 2021-06-26          | 4                   | 0.2034292           | y                   |\n",
       "| 2021-06-08 23:41:31 | 2021-06-24          | 5                   | 0.6050637           | b                   |\n",
       "| 2021-06-09 16:30:30 | 2021-07-07          | 6                   | 0.4901938           | d                   |\n",
       "\n"
      ],
      "text/plain": [
       "  a                   b          c d         e\n",
       "1 2021-06-08 21:00:16 2021-06-28 1 0.9698232 z\n",
       "2 2021-06-09 19:02:09 2021-06-21 2 0.9759702 k\n",
       "3 2021-06-09 13:44:31 2021-07-06 3 0.8637972 v\n",
       "4 2021-06-09 14:23:41 2021-06-26 4 0.2034292 y\n",
       "5 2021-06-08 23:41:31 2021-06-24 5 0.6050637 b\n",
       "6 2021-06-09 16:30:30 2021-07-07 6 0.4901938 d"
      ]
     },
     "metadata": {},
     "output_type": "display_data"
    }
   ],
   "source": [
    "head(tibble(\n",
    "    a = lubridate::now() + runif(1e3) * 86400,\n",
    "    b = lubridate::today() + runif(1e3) * 30,\n",
    "    c = 1:1e3,\n",
    "    d = runif(1e3),\n",
    "    e = sample(letters, 1e3, replace = TRUE)\n",
    "))"
   ]
  },
  {
   "cell_type": "markdown",
   "id": "29660e59",
   "metadata": {},
   "source": [
    "Note <- The output above will be exactly as mentioned above, when the code is run in the R-Studio.\n",
    "\n",
    "If more output than default display is needed, few options can help.\n",
    "\n",
    "* Explicitly print() the data frame and control the number of rows (n) and width of display (width = Inf, will display all columns)."
   ]
  },
  {
   "cell_type": "code",
   "execution_count": 7,
   "id": "93a01bb3",
   "metadata": {},
   "outputs": [],
   "source": [
    "#install.packages('nycflights13')"
   ]
  },
  {
   "cell_type": "code",
   "execution_count": 8,
   "id": "9b79f31d",
   "metadata": {},
   "outputs": [
    {
     "name": "stdout",
     "output_type": "stream",
     "text": [
      "# A tibble: 336,776 x 19\n",
      "    year month   day dep_time sched_dep_time dep_delay arr_time sched_arr_time\n",
      "   <int> <int> <int>    <int>          <int>     <dbl>    <int>          <int>\n",
      " 1  2013     1     1      517            515         2      830            819\n",
      " 2  2013     1     1      533            529         4      850            830\n",
      " 3  2013     1     1      542            540         2      923            850\n",
      " 4  2013     1     1      544            545        -1     1004           1022\n",
      " 5  2013     1     1      554            600        -6      812            837\n",
      " 6  2013     1     1      554            558        -4      740            728\n",
      " 7  2013     1     1      555            600        -5      913            854\n",
      " 8  2013     1     1      557            600        -3      709            723\n",
      " 9  2013     1     1      557            600        -3      838            846\n",
      "10  2013     1     1      558            600        -2      753            745\n",
      "   arr_delay carrier flight tailnum origin dest  air_time distance  hour minute\n",
      "       <dbl> <chr>    <int> <chr>   <chr>  <chr>    <dbl>    <dbl> <dbl>  <dbl>\n",
      " 1        11 UA        1545 N14228  EWR    IAH        227     1400     5     15\n",
      " 2        20 UA        1714 N24211  LGA    IAH        227     1416     5     29\n",
      " 3        33 AA        1141 N619AA  JFK    MIA        160     1089     5     40\n",
      " 4       -18 B6         725 N804JB  JFK    BQN        183     1576     5     45\n",
      " 5       -25 DL         461 N668DN  LGA    ATL        116      762     6      0\n",
      " 6        12 UA        1696 N39463  EWR    ORD        150      719     5     58\n",
      " 7        19 B6         507 N516JB  EWR    FLL        158     1065     6      0\n",
      " 8       -14 EV        5708 N829AS  LGA    IAD         53      229     6      0\n",
      " 9        -8 B6          79 N593JB  JFK    MCO        140      944     6      0\n",
      "10         8 AA         301 N3ALAA  LGA    ORD        138      733     6      0\n",
      "   time_hour          \n",
      "   <dttm>             \n",
      " 1 2013-01-01 05:00:00\n",
      " 2 2013-01-01 05:00:00\n",
      " 3 2013-01-01 05:00:00\n",
      " 4 2013-01-01 05:00:00\n",
      " 5 2013-01-01 06:00:00\n",
      " 6 2013-01-01 05:00:00\n",
      " 7 2013-01-01 06:00:00\n",
      " 8 2013-01-01 06:00:00\n",
      " 9 2013-01-01 06:00:00\n",
      "10 2013-01-01 06:00:00\n",
      "# ... with 3.368e+05 more rows\n"
     ]
    }
   ],
   "source": [
    "nycflights13::flights %>% \n",
    "    print(n = 10, width = Inf)"
   ]
  },
  {
   "cell_type": "markdown",
   "id": "fcac2b29",
   "metadata": {},
   "source": [
    "Control the default print behaviour by setting options:\n",
    "* options(tibble.print_max = n, tibble.print_min = m) <- If more than m rows in the dataset, then prints only n rows. Use options(dplyr.print_min = Inf) to always show all rows.\n",
    "* Use options(tibble.width = Inf) to always print all columns, regardless of width of screen.\n",
    "\n",
    "Note <- For complete list of options, use package?tibble.\n",
    "\n",
    "Final option is to use View() (R-Studio's built-in data viewer) to get a scrolling view of complete dataset. Its often used at the end of a long chain of manipulations."
   ]
  },
  {
   "cell_type": "markdown",
   "id": "d353720e",
   "metadata": {},
   "source": [
    "# Subsetting"
   ]
  },
  {
   "cell_type": "code",
   "execution_count": 9,
   "id": "40a66f73",
   "metadata": {},
   "outputs": [
    {
     "data": {
      "text/html": [
       "<table>\n",
       "<thead><tr><th scope=col>x</th><th scope=col>y</th></tr></thead>\n",
       "<tbody>\n",
       "\t<tr><td>0.08820877 </td><td>-0.17638754</td></tr>\n",
       "\t<tr><td>0.39196666 </td><td>-0.86233238</td></tr>\n",
       "\t<tr><td>0.65922066 </td><td> 0.74048587</td></tr>\n",
       "\t<tr><td>0.81762653 </td><td>-1.24533886</td></tr>\n",
       "\t<tr><td>0.03732262 </td><td> 0.07595553</td></tr>\n",
       "</tbody>\n",
       "</table>\n"
      ],
      "text/latex": [
       "\\begin{tabular}{r|ll}\n",
       " x & y\\\\\n",
       "\\hline\n",
       "\t 0.08820877  & -0.17638754\\\\\n",
       "\t 0.39196666  & -0.86233238\\\\\n",
       "\t 0.65922066  &  0.74048587\\\\\n",
       "\t 0.81762653  & -1.24533886\\\\\n",
       "\t 0.03732262  &  0.07595553\\\\\n",
       "\\end{tabular}\n"
      ],
      "text/markdown": [
       "\n",
       "| x | y |\n",
       "|---|---|\n",
       "| 0.08820877  | -0.17638754 |\n",
       "| 0.39196666  | -0.86233238 |\n",
       "| 0.65922066  |  0.74048587 |\n",
       "| 0.81762653  | -1.24533886 |\n",
       "| 0.03732262  |  0.07595553 |\n",
       "\n"
      ],
      "text/plain": [
       "  x          y          \n",
       "1 0.08820877 -0.17638754\n",
       "2 0.39196666 -0.86233238\n",
       "3 0.65922066  0.74048587\n",
       "4 0.81762653 -1.24533886\n",
       "5 0.03732262  0.07595553"
      ]
     },
     "metadata": {},
     "output_type": "display_data"
    },
    {
     "data": {
      "text/html": [
       "<ol class=list-inline>\n",
       "\t<li>0.0882087696809322</li>\n",
       "\t<li>0.39196665934287</li>\n",
       "\t<li>0.659220657544211</li>\n",
       "\t<li>0.817626525880769</li>\n",
       "\t<li>0.037322617135942</li>\n",
       "</ol>\n"
      ],
      "text/latex": [
       "\\begin{enumerate*}\n",
       "\\item 0.0882087696809322\n",
       "\\item 0.39196665934287\n",
       "\\item 0.659220657544211\n",
       "\\item 0.817626525880769\n",
       "\\item 0.037322617135942\n",
       "\\end{enumerate*}\n"
      ],
      "text/markdown": [
       "1. 0.0882087696809322\n",
       "2. 0.39196665934287\n",
       "3. 0.659220657544211\n",
       "4. 0.817626525880769\n",
       "5. 0.037322617135942\n",
       "\n",
       "\n"
      ],
      "text/plain": [
       "[1] 0.08820877 0.39196666 0.65922066 0.81762653 0.03732262"
      ]
     },
     "metadata": {},
     "output_type": "display_data"
    },
    {
     "data": {
      "text/html": [
       "<ol class=list-inline>\n",
       "\t<li>0.0882087696809322</li>\n",
       "\t<li>0.39196665934287</li>\n",
       "\t<li>0.659220657544211</li>\n",
       "\t<li>0.817626525880769</li>\n",
       "\t<li>0.037322617135942</li>\n",
       "</ol>\n"
      ],
      "text/latex": [
       "\\begin{enumerate*}\n",
       "\\item 0.0882087696809322\n",
       "\\item 0.39196665934287\n",
       "\\item 0.659220657544211\n",
       "\\item 0.817626525880769\n",
       "\\item 0.037322617135942\n",
       "\\end{enumerate*}\n"
      ],
      "text/markdown": [
       "1. 0.0882087696809322\n",
       "2. 0.39196665934287\n",
       "3. 0.659220657544211\n",
       "4. 0.817626525880769\n",
       "5. 0.037322617135942\n",
       "\n",
       "\n"
      ],
      "text/plain": [
       "[1] 0.08820877 0.39196666 0.65922066 0.81762653 0.03732262"
      ]
     },
     "metadata": {},
     "output_type": "display_data"
    },
    {
     "data": {
      "text/html": [
       "<ol class=list-inline>\n",
       "\t<li>0.0882087696809322</li>\n",
       "\t<li>0.39196665934287</li>\n",
       "\t<li>0.659220657544211</li>\n",
       "\t<li>0.817626525880769</li>\n",
       "\t<li>0.037322617135942</li>\n",
       "</ol>\n"
      ],
      "text/latex": [
       "\\begin{enumerate*}\n",
       "\\item 0.0882087696809322\n",
       "\\item 0.39196665934287\n",
       "\\item 0.659220657544211\n",
       "\\item 0.817626525880769\n",
       "\\item 0.037322617135942\n",
       "\\end{enumerate*}\n"
      ],
      "text/markdown": [
       "1. 0.0882087696809322\n",
       "2. 0.39196665934287\n",
       "3. 0.659220657544211\n",
       "4. 0.817626525880769\n",
       "5. 0.037322617135942\n",
       "\n",
       "\n"
      ],
      "text/plain": [
       "[1] 0.08820877 0.39196666 0.65922066 0.81762653 0.03732262"
      ]
     },
     "metadata": {},
     "output_type": "display_data"
    }
   ],
   "source": [
    "(df <- tibble(\n",
    "    x = runif(5),\n",
    "    y = rnorm(5)\n",
    "))\n",
    "\n",
    "# Extract by name\n",
    "df$x\n",
    "df[['x']]\n",
    "\n",
    "# Extract by position\n",
    "df[[1]]"
   ]
  },
  {
   "cell_type": "markdown",
   "id": "73807405",
   "metadata": {},
   "source": [
    "To use these operators in a pipe, use the special character as shown below."
   ]
  },
  {
   "cell_type": "code",
   "execution_count": 10,
   "id": "44b4bad3",
   "metadata": {},
   "outputs": [
    {
     "data": {
      "text/html": [
       "<ol class=list-inline>\n",
       "\t<li>0.0882087696809322</li>\n",
       "\t<li>0.39196665934287</li>\n",
       "\t<li>0.659220657544211</li>\n",
       "\t<li>0.817626525880769</li>\n",
       "\t<li>0.037322617135942</li>\n",
       "</ol>\n"
      ],
      "text/latex": [
       "\\begin{enumerate*}\n",
       "\\item 0.0882087696809322\n",
       "\\item 0.39196665934287\n",
       "\\item 0.659220657544211\n",
       "\\item 0.817626525880769\n",
       "\\item 0.037322617135942\n",
       "\\end{enumerate*}\n"
      ],
      "text/markdown": [
       "1. 0.0882087696809322\n",
       "2. 0.39196665934287\n",
       "3. 0.659220657544211\n",
       "4. 0.817626525880769\n",
       "5. 0.037322617135942\n",
       "\n",
       "\n"
      ],
      "text/plain": [
       "[1] 0.08820877 0.39196666 0.65922066 0.81762653 0.03732262"
      ]
     },
     "metadata": {},
     "output_type": "display_data"
    }
   ],
   "source": [
    "df %>% .$x"
   ]
  },
  {
   "cell_type": "code",
   "execution_count": 11,
   "id": "9c4ff19b",
   "metadata": {},
   "outputs": [
    {
     "data": {
      "text/html": [
       "<ol class=list-inline>\n",
       "\t<li>0.0882087696809322</li>\n",
       "\t<li>0.39196665934287</li>\n",
       "\t<li>0.659220657544211</li>\n",
       "\t<li>0.817626525880769</li>\n",
       "\t<li>0.037322617135942</li>\n",
       "</ol>\n"
      ],
      "text/latex": [
       "\\begin{enumerate*}\n",
       "\\item 0.0882087696809322\n",
       "\\item 0.39196665934287\n",
       "\\item 0.659220657544211\n",
       "\\item 0.817626525880769\n",
       "\\item 0.037322617135942\n",
       "\\end{enumerate*}\n"
      ],
      "text/markdown": [
       "1. 0.0882087696809322\n",
       "2. 0.39196665934287\n",
       "3. 0.659220657544211\n",
       "4. 0.817626525880769\n",
       "5. 0.037322617135942\n",
       "\n",
       "\n"
      ],
      "text/plain": [
       "[1] 0.08820877 0.39196666 0.65922066 0.81762653 0.03732262"
      ]
     },
     "metadata": {},
     "output_type": "display_data"
    }
   ],
   "source": [
    "df %>% .[['x']]"
   ]
  },
  {
   "cell_type": "code",
   "execution_count": 12,
   "id": "6fcc0871",
   "metadata": {},
   "outputs": [
    {
     "data": {
      "text/html": [
       "<ol class=list-inline>\n",
       "\t<li>0.0882087696809322</li>\n",
       "\t<li>0.39196665934287</li>\n",
       "\t<li>0.659220657544211</li>\n",
       "\t<li>0.817626525880769</li>\n",
       "\t<li>0.037322617135942</li>\n",
       "</ol>\n"
      ],
      "text/latex": [
       "\\begin{enumerate*}\n",
       "\\item 0.0882087696809322\n",
       "\\item 0.39196665934287\n",
       "\\item 0.659220657544211\n",
       "\\item 0.817626525880769\n",
       "\\item 0.037322617135942\n",
       "\\end{enumerate*}\n"
      ],
      "text/markdown": [
       "1. 0.0882087696809322\n",
       "2. 0.39196665934287\n",
       "3. 0.659220657544211\n",
       "4. 0.817626525880769\n",
       "5. 0.037322617135942\n",
       "\n",
       "\n"
      ],
      "text/plain": [
       "[1] 0.08820877 0.39196666 0.65922066 0.81762653 0.03732262"
      ]
     },
     "metadata": {},
     "output_type": "display_data"
    }
   ],
   "source": [
    "df %>% .[[1]]"
   ]
  },
  {
   "cell_type": "markdown",
   "id": "8804667e",
   "metadata": {},
   "source": [
    "Compared to data.frame, tibbles are more strict:\n",
    "* They never do partial matching.\n",
    "* They will generate an warning if the column you are tring to access does not exist.\n",
    "\n",
    "# Interacting with Older Code\n",
    "\n",
    "Some older functions don't work with tibble, if any such function is encountered use as.data.frame() to turn tibble back to a data.frame"
   ]
  },
  {
   "cell_type": "code",
   "execution_count": 13,
   "id": "1faf6549",
   "metadata": {},
   "outputs": [
    {
     "data": {
      "text/html": [
       "'data.frame'"
      ],
      "text/latex": [
       "'data.frame'"
      ],
      "text/markdown": [
       "'data.frame'"
      ],
      "text/plain": [
       "[1] \"data.frame\""
      ]
     },
     "metadata": {},
     "output_type": "display_data"
    }
   ],
   "source": [
    "class(as.data.frame(tb))"
   ]
  },
  {
   "cell_type": "markdown",
   "id": "1d3c1128",
   "metadata": {},
   "source": [
    "The main reason for some older function not working with tibbles is that, with base R data-frames, subsetting functions sometimes return a data-frame and sometimes a vector. But with tibbles, subsetting funtions always return a tibble. dplyr::filter() and dplyr::select() allows to solve this issue with a cleaner code. "
   ]
  },
  {
   "cell_type": "code",
   "execution_count": 14,
   "id": "6d05c8d5",
   "metadata": {},
   "outputs": [
    {
     "data": {
      "text/html": [
       "FALSE"
      ],
      "text/latex": [
       "FALSE"
      ],
      "text/markdown": [
       "FALSE"
      ],
      "text/plain": [
       "[1] FALSE"
      ]
     },
     "metadata": {},
     "output_type": "display_data"
    },
    {
     "data": {
      "text/html": [
       "'data.frame'"
      ],
      "text/latex": [
       "'data.frame'"
      ],
      "text/markdown": [
       "'data.frame'"
      ],
      "text/plain": [
       "[1] \"data.frame\""
      ]
     },
     "metadata": {},
     "output_type": "display_data"
    }
   ],
   "source": [
    "# Check if an object is tibble or not.\n",
    "is_tibble(mtcars)\n",
    "\n",
    "# Check the class of an object.\n",
    "class(mtcars)"
   ]
  },
  {
   "cell_type": "code",
   "execution_count": 15,
   "id": "574a3ca9",
   "metadata": {},
   "outputs": [
    {
     "data": {
      "text/html": [
       "a\n",
       "<details>\n",
       "\t<summary style=display:list-item;cursor:pointer>\n",
       "\t\t<strong>Levels</strong>:\n",
       "\t</summary>\n",
       "\t'a'\n",
       "</details>"
      ],
      "text/latex": [
       "a\n",
       "\\emph{Levels}: 'a'"
      ],
      "text/markdown": [
       "a\n",
       "**Levels**: 'a'"
      ],
      "text/plain": [
       "[1] a\n",
       "Levels: a"
      ]
     },
     "metadata": {},
     "output_type": "display_data"
    },
    {
     "data": {
      "text/html": [
       "a\n",
       "<details>\n",
       "\t<summary style=display:list-item;cursor:pointer>\n",
       "\t\t<strong>Levels</strong>:\n",
       "\t</summary>\n",
       "\t'a'\n",
       "</details>"
      ],
      "text/latex": [
       "a\n",
       "\\emph{Levels}: 'a'"
      ],
      "text/markdown": [
       "a\n",
       "**Levels**: 'a'"
      ],
      "text/plain": [
       "[1] a\n",
       "Levels: a"
      ]
     },
     "metadata": {},
     "output_type": "display_data"
    },
    {
     "data": {
      "text/html": [
       "<table>\n",
       "<thead><tr><th scope=col>abc</th><th scope=col>xyz</th></tr></thead>\n",
       "<tbody>\n",
       "\t<tr><td>1</td><td>a</td></tr>\n",
       "</tbody>\n",
       "</table>\n"
      ],
      "text/latex": [
       "\\begin{tabular}{r|ll}\n",
       " abc & xyz\\\\\n",
       "\\hline\n",
       "\t 1 & a\\\\\n",
       "\\end{tabular}\n"
      ],
      "text/markdown": [
       "\n",
       "| abc | xyz |\n",
       "|---|---|\n",
       "| 1 | a |\n",
       "\n"
      ],
      "text/plain": [
       "  abc xyz\n",
       "1 1   a  "
      ]
     },
     "metadata": {},
     "output_type": "display_data"
    }
   ],
   "source": [
    "df <- data.frame(abc = 1, xyz = 'a')\n",
    "df$x\n",
    "df[, 'xyz']\n",
    "df[, c('abc', 'xyz')]"
   ]
  },
  {
   "cell_type": "code",
   "execution_count": 16,
   "id": "98f9bf75",
   "metadata": {},
   "outputs": [
    {
     "name": "stderr",
     "output_type": "stream",
     "text": [
      "Warning message:\n",
      "\"Unknown or uninitialised column: 'x'.\""
     ]
    },
    {
     "data": {
      "text/plain": [
       "NULL"
      ]
     },
     "metadata": {},
     "output_type": "display_data"
    },
    {
     "data": {
      "text/html": [
       "<table>\n",
       "<thead><tr><th scope=col>xyz</th></tr></thead>\n",
       "<tbody>\n",
       "\t<tr><td>a</td></tr>\n",
       "</tbody>\n",
       "</table>\n"
      ],
      "text/latex": [
       "\\begin{tabular}{r|l}\n",
       " xyz\\\\\n",
       "\\hline\n",
       "\t a\\\\\n",
       "\\end{tabular}\n"
      ],
      "text/markdown": [
       "\n",
       "| xyz |\n",
       "|---|\n",
       "| a |\n",
       "\n"
      ],
      "text/plain": [
       "  xyz\n",
       "1 a  "
      ]
     },
     "metadata": {},
     "output_type": "display_data"
    },
    {
     "data": {
      "text/html": [
       "<table>\n",
       "<thead><tr><th scope=col>abc</th><th scope=col>xyz</th></tr></thead>\n",
       "<tbody>\n",
       "\t<tr><td>1</td><td>a</td></tr>\n",
       "</tbody>\n",
       "</table>\n"
      ],
      "text/latex": [
       "\\begin{tabular}{r|ll}\n",
       " abc & xyz\\\\\n",
       "\\hline\n",
       "\t 1 & a\\\\\n",
       "\\end{tabular}\n"
      ],
      "text/markdown": [
       "\n",
       "| abc | xyz |\n",
       "|---|---|\n",
       "| 1 | a |\n",
       "\n"
      ],
      "text/plain": [
       "  abc xyz\n",
       "1 1   a  "
      ]
     },
     "metadata": {},
     "output_type": "display_data"
    }
   ],
   "source": [
    "tb <- as_tibble(df)\n",
    "tb$x\n",
    "tb[, 'xyz']\n",
    "tb[, c('abc', 'xyz')]"
   ]
  },
  {
   "cell_type": "code",
   "execution_count": 17,
   "id": "fd55ff7d",
   "metadata": {},
   "outputs": [
    {
     "data": {
      "text/html": [
       "<table>\n",
       "<thead><tr><th scope=col>1</th><th scope=col>2</th></tr></thead>\n",
       "<tbody>\n",
       "\t<tr><td> 1       </td><td> 2.574568</td></tr>\n",
       "\t<tr><td> 2       </td><td> 5.606432</td></tr>\n",
       "\t<tr><td> 3       </td><td> 5.827233</td></tr>\n",
       "\t<tr><td> 4       </td><td> 6.231066</td></tr>\n",
       "\t<tr><td> 5       </td><td>10.447741</td></tr>\n",
       "\t<tr><td> 6       </td><td>12.233975</td></tr>\n",
       "\t<tr><td> 7       </td><td>12.834640</td></tr>\n",
       "\t<tr><td> 8       </td><td>13.554780</td></tr>\n",
       "\t<tr><td> 9       </td><td>19.184517</td></tr>\n",
       "\t<tr><td>10       </td><td>19.535448</td></tr>\n",
       "</tbody>\n",
       "</table>\n"
      ],
      "text/latex": [
       "\\begin{tabular}{r|ll}\n",
       " 1 & 2\\\\\n",
       "\\hline\n",
       "\t  1        &  2.574568\\\\\n",
       "\t  2        &  5.606432\\\\\n",
       "\t  3        &  5.827233\\\\\n",
       "\t  4        &  6.231066\\\\\n",
       "\t  5        & 10.447741\\\\\n",
       "\t  6        & 12.233975\\\\\n",
       "\t  7        & 12.834640\\\\\n",
       "\t  8        & 13.554780\\\\\n",
       "\t  9        & 19.184517\\\\\n",
       "\t 10        & 19.535448\\\\\n",
       "\\end{tabular}\n"
      ],
      "text/markdown": [
       "\n",
       "| 1 | 2 |\n",
       "|---|---|\n",
       "|  1        |  2.574568 |\n",
       "|  2        |  5.606432 |\n",
       "|  3        |  5.827233 |\n",
       "|  4        |  6.231066 |\n",
       "|  5        | 10.447741 |\n",
       "|  6        | 12.233975 |\n",
       "|  7        | 12.834640 |\n",
       "|  8        | 13.554780 |\n",
       "|  9        | 19.184517 |\n",
       "| 10        | 19.535448 |\n",
       "\n"
      ],
      "text/plain": [
       "   1  2        \n",
       "1   1  2.574568\n",
       "2   2  5.606432\n",
       "3   3  5.827233\n",
       "4   4  6.231066\n",
       "5   5 10.447741\n",
       "6   6 12.233975\n",
       "7   7 12.834640\n",
       "8   8 13.554780\n",
       "9   9 19.184517\n",
       "10 10 19.535448"
      ]
     },
     "metadata": {},
     "output_type": "display_data"
    },
    {
     "data": {
      "text/html": [
       "<ol class=list-inline>\n",
       "\t<li>1</li>\n",
       "\t<li>2</li>\n",
       "\t<li>3</li>\n",
       "\t<li>4</li>\n",
       "\t<li>5</li>\n",
       "\t<li>6</li>\n",
       "\t<li>7</li>\n",
       "\t<li>8</li>\n",
       "\t<li>9</li>\n",
       "\t<li>10</li>\n",
       "</ol>\n"
      ],
      "text/latex": [
       "\\begin{enumerate*}\n",
       "\\item 1\n",
       "\\item 2\n",
       "\\item 3\n",
       "\\item 4\n",
       "\\item 5\n",
       "\\item 6\n",
       "\\item 7\n",
       "\\item 8\n",
       "\\item 9\n",
       "\\item 10\n",
       "\\end{enumerate*}\n"
      ],
      "text/markdown": [
       "1. 1\n",
       "2. 2\n",
       "3. 3\n",
       "4. 4\n",
       "5. 5\n",
       "6. 6\n",
       "7. 7\n",
       "8. 8\n",
       "9. 9\n",
       "10. 10\n",
       "\n",
       "\n"
      ],
      "text/plain": [
       " [1]  1  2  3  4  5  6  7  8  9 10"
      ]
     },
     "metadata": {},
     "output_type": "display_data"
    },
    {
     "data": {
      "text/html": [
       "<ol class=list-inline>\n",
       "\t<li>1</li>\n",
       "\t<li>2</li>\n",
       "\t<li>3</li>\n",
       "\t<li>4</li>\n",
       "\t<li>5</li>\n",
       "\t<li>6</li>\n",
       "\t<li>7</li>\n",
       "\t<li>8</li>\n",
       "\t<li>9</li>\n",
       "\t<li>10</li>\n",
       "</ol>\n"
      ],
      "text/latex": [
       "\\begin{enumerate*}\n",
       "\\item 1\n",
       "\\item 2\n",
       "\\item 3\n",
       "\\item 4\n",
       "\\item 5\n",
       "\\item 6\n",
       "\\item 7\n",
       "\\item 8\n",
       "\\item 9\n",
       "\\item 10\n",
       "\\end{enumerate*}\n"
      ],
      "text/markdown": [
       "1. 1\n",
       "2. 2\n",
       "3. 3\n",
       "4. 4\n",
       "5. 5\n",
       "6. 6\n",
       "7. 7\n",
       "8. 8\n",
       "9. 9\n",
       "10. 10\n",
       "\n",
       "\n"
      ],
      "text/plain": [
       " [1]  1  2  3  4  5  6  7  8  9 10"
      ]
     },
     "metadata": {},
     "output_type": "display_data"
    },
    {
     "data": {
      "text/html": [
       "<table>\n",
       "<thead><tr><th scope=col>1</th><th scope=col>2</th><th scope=col>3</th></tr></thead>\n",
       "<tbody>\n",
       "\t<tr><td> 1       </td><td> 2.574568</td><td>2.574568 </td></tr>\n",
       "\t<tr><td> 2       </td><td> 5.606432</td><td>2.803216 </td></tr>\n",
       "\t<tr><td> 3       </td><td> 5.827233</td><td>1.942411 </td></tr>\n",
       "\t<tr><td> 4       </td><td> 6.231066</td><td>1.557766 </td></tr>\n",
       "\t<tr><td> 5       </td><td>10.447741</td><td>2.089548 </td></tr>\n",
       "\t<tr><td> 6       </td><td>12.233975</td><td>2.038996 </td></tr>\n",
       "\t<tr><td> 7       </td><td>12.834640</td><td>1.833520 </td></tr>\n",
       "\t<tr><td> 8       </td><td>13.554780</td><td>1.694348 </td></tr>\n",
       "\t<tr><td> 9       </td><td>19.184517</td><td>2.131613 </td></tr>\n",
       "\t<tr><td>10       </td><td>19.535448</td><td>1.953545 </td></tr>\n",
       "</tbody>\n",
       "</table>\n"
      ],
      "text/latex": [
       "\\begin{tabular}{r|lll}\n",
       " 1 & 2 & 3\\\\\n",
       "\\hline\n",
       "\t  1        &  2.574568 & 2.574568 \\\\\n",
       "\t  2        &  5.606432 & 2.803216 \\\\\n",
       "\t  3        &  5.827233 & 1.942411 \\\\\n",
       "\t  4        &  6.231066 & 1.557766 \\\\\n",
       "\t  5        & 10.447741 & 2.089548 \\\\\n",
       "\t  6        & 12.233975 & 2.038996 \\\\\n",
       "\t  7        & 12.834640 & 1.833520 \\\\\n",
       "\t  8        & 13.554780 & 1.694348 \\\\\n",
       "\t  9        & 19.184517 & 2.131613 \\\\\n",
       "\t 10        & 19.535448 & 1.953545 \\\\\n",
       "\\end{tabular}\n"
      ],
      "text/markdown": [
       "\n",
       "| 1 | 2 | 3 |\n",
       "|---|---|---|\n",
       "|  1        |  2.574568 | 2.574568  |\n",
       "|  2        |  5.606432 | 2.803216  |\n",
       "|  3        |  5.827233 | 1.942411  |\n",
       "|  4        |  6.231066 | 1.557766  |\n",
       "|  5        | 10.447741 | 2.089548  |\n",
       "|  6        | 12.233975 | 2.038996  |\n",
       "|  7        | 12.834640 | 1.833520  |\n",
       "|  8        | 13.554780 | 1.694348  |\n",
       "|  9        | 19.184517 | 2.131613  |\n",
       "| 10        | 19.535448 | 1.953545  |\n",
       "\n"
      ],
      "text/plain": [
       "   1  2         3       \n",
       "1   1  2.574568 2.574568\n",
       "2   2  5.606432 2.803216\n",
       "3   3  5.827233 1.942411\n",
       "4   4  6.231066 1.557766\n",
       "5   5 10.447741 2.089548\n",
       "6   6 12.233975 2.038996\n",
       "7   7 12.834640 1.833520\n",
       "8   8 13.554780 1.694348\n",
       "9   9 19.184517 2.131613\n",
       "10 10 19.535448 1.953545"
      ]
     },
     "metadata": {},
     "output_type": "display_data"
    },
    {
     "data": {
      "text/html": [
       "<table>\n",
       "<thead><tr><th scope=col>one</th><th scope=col>two</th><th scope=col>three</th></tr></thead>\n",
       "<tbody>\n",
       "\t<tr><td> 1       </td><td> 2.574568</td><td>2.574568 </td></tr>\n",
       "\t<tr><td> 2       </td><td> 5.606432</td><td>2.803216 </td></tr>\n",
       "\t<tr><td> 3       </td><td> 5.827233</td><td>1.942411 </td></tr>\n",
       "\t<tr><td> 4       </td><td> 6.231066</td><td>1.557766 </td></tr>\n",
       "\t<tr><td> 5       </td><td>10.447741</td><td>2.089548 </td></tr>\n",
       "\t<tr><td> 6       </td><td>12.233975</td><td>2.038996 </td></tr>\n",
       "\t<tr><td> 7       </td><td>12.834640</td><td>1.833520 </td></tr>\n",
       "\t<tr><td> 8       </td><td>13.554780</td><td>1.694348 </td></tr>\n",
       "\t<tr><td> 9       </td><td>19.184517</td><td>2.131613 </td></tr>\n",
       "\t<tr><td>10       </td><td>19.535448</td><td>1.953545 </td></tr>\n",
       "</tbody>\n",
       "</table>\n"
      ],
      "text/latex": [
       "\\begin{tabular}{r|lll}\n",
       " one & two & three\\\\\n",
       "\\hline\n",
       "\t  1        &  2.574568 & 2.574568 \\\\\n",
       "\t  2        &  5.606432 & 2.803216 \\\\\n",
       "\t  3        &  5.827233 & 1.942411 \\\\\n",
       "\t  4        &  6.231066 & 1.557766 \\\\\n",
       "\t  5        & 10.447741 & 2.089548 \\\\\n",
       "\t  6        & 12.233975 & 2.038996 \\\\\n",
       "\t  7        & 12.834640 & 1.833520 \\\\\n",
       "\t  8        & 13.554780 & 1.694348 \\\\\n",
       "\t  9        & 19.184517 & 2.131613 \\\\\n",
       "\t 10        & 19.535448 & 1.953545 \\\\\n",
       "\\end{tabular}\n"
      ],
      "text/markdown": [
       "\n",
       "| one | two | three |\n",
       "|---|---|---|\n",
       "|  1        |  2.574568 | 2.574568  |\n",
       "|  2        |  5.606432 | 2.803216  |\n",
       "|  3        |  5.827233 | 1.942411  |\n",
       "|  4        |  6.231066 | 1.557766  |\n",
       "|  5        | 10.447741 | 2.089548  |\n",
       "|  6        | 12.233975 | 2.038996  |\n",
       "|  7        | 12.834640 | 1.833520  |\n",
       "|  8        | 13.554780 | 1.694348  |\n",
       "|  9        | 19.184517 | 2.131613  |\n",
       "| 10        | 19.535448 | 1.953545  |\n",
       "\n"
      ],
      "text/plain": [
       "   one two       three   \n",
       "1   1   2.574568 2.574568\n",
       "2   2   5.606432 2.803216\n",
       "3   3   5.827233 1.942411\n",
       "4   4   6.231066 1.557766\n",
       "5   5  10.447741 2.089548\n",
       "6   6  12.233975 2.038996\n",
       "7   7  12.834640 1.833520\n",
       "8   8  13.554780 1.694348\n",
       "9   9  19.184517 2.131613\n",
       "10 10  19.535448 1.953545"
      ]
     },
     "metadata": {},
     "output_type": "display_data"
    },
    {
     "data": {
      "image/png": "[encoded data removed]",
      "text/plain": [
       "plot without title"
      ]
     },
     "metadata": {},
     "output_type": "display_data"
    }
   ],
   "source": [
    "(annoying <- tibble(\n",
    "    `1` = 1:10,\n",
    "    `2` = `1` * 2 + rnorm(length(`1`))\n",
    "))\n",
    "\n",
    "# Extract the variable called `1`\n",
    "annoying$`1`\n",
    "annoying[['1']]\n",
    "\n",
    "# Plotting a scatterplot of `1` versus `2`\n",
    "ggplot(annoying, aes(`1`, `2`)) +\n",
    "    geom_point()\n",
    "\n",
    "# Create new column `3` = `2` / `1`\n",
    "(annoying <- mutate(annoying, `3` = `2` / `1`))\n",
    "#annoying[['3']] <- annoying[['2']] / annoying[['1']]\n",
    "\n",
    "# Rename columns to One, Two, Three\n",
    "(rename(annoying, 'one' = `1`, 'two' = `2`, 'three' = `3`))"
   ]
  },
  {
   "cell_type": "code",
   "execution_count": 18,
   "id": "a0d43fa2",
   "metadata": {},
   "outputs": [
    {
     "data": {
      "text/html": [
       "<table>\n",
       "<thead><tr><th scope=col>name</th><th scope=col>value</th></tr></thead>\n",
       "<tbody>\n",
       "\t<tr><td>1</td><td>1</td></tr>\n",
       "\t<tr><td>2</td><td>2</td></tr>\n",
       "\t<tr><td>3</td><td>3</td></tr>\n",
       "</tbody>\n",
       "</table>\n"
      ],
      "text/latex": [
       "\\begin{tabular}{r|ll}\n",
       " name & value\\\\\n",
       "\\hline\n",
       "\t 1 & 1\\\\\n",
       "\t 2 & 2\\\\\n",
       "\t 3 & 3\\\\\n",
       "\\end{tabular}\n"
      ],
      "text/markdown": [
       "\n",
       "| name | value |\n",
       "|---|---|\n",
       "| 1 | 1 |\n",
       "| 2 | 2 |\n",
       "| 3 | 3 |\n",
       "\n"
      ],
      "text/plain": [
       "  name value\n",
       "1 1    1    \n",
       "2 2    2    \n",
       "3 3    3    "
      ]
     },
     "metadata": {},
     "output_type": "display_data"
    },
    {
     "data": {
      "text/html": [
       "<table>\n",
       "<thead><tr><th scope=col>name</th><th scope=col>value</th></tr></thead>\n",
       "<tbody>\n",
       "\t<tr><td>a</td><td>5</td></tr>\n",
       "\t<tr><td>b</td><td>7</td></tr>\n",
       "</tbody>\n",
       "</table>\n"
      ],
      "text/latex": [
       "\\begin{tabular}{r|ll}\n",
       " name & value\\\\\n",
       "\\hline\n",
       "\t a & 5\\\\\n",
       "\t b & 7\\\\\n",
       "\\end{tabular}\n"
      ],
      "text/markdown": [
       "\n",
       "| name | value |\n",
       "|---|---|\n",
       "| a | 5 |\n",
       "| b | 7 |\n",
       "\n"
      ],
      "text/plain": [
       "  name value\n",
       "1 a    5    \n",
       "2 b    7    "
      ]
     },
     "metadata": {},
     "output_type": "display_data"
    },
    {
     "data": {
      "text/html": [
       "<table>\n",
       "<thead><tr><th scope=col>name</th><th scope=col>value</th></tr></thead>\n",
       "<tbody>\n",
       "\t<tr><td>one  </td><td>1    </td></tr>\n",
       "\t<tr><td>two  </td><td>2, 3 </td></tr>\n",
       "\t<tr><td>three  </td><td>4, 5, 6</td></tr>\n",
       "</tbody>\n",
       "</table>\n"
      ],
      "text/latex": [
       "\\begin{tabular}{r|ll}\n",
       " name & value\\\\\n",
       "\\hline\n",
       "\t one   & 1    \\\\\n",
       "\t two   & 2, 3 \\\\\n",
       "\t three   & 4, 5, 6\\\\\n",
       "\\end{tabular}\n"
      ],
      "text/markdown": [
       "\n",
       "| name | value |\n",
       "|---|---|\n",
       "| one   | 1     |\n",
       "| two   | 2, 3  |\n",
       "| three   | 4, 5, 6 |\n",
       "\n"
      ],
      "text/plain": [
       "  name  value  \n",
       "1 one   1      \n",
       "2 two   2, 3   \n",
       "3 three 4, 5, 6"
      ]
     },
     "metadata": {},
     "output_type": "display_data"
    },
    {
     "data": {
      "text/html": [
       "<dl class=dl-horizontal>\n",
       "\t<dt>1</dt>\n",
       "\t\t<dd>1</dd>\n",
       "\t<dt>2</dt>\n",
       "\t\t<dd>2</dd>\n",
       "\t<dt>3</dt>\n",
       "\t\t<dd>3</dd>\n",
       "</dl>\n"
      ],
      "text/latex": [
       "\\begin{description*}\n",
       "\\item[1] 1\n",
       "\\item[2] 2\n",
       "\\item[3] 3\n",
       "\\end{description*}\n"
      ],
      "text/markdown": [
       "1\n",
       ":   12\n",
       ":   23\n",
       ":   3\n",
       "\n"
      ],
      "text/plain": [
       "1 2 3 \n",
       "1 2 3 "
      ]
     },
     "metadata": {},
     "output_type": "display_data"
    },
    {
     "data": {
      "text/html": [
       "<ol class=list-inline>\n",
       "\t<li>1</li>\n",
       "\t<li>2</li>\n",
       "\t<li>3</li>\n",
       "</ol>\n"
      ],
      "text/latex": [
       "\\begin{enumerate*}\n",
       "\\item 1\n",
       "\\item 2\n",
       "\\item 3\n",
       "\\end{enumerate*}\n"
      ],
      "text/markdown": [
       "1. 1\n",
       "2. 2\n",
       "3. 3\n",
       "\n",
       "\n"
      ],
      "text/plain": [
       "[1] 1 2 3"
      ]
     },
     "metadata": {},
     "output_type": "display_data"
    },
    {
     "data": {
      "text/html": [
       "<ol>\n",
       "\t<li>1</li>\n",
       "\t<li>2</li>\n",
       "\t<li>3</li>\n",
       "</ol>\n"
      ],
      "text/latex": [
       "\\begin{enumerate}\n",
       "\\item 1\n",
       "\\item 2\n",
       "\\item 3\n",
       "\\end{enumerate}\n"
      ],
      "text/markdown": [
       "1. 1\n",
       "2. 2\n",
       "3. 3\n",
       "\n",
       "\n"
      ],
      "text/plain": [
       "[[1]]\n",
       "[1] 1\n",
       "\n",
       "[[2]]\n",
       "[1] 2\n",
       "\n",
       "[[3]]\n",
       "[1] 3\n"
      ]
     },
     "metadata": {},
     "output_type": "display_data"
    }
   ],
   "source": [
    "# Use of tibble::enframe() function\n",
    "enframe(1:3)\n",
    "enframe(c(a = 5, b = 7))\n",
    "enframe(list(one = 1, two = 2:3, three = 4:6))\n",
    "\n",
    "# Use of tibble::deframe() function\n",
    "deframe(enframe(1:3))\n",
    "deframe(tibble(a = 1:3))\n",
    "deframe(tibble(a = as.list(1:3)))"
   ]
  },
  {
   "cell_type": "code",
   "execution_count": null,
   "id": "a2016d46",
   "metadata": {},
   "outputs": [],
   "source": []
  }
 ],
 "metadata": {
  "kernelspec": {
   "display_name": "R",
   "language": "R",
   "name": "ir"
  },
  "language_info": {
   "codemirror_mode": "r",
   "file_extension": ".r",
   "mimetype": "text/x-r-source",
   "name": "R",
   "pygments_lexer": "r",
   "version": "3.6.1"
  }
 },
 "nbformat": 4,
 "nbformat_minor": 5
}
